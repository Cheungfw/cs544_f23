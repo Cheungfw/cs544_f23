{
 "cells": [
  {
   "cell_type": "markdown",
   "id": "c49454f9-ebdd-4b44-830e-91d2391d2abb",
   "metadata": {},
   "source": [
    "## Part 4: Disaster Strikes"
   ]
  },
  {
   "cell_type": "markdown",
   "id": "bb47df5d",
   "metadata": {},
   "source": [
    "Plz do not modify the cells with labelled headers - e.g. 1.1, 2.6, 3.4, etc. They are there for both autograding and to provide sanity checks for you during devolpment. For all other cells, comments specify a few variables you need to use, but otherwise you are free to add new cells and modify the existing ones as desired :)"
   ]
  },
  {
   "cell_type": "code",
   "execution_count": 1,
   "id": "ba914c9a-f19f-4a09-91ad-33800a0b917e",
   "metadata": {},
   "outputs": [],
   "source": [
    "import requests\n",
    "import time\n",
    "import io"
   ]
  },
  {
   "cell_type": "code",
   "execution_count": null,
   "id": "0562ce6c-67b1-4e6d-9b32-196a76457d15",
   "metadata": {},
   "outputs": [],
   "source": [
    "# 4.1 - rerun until the report shows a dead data note \n",
    "!hdfs dfsadmin -fs hdfs://main:9000/ -report"
   ]
  },
  {
   "cell_type": "code",
   "execution_count": null,
   "id": "86ba57bf-c91b-40bd-9d3b-0281cd4ae05f",
   "metadata": {},
   "outputs": [],
   "source": [
    "# 0.0 \n",
    "# this is for the autograder and nbconvert - you don't need to run it\n",
    "time.sleep(60)"
   ]
  },
  {
   "cell_type": "code",
   "execution_count": 5,
   "id": "9972eacb-974e-4776-924c-15925a3d5c7f",
   "metadata": {},
   "outputs": [],
   "source": [
    "\n",
    "class hdfsFile(io.RawIOBase):\n",
    "    def __init__(self, path):\n",
    "        self.path = path\n",
    "        self.offset = 0\n",
    "        self.length = 0 # TODO\n",
    "    def readable(self):\n",
    "        \n",
    "        return True\n",
    "\n",
    "    def readinto(self, b):\n",
    "        # TODO\n",
    "        return 0\n",
    "   "
   ]
  },
  {
   "cell_type": "code",
   "execution_count": null,
   "id": "6d97e5b2-5ac7-4095-b332-aa9743052d40",
   "metadata": {},
   "outputs": [],
   "source": [
    "# plz do not change the names of these variables\n",
    "newline_count = 0 \n",
    "single_count = 0\n",
    "multi_count = 0\n",
    "\n",
    "# Check the count in the single.csv file after node failure. \n",
    "# Use the single_count an# use the single_count and multi_count variables to \n",
    "# keep track of how many lines contain the text \"Single Family\" \n",
    "# and how many contain \"Multifamily\". \n",
    "\n",
    "\n",
    "for line in io.BufferedReader(hdfsFile(\"single.csv\"), buffer_size=BLOCK_SIZE):\n",
    "    \n",
    "    # plz do not remove this line \n",
    "    if \"\\n\" == line:\n",
    "        newline_count += 1\n",
    "    \n",
    "    # TODO "
   ]
  },
  {
   "cell_type": "code",
   "execution_count": null,
   "id": "4d3d5d0e-3198-4297-8a82-01e104285eb5",
   "metadata": {},
   "outputs": [],
   "source": [
    "# 4.2\n",
    "newline_count"
   ]
  },
  {
   "cell_type": "code",
   "execution_count": null,
   "id": "38c319f1-965b-40ce-8dff-fe1a5d986f1f",
   "metadata": {},
   "outputs": [],
   "source": [
    "# 4.3\n",
    "single_count"
   ]
  },
  {
   "cell_type": "code",
   "execution_count": null,
   "id": "2bf29923-eaea-4416-90a5-12b1263f0b52",
   "metadata": {},
   "outputs": [],
   "source": [
    "# 4.4\n",
    "multi_count"
   ]
  },
  {
   "cell_type": "code",
   "execution_count": null,
   "id": "a66264ed-7f23-4e75-8afd-d78584865ad9",
   "metadata": {},
   "outputs": [],
   "source": [
    "# plz do not change the names of these variables\n",
    "single_count = 0\n",
    "multi_count = 0\n",
    "\n",
    "for line in io.BufferedReader(hdfsFile(\"double.csv\"),buffer_size = BLOCK_SIZE):\n",
    "    pass\n",
    "    # TODO \n"
   ]
  },
  {
   "cell_type": "code",
   "execution_count": null,
   "id": "64389103-aaa5-4ef3-9ffa-88545c4efbde",
   "metadata": {},
   "outputs": [],
   "source": [
    "# 4.5\n",
    "single_count # should still be 444874"
   ]
  },
  {
   "cell_type": "code",
   "execution_count": null,
   "id": "e27ef862-ac28-4a25-8251-5d4c5612881d",
   "metadata": {},
   "outputs": [],
   "source": [
    "# 4.6\n",
    "multi_count # should still be 2493 - think about why it has not changed"
   ]
  }
 ],
 "metadata": {
  "kernelspec": {
   "display_name": "Python 3 (ipykernel)",
   "language": "python",
   "name": "python3"
  },
  "language_info": {
   "codemirror_mode": {
    "name": "ipython",
    "version": 3
   },
   "file_extension": ".py",
   "mimetype": "text/x-python",
   "name": "python",
   "nbconvert_exporter": "python",
   "pygments_lexer": "ipython3",
   "version": "3.10.12"
  }
 },
 "nbformat": 4,
 "nbformat_minor": 5
}
