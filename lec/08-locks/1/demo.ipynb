{
 "cells": [
  {
   "cell_type": "code",
   "execution_count": 18,
   "id": "63baa372-642d-4018-9964-9ef42763ecc1",
   "metadata": {},
   "outputs": [],
   "source": [
    "import threading\n",
    "import torch\n",
    "import time"
   ]
  },
  {
   "cell_type": "code",
   "execution_count": 19,
   "id": "c260b7e6-4716-4d28-bc50-928228600c51",
   "metadata": {},
   "outputs": [
    {
     "name": "stdout",
     "output_type": "stream",
     "text": [
      "29.52744722366333\n"
     ]
    },
    {
     "data": {
      "text/plain": [
       "tensor(2000000, dtype=torch.int32)"
      ]
     },
     "execution_count": 19,
     "metadata": {},
     "output_type": "execute_result"
    }
   ],
   "source": [
    "# fine grained locking, hold it only for a short time (a little code)\n",
    "\n",
    "lock = threading.Lock()   # protects total\n",
    "total = torch.tensor(0, dtype=torch.int32)\n",
    "\n",
    "def inc(count):\n",
    "    global total\n",
    "    for i in range(count):\n",
    "        lock.acquire()    \n",
    "        total += 1\n",
    "        lock.release()\n",
    "\n",
    "# inc(100)\n",
    "t1 = threading.Thread(target=inc, args=[1_000_000])\n",
    "t2 = threading.Thread(target=inc, args=[1_000_000])\n",
    "\n",
    "start = time.time()\n",
    "t1.start()\n",
    "t2.start()\n",
    "t1.join()\n",
    "t2.join()\n",
    "end = time.time()\n",
    "print(end-start)\n",
    "total"
   ]
  },
  {
   "cell_type": "code",
   "execution_count": 17,
   "id": "ba982d1b-0e73-4b96-a5e3-2c7ccdcbbada",
   "metadata": {},
   "outputs": [
    {
     "name": "stdout",
     "output_type": "stream",
     "text": [
      "  1           0 LOAD_NAME                0 (total)\n",
      "              2 LOAD_CONST               0 (1)\n",
      "              4 INPLACE_ADD\n",
      "              6 STORE_NAME               0 (total)\n",
      "              8 LOAD_CONST               1 (None)\n",
      "             10 RETURN_VALUE\n"
     ]
    }
   ],
   "source": [
    "import dis\n",
    "dis.dis(\"total += 1\")"
   ]
  },
  {
   "cell_type": "code",
   "execution_count": 20,
   "id": "0dde28f6-e12b-4171-a73d-9459e9c0fa22",
   "metadata": {},
   "outputs": [
    {
     "name": "stdout",
     "output_type": "stream",
     "text": [
      "10.51757025718689\n"
     ]
    },
    {
     "data": {
      "text/plain": [
       "tensor(2000000, dtype=torch.int32)"
      ]
     },
     "execution_count": 20,
     "metadata": {},
     "output_type": "execute_result"
    }
   ],
   "source": [
    "# coarse-grained locking, hold it only for a short time (a little code)\n",
    "\n",
    "lock = threading.Lock()   # protects total\n",
    "total = torch.tensor(0, dtype=torch.int32)\n",
    "\n",
    "def inc(count):\n",
    "    global total\n",
    "    lock.acquire()\n",
    "    for i in range(count):\n",
    "        total += 1\n",
    "    lock.release()\n",
    "\n",
    "# inc(100)\n",
    "t1 = threading.Thread(target=inc, args=[1_000_000])\n",
    "t2 = threading.Thread(target=inc, args=[1_000_000])\n",
    "\n",
    "start = time.time()\n",
    "t1.start()\n",
    "t2.start()\n",
    "t1.join()\n",
    "t2.join()\n",
    "end = time.time()\n",
    "print(end-start)\n",
    "total"
   ]
  },
  {
   "cell_type": "code",
   "execution_count": 26,
   "id": "e410ba6d-0495-4d70-8d51-94a1975a673c",
   "metadata": {},
   "outputs": [
    {
     "name": "stdout",
     "output_type": "stream",
     "text": [
      "transferred\n",
      "{'x': 5, 'y': 120, 'z': 200}\n"
     ]
    }
   ],
   "source": [
    "bank_accounts = {\"x\": 25, \"y\": 100, \"z\": 200} # in dollars\n",
    "lock = threading.Lock() # protects bank_accounts\n",
    "\n",
    "def transfer(src, dst, amount):\n",
    "    with lock:\n",
    "        #lock.acquire()\n",
    "        success = False\n",
    "        if bank_accounts[src] >= amount:\n",
    "            bank_accounts[src] -= amount\n",
    "            bank_accounts[dst] += amount\n",
    "            success = True\n",
    "        print(\"transferred\" if success else \"denied\")\n",
    "        #lock.release() -- automatic, even if there's an exception\n",
    "\n",
    "transfer(\"x\", \"y\", 20)\n",
    "print(bank_accounts)"
   ]
  },
  {
   "cell_type": "code",
   "execution_count": 27,
   "id": "b2b77108-9c29-40de-845a-e4dc1ed591fe",
   "metadata": {},
   "outputs": [
    {
     "name": "stdout",
     "output_type": "stream",
     "text": [
      "denied\n",
      "{'x': 5, 'y': 120, 'z': 200}\n"
     ]
    }
   ],
   "source": [
    "transfer(\"x\", \"y\", 20)\n",
    "print(bank_accounts)"
   ]
  },
  {
   "cell_type": "code",
   "execution_count": 28,
   "id": "c97c662f-642c-499f-9d51-44d3745488b5",
   "metadata": {},
   "outputs": [
    {
     "ename": "KeyError",
     "evalue": "'w'",
     "output_type": "error",
     "traceback": [
      "\u001b[0;31m---------------------------------------------------------------------------\u001b[0m",
      "\u001b[0;31mKeyError\u001b[0m                                  Traceback (most recent call last)",
      "Cell \u001b[0;32mIn[28], line 1\u001b[0m\n\u001b[0;32m----> 1\u001b[0m \u001b[43mtransfer\u001b[49m\u001b[43m(\u001b[49m\u001b[38;5;124;43m\"\u001b[39;49m\u001b[38;5;124;43mw\u001b[39;49m\u001b[38;5;124;43m\"\u001b[39;49m\u001b[43m,\u001b[49m\u001b[43m \u001b[49m\u001b[38;5;124;43m\"\u001b[39;49m\u001b[38;5;124;43mx\u001b[39;49m\u001b[38;5;124;43m\"\u001b[39;49m\u001b[43m,\u001b[49m\u001b[43m \u001b[49m\u001b[38;5;241;43m50\u001b[39;49m\u001b[43m)\u001b[49m\n\u001b[1;32m      2\u001b[0m \u001b[38;5;28mprint\u001b[39m(bank_accounts)\n",
      "Cell \u001b[0;32mIn[26], line 8\u001b[0m, in \u001b[0;36mtransfer\u001b[0;34m(src, dst, amount)\u001b[0m\n\u001b[1;32m      5\u001b[0m \u001b[38;5;28;01mwith\u001b[39;00m lock:\n\u001b[1;32m      6\u001b[0m     \u001b[38;5;66;03m#lock.acquire()\u001b[39;00m\n\u001b[1;32m      7\u001b[0m     success \u001b[38;5;241m=\u001b[39m \u001b[38;5;28;01mFalse\u001b[39;00m\n\u001b[0;32m----> 8\u001b[0m     \u001b[38;5;28;01mif\u001b[39;00m \u001b[43mbank_accounts\u001b[49m\u001b[43m[\u001b[49m\u001b[43msrc\u001b[49m\u001b[43m]\u001b[49m \u001b[38;5;241m>\u001b[39m\u001b[38;5;241m=\u001b[39m amount:\n\u001b[1;32m      9\u001b[0m         bank_accounts[src] \u001b[38;5;241m-\u001b[39m\u001b[38;5;241m=\u001b[39m amount\n\u001b[1;32m     10\u001b[0m         bank_accounts[dst] \u001b[38;5;241m+\u001b[39m\u001b[38;5;241m=\u001b[39m amount\n",
      "\u001b[0;31mKeyError\u001b[0m: 'w'"
     ]
    }
   ],
   "source": [
    "transfer(\"w\", \"x\", 50)\n",
    "print(bank_accounts)"
   ]
  },
  {
   "cell_type": "code",
   "execution_count": 29,
   "id": "53049c99-d43f-4eef-802e-c9e86552d953",
   "metadata": {},
   "outputs": [
    {
     "name": "stdout",
     "output_type": "stream",
     "text": [
      "transferred\n",
      "{'x': 55, 'y': 120, 'z': 150}\n"
     ]
    }
   ],
   "source": [
    "transfer(\"z\", \"x\", 50)\n",
    "print(bank_accounts)"
   ]
  },
  {
   "cell_type": "code",
   "execution_count": null,
   "id": "044aac64-d324-477f-a895-f8b48ea43999",
   "metadata": {},
   "outputs": [],
   "source": []
  }
 ],
 "metadata": {
  "kernelspec": {
   "display_name": "Python 3 (ipykernel)",
   "language": "python",
   "name": "python3"
  },
  "language_info": {
   "codemirror_mode": {
    "name": "ipython",
    "version": 3
   },
   "file_extension": ".py",
   "mimetype": "text/x-python",
   "name": "python",
   "nbconvert_exporter": "python",
   "pygments_lexer": "ipython3",
   "version": "3.10.12"
  }
 },
 "nbformat": 4,
 "nbformat_minor": 5
}
