{
 "cells": [
  {
   "cell_type": "code",
   "execution_count": 12,
   "id": "1838e0ab-a63e-48e2-8dc7-1ac6ad2846c2",
   "metadata": {},
   "outputs": [],
   "source": [
    "import threading\n",
    "import torch\n",
    "import time"
   ]
  },
  {
   "cell_type": "code",
   "execution_count": 11,
   "id": "686c7cdc-8c46-4390-965b-ae89d8b21a4b",
   "metadata": {},
   "outputs": [
    {
     "name": "stdout",
     "output_type": "stream",
     "text": [
      "  1           0 LOAD_NAME                0 (total)\n",
      "              2 LOAD_CONST               0 (1)\n",
      "              4 INPLACE_ADD\n",
      "              6 STORE_NAME               0 (total)\n",
      "              8 LOAD_CONST               1 (None)\n",
      "             10 RETURN_VALUE\n"
     ]
    }
   ],
   "source": [
    "import dis\n",
    "dis.dis(\"total += 1\")"
   ]
  },
  {
   "cell_type": "code",
   "execution_count": 13,
   "id": "2684fd05-04ba-4a78-bdcb-ba1cf00e7e75",
   "metadata": {},
   "outputs": [
    {
     "name": "stdout",
     "output_type": "stream",
     "text": [
      "29.221033811569214 seconds\n"
     ]
    },
    {
     "data": {
      "text/plain": [
       "tensor(2000000, dtype=torch.int32)"
      ]
     },
     "execution_count": 13,
     "metadata": {},
     "output_type": "execute_result"
    }
   ],
   "source": [
    "# fine-grained locking (only hold the lock for a small piece of work)\n",
    "lock = threading.Lock()\n",
    "total = torch.tensor(0, dtype=torch.int32)\n",
    "\n",
    "def inc(count):\n",
    "    global total\n",
    "    for i in range(count):\n",
    "        lock.acquire()\n",
    "        total += 1\n",
    "        lock.release()\n",
    "\n",
    "# inc(1000)\n",
    "t1 = threading.Thread(target=inc, args=[1_000_000])\n",
    "t2 = threading.Thread(target=inc, args=[1_000_000])\n",
    "\n",
    "start = time.time()\n",
    "t1.start()\n",
    "t2.start()\n",
    "t1.join()\n",
    "t2.join()\n",
    "end = time.time()\n",
    "print(end-start, \"seconds\")\n",
    "total"
   ]
  },
  {
   "cell_type": "code",
   "execution_count": 14,
   "id": "3e6c748f-99e3-4ab6-ad80-a01eb4a12df2",
   "metadata": {},
   "outputs": [
    {
     "name": "stdout",
     "output_type": "stream",
     "text": [
      "10.285215377807617 seconds\n"
     ]
    },
    {
     "data": {
      "text/plain": [
       "tensor(2000000, dtype=torch.int32)"
      ]
     },
     "execution_count": 14,
     "metadata": {},
     "output_type": "execute_result"
    }
   ],
   "source": [
    "# coarse-grained locking (only hold the lock for a small piece of work)\n",
    "lock = threading.Lock()\n",
    "total = torch.tensor(0, dtype=torch.int32)\n",
    "\n",
    "def inc(count):\n",
    "    global total\n",
    "    lock.acquire()\n",
    "    for i in range(count):\n",
    "        total += 1\n",
    "    lock.release()\n",
    "\n",
    "t1 = threading.Thread(target=inc, args=[1_000_000])\n",
    "t2 = threading.Thread(target=inc, args=[1_000_000])\n",
    "\n",
    "start = time.time()\n",
    "t1.start()\n",
    "t2.start()\n",
    "t1.join()\n",
    "t2.join()\n",
    "end = time.time()\n",
    "print(end-start, \"seconds\")\n",
    "total"
   ]
  },
  {
   "cell_type": "code",
   "execution_count": 21,
   "id": "5552de47-ac1a-4a24-9a14-1b987fa5e267",
   "metadata": {},
   "outputs": [],
   "source": [
    "bank_accounts = {\"x\": 25, \"y\": 100, \"z\": 200} # in dollars\n",
    "lock = threading.Lock() # protects bank_accounts\n",
    "\n",
    "def transfer(src, dst, amount):\n",
    "    with lock:\n",
    "        #lock.acquire()\n",
    "        success = False\n",
    "        if bank_accounts[src] >= amount:\n",
    "            bank_accounts[src] -= amount\n",
    "            bank_accounts[dst] += amount\n",
    "            success = True\n",
    "        print(\"transferred\" if success else \"denied\")\n",
    "        # lock.release()    with statement calls automatically, even with exceptions"
   ]
  },
  {
   "cell_type": "code",
   "execution_count": 22,
   "id": "2f0f99f7-2738-4297-9e84-fe521bddd3b8",
   "metadata": {},
   "outputs": [
    {
     "name": "stdout",
     "output_type": "stream",
     "text": [
      "transferred\n"
     ]
    }
   ],
   "source": [
    "transfer(\"x\", \"y\", 20)"
   ]
  },
  {
   "cell_type": "code",
   "execution_count": 23,
   "id": "8d919f97-cbce-4716-bb14-1c920665df7e",
   "metadata": {},
   "outputs": [
    {
     "name": "stdout",
     "output_type": "stream",
     "text": [
      "denied\n"
     ]
    }
   ],
   "source": [
    "transfer(\"x\", \"z\", 10)"
   ]
  },
  {
   "cell_type": "code",
   "execution_count": 24,
   "id": "5ee23b26-40f1-4eed-9265-2a9fc7cfb0c0",
   "metadata": {},
   "outputs": [
    {
     "ename": "KeyError",
     "evalue": "'w'",
     "output_type": "error",
     "traceback": [
      "\u001b[0;31m---------------------------------------------------------------------------\u001b[0m",
      "\u001b[0;31mKeyError\u001b[0m                                  Traceback (most recent call last)",
      "Cell \u001b[0;32mIn[24], line 2\u001b[0m\n\u001b[1;32m      1\u001b[0m \u001b[38;5;66;03m# EXCEPTION!\u001b[39;00m\n\u001b[0;32m----> 2\u001b[0m \u001b[43mtransfer\u001b[49m\u001b[43m(\u001b[49m\u001b[38;5;124;43m\"\u001b[39;49m\u001b[38;5;124;43mw\u001b[39;49m\u001b[38;5;124;43m\"\u001b[39;49m\u001b[43m,\u001b[49m\u001b[43m \u001b[49m\u001b[38;5;124;43m\"\u001b[39;49m\u001b[38;5;124;43mx\u001b[39;49m\u001b[38;5;124;43m\"\u001b[39;49m\u001b[43m,\u001b[49m\u001b[43m \u001b[49m\u001b[38;5;241;43m50\u001b[39;49m\u001b[43m)\u001b[49m\n",
      "Cell \u001b[0;32mIn[21], line 8\u001b[0m, in \u001b[0;36mtransfer\u001b[0;34m(src, dst, amount)\u001b[0m\n\u001b[1;32m      5\u001b[0m \u001b[38;5;28;01mwith\u001b[39;00m lock:\n\u001b[1;32m      6\u001b[0m     \u001b[38;5;66;03m#lock.acquire()\u001b[39;00m\n\u001b[1;32m      7\u001b[0m     success \u001b[38;5;241m=\u001b[39m \u001b[38;5;28;01mFalse\u001b[39;00m\n\u001b[0;32m----> 8\u001b[0m     \u001b[38;5;28;01mif\u001b[39;00m \u001b[43mbank_accounts\u001b[49m\u001b[43m[\u001b[49m\u001b[43msrc\u001b[49m\u001b[43m]\u001b[49m \u001b[38;5;241m>\u001b[39m\u001b[38;5;241m=\u001b[39m amount:\n\u001b[1;32m      9\u001b[0m         bank_accounts[src] \u001b[38;5;241m-\u001b[39m\u001b[38;5;241m=\u001b[39m amount\n\u001b[1;32m     10\u001b[0m         bank_accounts[dst] \u001b[38;5;241m+\u001b[39m\u001b[38;5;241m=\u001b[39m amount\n",
      "\u001b[0;31mKeyError\u001b[0m: 'w'"
     ]
    }
   ],
   "source": [
    "# EXCEPTION!\n",
    "transfer(\"w\", \"x\", 50)"
   ]
  },
  {
   "cell_type": "code",
   "execution_count": 25,
   "id": "20f43f41-9d36-4d80-8297-1bdf0988d02f",
   "metadata": {},
   "outputs": [
    {
     "name": "stdout",
     "output_type": "stream",
     "text": [
      "transferred\n"
     ]
    }
   ],
   "source": [
    "transfer(\"z\", \"x\", 50)"
   ]
  },
  {
   "cell_type": "code",
   "execution_count": null,
   "id": "12939497-fda7-4c16-b43c-042b8fd8b814",
   "metadata": {},
   "outputs": [],
   "source": []
  }
 ],
 "metadata": {
  "kernelspec": {
   "display_name": "Python 3 (ipykernel)",
   "language": "python",
   "name": "python3"
  },
  "language_info": {
   "codemirror_mode": {
    "name": "ipython",
    "version": 3
   },
   "file_extension": ".py",
   "mimetype": "text/x-python",
   "name": "python",
   "nbconvert_exporter": "python",
   "pygments_lexer": "ipython3",
   "version": "3.10.12"
  }
 },
 "nbformat": 4,
 "nbformat_minor": 5
}
