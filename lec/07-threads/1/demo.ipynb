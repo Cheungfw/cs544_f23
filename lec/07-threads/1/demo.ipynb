{
 "cells": [
  {
   "cell_type": "code",
   "execution_count": 1,
   "id": "8be55114-02b1-4a87-8542-09d4a1cd9175",
   "metadata": {},
   "outputs": [],
   "source": [
    "import threading"
   ]
  },
  {
   "cell_type": "code",
   "execution_count": 23,
   "id": "9830b834-ee57-47dc-82ea-afa774b877d8",
   "metadata": {},
   "outputs": [
    {
     "name": "stdout",
     "output_type": "stream",
     "text": [
      "hi from 392\n",
      "hi from main thread, which is  309\n"
     ]
    }
   ],
   "source": [
    "def task():\n",
    "    print(\"hi from\", threading.get_native_id())\n",
    "\n",
    "t = threading.Thread(target=task)\n",
    "t.start()\n",
    "t.join()    # will wait for the thread to finish\n",
    "print(\"hi from main thread, which is \", threading.get_native_id())"
   ]
  },
  {
   "cell_type": "code",
   "execution_count": 31,
   "id": "3786a326-4203-43d9-baee-5619f3dfac2f",
   "metadata": {},
   "outputs": [
    {
     "name": "stdout",
     "output_type": "stream",
     "text": [
      "870258340\n"
     ]
    }
   ],
   "source": [
    "total = 0\n",
    "\n",
    "def add(count):\n",
    "    global total\n",
    "    for i in range(count):\n",
    "        total += i\n",
    "\n",
    "# race condition: threads are racing against either, and the correctness of the outputs depends on \n",
    "# when context switches occur\n",
    "t = threading.Thread(target=add, args=[1_000_000])\n",
    "t.start()\n",
    "print(total)"
   ]
  },
  {
   "cell_type": "code",
   "execution_count": 37,
   "id": "05a9a9bc-90d2-4040-be53-c23392fe045a",
   "metadata": {},
   "outputs": [
    {
     "name": "stdout",
     "output_type": "stream",
     "text": [
      "499999500000\n"
     ]
    }
   ],
   "source": [
    "total = 0\n",
    "\n",
    "def add(count):\n",
    "    global total\n",
    "    for i in range(count):\n",
    "        total += i\n",
    "\n",
    "t = threading.Thread(target=add, args=[1_000_000])\n",
    "t.start()\n",
    "t.join()\n",
    "print(total)"
   ]
  },
  {
   "cell_type": "code",
   "execution_count": null,
   "id": "2d043168-0176-49b3-bc66-60667c928f25",
   "metadata": {},
   "outputs": [],
   "source": []
  }
 ],
 "metadata": {
  "kernelspec": {
   "display_name": "Python 3 (ipykernel)",
   "language": "python",
   "name": "python3"
  },
  "language_info": {
   "codemirror_mode": {
    "name": "ipython",
    "version": 3
   },
   "file_extension": ".py",
   "mimetype": "text/x-python",
   "name": "python",
   "nbconvert_exporter": "python",
   "pygments_lexer": "ipython3",
   "version": "3.11.5"
  }
 },
 "nbformat": 4,
 "nbformat_minor": 5
}
