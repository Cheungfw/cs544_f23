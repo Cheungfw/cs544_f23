{
 "cells": [
  {
   "cell_type": "code",
   "execution_count": 1,
   "id": "0a4167b0-b79c-4a01-9e5a-12fc09fbf56f",
   "metadata": {},
   "outputs": [],
   "source": [
    "from cassandra.cluster import Cluster\n",
    "cluster = Cluster([\"demo-db-1\", \"demo-db-2\", \"demo-db-3\"])\n",
    "cass = cluster.connect()"
   ]
  },
  {
   "cell_type": "code",
   "execution_count": 3,
   "id": "70d80d5c-d7f8-4883-a3dd-2d9e83213a41",
   "metadata": {},
   "outputs": [
    {
     "data": {
      "text/plain": [
       "<cassandra.cluster.ResultSet at 0x7f03c4fa7d00>"
      ]
     },
     "execution_count": 3,
     "metadata": {},
     "output_type": "execute_result"
    }
   ],
   "source": [
    "cass.execute(\"use banking\")"
   ]
  },
  {
   "cell_type": "code",
   "execution_count": 14,
   "id": "2ac261d1-b278-4246-82e2-051c60ec3980",
   "metadata": {},
   "outputs": [
    {
     "data": {
      "text/plain": [
       "<cassandra.cluster.ResultSet at 0x7f0398273a60>"
      ]
     },
     "execution_count": 14,
     "metadata": {},
     "output_type": "execute_result"
    }
   ],
   "source": [
    "cass.execute(\"drop table if exists loans\")"
   ]
  },
  {
   "cell_type": "code",
   "execution_count": 15,
   "id": "af7f0303-3a2b-49ad-b117-3a335874afdb",
   "metadata": {},
   "outputs": [
    {
     "data": {
      "text/plain": [
       "<cassandra.cluster.ResultSet at 0x7f0398c29ed0>"
      ]
     },
     "execution_count": 15,
     "metadata": {},
     "output_type": "execute_result"
    }
   ],
   "source": [
    "cass.execute(\"\"\"\n",
    "create table loans(\n",
    "    bank_id INT,\n",
    "    bank_name TEXT static,\n",
    "    loan_id UUID,\n",
    "    amount INT,\n",
    "    state TEXT,\n",
    "    PRIMARY KEY ((bank_id), amount, loan_id)\n",
    ") WITH CLUSTERING ORDER BY (amount DESC)\n",
    "\"\"\")"
   ]
  },
  {
   "cell_type": "code",
   "execution_count": 16,
   "id": "714dfec5-bab1-4419-b09e-4ead40709b62",
   "metadata": {},
   "outputs": [
    {
     "name": "stdout",
     "output_type": "stream",
     "text": [
      "CREATE TABLE banking.loans (\n",
      "    bank_id int,\n",
      "    amount int,\n",
      "    loan_id uuid,\n",
      "    bank_name text static,\n",
      "    state text,\n",
      "    PRIMARY KEY (bank_id, amount, loan_id)\n",
      ") WITH CLUSTERING ORDER BY (amount DESC, loan_id ASC)\n",
      "    AND additional_write_policy = '99p'\n",
      "    AND bloom_filter_fp_chance = 0.01\n",
      "    AND caching = {'keys': 'ALL', 'rows_per_partition': 'NONE'}\n",
      "    AND cdc = false\n",
      "    AND comment = ''\n",
      "    AND compaction = {'class': 'org.apache.cassandra.db.compaction.SizeTieredCompactionStrategy', 'max_threshold': '32', 'min_threshold': '4'}\n",
      "    AND compression = {'chunk_length_in_kb': '16', 'class': 'org.apache.cassandra.io.compress.LZ4Compressor'}\n",
      "    AND memtable = 'default'\n",
      "    AND crc_check_chance = 1.0\n",
      "    AND default_time_to_live = 0\n",
      "    AND extensions = {}\n",
      "    AND gc_grace_seconds = 864000\n",
      "    AND max_index_interval = 2048\n",
      "    AND memtable_flush_period_in_ms = 0\n",
      "    AND min_index_interval = 128\n",
      "    AND read_repair = 'BLOCKING'\n",
      "    AND speculative_retry = '99p';\n"
     ]
    }
   ],
   "source": [
    "print(cass.execute(\"describe table loans\").one().create_statement)"
   ]
  },
  {
   "cell_type": "markdown",
   "id": "4fd27401-dfe7-4cf5-8a30-812841aba857",
   "metadata": {},
   "source": [
    "# Insert Data"
   ]
  },
  {
   "cell_type": "code",
   "execution_count": 17,
   "id": "c0186314-5ff0-4905-96a8-6a0ee6407ff8",
   "metadata": {},
   "outputs": [
    {
     "data": {
      "text/plain": [
       "<cassandra.cluster.ResultSet at 0x7f0398230e80>"
      ]
     },
     "execution_count": 17,
     "metadata": {},
     "output_type": "execute_result"
    }
   ],
   "source": [
    "cass.execute(\"\"\"\n",
    "INSERT INTO loans (bank_id, bank_name)\n",
    "VALUES (544, 'test')\n",
    "\"\"\")"
   ]
  },
  {
   "cell_type": "code",
   "execution_count": 19,
   "id": "6e2b17a0-70b3-43a5-a8d2-f9381c94ddc6",
   "metadata": {},
   "outputs": [
    {
     "data": {
      "text/html": [
       "<div>\n",
       "<style scoped>\n",
       "    .dataframe tbody tr th:only-of-type {\n",
       "        vertical-align: middle;\n",
       "    }\n",
       "\n",
       "    .dataframe tbody tr th {\n",
       "        vertical-align: top;\n",
       "    }\n",
       "\n",
       "    .dataframe thead th {\n",
       "        text-align: right;\n",
       "    }\n",
       "</style>\n",
       "<table border=\"1\" class=\"dataframe\">\n",
       "  <thead>\n",
       "    <tr style=\"text-align: right;\">\n",
       "      <th></th>\n",
       "      <th>bank_id</th>\n",
       "      <th>amount</th>\n",
       "      <th>loan_id</th>\n",
       "      <th>bank_name</th>\n",
       "      <th>state</th>\n",
       "    </tr>\n",
       "  </thead>\n",
       "  <tbody>\n",
       "    <tr>\n",
       "      <th>0</th>\n",
       "      <td>544</td>\n",
       "      <td>None</td>\n",
       "      <td>None</td>\n",
       "      <td>test</td>\n",
       "      <td>None</td>\n",
       "    </tr>\n",
       "  </tbody>\n",
       "</table>\n",
       "</div>"
      ],
      "text/plain": [
       "   bank_id amount loan_id bank_name state\n",
       "0      544   None    None      test  None"
      ]
     },
     "execution_count": 19,
     "metadata": {},
     "output_type": "execute_result"
    }
   ],
   "source": [
    "import pandas as pd\n",
    "pd.DataFrame(cass.execute(\"select * from loans\"))"
   ]
  },
  {
   "cell_type": "code",
   "execution_count": 20,
   "id": "be7cabd8-e52c-46c2-a8d2-19279db87469",
   "metadata": {},
   "outputs": [
    {
     "data": {
      "text/plain": [
       "<cassandra.cluster.ResultSet at 0x7f0398270d00>"
      ]
     },
     "execution_count": 20,
     "metadata": {},
     "output_type": "execute_result"
    }
   ],
   "source": [
    "# INSERT is really an UPSERT (UPDATE or INSERT)\n",
    "cass.execute(\"\"\"\n",
    "INSERT INTO loans (bank_id, bank_name)\n",
    "VALUES (544, 'test2')\n",
    "\"\"\")"
   ]
  },
  {
   "cell_type": "code",
   "execution_count": 21,
   "id": "30b97a38-aaa9-4316-b565-2d45958fe989",
   "metadata": {},
   "outputs": [
    {
     "data": {
      "text/html": [
       "<div>\n",
       "<style scoped>\n",
       "    .dataframe tbody tr th:only-of-type {\n",
       "        vertical-align: middle;\n",
       "    }\n",
       "\n",
       "    .dataframe tbody tr th {\n",
       "        vertical-align: top;\n",
       "    }\n",
       "\n",
       "    .dataframe thead th {\n",
       "        text-align: right;\n",
       "    }\n",
       "</style>\n",
       "<table border=\"1\" class=\"dataframe\">\n",
       "  <thead>\n",
       "    <tr style=\"text-align: right;\">\n",
       "      <th></th>\n",
       "      <th>bank_id</th>\n",
       "      <th>amount</th>\n",
       "      <th>loan_id</th>\n",
       "      <th>bank_name</th>\n",
       "      <th>state</th>\n",
       "    </tr>\n",
       "  </thead>\n",
       "  <tbody>\n",
       "    <tr>\n",
       "      <th>0</th>\n",
       "      <td>544</td>\n",
       "      <td>None</td>\n",
       "      <td>None</td>\n",
       "      <td>test2</td>\n",
       "      <td>None</td>\n",
       "    </tr>\n",
       "  </tbody>\n",
       "</table>\n",
       "</div>"
      ],
      "text/plain": [
       "   bank_id amount loan_id bank_name state\n",
       "0      544   None    None     test2  None"
      ]
     },
     "execution_count": 21,
     "metadata": {},
     "output_type": "execute_result"
    }
   ],
   "source": [
    "import pandas as pd\n",
    "pd.DataFrame(cass.execute(\"select * from loans\"))"
   ]
  },
  {
   "cell_type": "code",
   "execution_count": 23,
   "id": "e645ad57-328b-494e-95cd-16049ae549bc",
   "metadata": {},
   "outputs": [],
   "source": [
    "# cass.execute(\"\"\"\n",
    "# INSERT INTO loans (bank_id, bank_name, loan_id)\n",
    "# VALUES (544, 'test2', UUID())\n",
    "# \"\"\")"
   ]
  },
  {
   "cell_type": "code",
   "execution_count": 24,
   "id": "d515a046-646c-4efd-8d38-e0904cf18dcf",
   "metadata": {},
   "outputs": [
    {
     "data": {
      "text/plain": [
       "<cassandra.cluster.ResultSet at 0x7f037fda6680>"
      ]
     },
     "execution_count": 24,
     "metadata": {},
     "output_type": "execute_result"
    }
   ],
   "source": [
    "# INSERT is really an UPSERT (UPDATE or INSERT)\n",
    "cass.execute(\"\"\"\n",
    "INSERT INTO loans (bank_id, amount, loan_id)\n",
    "VALUES (544, 300, UUID())\n",
    "\"\"\")"
   ]
  },
  {
   "cell_type": "code",
   "execution_count": 25,
   "id": "0c16b042-bc68-4456-a8e3-d32adec3959e",
   "metadata": {},
   "outputs": [
    {
     "data": {
      "text/html": [
       "<div>\n",
       "<style scoped>\n",
       "    .dataframe tbody tr th:only-of-type {\n",
       "        vertical-align: middle;\n",
       "    }\n",
       "\n",
       "    .dataframe tbody tr th {\n",
       "        vertical-align: top;\n",
       "    }\n",
       "\n",
       "    .dataframe thead th {\n",
       "        text-align: right;\n",
       "    }\n",
       "</style>\n",
       "<table border=\"1\" class=\"dataframe\">\n",
       "  <thead>\n",
       "    <tr style=\"text-align: right;\">\n",
       "      <th></th>\n",
       "      <th>bank_id</th>\n",
       "      <th>amount</th>\n",
       "      <th>loan_id</th>\n",
       "      <th>bank_name</th>\n",
       "      <th>state</th>\n",
       "    </tr>\n",
       "  </thead>\n",
       "  <tbody>\n",
       "    <tr>\n",
       "      <th>0</th>\n",
       "      <td>544</td>\n",
       "      <td>300</td>\n",
       "      <td>b53eb536-1fc6-4add-899a-f159e6b1b052</td>\n",
       "      <td>test2</td>\n",
       "      <td>None</td>\n",
       "    </tr>\n",
       "  </tbody>\n",
       "</table>\n",
       "</div>"
      ],
      "text/plain": [
       "   bank_id  amount                               loan_id bank_name state\n",
       "0      544     300  b53eb536-1fc6-4add-899a-f159e6b1b052     test2  None"
      ]
     },
     "execution_count": 25,
     "metadata": {},
     "output_type": "execute_result"
    }
   ],
   "source": [
    "pd.DataFrame(cass.execute(\"select * from loans\"))"
   ]
  },
  {
   "cell_type": "code",
   "execution_count": 26,
   "id": "89c9e9fc-2668-46f2-a3bb-b9e0097530fd",
   "metadata": {},
   "outputs": [],
   "source": [
    "# NOW() and UUID() both return UUIDs\n",
    "# NOW() is \"more\" unique (looks at MAC address, timestamp, sequence number)"
   ]
  },
  {
   "cell_type": "code",
   "execution_count": 28,
   "id": "6578126f-c042-4913-be4e-f36470f67986",
   "metadata": {},
   "outputs": [
    {
     "data": {
      "text/plain": [
       "<cassandra.cluster.ResultSet at 0x7f037fda7250>"
      ]
     },
     "execution_count": 28,
     "metadata": {},
     "output_type": "execute_result"
    }
   ],
   "source": [
    "cass.execute(\"\"\"\n",
    "INSERT INTO loans (bank_id, bank_name, amount, loan_id, state)\n",
    "VALUES (544, 'mybank', 400, NOW(), 'wi')\n",
    "\"\"\")"
   ]
  },
  {
   "cell_type": "code",
   "execution_count": 29,
   "id": "3f610009-5a65-46ca-a34b-6827f1ae46bf",
   "metadata": {},
   "outputs": [
    {
     "data": {
      "text/html": [
       "<div>\n",
       "<style scoped>\n",
       "    .dataframe tbody tr th:only-of-type {\n",
       "        vertical-align: middle;\n",
       "    }\n",
       "\n",
       "    .dataframe tbody tr th {\n",
       "        vertical-align: top;\n",
       "    }\n",
       "\n",
       "    .dataframe thead th {\n",
       "        text-align: right;\n",
       "    }\n",
       "</style>\n",
       "<table border=\"1\" class=\"dataframe\">\n",
       "  <thead>\n",
       "    <tr style=\"text-align: right;\">\n",
       "      <th></th>\n",
       "      <th>bank_id</th>\n",
       "      <th>amount</th>\n",
       "      <th>loan_id</th>\n",
       "      <th>bank_name</th>\n",
       "      <th>state</th>\n",
       "    </tr>\n",
       "  </thead>\n",
       "  <tbody>\n",
       "    <tr>\n",
       "      <th>0</th>\n",
       "      <td>544</td>\n",
       "      <td>400</td>\n",
       "      <td>847c6480-7cdf-11ee-aa37-6b2682dad796</td>\n",
       "      <td>mybank</td>\n",
       "      <td>wi</td>\n",
       "    </tr>\n",
       "    <tr>\n",
       "      <th>1</th>\n",
       "      <td>544</td>\n",
       "      <td>300</td>\n",
       "      <td>b53eb536-1fc6-4add-899a-f159e6b1b052</td>\n",
       "      <td>mybank</td>\n",
       "      <td>None</td>\n",
       "    </tr>\n",
       "  </tbody>\n",
       "</table>\n",
       "</div>"
      ],
      "text/plain": [
       "   bank_id  amount                               loan_id bank_name state\n",
       "0      544     400  847c6480-7cdf-11ee-aa37-6b2682dad796    mybank    wi\n",
       "1      544     300  b53eb536-1fc6-4add-899a-f159e6b1b052    mybank  None"
      ]
     },
     "execution_count": 29,
     "metadata": {},
     "output_type": "execute_result"
    }
   ],
   "source": [
    "pd.DataFrame(cass.execute(\"select * from loans\"))"
   ]
  },
  {
   "cell_type": "code",
   "execution_count": 30,
   "id": "a9d71268-841b-40ed-9b98-e9aadd4fa7f7",
   "metadata": {},
   "outputs": [
    {
     "data": {
      "text/plain": [
       "<cassandra.cluster.ResultSet at 0x7f0398230a00>"
      ]
     },
     "execution_count": 30,
     "metadata": {},
     "output_type": "execute_result"
    }
   ],
   "source": [
    "cass.execute(\"\"\"\n",
    "INSERT INTO loans (bank_id, bank_name, amount, loan_id, state)\n",
    "VALUES (999, 'uwcu', 500, NOW(), 'il')\n",
    "\"\"\")"
   ]
  },
  {
   "cell_type": "code",
   "execution_count": 31,
   "id": "60eb9d8b-4c1e-4bd3-8016-c82c25be36b2",
   "metadata": {},
   "outputs": [
    {
     "data": {
      "text/html": [
       "<div>\n",
       "<style scoped>\n",
       "    .dataframe tbody tr th:only-of-type {\n",
       "        vertical-align: middle;\n",
       "    }\n",
       "\n",
       "    .dataframe tbody tr th {\n",
       "        vertical-align: top;\n",
       "    }\n",
       "\n",
       "    .dataframe thead th {\n",
       "        text-align: right;\n",
       "    }\n",
       "</style>\n",
       "<table border=\"1\" class=\"dataframe\">\n",
       "  <thead>\n",
       "    <tr style=\"text-align: right;\">\n",
       "      <th></th>\n",
       "      <th>bank_id</th>\n",
       "      <th>amount</th>\n",
       "      <th>loan_id</th>\n",
       "      <th>bank_name</th>\n",
       "      <th>state</th>\n",
       "    </tr>\n",
       "  </thead>\n",
       "  <tbody>\n",
       "    <tr>\n",
       "      <th>0</th>\n",
       "      <td>544</td>\n",
       "      <td>400</td>\n",
       "      <td>847c6480-7cdf-11ee-aa37-6b2682dad796</td>\n",
       "      <td>mybank</td>\n",
       "      <td>wi</td>\n",
       "    </tr>\n",
       "    <tr>\n",
       "      <th>1</th>\n",
       "      <td>544</td>\n",
       "      <td>300</td>\n",
       "      <td>b53eb536-1fc6-4add-899a-f159e6b1b052</td>\n",
       "      <td>mybank</td>\n",
       "      <td>None</td>\n",
       "    </tr>\n",
       "    <tr>\n",
       "      <th>2</th>\n",
       "      <td>999</td>\n",
       "      <td>500</td>\n",
       "      <td>f29d9970-7cdf-11ee-8c42-714f42f16ef6</td>\n",
       "      <td>uwcu</td>\n",
       "      <td>il</td>\n",
       "    </tr>\n",
       "  </tbody>\n",
       "</table>\n",
       "</div>"
      ],
      "text/plain": [
       "   bank_id  amount                               loan_id bank_name state\n",
       "0      544     400  847c6480-7cdf-11ee-aa37-6b2682dad796    mybank    wi\n",
       "1      544     300  b53eb536-1fc6-4add-899a-f159e6b1b052    mybank  None\n",
       "2      999     500  f29d9970-7cdf-11ee-8c42-714f42f16ef6      uwcu    il"
      ]
     },
     "execution_count": 31,
     "metadata": {},
     "output_type": "execute_result"
    }
   ],
   "source": [
    "pd.DataFrame(cass.execute(\"select * from loans\"))"
   ]
  },
  {
   "cell_type": "code",
   "execution_count": 32,
   "id": "dc10724c-43b2-4e2f-b14c-551f19b752e6",
   "metadata": {},
   "outputs": [
    {
     "data": {
      "text/plain": [
       "<cassandra.cluster.ResultSet at 0x7f0398231a50>"
      ]
     },
     "execution_count": 32,
     "metadata": {},
     "output_type": "execute_result"
    }
   ],
   "source": [
    "cass.execute(\"\"\"\n",
    "CREATE TYPE FullName (first text, last text)\n",
    "\"\"\")"
   ]
  },
  {
   "cell_type": "code",
   "execution_count": 33,
   "id": "5320e23c-9d04-4226-b395-8069c9cb6ce3",
   "metadata": {},
   "outputs": [
    {
     "data": {
      "text/plain": [
       "<cassandra.cluster.ResultSet at 0x7f037fe1e770>"
      ]
     },
     "execution_count": 33,
     "metadata": {},
     "output_type": "execute_result"
    }
   ],
   "source": [
    "cass.execute(\"\"\"\n",
    "alter table loans add (username FullName)\n",
    "\"\"\")"
   ]
  },
  {
   "cell_type": "code",
   "execution_count": 35,
   "id": "bd1f34f6-c367-4286-ba7e-e8ca98e01a12",
   "metadata": {},
   "outputs": [
    {
     "data": {
      "text/plain": [
       "<cassandra.cluster.ResultSet at 0x7f0398230d00>"
      ]
     },
     "execution_count": 35,
     "metadata": {},
     "output_type": "execute_result"
    }
   ],
   "source": [
    "cass.execute(\"\"\"\n",
    "INSERT INTO loans (bank_id, bank_name, amount, loan_id, username)\n",
    "VALUES (999, 'uwcu', 500, NOW(), {first:'Tyler', last:'Caraza-Harter'})\n",
    "\"\"\")"
   ]
  },
  {
   "cell_type": "code",
   "execution_count": 37,
   "id": "7a0e7f6d-2bae-4339-8ebc-09730b54536b",
   "metadata": {},
   "outputs": [
    {
     "data": {
      "text/html": [
       "<div>\n",
       "<style scoped>\n",
       "    .dataframe tbody tr th:only-of-type {\n",
       "        vertical-align: middle;\n",
       "    }\n",
       "\n",
       "    .dataframe tbody tr th {\n",
       "        vertical-align: top;\n",
       "    }\n",
       "\n",
       "    .dataframe thead th {\n",
       "        text-align: right;\n",
       "    }\n",
       "</style>\n",
       "<table border=\"1\" class=\"dataframe\">\n",
       "  <thead>\n",
       "    <tr style=\"text-align: right;\">\n",
       "      <th></th>\n",
       "      <th>username</th>\n",
       "      <th>username_first</th>\n",
       "      <th>username_last</th>\n",
       "    </tr>\n",
       "  </thead>\n",
       "  <tbody>\n",
       "    <tr>\n",
       "      <th>0</th>\n",
       "      <td>None</td>\n",
       "      <td>None</td>\n",
       "      <td>None</td>\n",
       "    </tr>\n",
       "    <tr>\n",
       "      <th>1</th>\n",
       "      <td>None</td>\n",
       "      <td>None</td>\n",
       "      <td>None</td>\n",
       "    </tr>\n",
       "    <tr>\n",
       "      <th>2</th>\n",
       "      <td>None</td>\n",
       "      <td>None</td>\n",
       "      <td>None</td>\n",
       "    </tr>\n",
       "    <tr>\n",
       "      <th>3</th>\n",
       "      <td>(Tyler, Caraza-Harter)</td>\n",
       "      <td>Tyler</td>\n",
       "      <td>Caraza-Harter</td>\n",
       "    </tr>\n",
       "  </tbody>\n",
       "</table>\n",
       "</div>"
      ],
      "text/plain": [
       "                 username username_first  username_last\n",
       "0                    None           None           None\n",
       "1                    None           None           None\n",
       "2                    None           None           None\n",
       "3  (Tyler, Caraza-Harter)          Tyler  Caraza-Harter"
      ]
     },
     "execution_count": 37,
     "metadata": {},
     "output_type": "execute_result"
    }
   ],
   "source": [
    "pd.DataFrame(cass.execute(\"select username, username.first, username.last from loans\"))"
   ]
  }
 ],
 "metadata": {
  "kernelspec": {
   "display_name": "Python 3 (ipykernel)",
   "language": "python",
   "name": "python3"
  },
  "language_info": {
   "codemirror_mode": {
    "name": "ipython",
    "version": 3
   },
   "file_extension": ".py",
   "mimetype": "text/x-python",
   "name": "python",
   "nbconvert_exporter": "python",
   "pygments_lexer": "ipython3",
   "version": "3.10.12"
  }
 },
 "nbformat": 4,
 "nbformat_minor": 5
}
