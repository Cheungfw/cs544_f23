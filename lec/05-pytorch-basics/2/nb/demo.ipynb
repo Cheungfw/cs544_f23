{
 "cells": [
  {
   "cell_type": "markdown",
   "id": "77f4a349-bbf2-43cb-b546-092721dc5db9",
   "metadata": {},
   "source": [
    "# Integer Behavior"
   ]
  },
  {
   "cell_type": "code",
   "execution_count": 28,
   "id": "46c1a7b7-e5a0-4845-9e9d-37bfb025bbc2",
   "metadata": {},
   "outputs": [],
   "source": [
    "import torch"
   ]
  },
  {
   "cell_type": "code",
   "execution_count": 4,
   "id": "ed9f4c68-3085-4196-8f7d-68cb63fb8f8d",
   "metadata": {},
   "outputs": [
    {
     "data": {
      "text/plain": [
       "2147483648"
      ]
     },
     "execution_count": 4,
     "metadata": {},
     "output_type": "execute_result"
    }
   ],
   "source": [
    "2 ** 31"
   ]
  },
  {
   "cell_type": "code",
   "execution_count": 5,
   "id": "cf544897-efb5-4f14-b8c4-50cf042a69d2",
   "metadata": {},
   "outputs": [
    {
     "data": {
      "text/plain": [
       "tensor(2147483648)"
      ]
     },
     "execution_count": 5,
     "metadata": {},
     "output_type": "execute_result"
    }
   ],
   "source": [
    "torch.tensor(2 ** 31, dtype=torch.int64)"
   ]
  },
  {
   "cell_type": "code",
   "execution_count": 7,
   "id": "1955dea1-09aa-4eee-bd96-2a2e95374c11",
   "metadata": {},
   "outputs": [],
   "source": [
    "# torch.tensor(2 ** 31, dtype=torch.int32)    # number too large for 32 bits"
   ]
  },
  {
   "cell_type": "code",
   "execution_count": 10,
   "id": "1d06bf5c-1f81-4748-a7cf-e19877e5c8a2",
   "metadata": {},
   "outputs": [
    {
     "data": {
      "text/plain": [
       "tensor(2147483647, dtype=torch.int32)"
      ]
     },
     "execution_count": 10,
     "metadata": {},
     "output_type": "execute_result"
    }
   ],
   "source": [
    "x = torch.tensor(2 ** 31 - 1, dtype=torch.int32)\n",
    "x"
   ]
  },
  {
   "cell_type": "code",
   "execution_count": 13,
   "id": "b416f254-5295-40cf-8101-ccab585a005a",
   "metadata": {},
   "outputs": [
    {
     "data": {
      "text/plain": [
       "tensor(-2147483648, dtype=torch.int32)"
      ]
     },
     "execution_count": 13,
     "metadata": {},
     "output_type": "execute_result"
    }
   ],
   "source": [
    "y = x + 1   # overflow\n",
    "y"
   ]
  },
  {
   "cell_type": "code",
   "execution_count": 15,
   "id": "365f9b2a-cc24-49b3-9ae6-ca65e4a804c1",
   "metadata": {},
   "outputs": [
    {
     "data": {
      "text/plain": [
       "tensor(2147483647, dtype=torch.int32)"
      ]
     },
     "execution_count": 15,
     "metadata": {},
     "output_type": "execute_result"
    }
   ],
   "source": [
    "y - 1   # underflow"
   ]
  },
  {
   "cell_type": "markdown",
   "id": "6ec3f43d-b483-4d00-ab26-1a5481a286b8",
   "metadata": {},
   "source": [
    "# Float Behavior (Python is using float64 here)"
   ]
  },
  {
   "cell_type": "code",
   "execution_count": 16,
   "id": "af66b422-8865-4aec-b185-ae56efed9edc",
   "metadata": {},
   "outputs": [],
   "source": [
    "from sys import float_info"
   ]
  },
  {
   "cell_type": "code",
   "execution_count": 17,
   "id": "b154b4cf-70fd-4c56-ab70-22f2335490d6",
   "metadata": {},
   "outputs": [
    {
     "data": {
      "text/plain": [
       "1.7976931348623157e+308"
      ]
     },
     "execution_count": 17,
     "metadata": {},
     "output_type": "execute_result"
    }
   ],
   "source": [
    "float_info.max"
   ]
  },
  {
   "cell_type": "code",
   "execution_count": 18,
   "id": "d33f8153-744a-4c62-a6a0-6e16bfbca6ff",
   "metadata": {},
   "outputs": [
    {
     "data": {
      "text/plain": [
       "2.2250738585072014e-308"
      ]
     },
     "execution_count": 18,
     "metadata": {},
     "output_type": "execute_result"
    }
   ],
   "source": [
    "float_info.min"
   ]
  },
  {
   "cell_type": "code",
   "execution_count": 19,
   "id": "12a0f924-6b6b-4997-867a-82851300df21",
   "metadata": {},
   "outputs": [],
   "source": [
    "big = float_info.max\n",
    "small = -big"
   ]
  },
  {
   "cell_type": "code",
   "execution_count": 22,
   "id": "7f565b89-623c-4b51-bd11-9e7844dd9c26",
   "metadata": {},
   "outputs": [
    {
     "data": {
      "text/plain": [
       "True"
      ]
     },
     "execution_count": 22,
     "metadata": {},
     "output_type": "execute_result"
    }
   ],
   "source": [
    "big + 1 == big"
   ]
  },
  {
   "cell_type": "code",
   "execution_count": 23,
   "id": "8aa97f49-1628-446d-859b-8d932c50de21",
   "metadata": {},
   "outputs": [
    {
     "data": {
      "text/plain": [
       "inf"
      ]
     },
     "execution_count": 23,
     "metadata": {},
     "output_type": "execute_result"
    }
   ],
   "source": [
    "big * 2"
   ]
  },
  {
   "cell_type": "code",
   "execution_count": 25,
   "id": "4588e62d-337d-4dfe-9660-28cb0b6de43c",
   "metadata": {},
   "outputs": [
    {
     "data": {
      "text/plain": [
       "-inf"
      ]
     },
     "execution_count": 25,
     "metadata": {},
     "output_type": "execute_result"
    }
   ],
   "source": [
    "small * 3"
   ]
  },
  {
   "cell_type": "code",
   "execution_count": 26,
   "id": "5e867e1c-c38e-4fe0-9399-3738a0964e62",
   "metadata": {},
   "outputs": [
    {
     "data": {
      "text/plain": [
       "nan"
      ]
     },
     "execution_count": 26,
     "metadata": {},
     "output_type": "execute_result"
    }
   ],
   "source": [
    "big*2 + small*2"
   ]
  },
  {
   "cell_type": "code",
   "execution_count": 29,
   "id": "c16a6fe6-66af-4224-8d39-788c0ac7b44e",
   "metadata": {},
   "outputs": [
    {
     "data": {
      "text/plain": [
       "nan"
      ]
     },
     "execution_count": 29,
     "metadata": {},
     "output_type": "execute_result"
    }
   ],
   "source": [
    "big*2 + small*10"
   ]
  },
  {
   "cell_type": "code",
   "execution_count": 31,
   "id": "4e0653e5-5bf9-4a33-9273-218ff2c2d477",
   "metadata": {},
   "outputs": [
    {
     "data": {
      "text/plain": [
       "15"
      ]
     },
     "execution_count": 31,
     "metadata": {},
     "output_type": "execute_result"
    }
   ],
   "source": [
    "float_info.dig"
   ]
  },
  {
   "cell_type": "code",
   "execution_count": 32,
   "id": "c029aec1-cabf-40aa-9498-0c78d6750cdf",
   "metadata": {},
   "outputs": [
    {
     "data": {
      "text/plain": [
       "False"
      ]
     },
     "execution_count": 32,
     "metadata": {},
     "output_type": "execute_result"
    }
   ],
   "source": [
    "x = 1.23456781234567\n",
    "y = 1.23456781234568\n",
    "x == y"
   ]
  },
  {
   "cell_type": "code",
   "execution_count": 33,
   "id": "bc8bca52-d392-4274-9800-148eb4e76379",
   "metadata": {},
   "outputs": [
    {
     "data": {
      "text/plain": [
       "True"
      ]
     },
     "execution_count": 33,
     "metadata": {},
     "output_type": "execute_result"
    }
   ],
   "source": [
    "x = 1.2345678123456780\n",
    "y = 1.2345678123456781\n",
    "x == y"
   ]
  },
  {
   "cell_type": "code",
   "execution_count": 34,
   "id": "1bbb94e5-96c0-434c-9342-c8789868e857",
   "metadata": {},
   "outputs": [
    {
     "data": {
      "text/plain": [
       "2.220446049250313e-16"
      ]
     },
     "execution_count": 34,
     "metadata": {},
     "output_type": "execute_result"
    }
   ],
   "source": [
    "float_info.epsilon"
   ]
  },
  {
   "cell_type": "code",
   "execution_count": 35,
   "id": "a4454d3d-99d7-4ea8-9846-99521cc3f765",
   "metadata": {},
   "outputs": [
    {
     "data": {
      "text/plain": [
       "1.0000000000000002"
      ]
     },
     "execution_count": 35,
     "metadata": {},
     "output_type": "execute_result"
    }
   ],
   "source": [
    "x = 1.0\n",
    "x + float_info.epsilon    # the next number after 1.0"
   ]
  },
  {
   "cell_type": "code",
   "execution_count": 36,
   "id": "1a792301-0de5-462f-a68e-56a7aaa6b100",
   "metadata": {},
   "outputs": [
    {
     "data": {
      "text/plain": [
       "False"
      ]
     },
     "execution_count": 36,
     "metadata": {},
     "output_type": "execute_result"
    }
   ],
   "source": [
    "x == x + float_info.epsilon"
   ]
  },
  {
   "cell_type": "code",
   "execution_count": 37,
   "id": "ce5487e8-735a-4f2c-84f1-e2662bed5582",
   "metadata": {},
   "outputs": [
    {
     "data": {
      "text/plain": [
       "True"
      ]
     },
     "execution_count": 37,
     "metadata": {},
     "output_type": "execute_result"
    }
   ],
   "source": [
    "x == x + float_info.epsilon / 2"
   ]
  },
  {
   "cell_type": "code",
   "execution_count": 39,
   "id": "5492e5ad-65da-4798-82a7-5a389e80e469",
   "metadata": {},
   "outputs": [
    {
     "data": {
      "text/plain": [
       "False"
      ]
     },
     "execution_count": 39,
     "metadata": {},
     "output_type": "execute_result"
    }
   ],
   "source": [
    "0.1 == 0.1 + float_info.epsilon / 2"
   ]
  },
  {
   "cell_type": "markdown",
   "id": "cc37df58-55b4-48a3-91b1-edb6403e6788",
   "metadata": {},
   "source": [
    "# Matrices"
   ]
  },
  {
   "cell_type": "code",
   "execution_count": 61,
   "id": "862d647b-5950-4e2f-a4d4-4434ecdd46a9",
   "metadata": {},
   "outputs": [
    {
     "data": {
      "text/plain": [
       "tensor([[0.0582, 0.0629, 0.1236],\n",
       "        [0.0526, 0.5262, 0.4768],\n",
       "        [0.9552, 0.9288, 0.0835],\n",
       "        [0.1326, 0.1571, 0.3754],\n",
       "        [0.8425, 0.8705, 0.3775],\n",
       "        [0.6124, 0.0881, 0.7012],\n",
       "        [0.6234, 0.4373, 0.0747],\n",
       "        [0.6834, 0.3122, 0.3091],\n",
       "        [0.0313, 0.0404, 0.9319],\n",
       "        [0.1521, 0.2650, 0.1304]], dtype=torch.float64)"
      ]
     },
     "execution_count": 61,
     "metadata": {},
     "output_type": "execute_result"
    }
   ],
   "source": [
    "torch.manual_seed(42)\n",
    "A = torch.rand(10, 3, dtype=torch.float64)    # always get the same pseudorandom numbers\n",
    "A"
   ]
  },
  {
   "cell_type": "code",
   "execution_count": 62,
   "id": "8e1ccda8-f54c-45d4-8854-0f08f3485ea5",
   "metadata": {},
   "outputs": [
    {
     "data": {
      "text/plain": [
       "torch.float64"
      ]
     },
     "execution_count": 62,
     "metadata": {},
     "output_type": "execute_result"
    }
   ],
   "source": [
    "A.dtype"
   ]
  },
  {
   "cell_type": "code",
   "execution_count": 64,
   "id": "adf75381-f4cc-465b-b3b4-9a7c25250710",
   "metadata": {},
   "outputs": [
    {
     "data": {
      "text/plain": [
       "torch.Size([10, 3])"
      ]
     },
     "execution_count": 64,
     "metadata": {},
     "output_type": "execute_result"
    }
   ],
   "source": [
    "A.shape"
   ]
  },
  {
   "cell_type": "code",
   "execution_count": 65,
   "id": "a99e9225-9072-4030-9d51-db9b9ca57c30",
   "metadata": {},
   "outputs": [
    {
     "data": {
      "text/plain": [
       "device(type='cpu')"
      ]
     },
     "execution_count": 65,
     "metadata": {},
     "output_type": "execute_result"
    }
   ],
   "source": [
    "A.device    # \"cpu\" means the main system memory (RAM)"
   ]
  },
  {
   "cell_type": "code",
   "execution_count": 66,
   "id": "2241d494-b983-4fac-86c3-2c387d0ab5b2",
   "metadata": {},
   "outputs": [
    {
     "data": {
      "text/plain": [
       "tensor([[0.0582, 0.0629, 0.1236],\n",
       "        [0.0526, 0.5264, 0.4768],\n",
       "        [0.9551, 0.9287, 0.0836],\n",
       "        [0.1327, 0.1571, 0.3755],\n",
       "        [0.8423, 0.8706, 0.3774],\n",
       "        [0.6123, 0.0881, 0.7012],\n",
       "        [0.6235, 0.4373, 0.0747],\n",
       "        [0.6836, 0.3123, 0.3091],\n",
       "        [0.0313, 0.0404, 0.9321],\n",
       "        [0.1521, 0.2651, 0.1305]], dtype=torch.float16)"
      ]
     },
     "execution_count": 66,
     "metadata": {},
     "output_type": "execute_result"
    }
   ],
   "source": [
    "A.to(torch.float16)"
   ]
  },
  {
   "cell_type": "code",
   "execution_count": 69,
   "id": "9a27c7ea-2736-4113-ab1e-7c441bd16819",
   "metadata": {},
   "outputs": [
    {
     "data": {
      "text/plain": [
       "False"
      ]
     },
     "execution_count": 69,
     "metadata": {},
     "output_type": "execute_result"
    }
   ],
   "source": [
    "torch.cuda.is_available()"
   ]
  },
  {
   "cell_type": "code",
   "execution_count": 70,
   "id": "87d15f04-b87d-4b14-9b55-d8838e3f01c6",
   "metadata": {},
   "outputs": [],
   "source": [
    "if torch.cuda.is_available():\n",
    "    A = A.to(\"cuda\")"
   ]
  },
  {
   "cell_type": "code",
   "execution_count": 73,
   "id": "c89d8bfc-55ba-4405-adc5-c322675edece",
   "metadata": {},
   "outputs": [
    {
     "data": {
      "text/plain": [
       "tensor([[0.0582, 0.0526, 0.9552, 0.1326, 0.8425, 0.6124, 0.6234, 0.6834, 0.0313,\n",
       "         0.1521],\n",
       "        [0.0629, 0.5262, 0.9288, 0.1571, 0.8705, 0.0881, 0.4373, 0.3122, 0.0404,\n",
       "         0.2650],\n",
       "        [0.1236, 0.4768, 0.0835, 0.3754, 0.3775, 0.7012, 0.0747, 0.3091, 0.9319,\n",
       "         0.1304]], dtype=torch.float64)"
      ]
     },
     "execution_count": 73,
     "metadata": {},
     "output_type": "execute_result"
    }
   ],
   "source": [
    "A.T    # transpose flips along the diaganol"
   ]
  },
  {
   "cell_type": "code",
   "execution_count": 75,
   "id": "148a8f31-f9db-430e-b164-d5be2425d38b",
   "metadata": {},
   "outputs": [
    {
     "data": {
      "text/plain": [
       "tensor([[0.0582, 0.0629, 0.1236, 0.0526, 0.5262, 0.4768, 0.9552, 0.9288, 0.0835,\n",
       "         0.1326, 0.1571, 0.3754, 0.8425, 0.8705, 0.3775],\n",
       "        [0.6124, 0.0881, 0.7012, 0.6234, 0.4373, 0.0747, 0.6834, 0.3122, 0.3091,\n",
       "         0.0313, 0.0404, 0.9319, 0.1521, 0.2650, 0.1304]], dtype=torch.float64)"
      ]
     },
     "execution_count": 75,
     "metadata": {},
     "output_type": "execute_result"
    }
   ],
   "source": [
    "A.reshape(2,15)"
   ]
  },
  {
   "cell_type": "code",
   "execution_count": 76,
   "id": "56ce1401-482a-458d-aad0-876bae632a04",
   "metadata": {},
   "outputs": [
    {
     "data": {
      "text/plain": [
       "tensor([0.0582, 0.0629, 0.1236, 0.0526, 0.5262, 0.4768, 0.9552, 0.9288, 0.0835,\n",
       "        0.1326, 0.1571, 0.3754, 0.8425, 0.8705, 0.3775, 0.6124, 0.0881, 0.7012,\n",
       "        0.6234, 0.4373, 0.0747, 0.6834, 0.3122, 0.3091, 0.0313, 0.0404, 0.9319,\n",
       "        0.1521, 0.2650, 0.1304], dtype=torch.float64)"
      ]
     },
     "execution_count": 76,
     "metadata": {},
     "output_type": "execute_result"
    }
   ],
   "source": [
    "A.reshape(30)"
   ]
  },
  {
   "cell_type": "code",
   "execution_count": 79,
   "id": "bc4d5e89-497a-4fb4-9f29-ae53edd7c8c7",
   "metadata": {},
   "outputs": [
    {
     "data": {
      "text/plain": [
       "30"
      ]
     },
     "execution_count": 79,
     "metadata": {},
     "output_type": "execute_result"
    }
   ],
   "source": [
    "A.nelement()"
   ]
  },
  {
   "cell_type": "code",
   "execution_count": 80,
   "id": "6870fcca-9cfc-48cf-8add-9092d8b8c06f",
   "metadata": {},
   "outputs": [
    {
     "data": {
      "text/plain": [
       "8"
      ]
     },
     "execution_count": 80,
     "metadata": {},
     "output_type": "execute_result"
    }
   ],
   "source": [
    "A.element_size()"
   ]
  },
  {
   "cell_type": "code",
   "execution_count": 82,
   "id": "e54e818c-0c7d-455f-93e7-4950f5163411",
   "metadata": {},
   "outputs": [
    {
     "data": {
      "text/plain": [
       "240"
      ]
     },
     "execution_count": 82,
     "metadata": {},
     "output_type": "execute_result"
    }
   ],
   "source": [
    "A.nelement() * A.element_size()    # \"about\" how much memory used"
   ]
  },
  {
   "cell_type": "code",
   "execution_count": 84,
   "id": "23589c9e-314e-47e0-a6a6-792175c8ee72",
   "metadata": {},
   "outputs": [
    {
     "data": {
      "text/plain": [
       "80"
      ]
     },
     "execution_count": 84,
     "metadata": {},
     "output_type": "execute_result"
    }
   ],
   "source": [
    "# extra memory that we'll ignore:\n",
    "import sys\n",
    "sys.getsizeof(A)"
   ]
  },
  {
   "cell_type": "markdown",
   "id": "94a0bc8a-7cb2-4158-8d48-9ee72d1ce1fa",
   "metadata": {},
   "source": [
    "# Calculations"
   ]
  },
  {
   "cell_type": "code",
   "execution_count": 85,
   "id": "c61e0700-2c40-4b48-9528-a1fffa8cc466",
   "metadata": {},
   "outputs": [
    {
     "data": {
      "text/plain": [
       "tensor([[0.5315, 0.1587, 0.6542],\n",
       "        [0.3278, 0.6532, 0.3958],\n",
       "        [0.9147, 0.2036, 0.2018],\n",
       "        [0.2018, 0.9497, 0.6666],\n",
       "        [0.9811, 0.0874, 0.0041]])"
      ]
     },
     "execution_count": 85,
     "metadata": {},
     "output_type": "execute_result"
    }
   ],
   "source": [
    "X = torch.rand(5,3)\n",
    "X"
   ]
  },
  {
   "cell_type": "code",
   "execution_count": 86,
   "id": "24dc8e75-e433-474c-9903-155d8fc24f96",
   "metadata": {},
   "outputs": [
    {
     "data": {
      "text/plain": [
       "tensor([[100.5315, 100.1587, 100.6542],\n",
       "        [100.3278, 100.6532, 100.3958],\n",
       "        [100.9147, 100.2037, 100.2018],\n",
       "        [100.2018, 100.9497, 100.6666],\n",
       "        [100.9811, 100.0874, 100.0041]])"
      ]
     },
     "execution_count": 86,
     "metadata": {},
     "output_type": "execute_result"
    }
   ],
   "source": [
    "X + 100"
   ]
  },
  {
   "cell_type": "code",
   "execution_count": 92,
   "id": "53caf496-3c61-4891-9703-fdbd84b88e74",
   "metadata": {},
   "outputs": [
    {
     "data": {
      "text/plain": [
       "tensor(0.5000)"
      ]
     },
     "execution_count": 92,
     "metadata": {},
     "output_type": "execute_result"
    }
   ],
   "source": [
    "torch.sigmoid(torch.tensor(0))"
   ]
  },
  {
   "cell_type": "code",
   "execution_count": 94,
   "id": "e0501541-3353-4a24-b8ea-79f12e03765f",
   "metadata": {},
   "outputs": [
    {
     "data": {
      "text/plain": [
       "tensor([0.0067, 0.0180, 0.0474, 0.1192, 0.2689, 0.5000, 0.7311, 0.8808, 0.9526,\n",
       "        0.9820, 0.9933])"
      ]
     },
     "execution_count": 94,
     "metadata": {},
     "output_type": "execute_result"
    }
   ],
   "source": [
    "torch.sigmoid(torch.arange(-5,6,1))"
   ]
  },
  {
   "cell_type": "code",
   "execution_count": 98,
   "id": "4dc3d3a2-2c8c-4328-a13e-4e0851218138",
   "metadata": {},
   "outputs": [
    {
     "data": {
      "text/plain": [
       "tensor([[0.8167, 1.2725],\n",
       "        [2.0313, 2.2718],\n",
       "        [1.2208, 1.8890],\n",
       "        [1.4489, 1.9806],\n",
       "        [0.9234, 1.4883]])"
      ]
     },
     "execution_count": 98,
     "metadata": {},
     "output_type": "execute_result"
    }
   ],
   "source": [
    "x = torch.rand(5,3)\n",
    "y = torch.rand(3,7)\n",
    "z = torch.rand(7,2)\n",
    "\n",
    "# rule 1: 2nd dim of 1st matrix must equal 1st dim of 2nd matrix (for every pair)\n",
    "# rule 2: final rows=rows of first matrix; final cols=cols of last matrix\n",
    "# matrix multiply\n",
    "x @ y @ z"
   ]
  },
  {
   "cell_type": "code",
   "execution_count": null,
   "id": "7cf6425c-d981-4bda-ac5d-abc3f9742cc4",
   "metadata": {},
   "outputs": [],
   "source": []
  }
 ],
 "metadata": {
  "kernelspec": {
   "display_name": "Python 3 (ipykernel)",
   "language": "python",
   "name": "python3"
  },
  "language_info": {
   "codemirror_mode": {
    "name": "ipython",
    "version": 3
   },
   "file_extension": ".py",
   "mimetype": "text/x-python",
   "name": "python",
   "nbconvert_exporter": "python",
   "pygments_lexer": "ipython3",
   "version": "3.11.5"
  }
 },
 "nbformat": 4,
 "nbformat_minor": 5
}
