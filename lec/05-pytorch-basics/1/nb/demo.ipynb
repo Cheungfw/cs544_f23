{
 "cells": [
  {
   "cell_type": "code",
   "execution_count": 1,
   "id": "70458d1e-1f87-4502-b655-01fa92a900c9",
   "metadata": {},
   "outputs": [],
   "source": [
    "import torch"
   ]
  },
  {
   "cell_type": "code",
   "execution_count": 3,
   "id": "ff70446c-5470-43e9-9770-8705b1901514",
   "metadata": {},
   "outputs": [
    {
     "data": {
      "text/plain": [
       "2147483648"
      ]
     },
     "execution_count": 3,
     "metadata": {},
     "output_type": "execute_result"
    }
   ],
   "source": [
    "2 ** 31"
   ]
  },
  {
   "cell_type": "code",
   "execution_count": 4,
   "id": "3a328aa9-8efe-440e-ac58-61eaa5a26bb3",
   "metadata": {},
   "outputs": [
    {
     "data": {
      "text/plain": [
       "tensor(2147483648)"
      ]
     },
     "execution_count": 4,
     "metadata": {},
     "output_type": "execute_result"
    }
   ],
   "source": [
    "torch.tensor(2**31, dtype=torch.int64)"
   ]
  },
  {
   "cell_type": "code",
   "execution_count": 7,
   "id": "301aab79-d717-4e76-8c57-041a83d34142",
   "metadata": {},
   "outputs": [
    {
     "data": {
      "text/plain": [
       "tensor(2147483647, dtype=torch.int32)"
      ]
     },
     "execution_count": 7,
     "metadata": {},
     "output_type": "execute_result"
    }
   ],
   "source": [
    "x = torch.tensor(2**31 - 1, dtype=torch.int32)\n",
    "x"
   ]
  },
  {
   "cell_type": "code",
   "execution_count": 11,
   "id": "c2ffce5f-8d5d-4973-862f-65c5ae0e17df",
   "metadata": {},
   "outputs": [
    {
     "data": {
      "text/plain": [
       "tensor(-2147483648, dtype=torch.int32)"
      ]
     },
     "execution_count": 11,
     "metadata": {},
     "output_type": "execute_result"
    }
   ],
   "source": [
    "y = x + 1 # overflow: number gets too big -- wraps around to a negative number\n",
    "y"
   ]
  },
  {
   "cell_type": "code",
   "execution_count": 13,
   "id": "2ed7e9f5-d788-4b5e-a0dd-d0384ab08163",
   "metadata": {},
   "outputs": [
    {
     "data": {
      "text/plain": [
       "tensor(2147483647, dtype=torch.int32)"
      ]
     },
     "execution_count": 13,
     "metadata": {},
     "output_type": "execute_result"
    }
   ],
   "source": [
    "y - 1  # underflow"
   ]
  },
  {
   "cell_type": "code",
   "execution_count": 16,
   "id": "22d3672e-6bdb-4d01-bf02-2383fb1a0acc",
   "metadata": {},
   "outputs": [],
   "source": [
    "from sys import float_info"
   ]
  },
  {
   "cell_type": "code",
   "execution_count": 17,
   "id": "ea9e2d70-6cba-41c0-ac45-d34b2d1970fa",
   "metadata": {},
   "outputs": [
    {
     "data": {
      "text/plain": [
       "['__add__',\n",
       " '__class__',\n",
       " '__class_getitem__',\n",
       " '__contains__',\n",
       " '__delattr__',\n",
       " '__dir__',\n",
       " '__doc__',\n",
       " '__eq__',\n",
       " '__format__',\n",
       " '__ge__',\n",
       " '__getattribute__',\n",
       " '__getitem__',\n",
       " '__getnewargs__',\n",
       " '__getstate__',\n",
       " '__gt__',\n",
       " '__hash__',\n",
       " '__init__',\n",
       " '__init_subclass__',\n",
       " '__iter__',\n",
       " '__le__',\n",
       " '__len__',\n",
       " '__lt__',\n",
       " '__match_args__',\n",
       " '__mul__',\n",
       " '__ne__',\n",
       " '__new__',\n",
       " '__reduce__',\n",
       " '__reduce_ex__',\n",
       " '__repr__',\n",
       " '__rmul__',\n",
       " '__setattr__',\n",
       " '__sizeof__',\n",
       " '__str__',\n",
       " '__subclasshook__',\n",
       " 'count',\n",
       " 'dig',\n",
       " 'epsilon',\n",
       " 'index',\n",
       " 'mant_dig',\n",
       " 'max',\n",
       " 'max_10_exp',\n",
       " 'max_exp',\n",
       " 'min',\n",
       " 'min_10_exp',\n",
       " 'min_exp',\n",
       " 'n_fields',\n",
       " 'n_sequence_fields',\n",
       " 'n_unnamed_fields',\n",
       " 'radix',\n",
       " 'rounds']"
      ]
     },
     "execution_count": 17,
     "metadata": {},
     "output_type": "execute_result"
    }
   ],
   "source": [
    "dir(float_info)"
   ]
  },
  {
   "cell_type": "code",
   "execution_count": 18,
   "id": "302096f3-6a85-459b-b6f5-577899007713",
   "metadata": {},
   "outputs": [
    {
     "data": {
      "text/plain": [
       "(2.2250738585072014e-308, 1.7976931348623157e+308)"
      ]
     },
     "execution_count": 18,
     "metadata": {},
     "output_type": "execute_result"
    }
   ],
   "source": [
    "float_info.min, float_info.max"
   ]
  },
  {
   "cell_type": "code",
   "execution_count": 20,
   "id": "189e7fbc-a913-4e89-b948-710f3997a1fb",
   "metadata": {},
   "outputs": [
    {
     "data": {
      "text/plain": [
       "1.7976931348623157e+308"
      ]
     },
     "execution_count": 20,
     "metadata": {},
     "output_type": "execute_result"
    }
   ],
   "source": [
    "big = float_info.max\n",
    "big"
   ]
  },
  {
   "cell_type": "code",
   "execution_count": 21,
   "id": "94aad6f9-3ec6-4cb7-83ca-bfee84de8596",
   "metadata": {},
   "outputs": [
    {
     "data": {
      "text/plain": [
       "-1.7976931348623157e+308"
      ]
     },
     "execution_count": 21,
     "metadata": {},
     "output_type": "execute_result"
    }
   ],
   "source": [
    "small = -big\n",
    "small"
   ]
  },
  {
   "cell_type": "code",
   "execution_count": 23,
   "id": "fc02b9dd-26d2-4e16-9b67-0def847a6240",
   "metadata": {},
   "outputs": [
    {
     "data": {
      "text/plain": [
       "True"
      ]
     },
     "execution_count": 23,
     "metadata": {},
     "output_type": "execute_result"
    }
   ],
   "source": [
    "big == big + 1"
   ]
  },
  {
   "cell_type": "code",
   "execution_count": 24,
   "id": "0c651a1f-7f03-4a45-ad15-6026d37cb5b5",
   "metadata": {},
   "outputs": [
    {
     "data": {
      "text/plain": [
       "inf"
      ]
     },
     "execution_count": 24,
     "metadata": {},
     "output_type": "execute_result"
    }
   ],
   "source": [
    "big * 2"
   ]
  },
  {
   "cell_type": "code",
   "execution_count": 26,
   "id": "3df86ba6-49ff-46ad-a780-94608ea2dd89",
   "metadata": {},
   "outputs": [
    {
     "data": {
      "text/plain": [
       "-inf"
      ]
     },
     "execution_count": 26,
     "metadata": {},
     "output_type": "execute_result"
    }
   ],
   "source": [
    "small * 3"
   ]
  },
  {
   "cell_type": "code",
   "execution_count": 27,
   "id": "94c81129-aa29-441d-ae18-6ea71acb1439",
   "metadata": {},
   "outputs": [
    {
     "data": {
      "text/plain": [
       "nan"
      ]
     },
     "execution_count": 27,
     "metadata": {},
     "output_type": "execute_result"
    }
   ],
   "source": [
    "big * 2 + small * 2"
   ]
  },
  {
   "cell_type": "code",
   "execution_count": 28,
   "id": "f004b6df-9a50-4b59-9a99-8797c3456a2a",
   "metadata": {},
   "outputs": [
    {
     "data": {
      "text/plain": [
       "nan"
      ]
     },
     "execution_count": 28,
     "metadata": {},
     "output_type": "execute_result"
    }
   ],
   "source": [
    "big * 2 + small * 10"
   ]
  },
  {
   "cell_type": "code",
   "execution_count": 30,
   "id": "350ebde4-eb81-411c-87bb-577103d14830",
   "metadata": {},
   "outputs": [
    {
     "data": {
      "text/plain": [
       "inf"
      ]
     },
     "execution_count": 30,
     "metadata": {},
     "output_type": "execute_result"
    }
   ],
   "source": [
    "big * 2 / 2"
   ]
  },
  {
   "cell_type": "code",
   "execution_count": 33,
   "id": "e62ce745-6a51-4663-abce-fcd70322cd4f",
   "metadata": {},
   "outputs": [
    {
     "data": {
      "text/plain": [
       "(1.7976931348623157e+308, 1.6179238213760842e+308)"
      ]
     },
     "execution_count": 33,
     "metadata": {},
     "output_type": "execute_result"
    }
   ],
   "source": [
    "big, big * 0.9"
   ]
  },
  {
   "cell_type": "code",
   "execution_count": 36,
   "id": "baa7b67e-431b-4fdd-bffe-0ba7ed738abe",
   "metadata": {},
   "outputs": [
    {
     "data": {
      "text/plain": [
       "15"
      ]
     },
     "execution_count": 36,
     "metadata": {},
     "output_type": "execute_result"
    }
   ],
   "source": [
    "float_info.dig # how many digits can we do faithfully"
   ]
  },
  {
   "cell_type": "code",
   "execution_count": 38,
   "id": "3965bcbc-33a4-42f9-a38e-b0e8e514cc74",
   "metadata": {},
   "outputs": [
    {
     "data": {
      "text/plain": [
       "False"
      ]
     },
     "execution_count": 38,
     "metadata": {},
     "output_type": "execute_result"
    }
   ],
   "source": [
    "x = 1.23456781234567\n",
    "y = 1.23456781234568\n",
    "x == y"
   ]
  },
  {
   "cell_type": "code",
   "execution_count": 46,
   "id": "b022b45d-23bc-4d27-99d4-07c142239469",
   "metadata": {},
   "outputs": [
    {
     "data": {
      "text/plain": [
       "True"
      ]
     },
     "execution_count": 46,
     "metadata": {},
     "output_type": "execute_result"
    }
   ],
   "source": [
    "x = 1.2345678123456782\n",
    "y = 1.2345678123456783\n",
    "x == y   # not precise enough!"
   ]
  },
  {
   "cell_type": "code",
   "execution_count": 48,
   "id": "ca2c59ba-9389-4228-a69c-6d813149f90f",
   "metadata": {},
   "outputs": [
    {
     "data": {
      "text/plain": [
       "1.0000000000000002"
      ]
     },
     "execution_count": 48,
     "metadata": {},
     "output_type": "execute_result"
    }
   ],
   "source": [
    "1.0 + float_info.epsilon   # the next valid float after 1"
   ]
  },
  {
   "cell_type": "code",
   "execution_count": 49,
   "id": "6d9f6b49-6295-4488-873a-fd3f578aec98",
   "metadata": {},
   "outputs": [
    {
     "data": {
      "text/plain": [
       "False"
      ]
     },
     "execution_count": 49,
     "metadata": {},
     "output_type": "execute_result"
    }
   ],
   "source": [
    "x = 1.0\n",
    "y = x + float_info.epsilon\n",
    "x == y"
   ]
  },
  {
   "cell_type": "code",
   "execution_count": 50,
   "id": "20576bb2-28dd-4ab9-966f-99d7637c9918",
   "metadata": {},
   "outputs": [
    {
     "data": {
      "text/plain": [
       "True"
      ]
     },
     "execution_count": 50,
     "metadata": {},
     "output_type": "execute_result"
    }
   ],
   "source": [
    "x = 1.0\n",
    "y = x + float_info.epsilon / 2\n",
    "x == y"
   ]
  },
  {
   "cell_type": "code",
   "execution_count": 51,
   "id": "6d5ea3ad-9488-41d9-8040-4dae3a961894",
   "metadata": {},
   "outputs": [
    {
     "data": {
      "text/plain": [
       "False"
      ]
     },
     "execution_count": 51,
     "metadata": {},
     "output_type": "execute_result"
    }
   ],
   "source": [
    "x = 0.1\n",
    "y = x + float_info.epsilon / 2\n",
    "x == y"
   ]
  },
  {
   "cell_type": "markdown",
   "id": "8aeba807-6170-4735-9594-66d6c05f3334",
   "metadata": {},
   "source": [
    "# Matrices, Doing Ops on Them"
   ]
  },
  {
   "cell_type": "code",
   "execution_count": 79,
   "id": "77d9ab83-2c1b-4256-8aba-cb9e5a7fa4e6",
   "metadata": {},
   "outputs": [
    {
     "data": {
      "text/plain": [
       "tensor([[0.8823, 0.9150, 0.3829],\n",
       "        [0.9593, 0.3904, 0.6009],\n",
       "        [0.2566, 0.7936, 0.9408],\n",
       "        [0.1332, 0.9346, 0.5936],\n",
       "        [0.8694, 0.5677, 0.7411],\n",
       "        [0.4294, 0.8854, 0.5739],\n",
       "        [0.2666, 0.6274, 0.2696],\n",
       "        [0.4414, 0.2969, 0.8317],\n",
       "        [0.1053, 0.2695, 0.3588],\n",
       "        [0.1994, 0.5472, 0.0062]])"
      ]
     },
     "execution_count": 79,
     "metadata": {},
     "output_type": "execute_result"
    }
   ],
   "source": [
    "torch.manual_seed(42)\n",
    "A = torch.rand(10, 3)   # pseudorandom numbers\n",
    "A"
   ]
  },
  {
   "cell_type": "code",
   "execution_count": 80,
   "id": "82d58610-be5b-43c6-a168-f2556b271ef8",
   "metadata": {},
   "outputs": [
    {
     "data": {
      "text/plain": [
       "torch.float32"
      ]
     },
     "execution_count": 80,
     "metadata": {},
     "output_type": "execute_result"
    }
   ],
   "source": [
    "A.dtype"
   ]
  },
  {
   "cell_type": "code",
   "execution_count": 81,
   "id": "63fb39a0-4ccc-4530-8d43-e24c5d11b7f0",
   "metadata": {},
   "outputs": [
    {
     "data": {
      "text/plain": [
       "torch.Size([10, 3])"
      ]
     },
     "execution_count": 81,
     "metadata": {},
     "output_type": "execute_result"
    }
   ],
   "source": [
    "A.shape"
   ]
  },
  {
   "cell_type": "code",
   "execution_count": 82,
   "id": "e44e0ccd-87ed-4690-bb6b-3e38b5eb5c33",
   "metadata": {},
   "outputs": [
    {
     "data": {
      "text/plain": [
       "device(type='cpu')"
      ]
     },
     "execution_count": 82,
     "metadata": {},
     "output_type": "execute_result"
    }
   ],
   "source": [
    "A.device    # \"cpu\" means regular system memory (RAM)"
   ]
  },
  {
   "cell_type": "code",
   "execution_count": 83,
   "id": "e0ea43c1-5673-4b9f-b5fc-2ae12a719081",
   "metadata": {},
   "outputs": [
    {
     "data": {
      "text/plain": [
       "120"
      ]
     },
     "execution_count": 83,
     "metadata": {},
     "output_type": "execute_result"
    }
   ],
   "source": [
    "A.nelement() * A.element_size()   # \"about\" how many bytes are used"
   ]
  },
  {
   "cell_type": "code",
   "execution_count": 85,
   "id": "14874556-c98d-48cc-b3e4-5e90b3e5148f",
   "metadata": {},
   "outputs": [
    {
     "data": {
      "text/plain": [
       "80"
      ]
     },
     "execution_count": 85,
     "metadata": {},
     "output_type": "execute_result"
    }
   ],
   "source": [
    "import sys\n",
    "sys.getsizeof(A)   # extra bytes that Python uses\n",
    "                   # (we will NOT count these because it matter when matrices are large)"
   ]
  },
  {
   "cell_type": "code",
   "execution_count": 87,
   "id": "de64880e-3dca-4b32-9b2b-04ad24f97fdb",
   "metadata": {},
   "outputs": [
    {
     "data": {
      "text/plain": [
       "tensor([[0.8823, 0.9150, 0.3829],\n",
       "        [0.9593, 0.3904, 0.6009],\n",
       "        [0.2566, 0.7936, 0.9408],\n",
       "        [0.1332, 0.9346, 0.5936],\n",
       "        [0.8694, 0.5677, 0.7411],\n",
       "        [0.4294, 0.8854, 0.5739],\n",
       "        [0.2666, 0.6274, 0.2696],\n",
       "        [0.4414, 0.2969, 0.8317],\n",
       "        [0.1053, 0.2695, 0.3588],\n",
       "        [0.1994, 0.5472, 0.0062]], dtype=torch.float64)"
      ]
     },
     "execution_count": 87,
     "metadata": {},
     "output_type": "execute_result"
    }
   ],
   "source": [
    "A.to(torch.float64)"
   ]
  },
  {
   "cell_type": "code",
   "execution_count": 91,
   "id": "cebeb08c-d84b-4491-a828-2bbe50913faa",
   "metadata": {},
   "outputs": [],
   "source": [
    "if torch.cuda.is_available():\n",
    "    A = A.to(\"cuda\")"
   ]
  },
  {
   "cell_type": "code",
   "execution_count": 93,
   "id": "c1f88522-edec-451e-81cf-dd85890373a7",
   "metadata": {},
   "outputs": [
    {
     "data": {
      "text/plain": [
       "tensor([[0.8823, 0.9593, 0.2566, 0.1332, 0.8694, 0.4294, 0.2666, 0.4414, 0.1053,\n",
       "         0.1994],\n",
       "        [0.9150, 0.3904, 0.7936, 0.9346, 0.5677, 0.8854, 0.6274, 0.2969, 0.2695,\n",
       "         0.5472],\n",
       "        [0.3829, 0.6009, 0.9408, 0.5936, 0.7411, 0.5739, 0.2696, 0.8317, 0.3588,\n",
       "         0.0062]])"
      ]
     },
     "execution_count": 93,
     "metadata": {},
     "output_type": "execute_result"
    }
   ],
   "source": [
    "A.T # transpose: flip along the diaganol"
   ]
  },
  {
   "cell_type": "code",
   "execution_count": 97,
   "id": "503c5fe3-337c-4ec7-82b9-bf6cc3947398",
   "metadata": {},
   "outputs": [
    {
     "data": {
      "text/plain": [
       "tensor([0.8823, 0.9150, 0.3829, 0.9593, 0.3904, 0.6009, 0.2566, 0.7936, 0.9408,\n",
       "        0.1332, 0.9346, 0.5936, 0.8694, 0.5677, 0.7411, 0.4294, 0.8854, 0.5739,\n",
       "        0.2666, 0.6274, 0.2696, 0.4414, 0.2969, 0.8317, 0.1053, 0.2695, 0.3588,\n",
       "        0.1994, 0.5472, 0.0062])"
      ]
     },
     "execution_count": 97,
     "metadata": {},
     "output_type": "execute_result"
    }
   ],
   "source": [
    "A.reshape(30)"
   ]
  }
 ],
 "metadata": {
  "kernelspec": {
   "display_name": "Python 3 (ipykernel)",
   "language": "python",
   "name": "python3"
  },
  "language_info": {
   "codemirror_mode": {
    "name": "ipython",
    "version": 3
   },
   "file_extension": ".py",
   "mimetype": "text/x-python",
   "name": "python",
   "nbconvert_exporter": "python",
   "pygments_lexer": "ipython3",
   "version": "3.11.5"
  }
 },
 "nbformat": 4,
 "nbformat_minor": 5
}
