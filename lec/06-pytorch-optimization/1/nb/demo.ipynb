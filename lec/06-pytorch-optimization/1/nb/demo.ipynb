{
 "cells": [
  {
   "cell_type": "code",
   "execution_count": 1,
   "id": "70458d1e-1f87-4502-b655-01fa92a900c9",
   "metadata": {},
   "outputs": [],
   "source": [
    "import torch"
   ]
  },
  {
   "cell_type": "code",
   "execution_count": 2,
   "id": "ae9cabeb-ecda-41db-86a7-70ec7e70ccf5",
   "metadata": {},
   "outputs": [
    {
     "data": {
      "text/plain": [
       "tensor([[0.5995, 0.7980, 0.2409],\n",
       "        [0.4712, 0.0544, 0.6463],\n",
       "        [0.3374, 0.1066, 0.3515],\n",
       "        [0.8850, 0.1192, 0.2509],\n",
       "        [0.4950, 0.8354, 0.7132]])"
      ]
     },
     "execution_count": 2,
     "metadata": {},
     "output_type": "execute_result"
    }
   ],
   "source": [
    "x = torch.rand(5, 3)\n",
    "x"
   ]
  },
  {
   "cell_type": "code",
   "execution_count": 3,
   "id": "a5add8ce-c960-4b27-b9d6-71dee13618a0",
   "metadata": {},
   "outputs": [],
   "source": [
    "# element wise operations"
   ]
  },
  {
   "cell_type": "code",
   "execution_count": 7,
   "id": "98be93f5-e624-49a9-ae70-c41a8853dd56",
   "metadata": {},
   "outputs": [
    {
     "data": {
      "text/plain": [
       "tensor([[100.5995, 100.7980, 100.2409],\n",
       "        [100.4712, 100.0544, 100.6463],\n",
       "        [100.3374, 100.1066, 100.3515],\n",
       "        [100.8850, 100.1192, 100.2509],\n",
       "        [100.4950, 100.8354, 100.7132]])"
      ]
     },
     "execution_count": 7,
     "metadata": {},
     "output_type": "execute_result"
    }
   ],
   "source": [
    "x + 100"
   ]
  },
  {
   "cell_type": "code",
   "execution_count": 4,
   "id": "c9951639-f770-487a-b580-c0201e8ae56f",
   "metadata": {},
   "outputs": [],
   "source": [
    "# sigmoid"
   ]
  },
  {
   "cell_type": "code",
   "execution_count": 8,
   "id": "270a5290-c487-43b7-b5c2-7b0011e5d6df",
   "metadata": {},
   "outputs": [
    {
     "data": {
      "text/plain": [
       "tensor(0.5000)"
      ]
     },
     "execution_count": 8,
     "metadata": {},
     "output_type": "execute_result"
    }
   ],
   "source": [
    "torch.sigmoid(torch.tensor(0.0))"
   ]
  },
  {
   "cell_type": "code",
   "execution_count": 9,
   "id": "f4d837ba-c67f-42e0-ae93-02006308d208",
   "metadata": {},
   "outputs": [
    {
     "data": {
      "text/plain": [
       "tensor(1.0000)"
      ]
     },
     "execution_count": 9,
     "metadata": {},
     "output_type": "execute_result"
    }
   ],
   "source": [
    "torch.sigmoid(torch.tensor(10.0))"
   ]
  },
  {
   "cell_type": "code",
   "execution_count": 10,
   "id": "7eab6275-458f-4db0-99c5-e367d29878ea",
   "metadata": {},
   "outputs": [
    {
     "data": {
      "text/plain": [
       "tensor(4.5398e-05)"
      ]
     },
     "execution_count": 10,
     "metadata": {},
     "output_type": "execute_result"
    }
   ],
   "source": [
    "torch.sigmoid(torch.tensor(-10.0))"
   ]
  },
  {
   "cell_type": "code",
   "execution_count": 12,
   "id": "080c5c82-64d0-4cc2-9265-82c747c111f2",
   "metadata": {},
   "outputs": [
    {
     "data": {
      "text/plain": [
       "tensor([4.5398e-05, 7.4846e-05, 1.2339e-04, 2.0343e-04, 3.3535e-04, 5.5278e-04,\n",
       "        9.1105e-04, 1.5012e-03, 2.4726e-03, 4.0701e-03, 6.6929e-03, 1.0987e-02,\n",
       "        1.7986e-02, 2.9312e-02, 4.7426e-02, 7.5858e-02, 1.1920e-01, 1.8243e-01,\n",
       "        2.6894e-01, 3.7754e-01, 5.0000e-01, 6.2246e-01, 7.3106e-01, 8.1757e-01,\n",
       "        8.8080e-01, 9.2414e-01, 9.5257e-01, 9.7069e-01, 9.8201e-01, 9.8901e-01,\n",
       "        9.9331e-01, 9.9593e-01, 9.9753e-01, 9.9850e-01, 9.9909e-01, 9.9945e-01,\n",
       "        9.9966e-01, 9.9980e-01, 9.9988e-01, 9.9993e-01])"
      ]
     },
     "execution_count": 12,
     "metadata": {},
     "output_type": "execute_result"
    }
   ],
   "source": [
    "torch.sigmoid(torch.arange(-10, 10, 0.5))"
   ]
  },
  {
   "cell_type": "code",
   "execution_count": 5,
   "id": "45bfe821-b45a-4266-8530-122e13a1ecb6",
   "metadata": {},
   "outputs": [],
   "source": [
    "# matrix multiplication"
   ]
  },
  {
   "cell_type": "code",
   "execution_count": 20,
   "id": "1dd0b409-a6e8-4490-a6ea-9a68e29979d5",
   "metadata": {},
   "outputs": [
    {
     "name": "stdout",
     "output_type": "stream",
     "text": [
      "torch.Size([5, 2])\n"
     ]
    },
    {
     "data": {
      "text/plain": [
       "tensor([[3.5134, 3.4498],\n",
       "        [2.6395, 2.6466],\n",
       "        [4.5378, 4.4138],\n",
       "        [4.7974, 4.7257],\n",
       "        [2.6643, 2.6530]])"
      ]
     },
     "execution_count": 20,
     "metadata": {},
     "output_type": "execute_result"
    }
   ],
   "source": [
    "x = torch.rand(5,3)\n",
    "y = torch.rand(3,7)\n",
    "z = torch.rand(7,2)\n",
    "\n",
    "# rule 1: the col count for the matrix before @, must match the row count of the matrix after\n",
    "# rule 2: the final row count matches that of the very first matrix AND\n",
    "#         the final column count matches that of the very last matrix\n",
    "\n",
    "# \"@\" is matrix multiplication\n",
    "print((x @ y @ z).shape)\n",
    "x @ y @ z"
   ]
  },
  {
   "cell_type": "code",
   "execution_count": 22,
   "id": "de2f9e54-9e8d-4886-b593-0354fd95eca8",
   "metadata": {},
   "outputs": [
    {
     "data": {
      "text/plain": [
       "tensor([[0.6378, 0.3325, 0.0402],\n",
       "        [0.0342, 0.5094, 0.3009],\n",
       "        [0.7030, 0.4383, 0.3133],\n",
       "        [0.8123, 0.7816, 0.2229],\n",
       "        [0.2446, 0.3393, 0.0486]])"
      ]
     },
     "execution_count": 22,
     "metadata": {},
     "output_type": "execute_result"
    }
   ],
   "source": [
    "# element-wise multiply (this example squares each cell individually)\n",
    "x * x"
   ]
  },
  {
   "cell_type": "code",
   "execution_count": 47,
   "id": "7080693a-65f8-4ed6-93bf-677ffce038eb",
   "metadata": {},
   "outputs": [
    {
     "data": {
      "text/plain": [
       "tensor(1.7392, requires_grad=True)"
      ]
     },
     "execution_count": 47,
     "metadata": {},
     "output_type": "execute_result"
    },
    {
     "data": {
      "image/png": "[encoded data removed]",
      "text/plain": [
       "<Figure size 640x480 with 1 Axes>"
      ]
     },
     "metadata": {},
     "output_type": "display_data"
    }
   ],
   "source": [
    "import matplotlib.pyplot as plt\n",
    "\n",
    "def f(x):\n",
    "    return (x - 1) * (x + 2) * (x - 3) * (x + 6)\n",
    "\n",
    "# plot the function\n",
    "x = torch.arange(-8, 5, 0.1)\n",
    "y = f(x)\n",
    "plt.plot(x, y)\n",
    "\n",
    "# find a good x value\n",
    "x = torch.tensor(0.0, requires_grad=True)\n",
    "optimizer = torch.optim.SGD([x], lr=0.01)\n",
    "\n",
    "for epoch in range(5):\n",
    "    y = f(x)\n",
    "    plt.plot(x.detach(), y.detach(), \"ro\", markersize=3 + epoch)\n",
    "    y.backward()\n",
    "    optimizer.step()\n",
    "    optimizer.zero_grad()\n",
    "x"
   ]
  },
  {
   "cell_type": "markdown",
   "id": "5a25e7f1-f6ee-42d0-ae7b-8ff7b82d8e71",
   "metadata": {},
   "source": [
    "# Iris (Flowers): Predictions"
   ]
  },
  {
   "cell_type": "code",
   "execution_count": 50,
   "id": "90134f28-8e00-4aea-ab85-8c153fa3ee85",
   "metadata": {},
   "outputs": [
    {
     "data": {
      "text/plain": [
       "<Axes: xlabel='petlen', ylabel='petwid'>"
      ]
     },
     "execution_count": 50,
     "metadata": {},
     "output_type": "execute_result"
    },
    {
     "data": {
      "image/png": "[encoded data removed]",
      "text/plain": [
       "<Figure size 640x480 with 1 Axes>"
      ]
     },
     "metadata": {},
     "output_type": "display_data"
    }
   ],
   "source": [
    "import pandas as pd\n",
    "df = pd.read_csv(\"https://archive.ics.uci.edu/ml/machine-learning-databases/iris/iris.data\",\n",
    "                 names=[\"seplen\", \"sepwid\", \"petlen\", \"petwid\", \"variety\"])\n",
    "df.plot.scatter(x=\"petlen\", y=\"petwid\")"
   ]
  },
  {
   "cell_type": "code",
   "execution_count": null,
   "id": "3f729181-16a1-4763-8f8e-1c77b0f89ea3",
   "metadata": {},
   "outputs": [],
   "source": []
  }
 ],
 "metadata": {
  "kernelspec": {
   "display_name": "Python 3 (ipykernel)",
   "language": "python",
   "name": "python3"
  },
  "language_info": {
   "codemirror_mode": {
    "name": "ipython",
    "version": 3
   },
   "file_extension": ".py",
   "mimetype": "text/x-python",
   "name": "python",
   "nbconvert_exporter": "python",
   "pygments_lexer": "ipython3",
   "version": "3.11.5"
  }
 },
 "nbformat": 4,
 "nbformat_minor": 5
}
