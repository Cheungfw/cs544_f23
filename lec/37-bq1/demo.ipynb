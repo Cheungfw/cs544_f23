{
 "cells": [
  {
   "cell_type": "code",
   "execution_count": 1,
   "id": "a9c411be-2b34-4029-a420-0f995f664374",
   "metadata": {
    "tags": []
   },
   "outputs": [],
   "source": [
    "# pip3 install google-cloud-bigquery google-cloud-bigquery-storage pyarrow tqdm ipywidgets pandas matplotlib db-dtypes"
   ]
  },
  {
   "cell_type": "code",
   "execution_count": 7,
   "id": "2fc4adaa-5b23-44ff-a412-b86b00daec72",
   "metadata": {
    "tags": []
   },
   "outputs": [],
   "source": [
    "from google.cloud import bigquery"
   ]
  },
  {
   "cell_type": "code",
   "execution_count": 3,
   "id": "52d9f510-ee86-487f-a925-b717a89c8488",
   "metadata": {
    "tags": []
   },
   "outputs": [],
   "source": [
    "bq = bigquery.Client()"
   ]
  },
  {
   "cell_type": "code",
   "execution_count": 10,
   "id": "a1db17b0-cffd-4542-9ca5-baf6cc263d83",
   "metadata": {
    "tags": []
   },
   "outputs": [
    {
     "name": "stdout",
     "output_type": "stream",
     "text": [
      "apr24\n",
      "apr25\n",
      "apr26\n",
      "apr28\n",
      "loans1\n",
      "p7\n",
      "test2\n"
     ]
    }
   ],
   "source": [
    "for ds in bq.list_datasets(\"cs320-f21\"):\n",
    "    print(ds.dataset_id)"
   ]
  },
  {
   "cell_type": "code",
   "execution_count": 9,
   "id": "a107829d-42a7-4068-adf6-635ba385bd36",
   "metadata": {
    "tags": []
   },
   "outputs": [
    {
     "data": {
      "text/plain": [
       "Dataset(DatasetReference('cs320-f21', 'apr28'))"
      ]
     },
     "execution_count": 9,
     "metadata": {},
     "output_type": "execute_result"
    }
   ],
   "source": [
    "# NAME:\n",
    "# project.dataset.table\n",
    "dataset = bigquery.Dataset(\"cs320-f21.apr28\")\n",
    "# dataset.location = ...\n",
    "bq.create_dataset(dataset, exists_ok=True)"
   ]
  },
  {
   "cell_type": "code",
   "execution_count": 11,
   "id": "3a091a8e-d97d-4b32-8fa1-f5d2f068e2fe",
   "metadata": {},
   "outputs": [
    {
     "name": "stdout",
     "output_type": "stream",
     "text": [
      "america_health_rankings\n",
      "austin_311\n",
      "austin_bikeshare\n",
      "austin_crime\n",
      "austin_incidents\n",
      "austin_waste\n",
      "baseball\n",
      "bitcoin_blockchain\n",
      "blackhole_database\n",
      "bls\n",
      "bls_qcew\n",
      "breathe\n",
      "broadstreet_adi\n",
      "catalonian_mobile_coverage\n",
      "catalonian_mobile_coverage_eu\n",
      "census_bureau_acs\n",
      "census_bureau_construction\n",
      "census_bureau_international\n",
      "census_bureau_usa\n",
      "census_opportunity_atlas\n",
      "census_utility\n",
      "cfpb_complaints\n",
      "chicago_crime\n",
      "chicago_taxi_trips\n",
      "clemson_dice\n",
      "cloud_storage_geo_index\n",
      "cms_codes\n",
      "cms_medicare\n",
      "cms_synthetic_patient_data_omop\n",
      "country_codes\n",
      "covid19_aha\n",
      "covid19_covidtracking\n",
      "covid19_ecdc\n",
      "covid19_ecdc_eu\n",
      "covid19_genome_sequence\n",
      "covid19_geotab_mobility_impact\n",
      "covid19_geotab_mobility_impact_eu\n",
      "covid19_google_mobility\n",
      "covid19_google_mobility_eu\n",
      "covid19_govt_response\n",
      "covid19_italy\n",
      "covid19_italy_eu\n",
      "covid19_jhu_csse\n",
      "covid19_jhu_csse_eu\n",
      "covid19_nyt\n",
      "covid19_open_data\n",
      "covid19_open_data_eu\n",
      "covid19_public_forecasts\n",
      "covid19_public_forecasts_asia_ne1\n",
      "covid19_rxrx19\n",
      "covid19_symptom_search\n",
      "covid19_tracking\n",
      "covid19_usafacts\n",
      "covid19_vaccination_access\n",
      "covid19_vaccination_search_insights\n",
      "covid19_weathersource_com\n",
      "crypto_band\n",
      "crypto_bitcoin\n",
      "crypto_bitcoin_cash\n",
      "crypto_dash\n",
      "crypto_dogecoin\n",
      "crypto_ethereum\n",
      "crypto_ethereum_classic\n",
      "crypto_iotex\n",
      "crypto_litecoin\n",
      "crypto_polygon\n",
      "crypto_tezos\n",
      "crypto_theta\n",
      "crypto_zcash\n",
      "crypto_zilliqa\n",
      "cymbal_investments\n",
      "dataflix_covid\n",
      "dataflix_traffic_safety\n",
      "deepmind_alphafold\n",
      "deps_dev_v1\n",
      "dimensions_ai_covid19\n",
      "ebi_chembl\n",
      "ebi_surechembl\n",
      "eclipse_megamovie\n",
      "epa_historical_air_quality\n",
      "ethereum_blockchain\n",
      "etsi_technical_standards\n",
      "faa\n",
      "fcc_political_ads\n",
      "fda_drug\n",
      "fda_food\n",
      "fdic_banks\n",
      "fec\n",
      "fhir_synthea\n",
      "ga4_obfuscated_sample_ecommerce\n",
      "gbif\n",
      "gdelt_hathitrustbooks\n",
      "gdelt_internetarchivebooks\n",
      "genomics_cannabis\n",
      "genomics_rice\n",
      "geo_census_blockgroups\n",
      "geo_census_tracts\n",
      "geo_international_ports\n",
      "geo_openstreetmap\n",
      "geo_us_boundaries\n",
      "geo_us_census_places\n",
      "geo_us_roads\n",
      "geo_whos_on_first\n",
      "ghcn_d\n",
      "ghcn_m\n",
      "github_repos\n",
      "gnomAD\n",
      "gnomAD_asiane1\n",
      "gnomAD_eu\n",
      "google_ads\n",
      "google_analytics_sample\n",
      "google_books_ngrams_2020\n",
      "google_cfe\n",
      "google_cloud_release_notes\n",
      "google_dei\n",
      "google_patents_research\n",
      "google_political_ads\n",
      "google_trends\n",
      "grid_ac\n",
      "hacker_news\n",
      "hud_zipcode_crosswalk\n",
      "human_genome_variants\n",
      "human_variant_annotation\n",
      "idc_current\n",
      "idc_current_clinical\n",
      "idc_v1\n",
      "idc_v10\n",
      "idc_v11\n",
      "idc_v11_clinical\n",
      "idc_v12\n",
      "idc_v12_clinical\n",
      "idc_v13\n",
      "idc_v13_clinical\n",
      "idc_v2\n",
      "idc_v3\n",
      "idc_v4\n",
      "idc_v5\n",
      "idc_v6\n",
      "idc_v7\n",
      "idc_v8\n",
      "idc_v9\n",
      "imdb\n",
      "immune_epitope_db\n",
      "iowa_liquor_sales\n",
      "iowa_liquor_sales_forecasting\n",
      "irs_990\n",
      "labeled_patents\n",
      "libraries_io\n",
      "listenbrainz\n",
      "london_bicycles\n",
      "london_crime\n",
      "london_fire_brigade\n",
      "marec\n",
      "medicare\n",
      "ml_datasets\n",
      "ml_datasets_uscentral1\n",
      "modis_terra_net_primary_production\n",
      "moon_phases\n",
      "multilingual_spoken_words_corpus\n",
      "nasa_wildfire\n",
      "ncaa_basketball\n",
      "nces_ipeds\n",
      "new_york\n",
      "new_york_311\n",
      "new_york_citibike\n",
      "new_york_mv_collisions\n",
      "new_york_subway\n",
      "new_york_taxi_trips\n",
      "new_york_trees\n",
      "nhtsa_traffic_fatalities\n",
      "nih_gudid\n",
      "nih_sequence_read\n",
      "nlm_rxnorm\n",
      "noaa_global_forecast_system\n",
      "noaa_goes16\n",
      "noaa_goes17\n",
      "noaa_gsod\n",
      "noaa_historic_severe_storms\n",
      "noaa_hurricanes\n",
      "noaa_icoads\n",
      "noaa_lightning\n",
      "noaa_nwm\n",
      "noaa_passive_acoustic_index\n",
      "noaa_passive_bioacoustic\n",
      "noaa_pifsc_metadata\n",
      "noaa_preliminary_severe_storms\n",
      "noaa_significant_earthquakes\n",
      "noaa_tsunami\n",
      "nppes\n",
      "nrel_nsrdb\n",
      "open_buildings\n",
      "open_images\n",
      "open_targets_genetics\n",
      "open_targets_platform\n",
      "openaq\n",
      "patents\n",
      "patents_cpc\n",
      "patents_dsep\n",
      "patents_view\n",
      "persistent_udfs\n",
      "properati_properties_ar\n",
      "properati_properties_br\n",
      "properati_properties_cl\n",
      "properati_properties_co\n",
      "properati_properties_mx\n",
      "properati_properties_pe\n",
      "properati_properties_uy\n",
      "pypi\n",
      "samples\n",
      "san_francisco\n",
      "san_francisco_311\n",
      "san_francisco_bikeshare\n",
      "san_francisco_film_locations\n",
      "san_francisco_neighborhoods\n",
      "san_francisco_sffd_service_calls\n",
      "san_francisco_sfpd_incidents\n",
      "san_francisco_transit_muni\n",
      "san_francisco_trees\n",
      "sdoh_bea_cainc30\n",
      "sdoh_cdc_wonder_natality\n",
      "sdoh_cms_dual_eligible_enrollment\n",
      "sdoh_hrsa_shortage_areas\n",
      "sdoh_hud_housing\n",
      "sdoh_hud_pit_homelessness\n",
      "sdoh_snap_enrollment\n",
      "sec_quarterly_financials\n",
      "stackoverflow\n",
      "sunroof_solar\n",
      "the_general_index\n",
      "the_met\n",
      "thelook_ecommerce\n",
      "ucb_fung_patent_data\n",
      "umiami_lincs\n",
      "un_sdg\n",
      "us_res_real_est_data\n",
      "usa_contagious_disease\n",
      "usa_names\n",
      "usda_nass_agriculture\n",
      "usfs_fia\n",
      "usitc_investigations\n",
      "uspto_oce_assignment\n",
      "uspto_oce_cancer\n",
      "uspto_oce_claims\n",
      "uspto_oce_litigation\n",
      "uspto_oce_office_actions\n",
      "uspto_oce_pair\n",
      "uspto_ptab\n",
      "utility_eu\n",
      "utility_us\n",
      "wikipedia\n",
      "wise_all_sky_data_release\n",
      "world_bank_global_population\n",
      "world_bank_health_population\n",
      "world_bank_intl_debt\n",
      "world_bank_intl_education\n",
      "world_bank_wdi\n",
      "worldbank_wdi\n",
      "worldpop\n"
     ]
    }
   ],
   "source": [
    "for ds in bq.list_datasets(\"bigquery-public-data\"):\n",
    "    print(ds.dataset_id)"
   ]
  },
  {
   "cell_type": "code",
   "execution_count": 12,
   "id": "d3541f8a-0453-49ee-9161-9d71ead8d759",
   "metadata": {
    "tags": []
   },
   "outputs": [
    {
     "name": "stdout",
     "output_type": "stream",
     "text": [
      "commits\n",
      "contents\n",
      "files\n",
      "languages\n",
      "licenses\n",
      "sample_commits\n",
      "sample_contents\n",
      "sample_files\n",
      "sample_repos\n"
     ]
    }
   ],
   "source": [
    "for t in bq.list_tables(\"bigquery-public-data.github_repos\"):\n",
    "    print(t.table_id)"
   ]
  },
  {
   "cell_type": "code",
   "execution_count": 13,
   "id": "6e8460a9-ee13-47ac-b50d-b5201a921856",
   "metadata": {
    "tags": []
   },
   "outputs": [],
   "source": [
    "%load_ext google.cloud.bigquery"
   ]
  },
  {
   "cell_type": "code",
   "execution_count": 16,
   "id": "b39b8fc6-ed73-439e-934e-a530f5be3d8d",
   "metadata": {
    "tags": []
   },
   "outputs": [
    {
     "data": {
      "application/vnd.jupyter.widget-view+json": {
       "model_id": "e84df316f69f470799be19b3fd62a38f",
       "version_major": 2,
       "version_minor": 0
      },
      "text/plain": [
       "Query is running:   0%|          |"
      ]
     },
     "metadata": {},
     "output_type": "display_data"
    },
    {
     "data": {
      "application/vnd.jupyter.widget-view+json": {
       "model_id": "d53016f5038b4d25b6df1b7a996441fb",
       "version_major": 2,
       "version_minor": 0
      },
      "text/plain": [
       "Downloading:   0%|          |"
      ]
     },
     "metadata": {},
     "output_type": "display_data"
    },
    {
     "data": {
      "text/html": [
       "<div>\n",
       "<style scoped>\n",
       "    .dataframe tbody tr th:only-of-type {\n",
       "        vertical-align: middle;\n",
       "    }\n",
       "\n",
       "    .dataframe tbody tr th {\n",
       "        vertical-align: top;\n",
       "    }\n",
       "\n",
       "    .dataframe thead th {\n",
       "        text-align: right;\n",
       "    }\n",
       "</style>\n",
       "<table border=\"1\" class=\"dataframe\">\n",
       "  <thead>\n",
       "    <tr style=\"text-align: right;\">\n",
       "      <th></th>\n",
       "      <th>repo_name</th>\n",
       "      <th>language</th>\n",
       "    </tr>\n",
       "  </thead>\n",
       "  <tbody>\n",
       "    <tr>\n",
       "      <th>0</th>\n",
       "      <td>lemi136/puntovent</td>\n",
       "      <td>[{'name': 'C', 'bytes': 80}]</td>\n",
       "    </tr>\n",
       "    <tr>\n",
       "      <th>1</th>\n",
       "      <td>taxigps/nctool</td>\n",
       "      <td>[{'name': 'C', 'bytes': 4461}]</td>\n",
       "    </tr>\n",
       "    <tr>\n",
       "      <th>2</th>\n",
       "      <td>ahy1/strbuf</td>\n",
       "      <td>[{'name': 'C', 'bytes': 5573}]</td>\n",
       "    </tr>\n",
       "    <tr>\n",
       "      <th>3</th>\n",
       "      <td>nleiten/mod_rpaf-ng</td>\n",
       "      <td>[{'name': 'C', 'bytes': 30330}]</td>\n",
       "    </tr>\n",
       "    <tr>\n",
       "      <th>4</th>\n",
       "      <td>kmcallister/alameda</td>\n",
       "      <td>[{'name': 'C', 'bytes': 17077}]</td>\n",
       "    </tr>\n",
       "  </tbody>\n",
       "</table>\n",
       "</div>"
      ],
      "text/plain": [
       "             repo_name                         language\n",
       "0    lemi136/puntovent     [{'name': 'C', 'bytes': 80}]\n",
       "1       taxigps/nctool   [{'name': 'C', 'bytes': 4461}]\n",
       "2          ahy1/strbuf   [{'name': 'C', 'bytes': 5573}]\n",
       "3  nleiten/mod_rpaf-ng  [{'name': 'C', 'bytes': 30330}]\n",
       "4  kmcallister/alameda  [{'name': 'C', 'bytes': 17077}]"
      ]
     },
     "execution_count": 16,
     "metadata": {},
     "output_type": "execute_result"
    }
   ],
   "source": [
    "%%bigquery\n",
    "SELECT repo_name, language\n",
    "FROM bigquery-public-data.github_repos.languages\n",
    "LIMIT 5"
   ]
  },
  {
   "cell_type": "code",
   "execution_count": 17,
   "id": "baca8d89-f53b-4b37-837b-bddfc5c45318",
   "metadata": {
    "tags": []
   },
   "outputs": [
    {
     "data": {
      "application/vnd.jupyter.widget-view+json": {
       "model_id": "98db23a08ba84326b787ffda3c3986cb",
       "version_major": 2,
       "version_minor": 0
      },
      "text/plain": [
       "Query is running:   0%|          |"
      ]
     },
     "metadata": {},
     "output_type": "display_data"
    },
    {
     "data": {
      "application/vnd.jupyter.widget-view+json": {
       "model_id": "1414fa31e5934ef98dd790c599331737",
       "version_major": 2,
       "version_minor": 0
      },
      "text/plain": [
       "Downloading:   0%|          |"
      ]
     },
     "metadata": {},
     "output_type": "display_data"
    }
   ],
   "source": [
    "%%bigquery df\n",
    "SELECT repo_name, language\n",
    "FROM bigquery-public-data.github_repos.languages\n",
    "LIMIT 5"
   ]
  },
  {
   "cell_type": "code",
   "execution_count": 18,
   "id": "56dcce71-cdb0-4bb1-aff5-d547128d90eb",
   "metadata": {
    "tags": []
   },
   "outputs": [
    {
     "data": {
      "text/html": [
       "<div>\n",
       "<style scoped>\n",
       "    .dataframe tbody tr th:only-of-type {\n",
       "        vertical-align: middle;\n",
       "    }\n",
       "\n",
       "    .dataframe tbody tr th {\n",
       "        vertical-align: top;\n",
       "    }\n",
       "\n",
       "    .dataframe thead th {\n",
       "        text-align: right;\n",
       "    }\n",
       "</style>\n",
       "<table border=\"1\" class=\"dataframe\">\n",
       "  <thead>\n",
       "    <tr style=\"text-align: right;\">\n",
       "      <th></th>\n",
       "      <th>repo_name</th>\n",
       "      <th>language</th>\n",
       "    </tr>\n",
       "  </thead>\n",
       "  <tbody>\n",
       "    <tr>\n",
       "      <th>0</th>\n",
       "      <td>lemi136/puntovent</td>\n",
       "      <td>[{'name': 'C', 'bytes': 80}]</td>\n",
       "    </tr>\n",
       "    <tr>\n",
       "      <th>1</th>\n",
       "      <td>taxigps/nctool</td>\n",
       "      <td>[{'name': 'C', 'bytes': 4461}]</td>\n",
       "    </tr>\n",
       "    <tr>\n",
       "      <th>2</th>\n",
       "      <td>ahy1/strbuf</td>\n",
       "      <td>[{'name': 'C', 'bytes': 5573}]</td>\n",
       "    </tr>\n",
       "    <tr>\n",
       "      <th>3</th>\n",
       "      <td>nleiten/mod_rpaf-ng</td>\n",
       "      <td>[{'name': 'C', 'bytes': 30330}]</td>\n",
       "    </tr>\n",
       "    <tr>\n",
       "      <th>4</th>\n",
       "      <td>kmcallister/alameda</td>\n",
       "      <td>[{'name': 'C', 'bytes': 17077}]</td>\n",
       "    </tr>\n",
       "  </tbody>\n",
       "</table>\n",
       "</div>"
      ],
      "text/plain": [
       "             repo_name                         language\n",
       "0    lemi136/puntovent     [{'name': 'C', 'bytes': 80}]\n",
       "1       taxigps/nctool   [{'name': 'C', 'bytes': 4461}]\n",
       "2          ahy1/strbuf   [{'name': 'C', 'bytes': 5573}]\n",
       "3  nleiten/mod_rpaf-ng  [{'name': 'C', 'bytes': 30330}]\n",
       "4  kmcallister/alameda  [{'name': 'C', 'bytes': 17077}]"
      ]
     },
     "execution_count": 18,
     "metadata": {},
     "output_type": "execute_result"
    }
   ],
   "source": [
    "df"
   ]
  },
  {
   "cell_type": "markdown",
   "id": "bae9fc94-3158-4f23-b10e-32c6d908c198",
   "metadata": {},
   "source": [
    "# Billing"
   ]
  },
  {
   "cell_type": "code",
   "execution_count": 24,
   "id": "2bc329be-66a5-46b3-bf2d-c2fac742b9b5",
   "metadata": {
    "tags": []
   },
   "outputs": [],
   "source": [
    "no_cache = bigquery.QueryJobConfig(use_query_cache=False)"
   ]
  },
  {
   "cell_type": "code",
   "execution_count": 25,
   "id": "41ff1605-ed20-4fb7-87f0-42bc2a61cbca",
   "metadata": {
    "tags": []
   },
   "outputs": [
    {
     "data": {
      "text/html": [
       "<div>\n",
       "<style scoped>\n",
       "    .dataframe tbody tr th:only-of-type {\n",
       "        vertical-align: middle;\n",
       "    }\n",
       "\n",
       "    .dataframe tbody tr th {\n",
       "        vertical-align: top;\n",
       "    }\n",
       "\n",
       "    .dataframe thead th {\n",
       "        text-align: right;\n",
       "    }\n",
       "</style>\n",
       "<table border=\"1\" class=\"dataframe\">\n",
       "  <thead>\n",
       "    <tr style=\"text-align: right;\">\n",
       "      <th></th>\n",
       "      <th>repo_name</th>\n",
       "      <th>language</th>\n",
       "    </tr>\n",
       "  </thead>\n",
       "  <tbody>\n",
       "    <tr>\n",
       "      <th>0</th>\n",
       "      <td>lemi136/puntovent</td>\n",
       "      <td>[{'name': 'C', 'bytes': 80}]</td>\n",
       "    </tr>\n",
       "    <tr>\n",
       "      <th>1</th>\n",
       "      <td>taxigps/nctool</td>\n",
       "      <td>[{'name': 'C', 'bytes': 4461}]</td>\n",
       "    </tr>\n",
       "    <tr>\n",
       "      <th>2</th>\n",
       "      <td>ahy1/strbuf</td>\n",
       "      <td>[{'name': 'C', 'bytes': 5573}]</td>\n",
       "    </tr>\n",
       "    <tr>\n",
       "      <th>3</th>\n",
       "      <td>nleiten/mod_rpaf-ng</td>\n",
       "      <td>[{'name': 'C', 'bytes': 30330}]</td>\n",
       "    </tr>\n",
       "    <tr>\n",
       "      <th>4</th>\n",
       "      <td>kmcallister/alameda</td>\n",
       "      <td>[{'name': 'C', 'bytes': 17077}]</td>\n",
       "    </tr>\n",
       "  </tbody>\n",
       "</table>\n",
       "</div>"
      ],
      "text/plain": [
       "             repo_name                         language\n",
       "0    lemi136/puntovent     [{'name': 'C', 'bytes': 80}]\n",
       "1       taxigps/nctool   [{'name': 'C', 'bytes': 4461}]\n",
       "2          ahy1/strbuf   [{'name': 'C', 'bytes': 5573}]\n",
       "3  nleiten/mod_rpaf-ng  [{'name': 'C', 'bytes': 30330}]\n",
       "4  kmcallister/alameda  [{'name': 'C', 'bytes': 17077}]"
      ]
     },
     "execution_count": 25,
     "metadata": {},
     "output_type": "execute_result"
    }
   ],
   "source": [
    "q = bq.query(\"\"\"\n",
    "SELECT repo_name, language\n",
    "FROM bigquery-public-data.github_repos.languages\n",
    "LIMIT 5\n",
    "\"\"\", job_config=no_cache)\n",
    "q.to_dataframe()"
   ]
  },
  {
   "cell_type": "code",
   "execution_count": 26,
   "id": "eda40506-dafc-4005-9943-938328ace6dd",
   "metadata": {
    "tags": []
   },
   "outputs": [
    {
     "data": {
      "text/plain": [
       "(194.93627738952637, 195.0)"
      ]
     },
     "execution_count": 26,
     "metadata": {},
     "output_type": "execute_result"
    }
   ],
   "source": [
    "# MB\n",
    "q.total_bytes_processed / 1024**2, q.total_bytes_billed / 1024**2"
   ]
  },
  {
   "cell_type": "code",
   "execution_count": 27,
   "id": "a3b1e9af-a6ea-4bce-934f-030940d9705a",
   "metadata": {
    "tags": []
   },
   "outputs": [
    {
     "data": {
      "text/plain": [
       "False"
      ]
     },
     "execution_count": 27,
     "metadata": {},
     "output_type": "execute_result"
    }
   ],
   "source": [
    "q.cache_hit"
   ]
  },
  {
   "cell_type": "code",
   "execution_count": 28,
   "id": "491cbfbc-b5ea-452f-974e-022b8555779f",
   "metadata": {
    "tags": []
   },
   "outputs": [
    {
     "data": {
      "text/plain": [
       "5377.3128205128205"
      ]
     },
     "execution_count": 28,
     "metadata": {},
     "output_type": "execute_result"
    }
   ],
   "source": [
    "# how many times can I run it for free?\n",
    "# 1 TB / how many bytes we're charged for\n",
    "1024**4 / q.total_bytes_billed"
   ]
  },
  {
   "cell_type": "code",
   "execution_count": 29,
   "id": "7bbf3270-3fe2-4755-b701-1fa76cc446f2",
   "metadata": {
    "tags": []
   },
   "outputs": [
    {
     "data": {
      "text/plain": [
       "0.0011157989501953125"
      ]
     },
     "execution_count": 29,
     "metadata": {},
     "output_type": "execute_result"
    }
   ],
   "source": [
    "# after the free tier, what does it cost in Tokyo?\n",
    "6 * (q.total_bytes_billed / 1024**4)"
   ]
  },
  {
   "cell_type": "code",
   "execution_count": null,
   "id": "2cd7d3b7-7c39-4b0d-b4e0-e7a241f835ef",
   "metadata": {},
   "outputs": [],
   "source": [
    "# other factors:\n",
    "# 1. pay for storage\n",
    "# 2. queries round up to nearest 1 MB\n",
    "# 3. there's a minimum of 10 MB per query"
   ]
  },
  {
   "cell_type": "code",
   "execution_count": 30,
   "id": "773da279-2daa-4512-a9cb-35b7b1809e35",
   "metadata": {
    "tags": []
   },
   "outputs": [
    {
     "data": {
      "text/html": [
       "<div>\n",
       "<style scoped>\n",
       "    .dataframe tbody tr th:only-of-type {\n",
       "        vertical-align: middle;\n",
       "    }\n",
       "\n",
       "    .dataframe tbody tr th {\n",
       "        vertical-align: top;\n",
       "    }\n",
       "\n",
       "    .dataframe thead th {\n",
       "        text-align: right;\n",
       "    }\n",
       "</style>\n",
       "<table border=\"1\" class=\"dataframe\">\n",
       "  <thead>\n",
       "    <tr style=\"text-align: right;\">\n",
       "      <th></th>\n",
       "      <th>repo_name</th>\n",
       "      <th>language</th>\n",
       "    </tr>\n",
       "  </thead>\n",
       "  <tbody>\n",
       "    <tr>\n",
       "      <th>0</th>\n",
       "      <td>open-lambda/open-lambda</td>\n",
       "      <td>[{'name': 'C', 'bytes': 31159}, {'name': 'Dock...</td>\n",
       "    </tr>\n",
       "    <tr>\n",
       "      <th>1</th>\n",
       "      <td>open-lambda/load-balancer</td>\n",
       "      <td>[{'name': 'C', 'bytes': 210}, {'name': 'Go', '...</td>\n",
       "    </tr>\n",
       "  </tbody>\n",
       "</table>\n",
       "</div>"
      ],
      "text/plain": [
       "                   repo_name   \n",
       "0    open-lambda/open-lambda  \\\n",
       "1  open-lambda/load-balancer   \n",
       "\n",
       "                                            language  \n",
       "0  [{'name': 'C', 'bytes': 31159}, {'name': 'Dock...  \n",
       "1  [{'name': 'C', 'bytes': 210}, {'name': 'Go', '...  "
      ]
     },
     "execution_count": 30,
     "metadata": {},
     "output_type": "execute_result"
    }
   ],
   "source": [
    "q = bq.query(\"\"\"\n",
    "SELECT repo_name, language\n",
    "FROM bigquery-public-data.github_repos.languages\n",
    "WHERE repo_name LIKE 'open-lambda/%'\n",
    "LIMIT 5\n",
    "\"\"\", job_config=no_cache)\n",
    "q.to_dataframe()"
   ]
  },
  {
   "cell_type": "raw",
   "id": "820c08f4-329f-4ddd-a42e-ed9b09879e9a",
   "metadata": {},
   "source": [
    "x,y\n",
    "1,[\"x\"]\n",
    "2,[\"y\", \"z\"]\n",
    "\n",
    "Approx output:\n",
    "1,\"x\"\n",
    "2,\"y\"\n",
    "2,\"z\""
   ]
  },
  {
   "cell_type": "code",
   "execution_count": 33,
   "id": "7b688810-43f1-4528-a86f-9b73fc7b68a9",
   "metadata": {
    "tags": []
   },
   "outputs": [
    {
     "data": {
      "text/html": [
       "<div>\n",
       "<style scoped>\n",
       "    .dataframe tbody tr th:only-of-type {\n",
       "        vertical-align: middle;\n",
       "    }\n",
       "\n",
       "    .dataframe tbody tr th {\n",
       "        vertical-align: top;\n",
       "    }\n",
       "\n",
       "    .dataframe thead th {\n",
       "        text-align: right;\n",
       "    }\n",
       "</style>\n",
       "<table border=\"1\" class=\"dataframe\">\n",
       "  <thead>\n",
       "    <tr style=\"text-align: right;\">\n",
       "      <th></th>\n",
       "      <th>repo_name</th>\n",
       "      <th>name</th>\n",
       "      <th>bytes</th>\n",
       "    </tr>\n",
       "  </thead>\n",
       "  <tbody>\n",
       "    <tr>\n",
       "      <th>0</th>\n",
       "      <td>open-lambda/open-lambda</td>\n",
       "      <td>C</td>\n",
       "      <td>31159</td>\n",
       "    </tr>\n",
       "    <tr>\n",
       "      <th>1</th>\n",
       "      <td>open-lambda/open-lambda</td>\n",
       "      <td>Dockerfile</td>\n",
       "      <td>1220</td>\n",
       "    </tr>\n",
       "    <tr>\n",
       "      <th>2</th>\n",
       "      <td>open-lambda/open-lambda</td>\n",
       "      <td>Go</td>\n",
       "      <td>205702</td>\n",
       "    </tr>\n",
       "    <tr>\n",
       "      <th>3</th>\n",
       "      <td>open-lambda/open-lambda</td>\n",
       "      <td>Makefile</td>\n",
       "      <td>3474</td>\n",
       "    </tr>\n",
       "    <tr>\n",
       "      <th>4</th>\n",
       "      <td>open-lambda/open-lambda</td>\n",
       "      <td>Python</td>\n",
       "      <td>63477</td>\n",
       "    </tr>\n",
       "    <tr>\n",
       "      <th>5</th>\n",
       "      <td>open-lambda/open-lambda</td>\n",
       "      <td>Rust</td>\n",
       "      <td>45352</td>\n",
       "    </tr>\n",
       "    <tr>\n",
       "      <th>6</th>\n",
       "      <td>open-lambda/open-lambda</td>\n",
       "      <td>Shell</td>\n",
       "      <td>1182</td>\n",
       "    </tr>\n",
       "    <tr>\n",
       "      <th>7</th>\n",
       "      <td>open-lambda/load-balancer</td>\n",
       "      <td>C</td>\n",
       "      <td>210</td>\n",
       "    </tr>\n",
       "    <tr>\n",
       "      <th>8</th>\n",
       "      <td>open-lambda/load-balancer</td>\n",
       "      <td>Go</td>\n",
       "      <td>29312</td>\n",
       "    </tr>\n",
       "    <tr>\n",
       "      <th>9</th>\n",
       "      <td>open-lambda/load-balancer</td>\n",
       "      <td>Makefile</td>\n",
       "      <td>1105</td>\n",
       "    </tr>\n",
       "  </tbody>\n",
       "</table>\n",
       "</div>"
      ],
      "text/plain": [
       "                   repo_name        name   bytes\n",
       "0    open-lambda/open-lambda           C   31159\n",
       "1    open-lambda/open-lambda  Dockerfile    1220\n",
       "2    open-lambda/open-lambda          Go  205702\n",
       "3    open-lambda/open-lambda    Makefile    3474\n",
       "4    open-lambda/open-lambda      Python   63477\n",
       "5    open-lambda/open-lambda        Rust   45352\n",
       "6    open-lambda/open-lambda       Shell    1182\n",
       "7  open-lambda/load-balancer           C     210\n",
       "8  open-lambda/load-balancer          Go   29312\n",
       "9  open-lambda/load-balancer    Makefile    1105"
      ]
     },
     "execution_count": 33,
     "metadata": {},
     "output_type": "execute_result"
    }
   ],
   "source": [
    "q = bq.query(\"\"\"\n",
    "SELECT repo_name, name, bytes\n",
    "FROM \n",
    "    bigquery-public-data.github_repos.languages, UNNEST(languages.language)\n",
    "WHERE repo_name LIKE 'open-lambda/%'\n",
    "\"\"\", job_config=no_cache)\n",
    "q.to_dataframe()"
   ]
  },
  {
   "cell_type": "code",
   "execution_count": null,
   "id": "2da03675-841c-45af-9b29-a76c57bde681",
   "metadata": {},
   "outputs": [],
   "source": [
    "# how often is C used with Dockerfiles?"
   ]
  },
  {
   "cell_type": "code",
   "execution_count": 35,
   "id": "7b198aca-2a63-4846-9202-4576e238d855",
   "metadata": {
    "tags": []
   },
   "outputs": [
    {
     "data": {
      "text/html": [
       "<div>\n",
       "<style scoped>\n",
       "    .dataframe tbody tr th:only-of-type {\n",
       "        vertical-align: middle;\n",
       "    }\n",
       "\n",
       "    .dataframe tbody tr th {\n",
       "        vertical-align: top;\n",
       "    }\n",
       "\n",
       "    .dataframe thead th {\n",
       "        text-align: right;\n",
       "    }\n",
       "</style>\n",
       "<table border=\"1\" class=\"dataframe\">\n",
       "  <thead>\n",
       "    <tr style=\"text-align: right;\">\n",
       "      <th></th>\n",
       "      <th>repo_name</th>\n",
       "      <th>name</th>\n",
       "      <th>name_1</th>\n",
       "    </tr>\n",
       "  </thead>\n",
       "  <tbody>\n",
       "    <tr>\n",
       "      <th>0</th>\n",
       "      <td>open-lambda/open-lambda</td>\n",
       "      <td>C</td>\n",
       "      <td>Dockerfile</td>\n",
       "    </tr>\n",
       "  </tbody>\n",
       "</table>\n",
       "</div>"
      ],
      "text/plain": [
       "                 repo_name name      name_1\n",
       "0  open-lambda/open-lambda    C  Dockerfile"
      ]
     },
     "execution_count": 35,
     "metadata": {},
     "output_type": "execute_result"
    }
   ],
   "source": [
    "q = bq.query(\"\"\"\n",
    "SELECT repo_name, L1.name, L2.name\n",
    "FROM \n",
    "    bigquery-public-data.github_repos.languages,\n",
    "    UNNEST(languages.language) AS L1,\n",
    "    UNNEST(languages.language) AS L2\n",
    "WHERE repo_name LIKE 'open-lambda/%'\n",
    "AND L1.name = 'C' AND L2.name = 'Dockerfile'\n",
    "\"\"\", job_config=no_cache)\n",
    "q.to_dataframe()"
   ]
  },
  {
   "cell_type": "code",
   "execution_count": 36,
   "id": "35243e39-25d7-4253-8f5e-33bb8e1865ac",
   "metadata": {
    "tags": []
   },
   "outputs": [
    {
     "data": {
      "text/html": [
       "<div>\n",
       "<style scoped>\n",
       "    .dataframe tbody tr th:only-of-type {\n",
       "        vertical-align: middle;\n",
       "    }\n",
       "\n",
       "    .dataframe tbody tr th {\n",
       "        vertical-align: top;\n",
       "    }\n",
       "\n",
       "    .dataframe thead th {\n",
       "        text-align: right;\n",
       "    }\n",
       "</style>\n",
       "<table border=\"1\" class=\"dataframe\">\n",
       "  <thead>\n",
       "    <tr style=\"text-align: right;\">\n",
       "      <th></th>\n",
       "      <th>name</th>\n",
       "      <th>count</th>\n",
       "    </tr>\n",
       "  </thead>\n",
       "  <tbody>\n",
       "    <tr>\n",
       "      <th>0</th>\n",
       "      <td>JavaScript</td>\n",
       "      <td>1099966</td>\n",
       "    </tr>\n",
       "    <tr>\n",
       "      <th>1</th>\n",
       "      <td>CSS</td>\n",
       "      <td>807826</td>\n",
       "    </tr>\n",
       "    <tr>\n",
       "      <th>2</th>\n",
       "      <td>HTML</td>\n",
       "      <td>777433</td>\n",
       "    </tr>\n",
       "    <tr>\n",
       "      <th>3</th>\n",
       "      <td>Shell</td>\n",
       "      <td>640886</td>\n",
       "    </tr>\n",
       "    <tr>\n",
       "      <th>4</th>\n",
       "      <td>Python</td>\n",
       "      <td>550905</td>\n",
       "    </tr>\n",
       "    <tr>\n",
       "      <th>5</th>\n",
       "      <td>Ruby</td>\n",
       "      <td>374276</td>\n",
       "    </tr>\n",
       "    <tr>\n",
       "      <th>6</th>\n",
       "      <td>Java</td>\n",
       "      <td>369673</td>\n",
       "    </tr>\n",
       "    <tr>\n",
       "      <th>7</th>\n",
       "      <td>PHP</td>\n",
       "      <td>339426</td>\n",
       "    </tr>\n",
       "    <tr>\n",
       "      <th>8</th>\n",
       "      <td>C</td>\n",
       "      <td>293231</td>\n",
       "    </tr>\n",
       "    <tr>\n",
       "      <th>9</th>\n",
       "      <td>C++</td>\n",
       "      <td>277871</td>\n",
       "    </tr>\n",
       "    <tr>\n",
       "      <th>10</th>\n",
       "      <td>Makefile</td>\n",
       "      <td>251366</td>\n",
       "    </tr>\n",
       "    <tr>\n",
       "      <th>11</th>\n",
       "      <td>Objective-C</td>\n",
       "      <td>166961</td>\n",
       "    </tr>\n",
       "    <tr>\n",
       "      <th>12</th>\n",
       "      <td>C#</td>\n",
       "      <td>133110</td>\n",
       "    </tr>\n",
       "    <tr>\n",
       "      <th>13</th>\n",
       "      <td>Perl</td>\n",
       "      <td>101533</td>\n",
       "    </tr>\n",
       "    <tr>\n",
       "      <th>14</th>\n",
       "      <td>Batchfile</td>\n",
       "      <td>97868</td>\n",
       "    </tr>\n",
       "    <tr>\n",
       "      <th>15</th>\n",
       "      <td>Go</td>\n",
       "      <td>91867</td>\n",
       "    </tr>\n",
       "    <tr>\n",
       "      <th>16</th>\n",
       "      <td>CoffeeScript</td>\n",
       "      <td>68589</td>\n",
       "    </tr>\n",
       "    <tr>\n",
       "      <th>17</th>\n",
       "      <td>ApacheConf</td>\n",
       "      <td>68500</td>\n",
       "    </tr>\n",
       "    <tr>\n",
       "      <th>18</th>\n",
       "      <td>CMake</td>\n",
       "      <td>56754</td>\n",
       "    </tr>\n",
       "    <tr>\n",
       "      <th>19</th>\n",
       "      <td>TypeScript</td>\n",
       "      <td>48027</td>\n",
       "    </tr>\n",
       "  </tbody>\n",
       "</table>\n",
       "</div>"
      ],
      "text/plain": [
       "            name    count\n",
       "0     JavaScript  1099966\n",
       "1            CSS   807826\n",
       "2           HTML   777433\n",
       "3          Shell   640886\n",
       "4         Python   550905\n",
       "5           Ruby   374276\n",
       "6           Java   369673\n",
       "7            PHP   339426\n",
       "8              C   293231\n",
       "9            C++   277871\n",
       "10      Makefile   251366\n",
       "11   Objective-C   166961\n",
       "12            C#   133110\n",
       "13          Perl   101533\n",
       "14     Batchfile    97868\n",
       "15            Go    91867\n",
       "16  CoffeeScript    68589\n",
       "17    ApacheConf    68500\n",
       "18         CMake    56754\n",
       "19    TypeScript    48027"
      ]
     },
     "execution_count": 36,
     "metadata": {},
     "output_type": "execute_result"
    }
   ],
   "source": [
    "# what are the most common languages on GitHub?\n",
    "q = bq.query(\"\"\"\n",
    "SELECT name, COUNT(*) as count\n",
    "FROM bigquery-public-data.github_repos.languages, UNNEST(languages.language)\n",
    "GROUP BY name\n",
    "ORDER BY count DESC\n",
    "LIMIT 20\n",
    "\"\"\", job_config=no_cache)\n",
    "df = q.to_dataframe()\n",
    "df"
   ]
  },
  {
   "cell_type": "code",
   "execution_count": 42,
   "id": "ea60cf74-ac03-4d5f-b955-4b0a399c21d9",
   "metadata": {
    "tags": []
   },
   "outputs": [
    {
     "data": {
      "text/plain": [
       "Text(0, 0.5, 'Repo Count (Millions)')"
      ]
     },
     "execution_count": 42,
     "metadata": {},
     "output_type": "execute_result"
    },
    {
     "data": {
      "image/png": "[encoded data removed]",
      "text/plain": [
       "<Figure size 640x480 with 1 Axes>"
      ]
     },
     "metadata": {},
     "output_type": "display_data"
    }
   ],
   "source": [
    "ax = (df.set_index(\"name\") / 1e6).plot.bar()\n",
    "ax.set_ylabel(\"Repo Count (Millions)\")"
   ]
  },
  {
   "cell_type": "code",
   "execution_count": 44,
   "id": "21aeeb17-1346-4cf8-b7f9-0d7d7f155fcd",
   "metadata": {
    "tags": []
   },
   "outputs": [
    {
     "data": {
      "text/html": [
       "<div>\n",
       "<style scoped>\n",
       "    .dataframe tbody tr th:only-of-type {\n",
       "        vertical-align: middle;\n",
       "    }\n",
       "\n",
       "    .dataframe tbody tr th {\n",
       "        vertical-align: top;\n",
       "    }\n",
       "\n",
       "    .dataframe thead th {\n",
       "        text-align: right;\n",
       "    }\n",
       "</style>\n",
       "<table border=\"1\" class=\"dataframe\">\n",
       "  <thead>\n",
       "    <tr style=\"text-align: right;\">\n",
       "      <th></th>\n",
       "      <th>license</th>\n",
       "      <th>count</th>\n",
       "    </tr>\n",
       "  </thead>\n",
       "  <tbody>\n",
       "    <tr>\n",
       "      <th>0</th>\n",
       "      <td>mit</td>\n",
       "      <td>3603080</td>\n",
       "    </tr>\n",
       "    <tr>\n",
       "      <th>1</th>\n",
       "      <td>apache-2.0</td>\n",
       "      <td>1180687</td>\n",
       "    </tr>\n",
       "    <tr>\n",
       "      <th>2</th>\n",
       "      <td>gpl-2.0</td>\n",
       "      <td>1089260</td>\n",
       "    </tr>\n",
       "  </tbody>\n",
       "</table>\n",
       "</div>"
      ],
      "text/plain": [
       "      license    count\n",
       "0         mit  3603080\n",
       "1  apache-2.0  1180687\n",
       "2     gpl-2.0  1089260"
      ]
     },
     "execution_count": 44,
     "metadata": {},
     "output_type": "execute_result"
    }
   ],
   "source": [
    "# what software licenses are most popular on repos that use Python?\n",
    "q = bq.query(\"\"\"\n",
    "SELECT license, COUNT(*) as count\n",
    "FROM \n",
    "    bigquery-public-data.github_repos.languages,\n",
    "    UNNEST(languages.language)\n",
    "    INNER JOIN bigquery-public-data.github_repos.licenses ON languages.repo_name = licenses.repo_name\n",
    "GROUP BY license\n",
    "ORDER BY count DESC\n",
    "LIMIT 20\n",
    "\"\"\", job_config=no_cache)\n",
    "df = q.to_dataframe()\n",
    "df.head(3)"
   ]
  },
  {
   "cell_type": "code",
   "execution_count": 46,
   "id": "b9191937-66b2-43e4-98a3-11ca8792a3e1",
   "metadata": {
    "tags": []
   },
   "outputs": [
    {
     "data": {
      "text/plain": [
       "<Axes: xlabel='license'>"
      ]
     },
     "execution_count": 46,
     "metadata": {},
     "output_type": "execute_result"
    },
    {
     "data": {
      "image/png": "[encoded data removed]",
      "text/plain": [
       "<Figure size 640x480 with 1 Axes>"
      ]
     },
     "metadata": {},
     "output_type": "display_data"
    }
   ],
   "source": [
    "df.set_index(\"license\").plot.bar()"
   ]
  },
  {
   "cell_type": "markdown",
   "id": "2b53beee-24a3-4528-b456-ab4501cd9da2",
   "metadata": {},
   "source": [
    "# Data Sources"
   ]
  },
  {
   "cell_type": "code",
   "execution_count": 47,
   "id": "c63f873a-022b-4a22-b21f-29f029566444",
   "metadata": {
    "tags": []
   },
   "outputs": [],
   "source": [
    "# gs://apr26/hdma-wi-2021.parquet"
   ]
  },
  {
   "cell_type": "code",
   "execution_count": 48,
   "id": "4adc01f2-d54d-466b-8b6d-6aab63aabc95",
   "metadata": {
    "tags": []
   },
   "outputs": [
    {
     "data": {
      "text/plain": [
       "LoadJob<project=cs320-f21, location=US, id=1d535aec-99e8-433a-96d6-a8f38026b015>"
      ]
     },
     "execution_count": 48,
     "metadata": {},
     "output_type": "execute_result"
    }
   ],
   "source": [
    "# example 1: regular BQ table\n",
    "config = bigquery.LoadJobConfig(source_format=\"PARQUET\", write_disposition=\"WRITE_TRUNCATE\")\n",
    "job = bq.load_table_from_uri([\"gs://apr26/hdma-wi-2021.parquet\"],\n",
    "                             \"cs320-f21.apr28.loans\", job_config=config)\n",
    "job.result()"
   ]
  },
  {
   "cell_type": "code",
   "execution_count": 49,
   "id": "84953036-ef13-4847-bea6-3789dbc500d4",
   "metadata": {
    "tags": []
   },
   "outputs": [
    {
     "data": {
      "text/plain": [
       "Table(TableReference(DatasetReference('cs320-f21', 'apr28'), 'loans-external'))"
      ]
     },
     "execution_count": 49,
     "metadata": {},
     "output_type": "execute_result"
    }
   ],
   "source": [
    "# example 2: external table in Google Cloud Storage\n",
    "config = bigquery.ExternalConfig(\"PARQUET\")\n",
    "config.source_uris = [\"gs://apr26/hdma-wi-2021.parquet\"]\n",
    "# config.autodetect = True\n",
    "table = bigquery.Table(\"cs320-f21.apr28.loans-external\")\n",
    "table.external_data_configuration = config\n",
    "bq.create_table(table, exists_ok=True)"
   ]
  },
  {
   "cell_type": "code",
   "execution_count": null,
   "id": "b58d2cd7-1a95-4e00-95e1-c11e48f0f961",
   "metadata": {},
   "outputs": [],
   "source": [
    "# https://docs.google.com/spreadsheets/d/1e2qLPyxZ7s5ibMyEg7bxX2wWYAQD2ROAUcZuv8fqhnA/edit#gid=2129344515"
   ]
  },
  {
   "cell_type": "code",
   "execution_count": 50,
   "id": "43bd1163-4294-47a1-98d7-8933a93751bb",
   "metadata": {
    "tags": []
   },
   "outputs": [
    {
     "data": {
      "text/plain": [
       "Table(TableReference(DatasetReference('cs320-f21', 'apr28'), 'applications'))"
      ]
     },
     "execution_count": 50,
     "metadata": {},
     "output_type": "execute_result"
    }
   ],
   "source": [
    "# example 3: external table in Google Sheets\n",
    "config = bigquery.ExternalConfig(\"GOOGLE_SHEETS\")\n",
    "config.source_uris = [\"https://docs.google.com/spreadsheets/d/1e2qLPyxZ7s5ibMyEg7bxX2wWYAQD2ROAUcZuv8fqhnA\"]\n",
    "config.autodetect = True\n",
    "table = bigquery.Table(\"cs320-f21.apr28.applications\")\n",
    "table.external_data_configuration = config\n",
    "bq.create_table(table, exists_ok=True)"
   ]
  },
  {
   "cell_type": "code",
   "execution_count": 51,
   "id": "9512cfce-3561-4718-910f-fb60143a4e39",
   "metadata": {
    "tags": []
   },
   "outputs": [
    {
     "data": {
      "application/vnd.jupyter.widget-view+json": {
       "model_id": "ea35dc3a0781416eb52d046d0cbe93a3",
       "version_major": 2,
       "version_minor": 0
      },
      "text/plain": [
       "Query is running:   0%|          |"
      ]
     },
     "metadata": {},
     "output_type": "display_data"
    },
    {
     "data": {
      "application/vnd.jupyter.widget-view+json": {
       "model_id": "05a86365dac54857a7b607152cfda177",
       "version_major": 2,
       "version_minor": 0
      },
      "text/plain": [
       "Downloading:   0%|          |"
      ]
     },
     "metadata": {},
     "output_type": "display_data"
    },
    {
     "data": {
      "text/html": [
       "<div>\n",
       "<style scoped>\n",
       "    .dataframe tbody tr th:only-of-type {\n",
       "        vertical-align: middle;\n",
       "    }\n",
       "\n",
       "    .dataframe tbody tr th {\n",
       "        vertical-align: top;\n",
       "    }\n",
       "\n",
       "    .dataframe thead th {\n",
       "        text-align: right;\n",
       "    }\n",
       "</style>\n",
       "<table border=\"1\" class=\"dataframe\">\n",
       "  <thead>\n",
       "    <tr style=\"text-align: right;\">\n",
       "      <th></th>\n",
       "      <th>Timestamp</th>\n",
       "      <th>loan_amount</th>\n",
       "      <th>income</th>\n",
       "      <th>latitude</th>\n",
       "      <th>longitude</th>\n",
       "    </tr>\n",
       "  </thead>\n",
       "  <tbody>\n",
       "    <tr>\n",
       "      <th>0</th>\n",
       "      <td>2023-04-18 15:47:56.141000+00:00</td>\n",
       "      <td>200000</td>\n",
       "      <td>75000</td>\n",
       "      <td>43.069610</td>\n",
       "      <td>-89.411429</td>\n",
       "    </tr>\n",
       "    <tr>\n",
       "      <th>1</th>\n",
       "      <td>2023-04-18 22:02:45.381000+00:00</td>\n",
       "      <td>500000</td>\n",
       "      <td>125000</td>\n",
       "      <td>43.044469</td>\n",
       "      <td>-89.432674</td>\n",
       "    </tr>\n",
       "    <tr>\n",
       "      <th>2</th>\n",
       "      <td>2023-04-19 14:24:42.341000+00:00</td>\n",
       "      <td>350000</td>\n",
       "      <td>80000</td>\n",
       "      <td>44.513755</td>\n",
       "      <td>-88.057333</td>\n",
       "    </tr>\n",
       "    <tr>\n",
       "      <th>3</th>\n",
       "      <td>2023-04-20 08:59:51.179000+00:00</td>\n",
       "      <td>190000</td>\n",
       "      <td>150000</td>\n",
       "      <td>43.889848</td>\n",
       "      <td>-91.197627</td>\n",
       "    </tr>\n",
       "    <tr>\n",
       "      <th>4</th>\n",
       "      <td>2023-04-25 22:12:49.061000+00:00</td>\n",
       "      <td>250000</td>\n",
       "      <td>25000</td>\n",
       "      <td>43.905450</td>\n",
       "      <td>-89.060410</td>\n",
       "    </tr>\n",
       "    <tr>\n",
       "      <th>5</th>\n",
       "      <td>2023-04-25 22:16:03.936000+00:00</td>\n",
       "      <td>1200000</td>\n",
       "      <td>75000</td>\n",
       "      <td>42.711962</td>\n",
       "      <td>-88.639941</td>\n",
       "    </tr>\n",
       "    <tr>\n",
       "      <th>6</th>\n",
       "      <td>2023-04-26 17:29:54.788000+00:00</td>\n",
       "      <td>10000000</td>\n",
       "      <td>10000000</td>\n",
       "      <td>43.072125</td>\n",
       "      <td>-89.403310</td>\n",
       "    </tr>\n",
       "    <tr>\n",
       "      <th>7</th>\n",
       "      <td>2023-04-27 19:01:46.396000+00:00</td>\n",
       "      <td>10000</td>\n",
       "      <td>1</td>\n",
       "      <td>43.072200</td>\n",
       "      <td>89.400800</td>\n",
       "    </tr>\n",
       "    <tr>\n",
       "      <th>8</th>\n",
       "      <td>2023-04-27 20:06:10.639000+00:00</td>\n",
       "      <td>250000</td>\n",
       "      <td>150000</td>\n",
       "      <td>45.111400</td>\n",
       "      <td>87.047100</td>\n",
       "    </tr>\n",
       "    <tr>\n",
       "      <th>9</th>\n",
       "      <td>2023-04-27 20:40:45.871000+00:00</td>\n",
       "      <td>200000</td>\n",
       "      <td>150000</td>\n",
       "      <td>45.031929</td>\n",
       "      <td>-87.222494</td>\n",
       "    </tr>\n",
       "    <tr>\n",
       "      <th>10</th>\n",
       "      <td>2023-04-28 10:35:57.482000+00:00</td>\n",
       "      <td>12345</td>\n",
       "      <td>114514</td>\n",
       "      <td>12.000000</td>\n",
       "      <td>34.000000</td>\n",
       "    </tr>\n",
       "    <tr>\n",
       "      <th>11</th>\n",
       "      <td>2023-04-28 10:36:08.889000+00:00</td>\n",
       "      <td>10000</td>\n",
       "      <td>1000</td>\n",
       "      <td>43.999900</td>\n",
       "      <td>45.500000</td>\n",
       "    </tr>\n",
       "    <tr>\n",
       "      <th>12</th>\n",
       "      <td>2023-04-28 10:36:41.531000+00:00</td>\n",
       "      <td>74000</td>\n",
       "      <td>45000</td>\n",
       "      <td>43.072200</td>\n",
       "      <td>89.400800</td>\n",
       "    </tr>\n",
       "    <tr>\n",
       "      <th>13</th>\n",
       "      <td>2023-04-28 10:36:47.231000+00:00</td>\n",
       "      <td>99999999</td>\n",
       "      <td>1</td>\n",
       "      <td>20.000000</td>\n",
       "      <td>10.000000</td>\n",
       "    </tr>\n",
       "    <tr>\n",
       "      <th>14</th>\n",
       "      <td>2023-04-28 10:36:50.661000+00:00</td>\n",
       "      <td>300000</td>\n",
       "      <td>70000</td>\n",
       "      <td>43.000000</td>\n",
       "      <td>89.000000</td>\n",
       "    </tr>\n",
       "    <tr>\n",
       "      <th>15</th>\n",
       "      <td>2023-04-28 10:36:59.898000+00:00</td>\n",
       "      <td>20000</td>\n",
       "      <td>50000</td>\n",
       "      <td>2.000000</td>\n",
       "      <td>13.000000</td>\n",
       "    </tr>\n",
       "    <tr>\n",
       "      <th>16</th>\n",
       "      <td>2023-04-28 10:37:00.177000+00:00</td>\n",
       "      <td>100000000</td>\n",
       "      <td>1</td>\n",
       "      <td>19.432600</td>\n",
       "      <td>99.133200</td>\n",
       "    </tr>\n",
       "    <tr>\n",
       "      <th>17</th>\n",
       "      <td>2023-04-28 10:37:12.460000+00:00</td>\n",
       "      <td>4657</td>\n",
       "      <td>123</td>\n",
       "      <td>23.000000</td>\n",
       "      <td>45.000000</td>\n",
       "    </tr>\n",
       "    <tr>\n",
       "      <th>18</th>\n",
       "      <td>2023-04-28 10:37:26.996000+00:00</td>\n",
       "      <td>500000</td>\n",
       "      <td>100000</td>\n",
       "      <td>17.884820</td>\n",
       "      <td>64.067470</td>\n",
       "    </tr>\n",
       "    <tr>\n",
       "      <th>19</th>\n",
       "      <td>2023-04-28 10:37:29.053000+00:00</td>\n",
       "      <td>4354</td>\n",
       "      <td>453667</td>\n",
       "      <td>34.000000</td>\n",
       "      <td>5.000000</td>\n",
       "    </tr>\n",
       "    <tr>\n",
       "      <th>20</th>\n",
       "      <td>2023-04-28 10:37:49.486000+00:00</td>\n",
       "      <td>1</td>\n",
       "      <td>1</td>\n",
       "      <td>-23.000000</td>\n",
       "      <td>-90.000000</td>\n",
       "    </tr>\n",
       "    <tr>\n",
       "      <th>21</th>\n",
       "      <td>2023-04-28 10:38:07.374000+00:00</td>\n",
       "      <td>20000</td>\n",
       "      <td>85264</td>\n",
       "      <td>73.978700</td>\n",
       "      <td>40.758700</td>\n",
       "    </tr>\n",
       "    <tr>\n",
       "      <th>22</th>\n",
       "      <td>2023-04-28 10:38:12.768000+00:00</td>\n",
       "      <td>100000000</td>\n",
       "      <td>10000000</td>\n",
       "      <td>0.000000</td>\n",
       "      <td>0.000000</td>\n",
       "    </tr>\n",
       "    <tr>\n",
       "      <th>23</th>\n",
       "      <td>2023-04-28 10:38:14.664000+00:00</td>\n",
       "      <td>30000</td>\n",
       "      <td>100000</td>\n",
       "      <td>-57.087000</td>\n",
       "      <td>-125.514600</td>\n",
       "    </tr>\n",
       "  </tbody>\n",
       "</table>\n",
       "</div>"
      ],
      "text/plain": [
       "                          Timestamp  loan_amount    income   latitude   \n",
       "0  2023-04-18 15:47:56.141000+00:00       200000     75000  43.069610  \\\n",
       "1  2023-04-18 22:02:45.381000+00:00       500000    125000  43.044469   \n",
       "2  2023-04-19 14:24:42.341000+00:00       350000     80000  44.513755   \n",
       "3  2023-04-20 08:59:51.179000+00:00       190000    150000  43.889848   \n",
       "4  2023-04-25 22:12:49.061000+00:00       250000     25000  43.905450   \n",
       "5  2023-04-25 22:16:03.936000+00:00      1200000     75000  42.711962   \n",
       "6  2023-04-26 17:29:54.788000+00:00     10000000  10000000  43.072125   \n",
       "7  2023-04-27 19:01:46.396000+00:00        10000         1  43.072200   \n",
       "8  2023-04-27 20:06:10.639000+00:00       250000    150000  45.111400   \n",
       "9  2023-04-27 20:40:45.871000+00:00       200000    150000  45.031929   \n",
       "10 2023-04-28 10:35:57.482000+00:00        12345    114514  12.000000   \n",
       "11 2023-04-28 10:36:08.889000+00:00        10000      1000  43.999900   \n",
       "12 2023-04-28 10:36:41.531000+00:00        74000     45000  43.072200   \n",
       "13 2023-04-28 10:36:47.231000+00:00     99999999         1  20.000000   \n",
       "14 2023-04-28 10:36:50.661000+00:00       300000     70000  43.000000   \n",
       "15 2023-04-28 10:36:59.898000+00:00        20000     50000   2.000000   \n",
       "16 2023-04-28 10:37:00.177000+00:00    100000000         1  19.432600   \n",
       "17 2023-04-28 10:37:12.460000+00:00         4657       123  23.000000   \n",
       "18 2023-04-28 10:37:26.996000+00:00       500000    100000  17.884820   \n",
       "19 2023-04-28 10:37:29.053000+00:00         4354    453667  34.000000   \n",
       "20 2023-04-28 10:37:49.486000+00:00            1         1 -23.000000   \n",
       "21 2023-04-28 10:38:07.374000+00:00        20000     85264  73.978700   \n",
       "22 2023-04-28 10:38:12.768000+00:00    100000000  10000000   0.000000   \n",
       "23 2023-04-28 10:38:14.664000+00:00        30000    100000 -57.087000   \n",
       "\n",
       "     longitude  \n",
       "0   -89.411429  \n",
       "1   -89.432674  \n",
       "2   -88.057333  \n",
       "3   -91.197627  \n",
       "4   -89.060410  \n",
       "5   -88.639941  \n",
       "6   -89.403310  \n",
       "7    89.400800  \n",
       "8    87.047100  \n",
       "9   -87.222494  \n",
       "10   34.000000  \n",
       "11   45.500000  \n",
       "12   89.400800  \n",
       "13   10.000000  \n",
       "14   89.000000  \n",
       "15   13.000000  \n",
       "16   99.133200  \n",
       "17   45.000000  \n",
       "18   64.067470  \n",
       "19    5.000000  \n",
       "20  -90.000000  \n",
       "21   40.758700  \n",
       "22    0.000000  \n",
       "23 -125.514600  "
      ]
     },
     "execution_count": 51,
     "metadata": {},
     "output_type": "execute_result"
    }
   ],
   "source": [
    "%%bigquery\n",
    "SELECT *\n",
    "FROM cs320-f21.apr28.applications"
   ]
  },
  {
   "cell_type": "code",
   "execution_count": 52,
   "id": "8e269159-d32c-47c6-a912-0f3a55461aff",
   "metadata": {
    "tags": []
   },
   "outputs": [
    {
     "data": {
      "application/vnd.jupyter.widget-view+json": {
       "model_id": "cf5e1d3ae193470ba79262058a3f87ed",
       "version_major": 2,
       "version_minor": 0
      },
      "text/plain": [
       "Query is running:   0%|          |"
      ]
     },
     "metadata": {},
     "output_type": "display_data"
    },
    {
     "data": {
      "application/vnd.jupyter.widget-view+json": {
       "model_id": "a4cc387ba3e44e1ab745d24be1852154",
       "version_major": 2,
       "version_minor": 0
      },
      "text/plain": [
       "Downloading:   0%|          |"
      ]
     },
     "metadata": {},
     "output_type": "display_data"
    },
    {
     "data": {
      "text/html": [
       "<div>\n",
       "<style scoped>\n",
       "    .dataframe tbody tr th:only-of-type {\n",
       "        vertical-align: middle;\n",
       "    }\n",
       "\n",
       "    .dataframe tbody tr th {\n",
       "        vertical-align: top;\n",
       "    }\n",
       "\n",
       "    .dataframe thead th {\n",
       "        text-align: right;\n",
       "    }\n",
       "</style>\n",
       "<table border=\"1\" class=\"dataframe\">\n",
       "  <thead>\n",
       "    <tr style=\"text-align: right;\">\n",
       "      <th></th>\n",
       "      <th>index</th>\n",
       "      <th>state_code</th>\n",
       "      <th>county_code</th>\n",
       "      <th>census_tract</th>\n",
       "      <th>action_taken</th>\n",
       "      <th>loan_amount</th>\n",
       "      <th>interest_rate</th>\n",
       "      <th>loan_term</th>\n",
       "      <th>income</th>\n",
       "      <th>approved</th>\n",
       "    </tr>\n",
       "  </thead>\n",
       "  <tbody>\n",
       "    <tr>\n",
       "      <th>0</th>\n",
       "      <td>25517</td>\n",
       "      <td>WI</td>\n",
       "      <td>None</td>\n",
       "      <td>None</td>\n",
       "      <td>1</td>\n",
       "      <td>125000.0</td>\n",
       "      <td>5.95</td>\n",
       "      <td>180.0</td>\n",
       "      <td>125000.0</td>\n",
       "      <td>True</td>\n",
       "    </tr>\n",
       "    <tr>\n",
       "      <th>1</th>\n",
       "      <td>25575</td>\n",
       "      <td>WI</td>\n",
       "      <td>None</td>\n",
       "      <td>None</td>\n",
       "      <td>1</td>\n",
       "      <td>35000.0</td>\n",
       "      <td>5.95</td>\n",
       "      <td>180.0</td>\n",
       "      <td>83000.0</td>\n",
       "      <td>True</td>\n",
       "    </tr>\n",
       "    <tr>\n",
       "      <th>2</th>\n",
       "      <td>59936</td>\n",
       "      <td>WI</td>\n",
       "      <td>None</td>\n",
       "      <td>None</td>\n",
       "      <td>2</td>\n",
       "      <td>285000.0</td>\n",
       "      <td>3.79</td>\n",
       "      <td>120.0</td>\n",
       "      <td>525000.0</td>\n",
       "      <td>False</td>\n",
       "    </tr>\n",
       "    <tr>\n",
       "      <th>3</th>\n",
       "      <td>59982</td>\n",
       "      <td>WI</td>\n",
       "      <td>None</td>\n",
       "      <td>None</td>\n",
       "      <td>2</td>\n",
       "      <td>135000.0</td>\n",
       "      <td>2.79</td>\n",
       "      <td>120.0</td>\n",
       "      <td>94000.0</td>\n",
       "      <td>False</td>\n",
       "    </tr>\n",
       "    <tr>\n",
       "      <th>4</th>\n",
       "      <td>60035</td>\n",
       "      <td>WI</td>\n",
       "      <td>None</td>\n",
       "      <td>None</td>\n",
       "      <td>2</td>\n",
       "      <td>35000.0</td>\n",
       "      <td>6.29</td>\n",
       "      <td>180.0</td>\n",
       "      <td>113000.0</td>\n",
       "      <td>False</td>\n",
       "    </tr>\n",
       "  </tbody>\n",
       "</table>\n",
       "</div>"
      ],
      "text/plain": [
       "   index state_code county_code census_tract  action_taken  loan_amount   \n",
       "0  25517         WI        None         None             1     125000.0  \\\n",
       "1  25575         WI        None         None             1      35000.0   \n",
       "2  59936         WI        None         None             2     285000.0   \n",
       "3  59982         WI        None         None             2     135000.0   \n",
       "4  60035         WI        None         None             2      35000.0   \n",
       "\n",
       "   interest_rate  loan_term    income  approved  \n",
       "0           5.95      180.0  125000.0      True  \n",
       "1           5.95      180.0   83000.0      True  \n",
       "2           3.79      120.0  525000.0     False  \n",
       "3           2.79      120.0   94000.0     False  \n",
       "4           6.29      180.0  113000.0     False  "
      ]
     },
     "execution_count": 52,
     "metadata": {},
     "output_type": "execute_result"
    }
   ],
   "source": [
    "%%bigquery\n",
    "SELECT *\n",
    "FROM cs320-f21.apr28.loans\n",
    "LIMIT 5"
   ]
  },
  {
   "cell_type": "code",
   "execution_count": 55,
   "id": "ee027454-71b2-4b52-9ccd-51349d8869f3",
   "metadata": {
    "tags": []
   },
   "outputs": [
    {
     "data": {
      "application/vnd.jupyter.widget-view+json": {
       "model_id": "cdd2eaf252a6465a931dbd46113d970a",
       "version_major": 2,
       "version_minor": 0
      },
      "text/plain": [
       "Query is running:   0%|          |"
      ]
     },
     "metadata": {},
     "output_type": "display_data"
    },
    {
     "data": {
      "application/vnd.jupyter.widget-view+json": {
       "model_id": "759e6a03cd434b23b3d51d0fdbe26685",
       "version_major": 2,
       "version_minor": 0
      },
      "text/plain": [
       "Downloading:   0%|          |"
      ]
     },
     "metadata": {},
     "output_type": "display_data"
    },
    {
     "data": {
      "text/html": [
       "<div>\n",
       "<style scoped>\n",
       "    .dataframe tbody tr th:only-of-type {\n",
       "        vertical-align: middle;\n",
       "    }\n",
       "\n",
       "    .dataframe tbody tr th {\n",
       "        vertical-align: top;\n",
       "    }\n",
       "\n",
       "    .dataframe thead th {\n",
       "        text-align: right;\n",
       "    }\n",
       "</style>\n",
       "<table border=\"1\" class=\"dataframe\">\n",
       "  <thead>\n",
       "    <tr style=\"text-align: right;\">\n",
       "      <th></th>\n",
       "      <th>index</th>\n",
       "      <th>state_code</th>\n",
       "      <th>county_code</th>\n",
       "      <th>census_tract</th>\n",
       "      <th>action_taken</th>\n",
       "      <th>loan_amount</th>\n",
       "      <th>interest_rate</th>\n",
       "      <th>loan_term</th>\n",
       "      <th>income</th>\n",
       "      <th>approved</th>\n",
       "    </tr>\n",
       "  </thead>\n",
       "  <tbody>\n",
       "    <tr>\n",
       "      <th>0</th>\n",
       "      <td>0</td>\n",
       "      <td>WI</td>\n",
       "      <td>55027</td>\n",
       "      <td>55027961800</td>\n",
       "      <td>6</td>\n",
       "      <td>305000.0</td>\n",
       "      <td>3.875</td>\n",
       "      <td>360.0</td>\n",
       "      <td>108000.0</td>\n",
       "      <td>False</td>\n",
       "    </tr>\n",
       "    <tr>\n",
       "      <th>1</th>\n",
       "      <td>1</td>\n",
       "      <td>WI</td>\n",
       "      <td>55001</td>\n",
       "      <td>55001950501</td>\n",
       "      <td>4</td>\n",
       "      <td>65000.0</td>\n",
       "      <td>NaN</td>\n",
       "      <td>360.0</td>\n",
       "      <td>103000.0</td>\n",
       "      <td>False</td>\n",
       "    </tr>\n",
       "    <tr>\n",
       "      <th>2</th>\n",
       "      <td>2</td>\n",
       "      <td>WI</td>\n",
       "      <td>55013</td>\n",
       "      <td>55013970400</td>\n",
       "      <td>6</td>\n",
       "      <td>75000.0</td>\n",
       "      <td>3.250</td>\n",
       "      <td>360.0</td>\n",
       "      <td>146000.0</td>\n",
       "      <td>False</td>\n",
       "    </tr>\n",
       "    <tr>\n",
       "      <th>3</th>\n",
       "      <td>3</td>\n",
       "      <td>WI</td>\n",
       "      <td>55059</td>\n",
       "      <td>55059002000</td>\n",
       "      <td>1</td>\n",
       "      <td>155000.0</td>\n",
       "      <td>4.000</td>\n",
       "      <td>360.0</td>\n",
       "      <td>70000.0</td>\n",
       "      <td>True</td>\n",
       "    </tr>\n",
       "    <tr>\n",
       "      <th>4</th>\n",
       "      <td>4</td>\n",
       "      <td>WI</td>\n",
       "      <td>55087</td>\n",
       "      <td>55087013300</td>\n",
       "      <td>1</td>\n",
       "      <td>305000.0</td>\n",
       "      <td>3.250</td>\n",
       "      <td>360.0</td>\n",
       "      <td>71000.0</td>\n",
       "      <td>True</td>\n",
       "    </tr>\n",
       "  </tbody>\n",
       "</table>\n",
       "</div>"
      ],
      "text/plain": [
       "   index state_code county_code census_tract  action_taken  loan_amount   \n",
       "0      0         WI       55027  55027961800             6     305000.0  \\\n",
       "1      1         WI       55001  55001950501             4      65000.0   \n",
       "2      2         WI       55013  55013970400             6      75000.0   \n",
       "3      3         WI       55059  55059002000             1     155000.0   \n",
       "4      4         WI       55087  55087013300             1     305000.0   \n",
       "\n",
       "   interest_rate  loan_term    income  approved  \n",
       "0          3.875      360.0  108000.0     False  \n",
       "1            NaN      360.0  103000.0     False  \n",
       "2          3.250      360.0  146000.0     False  \n",
       "3          4.000      360.0   70000.0      True  \n",
       "4          3.250      360.0   71000.0      True  "
      ]
     },
     "execution_count": 55,
     "metadata": {},
     "output_type": "execute_result"
    }
   ],
   "source": [
    "%%bigquery\n",
    "SELECT *\n",
    "FROM `cs320-f21.apr28.loans-external`\n",
    "LIMIT 5"
   ]
  },
  {
   "cell_type": "markdown",
   "id": "a1475592-32cd-445c-a0b3-d520c464e7a0",
   "metadata": {},
   "source": [
    "# Geo Data"
   ]
  },
  {
   "cell_type": "code",
   "execution_count": 56,
   "id": "34d349fa-db8a-43aa-b4e6-477213683ba3",
   "metadata": {
    "tags": []
   },
   "outputs": [],
   "source": [
    "# 55 is WI\n",
    "q = bq.query(\"\"\"\n",
    "SELECT county_geom\n",
    "FROM bigquery-public-data.geo_us_boundaries.counties\n",
    "WHERE state_fips_code = '55'\n",
    "\"\"\")"
   ]
  },
  {
   "cell_type": "code",
   "execution_count": 57,
   "id": "5d1464b1-bac9-48d0-8888-f7202d02f4e4",
   "metadata": {
    "tags": []
   },
   "outputs": [],
   "source": [
    "df = q.to_geodataframe()"
   ]
  },
  {
   "cell_type": "code",
   "execution_count": 58,
   "id": "45d96eab-9bde-4856-9498-8dff9424ec87",
   "metadata": {
    "tags": []
   },
   "outputs": [
    {
     "data": {
      "text/plain": [
       "geopandas.geodataframe.GeoDataFrame"
      ]
     },
     "execution_count": 58,
     "metadata": {},
     "output_type": "execute_result"
    }
   ],
   "source": [
    "type(df)"
   ]
  },
  {
   "cell_type": "code",
   "execution_count": 61,
   "id": "62ae84f0-8a4a-4b6c-9670-417574165d89",
   "metadata": {
    "tags": []
   },
   "outputs": [
    {
     "data": {
      "text/plain": [
       "<Axes: >"
      ]
     },
     "execution_count": 61,
     "metadata": {},
     "output_type": "execute_result"
    },
    {
     "data": {
      "image/png": "[encoded data removed]",
      "text/plain": [
       "<Figure size 640x480 with 1 Axes>"
      ]
     },
     "metadata": {},
     "output_type": "display_data"
    }
   ],
   "source": [
    "df.plot(edgecolor=\"k\", facecolor=\"0.9\")"
   ]
  },
  {
   "cell_type": "code",
   "execution_count": null,
   "id": "3cdfb756-1810-4ba3-b715-27c8a5af7f24",
   "metadata": {},
   "outputs": [],
   "source": []
  }
 ],
 "metadata": {
  "kernelspec": {
   "display_name": "Python 3 (ipykernel)",
   "language": "python",
   "name": "python3"
  },
  "language_info": {
   "codemirror_mode": {
    "name": "ipython",
    "version": 3
   },
   "file_extension": ".py",
   "mimetype": "text/x-python",
   "name": "python",
   "nbconvert_exporter": "python",
   "pygments_lexer": "ipython3",
   "version": "3.10.6"
  }
 },
 "nbformat": 4,
 "nbformat_minor": 5
}
