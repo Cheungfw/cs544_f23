{
 "cells": [
  {
   "cell_type": "code",
   "execution_count": 1,
   "id": "67bf9ea6-f7a2-4b8a-8d82-1357a06dbbae",
   "metadata": {},
   "outputs": [],
   "source": [
    "import random\n",
    "import requests\n",
    "import pandas as pd\n",
    "\n",
    "r = requests.get(\"https://pages.cs.wisc.edu/~harter/cs544/data/wi-stations/stations.txt\")\n",
    "r.raise_for_status()\n",
    "stations = r.text.strip().split(\"\\n\")\n",
    "stations = random.sample(stations, k=10)\n",
    "workload = random.choices(stations, k=100, weights=[0.3, 0.2] + [0.5/8]*8)"
   ]
  },
  {
   "cell_type": "code",
   "execution_count": 4,
   "id": "4936f8fa-0825-46b7-af55-79b5b81cd120",
   "metadata": {},
   "outputs": [
    {
     "data": {
      "text/plain": [
       "['US1WIWS0008', 'US1WIMC0007', 'US1WICB0011', 'US1WICB0011', 'US1WICB0011']"
      ]
     },
     "execution_count": 4,
     "metadata": {},
     "output_type": "execute_result"
    }
   ],
   "source": [
    "workload[:5]"
   ]
  },
  {
   "cell_type": "code",
   "execution_count": 5,
   "id": "4108fce0-7a43-4db8-8d85-5fa5bf37a05e",
   "metadata": {},
   "outputs": [],
   "source": [
    "station = \"US1WIWS0008\"\n",
    "df = pd.read_csv(f\"https://pages.cs.wisc.edu/~harter/cs544/data/wi-stations/{station}.csv.gz\",\n",
    "                         names=[\"station\", \"date\", \"element\", \"value\", \"m\", \"q\", \"s\", \"obs\"])"
   ]
  },
  {
   "cell_type": "code",
   "execution_count": 8,
   "id": "a3b80a5a-4203-4b08-9bd8-7f52b797bbaa",
   "metadata": {},
   "outputs": [
    {
     "data": {
      "text/html": [
       "<div>\n",
       "<style scoped>\n",
       "    .dataframe tbody tr th:only-of-type {\n",
       "        vertical-align: middle;\n",
       "    }\n",
       "\n",
       "    .dataframe tbody tr th {\n",
       "        vertical-align: top;\n",
       "    }\n",
       "\n",
       "    .dataframe thead th {\n",
       "        text-align: right;\n",
       "    }\n",
       "</style>\n",
       "<table border=\"1\" class=\"dataframe\">\n",
       "  <thead>\n",
       "    <tr style=\"text-align: right;\">\n",
       "      <th></th>\n",
       "      <th>station</th>\n",
       "      <th>date</th>\n",
       "      <th>element</th>\n",
       "      <th>value</th>\n",
       "      <th>m</th>\n",
       "      <th>q</th>\n",
       "      <th>s</th>\n",
       "      <th>obs</th>\n",
       "    </tr>\n",
       "  </thead>\n",
       "  <tbody>\n",
       "    <tr>\n",
       "      <th>0</th>\n",
       "      <td>US1WIWS0008</td>\n",
       "      <td>20081117</td>\n",
       "      <td>PRCP</td>\n",
       "      <td>191</td>\n",
       "      <td>NaN</td>\n",
       "      <td>NaN</td>\n",
       "      <td>N</td>\n",
       "      <td>1710</td>\n",
       "    </tr>\n",
       "    <tr>\n",
       "      <th>1</th>\n",
       "      <td>US1WIWS0008</td>\n",
       "      <td>20081117</td>\n",
       "      <td>SNOW</td>\n",
       "      <td>20</td>\n",
       "      <td>NaN</td>\n",
       "      <td>NaN</td>\n",
       "      <td>N</td>\n",
       "      <td>1710</td>\n",
       "    </tr>\n",
       "    <tr>\n",
       "      <th>2</th>\n",
       "      <td>US1WIWS0008</td>\n",
       "      <td>20081117</td>\n",
       "      <td>SNWD</td>\n",
       "      <td>20</td>\n",
       "      <td>NaN</td>\n",
       "      <td>NaN</td>\n",
       "      <td>N</td>\n",
       "      <td>1710</td>\n",
       "    </tr>\n",
       "  </tbody>\n",
       "</table>\n",
       "</div>"
      ],
      "text/plain": [
       "       station      date element  value    m   q  s   obs\n",
       "0  US1WIWS0008  20081117    PRCP    191  NaN NaN  N  1710\n",
       "1  US1WIWS0008  20081117    SNOW     20  NaN NaN  N  1710\n",
       "2  US1WIWS0008  20081117    SNWD     20  NaN NaN  N  1710"
      ]
     },
     "execution_count": 8,
     "metadata": {},
     "output_type": "execute_result"
    }
   ],
   "source": [
    "df.head(3)"
   ]
  },
  {
   "cell_type": "code",
   "execution_count": 27,
   "id": "a7eb515f-4dc0-464a-9cff-431fc497e1b1",
   "metadata": {},
   "outputs": [
    {
     "name": "stdout",
     "output_type": "stream",
     "text": [
      "miss, hit, "
     ]
    }
   ],
   "source": [
    "# FIFO policy\n",
    "import time\n",
    "\n",
    "cache_size = 3\n",
    "cache = {}    # key=station name, value=DataFrame for that station\n",
    "\n",
    "# evict from the front, because most recent will be at the end\n",
    "# TODO: use a better data structure so it's not O(N)\n",
    "evict_order = []\n",
    "\n",
    "# stats\n",
    "hits = []   # True(hit)/False(miss)\n",
    "ms_latencies = []\n",
    "\n",
    "def get_station(station):\n",
    "    start = time.time()\n",
    "    if station in cache:\n",
    "        print(\"hit\", end=\", \")\n",
    "        df = cache[station]\n",
    "        hits.append(True)\n",
    "    else:\n",
    "        print(\"miss\", end=\", \")\n",
    "        df = pd.read_csv(f\"https://pages.cs.wisc.edu/~harter/cs544/data/wi-stations/{station}.csv.gz\",\n",
    "                             names=[\"station\", \"date\", \"element\", \"value\", \"m\", \"q\", \"s\", \"obs\"])\n",
    "        cache[station] = df\n",
    "        evict_order.append(station)\n",
    "\n",
    "        # evict?\n",
    "        if len(cache) > cache_size:\n",
    "            victim_station = evict_order.pop(0) # what has been in the queue the longest?\n",
    "            cache.pop(victim_station)\n",
    "        hits.append(False)\n",
    "    end = time.time()\n",
    "    ms = (end-start) * 1000\n",
    "    ms_latencies.append(ms)\n",
    "\n",
    "    return df"
   ]
  },
  {
   "cell_type": "code",
   "execution_count": 28,
   "id": "fab43788-b9b7-4967-8f4b-b128e1c1add3",
   "metadata": {},
   "outputs": [
    {
     "name": "stdout",
     "output_type": "stream",
     "text": [
      "hit, miss, miss, hit, hit, hit, hit, miss, miss, hit, hit, hit, miss, miss, miss, hit, miss, miss, hit, miss, hit, hit, hit, miss, miss, miss, miss, hit, miss, hit, miss, miss, miss, miss, miss, hit, hit, miss, hit, miss, miss, hit, miss, miss, miss, miss, miss, hit, miss, miss, hit, miss, miss, miss, hit, hit, hit, hit, hit, miss, miss, miss, miss, miss, miss, miss, hit, miss, miss, miss, miss, miss, hit, miss, miss, miss, hit, miss, hit, hit, hit, hit, miss, hit, miss, hit, hit, miss, miss, hit, hit, hit, miss, miss, miss, miss, hit, hit, miss, miss, "
     ]
    }
   ],
   "source": [
    "for station in workload:\n",
    "    df = get_station(station)\n",
    "    #print(station, evict_order)"
   ]
  },
  {
   "cell_type": "code",
   "execution_count": 29,
   "id": "f763ce02-1bcd-46b9-a1d9-7f15c2e03f38",
   "metadata": {},
   "outputs": [
    {
     "name": "stdout",
     "output_type": "stream",
     "text": [
      "0.4117647058823529\n",
      "92.27583688848159 ms\n"
     ]
    }
   ],
   "source": [
    "# hit rate\n",
    "print(sum(hits) / len(hits))\n",
    "\n",
    "# avg latency\n",
    "print(sum(ms_latencies) / len(ms_latencies), \"ms\")"
   ]
  },
  {
   "cell_type": "code",
   "execution_count": 32,
   "id": "28a7c32d-c7c7-499d-af2e-c760e2d8424d",
   "metadata": {},
   "outputs": [],
   "source": [
    "# LRU policy (same as FIFO, expect when we have a hit)\n",
    "import time\n",
    "\n",
    "cache_size = 3\n",
    "cache = {}    # key=station name, value=DataFrame for that station\n",
    "\n",
    "# evict from the front, because most recent will be at the end\n",
    "# TODO: use a better data structure so it's not O(N)\n",
    "evict_order = []\n",
    "\n",
    "# stats\n",
    "hits = []   # True(hit)/False(miss)\n",
    "ms_latencies = []\n",
    "\n",
    "def get_station_lru(station):\n",
    "    start = time.time()\n",
    "    if station in cache:\n",
    "        print(\"hit\", end=\", \")\n",
    "        df = cache[station]\n",
    "        evict_order.remove(station)\n",
    "        evict_order.append(station)\n",
    "        hits.append(True)\n",
    "    else:\n",
    "        print(\"miss\", end=\", \")\n",
    "        df = pd.read_csv(f\"https://pages.cs.wisc.edu/~harter/cs544/data/wi-stations/{station}.csv.gz\",\n",
    "                             names=[\"station\", \"date\", \"element\", \"value\", \"m\", \"q\", \"s\", \"obs\"])\n",
    "        cache[station] = df\n",
    "        evict_order.append(station)\n",
    "\n",
    "        # evict?\n",
    "        if len(cache) > cache_size:\n",
    "            victim_station = evict_order.pop(0) # what has been in the queue the longest?\n",
    "            cache.pop(victim_station)\n",
    "        hits.append(False)\n",
    "    end = time.time()\n",
    "    ms = (end-start) * 1000\n",
    "    ms_latencies.append(ms)\n",
    "\n",
    "    return df"
   ]
  },
  {
   "cell_type": "code",
   "execution_count": 33,
   "id": "d3009a72-a96c-483d-bf6d-7dff63d33a5a",
   "metadata": {},
   "outputs": [
    {
     "name": "stdout",
     "output_type": "stream",
     "text": [
      "miss, miss, miss, hit, hit, hit, hit, miss, miss, hit, hit, hit, miss, miss, hit, hit, miss, miss, hit, miss, hit, hit, hit, miss, miss, miss, miss, hit, miss, hit, miss, miss, miss, miss, miss, hit, hit, miss, hit, miss, miss, hit, miss, miss, miss, miss, miss, hit, miss, miss, hit, miss, miss, hit, hit, hit, hit, hit, hit, miss, hit, miss, miss, miss, miss, miss, hit, miss, miss, miss, miss, miss, hit, miss, hit, miss, hit, miss, hit, hit, hit, hit, miss, hit, miss, hit, miss, miss, miss, hit, hit, hit, miss, miss, miss, miss, hit, hit, miss, miss, "
     ]
    }
   ],
   "source": [
    "for station in workload:\n",
    "    df = get_station_lru(station)"
   ]
  },
  {
   "cell_type": "code",
   "execution_count": 34,
   "id": "c12f8305-b6b6-45b3-9ae1-38206c07728d",
   "metadata": {},
   "outputs": [
    {
     "name": "stdout",
     "output_type": "stream",
     "text": [
      "0.43\n",
      "90.22230863571167 ms\n"
     ]
    }
   ],
   "source": [
    "# hit rate\n",
    "print(sum(hits) / len(hits))\n",
    "\n",
    "# avg latency\n",
    "print(sum(ms_latencies) / len(ms_latencies), \"ms\")"
   ]
  },
  {
   "cell_type": "code",
   "execution_count": null,
   "id": "e2d0bd9e-e218-4b48-a1a4-d2666bf70691",
   "metadata": {},
   "outputs": [],
   "source": []
  }
 ],
 "metadata": {
  "kernelspec": {
   "display_name": "Python 3 (ipykernel)",
   "language": "python",
   "name": "python3"
  },
  "language_info": {
   "codemirror_mode": {
    "name": "ipython",
    "version": 3
   },
   "file_extension": ".py",
   "mimetype": "text/x-python",
   "name": "python",
   "nbconvert_exporter": "python",
   "pygments_lexer": "ipython3",
   "version": "3.10.12"
  }
 },
 "nbformat": 4,
 "nbformat_minor": 5
}
