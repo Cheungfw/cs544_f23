{
 "cells": [
  {
   "cell_type": "code",
   "execution_count": 10,
   "id": "c17304ae-d789-47d4-b8e4-29e03b73298f",
   "metadata": {},
   "outputs": [],
   "source": [
    "import random\n",
    "import requests\n",
    "import pandas as pd\n",
    "\n",
    "r = requests.get(\"https://pages.cs.wisc.edu/~harter/cs544/data/wi-stations/stations.txt\")\n",
    "r.raise_for_status()\n",
    "stations = r.text.strip().split(\"\\n\")\n",
    "stations = random.sample(stations, k=10)\n",
    "workload = random.choices(stations, k=100, weights=[0.3, 0.2] + [0.5/8]*8)"
   ]
  },
  {
   "cell_type": "code",
   "execution_count": 11,
   "id": "fe9c420c-c0fb-40d7-9823-a816f39782fa",
   "metadata": {},
   "outputs": [
    {
     "data": {
      "text/plain": [
       "['US1WIKN0028',\n",
       " 'US1WIKN0028',\n",
       " 'US1WILN0004',\n",
       " 'USC00479218',\n",
       " 'US1WIKN0028',\n",
       " 'US1WIKN0028',\n",
       " 'US1WIWN0009',\n",
       " 'US1WIWN0009',\n",
       " 'USC00479218',\n",
       " 'USC00479218']"
      ]
     },
     "execution_count": 11,
     "metadata": {},
     "output_type": "execute_result"
    }
   ],
   "source": [
    "workload[:10]"
   ]
  },
  {
   "cell_type": "code",
   "execution_count": 12,
   "id": "2fa5e880-efbc-44c2-b97f-fca9c8482000",
   "metadata": {},
   "outputs": [
    {
     "name": "stderr",
     "output_type": "stream",
     "text": [
      "/tmp/ipykernel_279431/265008605.py:2: DtypeWarning: Columns (6) have mixed types. Specify dtype option on import or set low_memory=False.\n",
      "  df = pd.read_csv(f\"https://pages.cs.wisc.edu/~harter/cs544/data/wi-stations/{station}.csv.gz\",\n"
     ]
    },
    {
     "data": {
      "text/html": [
       "<div>\n",
       "<style scoped>\n",
       "    .dataframe tbody tr th:only-of-type {\n",
       "        vertical-align: middle;\n",
       "    }\n",
       "\n",
       "    .dataframe tbody tr th {\n",
       "        vertical-align: top;\n",
       "    }\n",
       "\n",
       "    .dataframe thead th {\n",
       "        text-align: right;\n",
       "    }\n",
       "</style>\n",
       "<table border=\"1\" class=\"dataframe\">\n",
       "  <thead>\n",
       "    <tr style=\"text-align: right;\">\n",
       "      <th></th>\n",
       "      <th>station</th>\n",
       "      <th>date</th>\n",
       "      <th>element</th>\n",
       "      <th>value</th>\n",
       "      <th>m</th>\n",
       "      <th>q</th>\n",
       "      <th>s</th>\n",
       "      <th>obs</th>\n",
       "    </tr>\n",
       "  </thead>\n",
       "  <tbody>\n",
       "    <tr>\n",
       "      <th>0</th>\n",
       "      <td>USC00478267</td>\n",
       "      <td>19050301</td>\n",
       "      <td>PRCP</td>\n",
       "      <td>0</td>\n",
       "      <td>NaN</td>\n",
       "      <td>NaN</td>\n",
       "      <td>0</td>\n",
       "      <td>NaN</td>\n",
       "    </tr>\n",
       "    <tr>\n",
       "      <th>1</th>\n",
       "      <td>USC00478267</td>\n",
       "      <td>19050302</td>\n",
       "      <td>PRCP</td>\n",
       "      <td>0</td>\n",
       "      <td>NaN</td>\n",
       "      <td>NaN</td>\n",
       "      <td>0</td>\n",
       "      <td>NaN</td>\n",
       "    </tr>\n",
       "    <tr>\n",
       "      <th>2</th>\n",
       "      <td>USC00478267</td>\n",
       "      <td>19050303</td>\n",
       "      <td>PRCP</td>\n",
       "      <td>0</td>\n",
       "      <td>T</td>\n",
       "      <td>NaN</td>\n",
       "      <td>0</td>\n",
       "      <td>NaN</td>\n",
       "    </tr>\n",
       "  </tbody>\n",
       "</table>\n",
       "</div>"
      ],
      "text/plain": [
       "       station      date element  value    m    q  s  obs\n",
       "0  USC00478267  19050301    PRCP      0  NaN  NaN  0  NaN\n",
       "1  USC00478267  19050302    PRCP      0  NaN  NaN  0  NaN\n",
       "2  USC00478267  19050303    PRCP      0    T  NaN  0  NaN"
      ]
     },
     "execution_count": 12,
     "metadata": {},
     "output_type": "execute_result"
    }
   ],
   "source": [
    "station = 'USC00478267'\n",
    "df = pd.read_csv(f\"https://pages.cs.wisc.edu/~harter/cs544/data/wi-stations/{station}.csv.gz\",\n",
    "                         names=[\"station\", \"date\", \"element\", \"value\", \"m\", \"q\", \"s\", \"obs\"])\n",
    "df.head(3)"
   ]
  },
  {
   "cell_type": "code",
   "execution_count": 23,
   "id": "487b3b9c-87e6-4902-a6f4-8e15d58a883e",
   "metadata": {},
   "outputs": [],
   "source": [
    "import time"
   ]
  },
  {
   "cell_type": "code",
   "execution_count": 29,
   "id": "ac78fdb6-45c3-4af6-836b-87be14f94ca4",
   "metadata": {},
   "outputs": [
    {
     "name": "stdout",
     "output_type": "stream",
     "text": [
      "miss, hit, miss, miss, hit, hit, miss, hit, hit, hit, miss, miss, miss, hit, hit, miss, hit, hit, miss, hit, miss, miss, miss, hit, miss, hit, hit, miss, miss, miss, miss, hit, hit, miss, miss, miss, miss, hit, hit, miss, miss, hit, miss, hit, miss, hit, miss, hit, miss, miss, miss, miss, miss, miss, miss, miss, miss, hit, miss, miss, miss, hit, miss, hit, hit, miss, hit, miss, miss, hit, miss, miss, miss, miss, miss, miss, hit, miss, hit, miss, hit, hit, hit, hit, hit, miss, hit, miss, miss, miss, miss, miss, hit, hit, hit, hit, miss, hit, hit, hit, "
     ]
    }
   ],
   "source": [
    "# FIFO\n",
    "\n",
    "cache_size = 3\n",
    "cache = {}   # key=station name, value=DataFrame for that station\n",
    "evict_order = []     # start of list contains items to be evicted (end of list is freshest)\n",
    "# TODO: use a faster data struct for evict_order than is not O(N) for pop(0)\n",
    "\n",
    "# stats\n",
    "hits = [] # True(hit), False(miss)\n",
    "ms_latencies = []\n",
    "\n",
    "def get_station(station):\n",
    "    start = time.time()\n",
    "    if station in cache:\n",
    "        print(\"hit\", end=\", \")\n",
    "        hits.append(True)\n",
    "        df = cache[station]\n",
    "    else:\n",
    "        print(\"miss\", end=\", \")\n",
    "        hits.append(False)\n",
    "        df = pd.read_csv(f\"https://pages.cs.wisc.edu/~harter/cs544/data/wi-stations/{station}.csv.gz\",\n",
    "                             names=[\"station\", \"date\", \"element\", \"value\", \"m\", \"q\", \"s\", \"obs\"], low_memory=False)\n",
    "\n",
    "        cache[station] = df\n",
    "        evict_order.append(station)\n",
    "        \n",
    "        # should we evict?\n",
    "        if len(cache) > cache_size:\n",
    "            victim = evict_order.pop(0)  # pop from the front\n",
    "            cache.pop(victim)\n",
    "\n",
    "    end = time.time()\n",
    "    ms = (end-start) * 1000\n",
    "    ms_latencies.append(ms)\n",
    "\n",
    "    return df\n",
    "\n",
    "for station in workload:\n",
    "    df = get_station(station)\n",
    "    #print(station, evict_order)"
   ]
  },
  {
   "cell_type": "code",
   "execution_count": 30,
   "id": "24b35cc3-8113-4bd0-8cef-556e2ac17419",
   "metadata": {},
   "outputs": [
    {
     "data": {
      "text/plain": [
       "0.43"
      ]
     },
     "execution_count": 30,
     "metadata": {},
     "output_type": "execute_result"
    }
   ],
   "source": [
    "sum(hits) / len(hits)"
   ]
  },
  {
   "cell_type": "code",
   "execution_count": 31,
   "id": "53f93761-5a2a-4089-9ab4-baf7da70b3c8",
   "metadata": {},
   "outputs": [
    {
     "data": {
      "text/plain": [
       "65.28526067733765"
      ]
     },
     "execution_count": 31,
     "metadata": {},
     "output_type": "execute_result"
    }
   ],
   "source": [
    "sum(ms_latencies) / len(ms_latencies)"
   ]
  },
  {
   "cell_type": "code",
   "execution_count": 32,
   "id": "f6dfbc98-500b-4797-bc00-52ed8ea4ec60",
   "metadata": {},
   "outputs": [
    {
     "name": "stdout",
     "output_type": "stream",
     "text": [
      "miss, hit, miss, miss, hit, hit, miss, hit, hit, hit, miss, miss, hit, hit, hit, miss, hit, miss, miss, hit, hit, hit, miss, hit, miss, hit, hit, miss, miss, miss, miss, hit, hit, miss, miss, miss, miss, hit, hit, miss, miss, hit, miss, hit, miss, miss, miss, miss, miss, miss, miss, miss, miss, miss, miss, miss, miss, hit, miss, miss, hit, hit, miss, hit, hit, miss, hit, miss, miss, hit, hit, miss, hit, miss, miss, miss, hit, miss, hit, miss, hit, hit, hit, hit, hit, miss, hit, hit, miss, hit, miss, miss, hit, hit, hit, hit, miss, hit, miss, hit, "
     ]
    }
   ],
   "source": [
    "# LRU (exactly the same, EXCEPT for the \"hit\" case)\n",
    "\n",
    "cache_size = 3\n",
    "cache = {}   # key=station name, value=DataFrame for that station\n",
    "evict_order = []     # start of list contains items to be evicted (end of list is freshest)\n",
    "# TODO: use a faster data struct for evict_order than is not O(N) for pop(0)\n",
    "\n",
    "# stats\n",
    "hits = [] # True(hit), False(miss)\n",
    "ms_latencies = []\n",
    "\n",
    "def get_station(station):\n",
    "    start = time.time()\n",
    "    if station in cache:\n",
    "        print(\"hit\", end=\", \")\n",
    "        hits.append(True)\n",
    "        df = cache[station]\n",
    "\n",
    "        evict_order.remove(station)\n",
    "        evict_order.append(station)\n",
    "    else:\n",
    "        print(\"miss\", end=\", \")\n",
    "        hits.append(False)\n",
    "        df = pd.read_csv(f\"https://pages.cs.wisc.edu/~harter/cs544/data/wi-stations/{station}.csv.gz\",\n",
    "                             names=[\"station\", \"date\", \"element\", \"value\", \"m\", \"q\", \"s\", \"obs\"], low_memory=False)\n",
    "\n",
    "        cache[station] = df\n",
    "        evict_order.append(station)\n",
    "        \n",
    "        # should we evict?\n",
    "        if len(cache) > cache_size:\n",
    "            victim = evict_order.pop(0)  # pop from the front\n",
    "            cache.pop(victim)\n",
    "\n",
    "    end = time.time()\n",
    "    ms = (end-start) * 1000\n",
    "    ms_latencies.append(ms)\n",
    "\n",
    "    return df\n",
    "\n",
    "for station in workload:\n",
    "    df = get_station(station)\n",
    "    #print(station, evict_order)"
   ]
  },
  {
   "cell_type": "code",
   "execution_count": 33,
   "id": "511d40dd-236f-4381-bf61-f1cc1c903825",
   "metadata": {},
   "outputs": [
    {
     "data": {
      "text/plain": [
       "0.47"
      ]
     },
     "execution_count": 33,
     "metadata": {},
     "output_type": "execute_result"
    }
   ],
   "source": [
    "sum(hits) / len(hits)"
   ]
  },
  {
   "cell_type": "code",
   "execution_count": 34,
   "id": "5bbfa0bb-2a17-409b-83ed-1a3b24f4ee3b",
   "metadata": {},
   "outputs": [
    {
     "data": {
      "text/plain": [
       "60.01779317855835"
      ]
     },
     "execution_count": 34,
     "metadata": {},
     "output_type": "execute_result"
    }
   ],
   "source": [
    "sum(ms_latencies) / len(ms_latencies)"
   ]
  },
  {
   "cell_type": "code",
   "execution_count": null,
   "id": "0a079ee4-f52d-47e0-b78d-8eb55e1c5102",
   "metadata": {},
   "outputs": [],
   "source": []
  }
 ],
 "metadata": {
  "kernelspec": {
   "display_name": "Python 3 (ipykernel)",
   "language": "python",
   "name": "python3"
  },
  "language_info": {
   "codemirror_mode": {
    "name": "ipython",
    "version": 3
   },
   "file_extension": ".py",
   "mimetype": "text/x-python",
   "name": "python",
   "nbconvert_exporter": "python",
   "pygments_lexer": "ipython3",
   "version": "3.10.12"
  }
 },
 "nbformat": 4,
 "nbformat_minor": 5
}
