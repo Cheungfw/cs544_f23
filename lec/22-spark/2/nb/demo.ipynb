{
 "cells": [
  {
   "cell_type": "code",
   "execution_count": 1,
   "id": "fbe0117e-6b91-4651-8f21-c509f5e63ca8",
   "metadata": {},
   "outputs": [],
   "source": [
    "from pyspark.sql import SparkSession"
   ]
  },
  {
   "cell_type": "code",
   "execution_count": 2,
   "id": "2575d6b2-2d6f-48ed-8d2a-7c6c385902a6",
   "metadata": {},
   "outputs": [
    {
     "name": "stderr",
     "output_type": "stream",
     "text": [
      "Setting default log level to \"WARN\".\n",
      "To adjust logging level use sc.setLogLevel(newLevel). For SparkR, use setLogLevel(newLevel).\n",
      "23/10/25 18:10:38 WARN NativeCodeLoader: Unable to load native-hadoop library for your platform... using builtin-java classes where applicable\n"
     ]
    }
   ],
   "source": [
    "spark = (SparkSession.builder.appName(\"cs544\")\n",
    "         .master(\"spark://boss:7077\")\n",
    "         .config(\"spark.executor.memory\", \"512M\")\n",
    "         .getOrCreate())"
   ]
  },
  {
   "cell_type": "code",
   "execution_count": 3,
   "id": "c363cf9d-c564-4d6e-aacf-76104349438a",
   "metadata": {},
   "outputs": [],
   "source": [
    "sc = spark.sparkContext # entry point for RDD stuff"
   ]
  },
  {
   "cell_type": "code",
   "execution_count": 4,
   "id": "03e92791-eb6a-4eaa-a346-b12b9888109f",
   "metadata": {},
   "outputs": [],
   "source": [
    "nums = list(range(1_000_000))\n",
    "rdd = sc.parallelize(nums)"
   ]
  },
  {
   "cell_type": "code",
   "execution_count": 5,
   "id": "0a844a60-ea1d-4bf9-8f9b-dcf4f19a6323",
   "metadata": {},
   "outputs": [],
   "source": [
    "inverses = rdd.map(lambda x: 1/x) # TRANSFORMATION"
   ]
  },
  {
   "cell_type": "code",
   "execution_count": 6,
   "id": "4f70d8e1-abe4-47d9-ab93-7a35827d7599",
   "metadata": {},
   "outputs": [],
   "source": [
    "# inverses.collect() # ACTION to get all the numbers, maybe using a lot of RAM"
   ]
  },
  {
   "cell_type": "code",
   "execution_count": 7,
   "id": "2a2f291a-f3e4-469f-a9a6-8c2cb9395149",
   "metadata": {},
   "outputs": [],
   "source": [
    "# ACTION triggers the work, including the divide by zero!\n",
    "# inverses.take(10)  # ACTION to get first N results"
   ]
  },
  {
   "cell_type": "code",
   "execution_count": 8,
   "id": "64f74ce2-64ef-4c52-8c6b-5ced014becef",
   "metadata": {},
   "outputs": [
    {
     "data": {
      "text/plain": [
       "PythonRDD[1] at RDD at PythonRDD.scala:53"
      ]
     },
     "execution_count": 8,
     "metadata": {},
     "output_type": "execute_result"
    }
   ],
   "source": [
    "inverses = rdd.filter(lambda x: x > 0).map(lambda x: 1/x)\n",
    "inverses"
   ]
  },
  {
   "cell_type": "code",
   "execution_count": 9,
   "id": "dd233ae3-21e0-4d5b-a7b2-2c12b07aa2a1",
   "metadata": {},
   "outputs": [
    {
     "name": "stderr",
     "output_type": "stream",
     "text": [
      "23/10/25 18:24:58 WARN TaskSetManager: Stage 0 contains a task of very large size (2332 KiB). The maximum recommended task size is 1000 KiB.\n",
      "                                                                                \r"
     ]
    },
    {
     "data": {
      "text/plain": [
       "1.4392740115605892e-05"
      ]
     },
     "execution_count": 9,
     "metadata": {},
     "output_type": "execute_result"
    }
   ],
   "source": [
    "inverses.mean() # mean is an ACTION"
   ]
  },
  {
   "cell_type": "code",
   "execution_count": 10,
   "id": "3d020e2c-330c-4616-ad54-973cca30227f",
   "metadata": {},
   "outputs": [
    {
     "data": {
      "text/plain": [
       "2"
      ]
     },
     "execution_count": 10,
     "metadata": {},
     "output_type": "execute_result"
    }
   ],
   "source": [
    "rdd.getNumPartitions()"
   ]
  },
  {
   "cell_type": "code",
   "execution_count": 11,
   "id": "d47a5bc8-9831-43e2-84b6-b384a7c80ec1",
   "metadata": {},
   "outputs": [
    {
     "data": {
      "text/plain": [
       "10"
      ]
     },
     "execution_count": 11,
     "metadata": {},
     "output_type": "execute_result"
    }
   ],
   "source": [
    "rdd = sc.parallelize(nums, 10)\n",
    "rdd.getNumPartitions()"
   ]
  },
  {
   "cell_type": "code",
   "execution_count": 12,
   "id": "455c31c3-900a-446c-9b8e-8164a31edc48",
   "metadata": {},
   "outputs": [
    {
     "name": "stderr",
     "output_type": "stream",
     "text": [
      "                                                                                \r"
     ]
    },
    {
     "data": {
      "text/plain": [
       "1.4392740115605814e-05"
      ]
     },
     "execution_count": 12,
     "metadata": {},
     "output_type": "execute_result"
    }
   ],
   "source": [
    "# 4 + 2 / 10\n",
    "# 4 tasks done\n",
    "# 2 tasks running\n",
    "# 10 tasks total\n",
    "inverses = rdd.filter(lambda x: x > 0).map(lambda x: 1/x)\n",
    "inverses.mean()"
   ]
  },
  {
   "cell_type": "code",
   "execution_count": 14,
   "id": "6fc9486e-0ae3-45ca-9fcb-cfc0a43f6c1e",
   "metadata": {},
   "outputs": [],
   "source": [
    "sample = rdd.sample(True, fraction=0.1, seed=544)"
   ]
  },
  {
   "cell_type": "code",
   "execution_count": 15,
   "id": "f06f8a51-2080-4116-a88c-bdd01f62680c",
   "metadata": {},
   "outputs": [],
   "source": [
    "import time"
   ]
  },
  {
   "cell_type": "code",
   "execution_count": 17,
   "id": "21601b3c-11b0-48a5-ac58-d3e015d688e1",
   "metadata": {},
   "outputs": [
    {
     "name": "stderr",
     "output_type": "stream",
     "text": [
      "[Stage 3:====================================================>     (9 + 1) / 10]\r"
     ]
    },
    {
     "name": "stdout",
     "output_type": "stream",
     "text": [
      "498504.761576394\n"
     ]
    },
    {
     "name": "stderr",
     "output_type": "stream",
     "text": [
      "                                                                                \r"
     ]
    },
    {
     "data": {
      "text/plain": [
       "3.643348455429077"
      ]
     },
     "execution_count": 17,
     "metadata": {},
     "output_type": "execute_result"
    }
   ],
   "source": [
    "t0 = time.time()\n",
    "print(sample.mean())\n",
    "t1 = time.time()\n",
    "t1 - t0"
   ]
  },
  {
   "cell_type": "code",
   "execution_count": 18,
   "id": "50874786-b37d-4c7c-a8fc-231596ae5605",
   "metadata": {},
   "outputs": [
    {
     "data": {
      "text/plain": [
       "PythonRDD[7] at RDD at PythonRDD.scala:53"
      ]
     },
     "execution_count": 18,
     "metadata": {},
     "output_type": "execute_result"
    }
   ],
   "source": [
    "sample.cache()"
   ]
  },
  {
   "cell_type": "code",
   "execution_count": 19,
   "id": "264649f1-f2c5-49ba-849b-63403bdf2bca",
   "metadata": {},
   "outputs": [
    {
     "name": "stderr",
     "output_type": "stream",
     "text": [
      "[Stage 4:==============================================>           (8 + 2) / 10]\r"
     ]
    },
    {
     "name": "stdout",
     "output_type": "stream",
     "text": [
      "498504.761576394\n"
     ]
    },
    {
     "name": "stderr",
     "output_type": "stream",
     "text": [
      "                                                                                \r"
     ]
    },
    {
     "data": {
      "text/plain": [
       "6.206595420837402"
      ]
     },
     "execution_count": 19,
     "metadata": {},
     "output_type": "execute_result"
    }
   ],
   "source": [
    "t0 = time.time()\n",
    "print(sample.mean())\n",
    "t1 = time.time()\n",
    "t1 - t0"
   ]
  },
  {
   "cell_type": "code",
   "execution_count": 20,
   "id": "0c032497-f80a-4206-a54b-ee0588fe09da",
   "metadata": {},
   "outputs": [
    {
     "name": "stderr",
     "output_type": "stream",
     "text": [
      "[Stage 5:==============================================>           (8 + 2) / 10]\r"
     ]
    },
    {
     "name": "stdout",
     "output_type": "stream",
     "text": [
      "498504.761576394\n"
     ]
    },
    {
     "name": "stderr",
     "output_type": "stream",
     "text": [
      "                                                                                \r"
     ]
    },
    {
     "data": {
      "text/plain": [
       "3.3982625007629395"
      ]
     },
     "execution_count": 20,
     "metadata": {},
     "output_type": "execute_result"
    }
   ],
   "source": [
    "t0 = time.time()\n",
    "print(sample.mean())\n",
    "t1 = time.time()\n",
    "t1 - t0"
   ]
  },
  {
   "cell_type": "code",
   "execution_count": 21,
   "id": "a3dc7978-0da6-4312-b630-9983c43adff6",
   "metadata": {},
   "outputs": [],
   "source": [
    "sample = rdd.sample(True, fraction=0.1, seed=544).repartition(1).cache()"
   ]
  },
  {
   "cell_type": "code",
   "execution_count": 22,
   "id": "c3f232f2-12a9-4eef-ba8b-2b147b59192e",
   "metadata": {},
   "outputs": [
    {
     "name": "stderr",
     "output_type": "stream",
     "text": [
      "[Stage 7:>                                                          (0 + 1) / 1]\r"
     ]
    },
    {
     "name": "stdout",
     "output_type": "stream",
     "text": [
      "498504.7615763901\n"
     ]
    },
    {
     "name": "stderr",
     "output_type": "stream",
     "text": [
      "                                                                                \r"
     ]
    },
    {
     "data": {
      "text/plain": [
       "5.471904516220093"
      ]
     },
     "execution_count": 22,
     "metadata": {},
     "output_type": "execute_result"
    }
   ],
   "source": [
    "t0 = time.time()\n",
    "print(sample.mean())\n",
    "t1 = time.time()\n",
    "t1 - t0"
   ]
  },
  {
   "cell_type": "code",
   "execution_count": 23,
   "id": "8603459d-fa1a-4639-a903-345c26ff154c",
   "metadata": {},
   "outputs": [
    {
     "name": "stderr",
     "output_type": "stream",
     "text": [
      "[Stage 9:>                                                          (0 + 1) / 1]\r"
     ]
    },
    {
     "name": "stdout",
     "output_type": "stream",
     "text": [
      "498504.7615763901\n"
     ]
    },
    {
     "name": "stderr",
     "output_type": "stream",
     "text": [
      "                                                                                \r"
     ]
    },
    {
     "data": {
      "text/plain": [
       "0.9089465141296387"
      ]
     },
     "execution_count": 23,
     "metadata": {},
     "output_type": "execute_result"
    }
   ],
   "source": [
    "t0 = time.time()\n",
    "print(sample.mean())\n",
    "t1 = time.time()\n",
    "t1 - t0"
   ]
  },
  {
   "cell_type": "markdown",
   "id": "01140642-3c64-48e8-815e-70cf4e4c4d66",
   "metadata": {},
   "source": [
    "# Spark DataFrames"
   ]
  },
  {
   "cell_type": "code",
   "execution_count": 24,
   "id": "f24cab4e-c629-48af-9471-b6d14afaaf59",
   "metadata": {},
   "outputs": [
    {
     "name": "stdout",
     "output_type": "stream",
     "text": [
      "--2023-10-25 18:34:59--  https://pages.cs.wisc.edu/~harter/cs544/data/ghcnd-stations.txt\n",
      "Resolving pages.cs.wisc.edu (pages.cs.wisc.edu)... 128.105.7.9\n",
      "Connecting to pages.cs.wisc.edu (pages.cs.wisc.edu)|128.105.7.9|:443... connected.\n",
      "HTTP request sent, awaiting response... 200 OK\n",
      "Length: 10607756 (10M) [text/plain]\n",
      "Saving to: ‘ghcnd-stations.txt’\n",
      "\n",
      "ghcnd-stations.txt  100%[===================>]  10.12M  11.4MB/s    in 0.9s    \n",
      "\n",
      "2023-10-25 18:35:01 (11.4 MB/s) - ‘ghcnd-stations.txt’ saved [10607756/10607756]\n",
      "\n"
     ]
    }
   ],
   "source": [
    "! wget https://pages.cs.wisc.edu/~harter/cs544/data/ghcnd-stations.txt"
   ]
  },
  {
   "cell_type": "code",
   "execution_count": 26,
   "id": "3d4eb15c-b10b-479c-897b-3ea18a5c3571",
   "metadata": {},
   "outputs": [],
   "source": [
    "df = spark.read.text(\"ghcnd-stations.txt\")"
   ]
  },
  {
   "cell_type": "code",
   "execution_count": 27,
   "id": "ed7f5650-5581-4854-a4e6-845c94346093",
   "metadata": {},
   "outputs": [
    {
     "data": {
      "text/plain": [
       "DataFrame[value: string]"
      ]
     },
     "execution_count": 27,
     "metadata": {},
     "output_type": "execute_result"
    }
   ],
   "source": [
    "df"
   ]
  },
  {
   "cell_type": "code",
   "execution_count": 28,
   "id": "9023861f-4504-43f1-810c-3987915140ef",
   "metadata": {},
   "outputs": [
    {
     "data": {
      "text/plain": [
       "(pyspark.sql.dataframe.DataFrame, pyspark.rdd.RDD)"
      ]
     },
     "execution_count": 28,
     "metadata": {},
     "output_type": "execute_result"
    }
   ],
   "source": [
    "type(df), type(df.rdd)"
   ]
  },
  {
   "cell_type": "code",
   "execution_count": 30,
   "id": "5bfeb9b9-425a-4730-a7a3-beaf065628b5",
   "metadata": {},
   "outputs": [],
   "source": [
    "# df.take(10)"
   ]
  },
  {
   "cell_type": "code",
   "execution_count": 31,
   "id": "e9b5b67e-cb1f-45fb-8d83-0df2a2ae804f",
   "metadata": {},
   "outputs": [],
   "source": [
    "! hdfs dfs -cp ghcnd-stations.txt hdfs://nn:9000/"
   ]
  },
  {
   "cell_type": "code",
   "execution_count": 32,
   "id": "e350b105-b477-46bb-b276-772484f54e09",
   "metadata": {},
   "outputs": [
    {
     "name": "stdout",
     "output_type": "stream",
     "text": [
      "Found 1 items\n",
      "-rw-r--r--   3 root supergroup   10607756 2023-10-25 18:39 hdfs://nn:9000/ghcnd-stations.txt\n"
     ]
    }
   ],
   "source": [
    "! hdfs dfs -ls hdfs://nn:9000/"
   ]
  },
  {
   "cell_type": "code",
   "execution_count": 33,
   "id": "87e14326-a6f9-4c17-9f37-4bf99aeb788e",
   "metadata": {},
   "outputs": [],
   "source": [
    "df = spark.read.text(\"hdfs://nn:9000/ghcnd-stations.txt\")"
   ]
  },
  {
   "cell_type": "code",
   "execution_count": 36,
   "id": "8f3b4de1-ab79-4767-9b5e-b8c8488368f3",
   "metadata": {},
   "outputs": [
    {
     "name": "stdout",
     "output_type": "stream",
     "text": [
      "ACW00011604  17.1167  -61.7833   10.1    ST JOHNS COOLIDGE FLD                       \n",
      "ACW00011647  17.1333  -61.7833   19.2    ST JOHNS                                    \n",
      "AE000041196  25.3330   55.5170   34.0    SHARJAH INTER. AIRP            GSN     41196\n",
      "AEM00041194  25.2550   55.3640   10.4    DUBAI INTL                             41194\n",
      "AEM00041217  24.4330   54.6510   26.8    ABU DHABI INTL                         41217\n",
      "AEM00041218  24.2620   55.6090  264.9    AL AIN INTL                            41218\n",
      "AF000040930  35.3170   69.0170 3366.0    NORTH-SALANG                   GSN     40930\n",
      "AFM00040938  34.2100   62.2280  977.2    HERAT                                  40938\n",
      "AFM00040948  34.5660   69.2120 1791.3    KABUL INTL                             40948\n",
      "AFM00040990  31.5000   65.8500 1010.0    KANDAHAR AIRPORT                       40990\n"
     ]
    }
   ],
   "source": [
    "!head ghcnd-stations.txt"
   ]
  },
  {
   "cell_type": "code",
   "execution_count": 35,
   "id": "a60a9c90-54fe-4080-a605-39cd817d9378",
   "metadata": {},
   "outputs": [
    {
     "name": "stderr",
     "output_type": "stream",
     "text": [
      "                                                                                \r"
     ]
    },
    {
     "data": {
      "text/plain": [
       "[Row(value='ACW00011604  17.1167  -61.7833   10.1    ST JOHNS COOLIDGE FLD                       '),\n",
       " Row(value='ACW00011647  17.1333  -61.7833   19.2    ST JOHNS                                    '),\n",
       " Row(value='AE000041196  25.3330   55.5170   34.0    SHARJAH INTER. AIRP            GSN     41196'),\n",
       " Row(value='AEM00041194  25.2550   55.3640   10.4    DUBAI INTL                             41194'),\n",
       " Row(value='AEM00041217  24.4330   54.6510   26.8    ABU DHABI INTL                         41217'),\n",
       " Row(value='AEM00041218  24.2620   55.6090  264.9    AL AIN INTL                            41218'),\n",
       " Row(value='AF000040930  35.3170   69.0170 3366.0    NORTH-SALANG                   GSN     40930'),\n",
       " Row(value='AFM00040938  34.2100   62.2280  977.2    HERAT                                  40938'),\n",
       " Row(value='AFM00040948  34.5660   69.2120 1791.3    KABUL INTL                             40948'),\n",
       " Row(value='AFM00040990  31.5000   65.8500 1010.0    KANDAHAR AIRPORT                       40990')]"
      ]
     },
     "execution_count": 35,
     "metadata": {},
     "output_type": "execute_result"
    }
   ],
   "source": [
    "df.take(10)"
   ]
  },
  {
   "cell_type": "code",
   "execution_count": 38,
   "id": "4f30386b-55eb-4c12-8a73-903fa2c94276",
   "metadata": {},
   "outputs": [
    {
     "data": {
      "text/html": [
       "<div>\n",
       "<style scoped>\n",
       "    .dataframe tbody tr th:only-of-type {\n",
       "        vertical-align: middle;\n",
       "    }\n",
       "\n",
       "    .dataframe tbody tr th {\n",
       "        vertical-align: top;\n",
       "    }\n",
       "\n",
       "    .dataframe thead th {\n",
       "        text-align: right;\n",
       "    }\n",
       "</style>\n",
       "<table border=\"1\" class=\"dataframe\">\n",
       "  <thead>\n",
       "    <tr style=\"text-align: right;\">\n",
       "      <th></th>\n",
       "      <th>value</th>\n",
       "    </tr>\n",
       "  </thead>\n",
       "  <tbody>\n",
       "    <tr>\n",
       "      <th>0</th>\n",
       "      <td>ACW00011604  17.1167  -61.7833   10.1    ST JO...</td>\n",
       "    </tr>\n",
       "    <tr>\n",
       "      <th>1</th>\n",
       "      <td>ACW00011647  17.1333  -61.7833   19.2    ST JO...</td>\n",
       "    </tr>\n",
       "    <tr>\n",
       "      <th>2</th>\n",
       "      <td>AE000041196  25.3330   55.5170   34.0    SHARJ...</td>\n",
       "    </tr>\n",
       "    <tr>\n",
       "      <th>3</th>\n",
       "      <td>AEM00041194  25.2550   55.3640   10.4    DUBAI...</td>\n",
       "    </tr>\n",
       "    <tr>\n",
       "      <th>4</th>\n",
       "      <td>AEM00041217  24.4330   54.6510   26.8    ABU D...</td>\n",
       "    </tr>\n",
       "    <tr>\n",
       "      <th>5</th>\n",
       "      <td>AEM00041218  24.2620   55.6090  264.9    AL AI...</td>\n",
       "    </tr>\n",
       "    <tr>\n",
       "      <th>6</th>\n",
       "      <td>AF000040930  35.3170   69.0170 3366.0    NORTH...</td>\n",
       "    </tr>\n",
       "    <tr>\n",
       "      <th>7</th>\n",
       "      <td>AFM00040938  34.2100   62.2280  977.2    HERAT...</td>\n",
       "    </tr>\n",
       "    <tr>\n",
       "      <th>8</th>\n",
       "      <td>AFM00040948  34.5660   69.2120 1791.3    KABUL...</td>\n",
       "    </tr>\n",
       "    <tr>\n",
       "      <th>9</th>\n",
       "      <td>AFM00040990  31.5000   65.8500 1010.0    KANDA...</td>\n",
       "    </tr>\n",
       "  </tbody>\n",
       "</table>\n",
       "</div>"
      ],
      "text/plain": [
       "                                               value\n",
       "0  ACW00011604  17.1167  -61.7833   10.1    ST JO...\n",
       "1  ACW00011647  17.1333  -61.7833   19.2    ST JO...\n",
       "2  AE000041196  25.3330   55.5170   34.0    SHARJ...\n",
       "3  AEM00041194  25.2550   55.3640   10.4    DUBAI...\n",
       "4  AEM00041217  24.4330   54.6510   26.8    ABU D...\n",
       "5  AEM00041218  24.2620   55.6090  264.9    AL AI...\n",
       "6  AF000040930  35.3170   69.0170 3366.0    NORTH...\n",
       "7  AFM00040938  34.2100   62.2280  977.2    HERAT...\n",
       "8  AFM00040948  34.5660   69.2120 1791.3    KABUL...\n",
       "9  AFM00040990  31.5000   65.8500 1010.0    KANDA..."
      ]
     },
     "execution_count": 38,
     "metadata": {},
     "output_type": "execute_result"
    }
   ],
   "source": [
    "pandas_df = df.limit(10).toPandas()\n",
    "pandas_df"
   ]
  },
  {
   "cell_type": "code",
   "execution_count": 39,
   "id": "97af6990-8deb-4ee2-801b-cf5f9bf2fa75",
   "metadata": {},
   "outputs": [],
   "source": [
    "# extract station ID using pandas"
   ]
  },
  {
   "cell_type": "code",
   "execution_count": 44,
   "id": "20b3f131-b1b9-4ac4-bcd2-a6cd09993599",
   "metadata": {},
   "outputs": [
    {
     "data": {
      "text/html": [
       "<div>\n",
       "<style scoped>\n",
       "    .dataframe tbody tr th:only-of-type {\n",
       "        vertical-align: middle;\n",
       "    }\n",
       "\n",
       "    .dataframe tbody tr th {\n",
       "        vertical-align: top;\n",
       "    }\n",
       "\n",
       "    .dataframe thead th {\n",
       "        text-align: right;\n",
       "    }\n",
       "</style>\n",
       "<table border=\"1\" class=\"dataframe\">\n",
       "  <thead>\n",
       "    <tr style=\"text-align: right;\">\n",
       "      <th></th>\n",
       "      <th>value</th>\n",
       "      <th>station</th>\n",
       "    </tr>\n",
       "  </thead>\n",
       "  <tbody>\n",
       "    <tr>\n",
       "      <th>0</th>\n",
       "      <td>ACW00011604  17.1167  -61.7833   10.1    ST JO...</td>\n",
       "      <td>ACW00011604</td>\n",
       "    </tr>\n",
       "    <tr>\n",
       "      <th>1</th>\n",
       "      <td>ACW00011647  17.1333  -61.7833   19.2    ST JO...</td>\n",
       "      <td>ACW00011647</td>\n",
       "    </tr>\n",
       "    <tr>\n",
       "      <th>2</th>\n",
       "      <td>AE000041196  25.3330   55.5170   34.0    SHARJ...</td>\n",
       "      <td>AE000041196</td>\n",
       "    </tr>\n",
       "    <tr>\n",
       "      <th>3</th>\n",
       "      <td>AEM00041194  25.2550   55.3640   10.4    DUBAI...</td>\n",
       "      <td>AEM00041194</td>\n",
       "    </tr>\n",
       "    <tr>\n",
       "      <th>4</th>\n",
       "      <td>AEM00041217  24.4330   54.6510   26.8    ABU D...</td>\n",
       "      <td>AEM00041217</td>\n",
       "    </tr>\n",
       "    <tr>\n",
       "      <th>5</th>\n",
       "      <td>AEM00041218  24.2620   55.6090  264.9    AL AI...</td>\n",
       "      <td>AEM00041218</td>\n",
       "    </tr>\n",
       "    <tr>\n",
       "      <th>6</th>\n",
       "      <td>AF000040930  35.3170   69.0170 3366.0    NORTH...</td>\n",
       "      <td>AF000040930</td>\n",
       "    </tr>\n",
       "    <tr>\n",
       "      <th>7</th>\n",
       "      <td>AFM00040938  34.2100   62.2280  977.2    HERAT...</td>\n",
       "      <td>AFM00040938</td>\n",
       "    </tr>\n",
       "    <tr>\n",
       "      <th>8</th>\n",
       "      <td>AFM00040948  34.5660   69.2120 1791.3    KABUL...</td>\n",
       "      <td>AFM00040948</td>\n",
       "    </tr>\n",
       "    <tr>\n",
       "      <th>9</th>\n",
       "      <td>AFM00040990  31.5000   65.8500 1010.0    KANDA...</td>\n",
       "      <td>AFM00040990</td>\n",
       "    </tr>\n",
       "  </tbody>\n",
       "</table>\n",
       "</div>"
      ],
      "text/plain": [
       "                                               value      station\n",
       "0  ACW00011604  17.1167  -61.7833   10.1    ST JO...  ACW00011604\n",
       "1  ACW00011647  17.1333  -61.7833   19.2    ST JO...  ACW00011647\n",
       "2  AE000041196  25.3330   55.5170   34.0    SHARJ...  AE000041196\n",
       "3  AEM00041194  25.2550   55.3640   10.4    DUBAI...  AEM00041194\n",
       "4  AEM00041217  24.4330   54.6510   26.8    ABU D...  AEM00041217\n",
       "5  AEM00041218  24.2620   55.6090  264.9    AL AI...  AEM00041218\n",
       "6  AF000040930  35.3170   69.0170 3366.0    NORTH...  AF000040930\n",
       "7  AFM00040938  34.2100   62.2280  977.2    HERAT...  AFM00040938\n",
       "8  AFM00040948  34.5660   69.2120 1791.3    KABUL...  AFM00040948\n",
       "9  AFM00040990  31.5000   65.8500 1010.0    KANDA...  AFM00040990"
      ]
     },
     "execution_count": 44,
     "metadata": {},
     "output_type": "execute_result"
    }
   ],
   "source": [
    "pandas_df[\"station\"] = pandas_df[\"value\"].str[:11]\n",
    "pandas_df"
   ]
  },
  {
   "cell_type": "code",
   "execution_count": 40,
   "id": "6b0a7258-260e-4b88-ab5a-8289c7fcf24c",
   "metadata": {},
   "outputs": [],
   "source": [
    "# extract station ID using Spark"
   ]
  },
  {
   "cell_type": "code",
   "execution_count": 46,
   "id": "8974e801-6f73-4fd3-b33b-22b6bb4bb8bd",
   "metadata": {},
   "outputs": [],
   "source": [
    "from pyspark.sql.functions import col, expr"
   ]
  },
  {
   "cell_type": "code",
   "execution_count": 47,
   "id": "28318987-8f5e-49f6-87cd-f19df6c1ce9a",
   "metadata": {},
   "outputs": [
    {
     "data": {
      "text/plain": [
       "Column<'(x + 1)'>"
      ]
     },
     "execution_count": 47,
     "metadata": {},
     "output_type": "execute_result"
    }
   ],
   "source": [
    "expr(\"x + 1\")"
   ]
  },
  {
   "cell_type": "code",
   "execution_count": null,
   "id": "575eed57-f7eb-4a37-ac6c-14512ca5f93f",
   "metadata": {},
   "outputs": [],
   "source": [
    "# expr(\"SQL STUFF HERE\")"
   ]
  },
  {
   "cell_type": "code",
   "execution_count": 48,
   "id": "a4a24390-3818-4450-8a52-399524ddc72d",
   "metadata": {},
   "outputs": [
    {
     "data": {
      "text/plain": [
       "Column<'substring(value, 0, 11)'>"
      ]
     },
     "execution_count": 48,
     "metadata": {},
     "output_type": "execute_result"
    }
   ],
   "source": [
    "expr(\"substring(value, 0, 11)\")"
   ]
  },
  {
   "cell_type": "code",
   "execution_count": 49,
   "id": "55f20bbc-47c6-4db5-91e2-619a8770cd90",
   "metadata": {},
   "outputs": [],
   "source": [
    "df2 = df.withColumn(\"station\", expr(\"substring(value, 0, 11)\"))"
   ]
  },
  {
   "cell_type": "code",
   "execution_count": 50,
   "id": "42aac4c1-568f-4966-8c87-84bfed9c285b",
   "metadata": {},
   "outputs": [
    {
     "data": {
      "text/plain": [
       "DataFrame[value: string, station: string]"
      ]
     },
     "execution_count": 50,
     "metadata": {},
     "output_type": "execute_result"
    }
   ],
   "source": [
    "df2"
   ]
  },
  {
   "cell_type": "code",
   "execution_count": 51,
   "id": "b1131013-c518-4002-a94d-60c6ff0e4e97",
   "metadata": {},
   "outputs": [
    {
     "data": {
      "text/html": [
       "<div>\n",
       "<style scoped>\n",
       "    .dataframe tbody tr th:only-of-type {\n",
       "        vertical-align: middle;\n",
       "    }\n",
       "\n",
       "    .dataframe tbody tr th {\n",
       "        vertical-align: top;\n",
       "    }\n",
       "\n",
       "    .dataframe thead th {\n",
       "        text-align: right;\n",
       "    }\n",
       "</style>\n",
       "<table border=\"1\" class=\"dataframe\">\n",
       "  <thead>\n",
       "    <tr style=\"text-align: right;\">\n",
       "      <th></th>\n",
       "      <th>value</th>\n",
       "      <th>station</th>\n",
       "    </tr>\n",
       "  </thead>\n",
       "  <tbody>\n",
       "    <tr>\n",
       "      <th>0</th>\n",
       "      <td>ACW00011604  17.1167  -61.7833   10.1    ST JO...</td>\n",
       "      <td>ACW00011604</td>\n",
       "    </tr>\n",
       "    <tr>\n",
       "      <th>1</th>\n",
       "      <td>ACW00011647  17.1333  -61.7833   19.2    ST JO...</td>\n",
       "      <td>ACW00011647</td>\n",
       "    </tr>\n",
       "    <tr>\n",
       "      <th>2</th>\n",
       "      <td>AE000041196  25.3330   55.5170   34.0    SHARJ...</td>\n",
       "      <td>AE000041196</td>\n",
       "    </tr>\n",
       "    <tr>\n",
       "      <th>3</th>\n",
       "      <td>AEM00041194  25.2550   55.3640   10.4    DUBAI...</td>\n",
       "      <td>AEM00041194</td>\n",
       "    </tr>\n",
       "    <tr>\n",
       "      <th>4</th>\n",
       "      <td>AEM00041217  24.4330   54.6510   26.8    ABU D...</td>\n",
       "      <td>AEM00041217</td>\n",
       "    </tr>\n",
       "    <tr>\n",
       "      <th>5</th>\n",
       "      <td>AEM00041218  24.2620   55.6090  264.9    AL AI...</td>\n",
       "      <td>AEM00041218</td>\n",
       "    </tr>\n",
       "    <tr>\n",
       "      <th>6</th>\n",
       "      <td>AF000040930  35.3170   69.0170 3366.0    NORTH...</td>\n",
       "      <td>AF000040930</td>\n",
       "    </tr>\n",
       "    <tr>\n",
       "      <th>7</th>\n",
       "      <td>AFM00040938  34.2100   62.2280  977.2    HERAT...</td>\n",
       "      <td>AFM00040938</td>\n",
       "    </tr>\n",
       "    <tr>\n",
       "      <th>8</th>\n",
       "      <td>AFM00040948  34.5660   69.2120 1791.3    KABUL...</td>\n",
       "      <td>AFM00040948</td>\n",
       "    </tr>\n",
       "    <tr>\n",
       "      <th>9</th>\n",
       "      <td>AFM00040990  31.5000   65.8500 1010.0    KANDA...</td>\n",
       "      <td>AFM00040990</td>\n",
       "    </tr>\n",
       "  </tbody>\n",
       "</table>\n",
       "</div>"
      ],
      "text/plain": [
       "                                               value      station\n",
       "0  ACW00011604  17.1167  -61.7833   10.1    ST JO...  ACW00011604\n",
       "1  ACW00011647  17.1333  -61.7833   19.2    ST JO...  ACW00011647\n",
       "2  AE000041196  25.3330   55.5170   34.0    SHARJ...  AE000041196\n",
       "3  AEM00041194  25.2550   55.3640   10.4    DUBAI...  AEM00041194\n",
       "4  AEM00041217  24.4330   54.6510   26.8    ABU D...  AEM00041217\n",
       "5  AEM00041218  24.2620   55.6090  264.9    AL AI...  AEM00041218\n",
       "6  AF000040930  35.3170   69.0170 3366.0    NORTH...  AF000040930\n",
       "7  AFM00040938  34.2100   62.2280  977.2    HERAT...  AFM00040938\n",
       "8  AFM00040948  34.5660   69.2120 1791.3    KABUL...  AFM00040948\n",
       "9  AFM00040990  31.5000   65.8500 1010.0    KANDA...  AFM00040990"
      ]
     },
     "execution_count": 51,
     "metadata": {},
     "output_type": "execute_result"
    }
   ],
   "source": [
    "df2.limit(10).toPandas()"
   ]
  }
 ],
 "metadata": {
  "kernelspec": {
   "display_name": "Python 3 (ipykernel)",
   "language": "python",
   "name": "python3"
  },
  "language_info": {
   "codemirror_mode": {
    "name": "ipython",
    "version": 3
   },
   "file_extension": ".py",
   "mimetype": "text/x-python",
   "name": "python",
   "nbconvert_exporter": "python",
   "pygments_lexer": "ipython3",
   "version": "3.10.12"
  }
 },
 "nbformat": 4,
 "nbformat_minor": 5
}
