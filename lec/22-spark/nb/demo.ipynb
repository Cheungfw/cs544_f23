{
 "cells": [
  {
   "cell_type": "markdown",
   "id": "add7644f-3b39-4346-836c-37128e00617b",
   "metadata": {},
   "source": [
    "# Setup"
   ]
  },
  {
   "cell_type": "code",
   "execution_count": 1,
   "id": "ab82db8b-d136-42bb-8a84-c3b462c2cb00",
   "metadata": {},
   "outputs": [
    {
     "name": "stderr",
     "output_type": "stream",
     "text": [
      "Using Spark's default log4j profile: org/apache/spark/log4j-defaults.properties\n",
      "Setting default log level to \"WARN\".\n",
      "To adjust logging level use sc.setLogLevel(newLevel). For SparkR, use setLogLevel(newLevel).\n",
      "23/03/17 20:08:45 WARN NativeCodeLoader: Unable to load native-hadoop library for your platform... using builtin-java classes where applicable\n"
     ]
    }
   ],
   "source": [
    "from pyspark.sql import SparkSession\n",
    "from pyspark.sql.functions import col, expr, row_number\n",
    "from pyspark.sql.window import Window\n",
    "\n",
    "spark = (SparkSession.builder.appName(\"cs544\")\n",
    "         .master(\"spark://main:7077\")\n",
    "         .config(\"spark.executor.memory\", \"512M\")\n",
    "         .config(\"spark.sql.warehouse.dir\", \"hdfs://main:9000/user/hive/warehouse\")\n",
    "         .enableHiveSupport()\n",
    "         .getOrCreate())"
   ]
  },
  {
   "cell_type": "code",
   "execution_count": 2,
   "id": "0a9b1ccb-ce44-434e-a712-35007c653fe3",
   "metadata": {},
   "outputs": [],
   "source": [
    "# ! wget https://pages.cs.wisc.edu/~harter/cs639/data/sf.zip\n",
    "# ! unzip sf.zip"
   ]
  },
  {
   "cell_type": "code",
   "execution_count": 3,
   "id": "8a60dd35-3a9b-454b-9851-40b096a59553",
   "metadata": {},
   "outputs": [
    {
     "name": "stdout",
     "output_type": "stream",
     "text": [
      "cp: `hdfs://main:9000/sf.csv': File exists\n"
     ]
    }
   ],
   "source": [
    "!hdfs dfs -cp sf.csv hdfs://main:9000/sf.csv"
   ]
  },
  {
   "cell_type": "code",
   "execution_count": 4,
   "id": "bb83fc9f-dab4-44e0-abcb-9bac05430ec9",
   "metadata": {},
   "outputs": [
    {
     "name": "stderr",
     "output_type": "stream",
     "text": [
      "23/03/17 20:09:45 WARN package: Truncated the string representation of a plan since it was too large. This behavior can be adjusted by setting 'spark.sql.debug.maxToStringFields'.\n",
      "                                                                                \r"
     ]
    }
   ],
   "source": [
    "df = (spark.read.format(\"csv\")\n",
    "    .option(\"header\", True)\n",
    "    .option(\"inferSchema\", True)\n",
    "    .load(\"hdfs://main:9000/sf.csv\"))\n",
    "columns = [col(c).alias(c.replace(\" \", \"\")) for c in df.columns]\n",
    "df.select(columns).write.format(\"parquet\").mode(\"overwrite\").save(\"hdfs://main:9000/sf.parquet\")"
   ]
  },
  {
   "cell_type": "markdown",
   "id": "07800c73-1f3d-4c90-bb2b-a9863b8ed6b0",
   "metadata": {},
   "source": [
    "## Lecture Part 1: Views and Tables"
   ]
  },
  {
   "cell_type": "code",
   "execution_count": 5,
   "id": "14d8880d-5ee4-4026-8093-e0cffb5e5fd2",
   "metadata": {},
   "outputs": [],
   "source": [
    "df = spark.read.format(\"parquet\").load(\"hdfs://main:9000/sf.parquet\")"
   ]
  },
  {
   "cell_type": "code",
   "execution_count": 6,
   "id": "89125e75-c43c-48f9-a3bf-07147b0ac49f",
   "metadata": {},
   "outputs": [],
   "source": [
    "# creating a view doesn't compute anything, it describes how to compute it as needed\n",
    "# df.createTempView(\"calls\")\n",
    "df.createOrReplaceTempView(\"calls\")"
   ]
  },
  {
   "cell_type": "code",
   "execution_count": 7,
   "id": "6525acab-37ea-46d2-968b-18bcd6ca70e5",
   "metadata": {},
   "outputs": [
    {
     "name": "stderr",
     "output_type": "stream",
     "text": [
      "23/03/17 20:12:06 WARN HiveConf: HiveConf of name hive.stats.jdbc.timeout does not exist\n",
      "23/03/17 20:12:06 WARN HiveConf: HiveConf of name hive.stats.retries.wait does not exist\n",
      "23/03/17 20:12:13 WARN ObjectStore: Version information not found in metastore. hive.metastore.schema.verification is not enabled so recording the schema version 2.3.0\n",
      "23/03/17 20:12:13 WARN ObjectStore: setMetaStoreSchemaVersion called but recording version is disabled: version = 2.3.0, comment = Set by MetaStore UNKNOWN@172.24.0.2\n",
      "23/03/17 20:12:14 WARN ObjectStore: Failed to get database global_temp, returning NoSuchObjectException\n"
     ]
    },
    {
     "name": "stdout",
     "output_type": "stream",
     "text": [
      "+---------+---------+-----------+\n",
      "|namespace|tableName|isTemporary|\n",
      "+---------+---------+-----------+\n",
      "|         |    calls|       true|\n",
      "+---------+---------+-----------+\n",
      "\n"
     ]
    }
   ],
   "source": [
    "spark.sql(\"SHOW TABLES\").show()   # shows both views and tables"
   ]
  },
  {
   "cell_type": "code",
   "execution_count": null,
   "id": "61439ad5-4c95-4d6d-88f9-9a7efb19b6f0",
   "metadata": {},
   "outputs": [],
   "source": []
  },
  {
   "cell_type": "markdown",
   "id": "69f848a9-9227-4509-b980-fb4dda8a5f1f",
   "metadata": {},
   "source": [
    "## Lecture Part 2: Categories"
   ]
  },
  {
   "cell_type": "code",
   "execution_count": null,
   "id": "15c8636c-d939-4b2e-9da2-aff4a73aa585",
   "metadata": {},
   "outputs": [],
   "source": []
  },
  {
   "cell_type": "markdown",
   "id": "dea9c29d-0625-427e-bceb-a558a645bcd3",
   "metadata": {},
   "source": [
    "## Lecture Part 3: Performance"
   ]
  },
  {
   "cell_type": "code",
   "execution_count": null,
   "id": "b24b8888-09ec-42f2-9225-3472fc2aed89",
   "metadata": {},
   "outputs": [],
   "source": []
  }
 ],
 "metadata": {
  "kernelspec": {
   "display_name": "Python 3 (ipykernel)",
   "language": "python",
   "name": "python3"
  },
  "language_info": {
   "codemirror_mode": {
    "name": "ipython",
    "version": 3
   },
   "file_extension": ".py",
   "mimetype": "text/x-python",
   "name": "python",
   "nbconvert_exporter": "python",
   "pygments_lexer": "ipython3",
   "version": "3.10.6"
  }
 },
 "nbformat": 4,
 "nbformat_minor": 5
}
