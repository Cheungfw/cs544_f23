{
 "cells": [
  {
   "cell_type": "code",
   "execution_count": 2,
   "id": "4e8dd290-cb44-4b6e-84f3-57f7f7d3d181",
   "metadata": {},
   "outputs": [],
   "source": [
    "from pyspark.sql import SparkSession"
   ]
  },
  {
   "cell_type": "code",
   "execution_count": 4,
   "id": "5d41b105-8df0-4ad1-9dde-d933900f404b",
   "metadata": {},
   "outputs": [
    {
     "name": "stderr",
     "output_type": "stream",
     "text": [
      "Setting default log level to \"WARN\".\n",
      "To adjust logging level use sc.setLogLevel(newLevel). For SparkR, use setLogLevel(newLevel).\n",
      "23/10/20 15:35:57 WARN NativeCodeLoader: Unable to load native-hadoop library for your platform... using builtin-java classes where applicable\n"
     ]
    }
   ],
   "source": [
    "spark = (SparkSession.builder.appName(\"cs544\")\n",
    "         .master(\"spark://boss:7077\")\n",
    "         .config(\"spark.executor.memory\", \"512M\")\n",
    "         .getOrCreate())"
   ]
  },
  {
   "cell_type": "code",
   "execution_count": 7,
   "id": "6c606b2c-d635-417a-9f3e-f0fdb1c296d4",
   "metadata": {},
   "outputs": [],
   "source": [
    "sc = spark.sparkContext # for interacting directly with RDDs"
   ]
  },
  {
   "cell_type": "code",
   "execution_count": 8,
   "id": "219fd2a9-5888-446c-94b8-de30d60e6a46",
   "metadata": {},
   "outputs": [],
   "source": [
    "nums = list(range(0,1_000_000))"
   ]
  },
  {
   "cell_type": "code",
   "execution_count": 9,
   "id": "1c594464-a088-4d83-b103-6ee4c4437299",
   "metadata": {},
   "outputs": [],
   "source": [
    "rdd = sc.parallelize(nums)"
   ]
  },
  {
   "cell_type": "code",
   "execution_count": 10,
   "id": "b021eacd-b64d-43c2-b26b-b7d6ee5f8bde",
   "metadata": {},
   "outputs": [],
   "source": [
    "inverses = rdd.map(lambda x: 1/x) # map is lazy, it's a transformation"
   ]
  },
  {
   "cell_type": "code",
   "execution_count": null,
   "id": "494bf3e0-c8c9-446b-9a7f-9c130dd0f575",
   "metadata": {},
   "outputs": [],
   "source": [
    "# inverses.collect() # action that gets all of them"
   ]
  },
  {
   "cell_type": "code",
   "execution_count": 12,
   "id": "0a6d3548-beeb-4530-abb3-dc2aa69a346b",
   "metadata": {},
   "outputs": [],
   "source": [
    "# triggers the work, which causes divide by zero\n",
    "# inverses.take(10) # action that gets first N"
   ]
  },
  {
   "cell_type": "code",
   "execution_count": 14,
   "id": "ebeb78f9-5e8c-4063-9f61-a1bf77737f18",
   "metadata": {},
   "outputs": [],
   "source": [
    "inverses = rdd.filter(lambda x: x > 0).map(lambda x: 1/x)"
   ]
  },
  {
   "cell_type": "code",
   "execution_count": 15,
   "id": "1694ff27-24df-45ef-a146-871909f19c55",
   "metadata": {},
   "outputs": [
    {
     "name": "stderr",
     "output_type": "stream",
     "text": [
      "23/10/20 15:44:57 WARN TaskSetManager: Stage 1 contains a task of very large size (2332 KiB). The maximum recommended task size is 1000 KiB.\n",
      "                                                                                \r"
     ]
    },
    {
     "data": {
      "text/plain": [
       "1.4392740115605892e-05"
      ]
     },
     "execution_count": 15,
     "metadata": {},
     "output_type": "execute_result"
    }
   ],
   "source": [
    "inverses.mean() # action"
   ]
  },
  {
   "cell_type": "code",
   "execution_count": 16,
   "id": "98dabc00-b0d8-4545-9394-5e7b01144137",
   "metadata": {},
   "outputs": [],
   "source": [
    "rdd = sc.parallelize(nums, 10)"
   ]
  },
  {
   "cell_type": "code",
   "execution_count": 17,
   "id": "9ba1a304-3032-410c-9071-78ddbc073681",
   "metadata": {},
   "outputs": [
    {
     "name": "stderr",
     "output_type": "stream",
     "text": [
      "                                                                                \r"
     ]
    },
    {
     "data": {
      "text/plain": [
       "1.4392740115605814e-05"
      ]
     },
     "execution_count": 17,
     "metadata": {},
     "output_type": "execute_result"
    }
   ],
   "source": [
    "inverses = rdd.filter(lambda x: x > 0).map(lambda x: 1/x)\n",
    "inverses.mean()"
   ]
  },
  {
   "cell_type": "code",
   "execution_count": null,
   "id": "e058c6f2-8730-4ebb-9e55-cbcafad84962",
   "metadata": {},
   "outputs": [],
   "source": []
  }
 ],
 "metadata": {
  "kernelspec": {
   "display_name": "Python 3 (ipykernel)",
   "language": "python",
   "name": "python3"
  },
  "language_info": {
   "codemirror_mode": {
    "name": "ipython",
    "version": 3
   },
   "file_extension": ".py",
   "mimetype": "text/x-python",
   "name": "python",
   "nbconvert_exporter": "python",
   "pygments_lexer": "ipython3",
   "version": "3.10.12"
  }
 },
 "nbformat": 4,
 "nbformat_minor": 5
}
