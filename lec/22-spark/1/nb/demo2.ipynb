{
 "cells": [
  {
   "cell_type": "code",
   "execution_count": null,
   "id": "65ec0868-4404-4976-a27c-760233db4568",
   "metadata": {},
   "outputs": [],
   "source": []
  },
  {
   "cell_type": "code",
   "execution_count": 2,
   "id": "353de752-5101-43ef-b090-0ef1574a4bfe",
   "metadata": {},
   "outputs": [
    {
     "data": {
      "text/plain": [
       "450.0"
      ]
     },
     "execution_count": 2,
     "metadata": {},
     "output_type": "execute_result"
    }
   ],
   "source": [
    "471859200 / 1024**2 # min size in MB"
   ]
  },
  {
   "cell_type": "code",
   "execution_count": 3,
   "id": "c8dca847-54af-4284-97d8-0682e88a6e8d",
   "metadata": {},
   "outputs": [
    {
     "name": "stderr",
     "output_type": "stream",
     "text": [
      "23/10/25 15:27:12 WARN SparkContext: Another SparkContext is being constructed (or threw an exception in its constructor). This may indicate an error, since only one SparkContext should be running in this JVM (see SPARK-2243). The other SparkContext was created at:\n",
      "org.apache.spark.api.java.JavaSparkContext.<init>(JavaSparkContext.scala:58)\n",
      "java.base/jdk.internal.reflect.NativeConstructorAccessorImpl.newInstance0(Native Method)\n",
      "java.base/jdk.internal.reflect.NativeConstructorAccessorImpl.newInstance(NativeConstructorAccessorImpl.java:62)\n",
      "java.base/jdk.internal.reflect.DelegatingConstructorAccessorImpl.newInstance(DelegatingConstructorAccessorImpl.java:45)\n",
      "java.base/java.lang.reflect.Constructor.newInstance(Constructor.java:490)\n",
      "py4j.reflection.MethodInvoker.invoke(MethodInvoker.java:247)\n",
      "py4j.reflection.ReflectionEngine.invoke(ReflectionEngine.java:374)\n",
      "py4j.Gateway.invoke(Gateway.java:238)\n",
      "py4j.commands.ConstructorCommand.invokeConstructor(ConstructorCommand.java:80)\n",
      "py4j.commands.ConstructorCommand.execute(ConstructorCommand.java:69)\n",
      "py4j.ClientServerConnection.waitForCommands(ClientServerConnection.java:182)\n",
      "py4j.ClientServerConnection.run(ClientServerConnection.java:106)\n",
      "java.base/java.lang.Thread.run(Thread.java:829)\n"
     ]
    }
   ],
   "source": [
    "from pyspark.sql import SparkSession\n",
    "spark = (SparkSession.builder.appName(\"cs544\")\n",
    "         .master(\"spark://boss:7077\")\n",
    "         .config(\"spark.executor.memory\", \"512M\")\n",
    "         .config(\"spark.sql.warehouse.dir\", \"hdfs://nn:9000/user/hive/warehouse\")\n",
    "         .enableHiveSupport()\n",
    "         .getOrCreate())"
   ]
  },
  {
   "cell_type": "code",
   "execution_count": 7,
   "id": "2294e4e0-ab19-496c-980f-31df757e7837",
   "metadata": {},
   "outputs": [],
   "source": [
    "!hdfs dfs -cp sf.csv hdfs://nn:9000/sf.csv"
   ]
  },
  {
   "cell_type": "code",
   "execution_count": 9,
   "id": "3e62d95e-e156-4334-8457-d44aeedc6c88",
   "metadata": {},
   "outputs": [
    {
     "name": "stderr",
     "output_type": "stream",
     "text": [
      "                                                                                \r"
     ]
    }
   ],
   "source": [
    "df = spark.read.format(\"csv\").load(\"hdfs://nn:9000/sf.csv\")"
   ]
  },
  {
   "cell_type": "code",
   "execution_count": 10,
   "id": "42f0f3e3-1ac1-4c5a-aa1f-6a51b18f6259",
   "metadata": {},
   "outputs": [
    {
     "name": "stderr",
     "output_type": "stream",
     "text": [
      "[Stage 4:>                                                          (0 + 1) / 1]\r"
     ]
    },
    {
     "name": "stdout",
     "output_type": "stream",
     "text": [
      "CPU times: user 34.7 ms, sys: 6.81 ms, total: 41.5 ms\n",
      "Wall time: 20.6 s\n"
     ]
    },
    {
     "name": "stderr",
     "output_type": "stream",
     "text": [
      "                                                                                \r"
     ]
    },
    {
     "data": {
      "text/plain": [
       "6016057"
      ]
     },
     "execution_count": 10,
     "metadata": {},
     "output_type": "execute_result"
    }
   ],
   "source": [
    "%%time\n",
    "df.count()"
   ]
  },
  {
   "cell_type": "code",
   "execution_count": 12,
   "id": "319969d5-f003-4e57-a94d-d0be2905f523",
   "metadata": {},
   "outputs": [
    {
     "data": {
      "text/html": [
       "<div>\n",
       "<style scoped>\n",
       "    .dataframe tbody tr th:only-of-type {\n",
       "        vertical-align: middle;\n",
       "    }\n",
       "\n",
       "    .dataframe tbody tr th {\n",
       "        vertical-align: top;\n",
       "    }\n",
       "\n",
       "    .dataframe thead th {\n",
       "        text-align: right;\n",
       "    }\n",
       "</style>\n",
       "<table border=\"1\" class=\"dataframe\">\n",
       "  <thead>\n",
       "    <tr style=\"text-align: right;\">\n",
       "      <th></th>\n",
       "      <th>_c0</th>\n",
       "      <th>_c1</th>\n",
       "      <th>_c2</th>\n",
       "      <th>_c3</th>\n",
       "      <th>_c4</th>\n",
       "      <th>_c5</th>\n",
       "      <th>_c6</th>\n",
       "      <th>_c7</th>\n",
       "      <th>_c8</th>\n",
       "      <th>_c9</th>\n",
       "      <th>...</th>\n",
       "      <th>_c25</th>\n",
       "      <th>_c26</th>\n",
       "      <th>_c27</th>\n",
       "      <th>_c28</th>\n",
       "      <th>_c29</th>\n",
       "      <th>_c30</th>\n",
       "      <th>_c31</th>\n",
       "      <th>_c32</th>\n",
       "      <th>_c33</th>\n",
       "      <th>_c34</th>\n",
       "    </tr>\n",
       "  </thead>\n",
       "  <tbody>\n",
       "    <tr>\n",
       "      <th>0</th>\n",
       "      <td>Call Number</td>\n",
       "      <td>Unit ID</td>\n",
       "      <td>Incident Number</td>\n",
       "      <td>Call Type</td>\n",
       "      <td>Call Date</td>\n",
       "      <td>Watch Date</td>\n",
       "      <td>Received DtTm</td>\n",
       "      <td>Entry DtTm</td>\n",
       "      <td>Dispatch DtTm</td>\n",
       "      <td>Response DtTm</td>\n",
       "      <td>...</td>\n",
       "      <td>Call Type Group</td>\n",
       "      <td>Number of Alarms</td>\n",
       "      <td>Unit Type</td>\n",
       "      <td>Unit sequence in call dispatch</td>\n",
       "      <td>Fire Prevention District</td>\n",
       "      <td>Supervisor District</td>\n",
       "      <td>Neighborhooods - Analysis Boundaries</td>\n",
       "      <td>RowID</td>\n",
       "      <td>case_location</td>\n",
       "      <td>Analysis Neighborhoods</td>\n",
       "    </tr>\n",
       "    <tr>\n",
       "      <th>1</th>\n",
       "      <td>221210313</td>\n",
       "      <td>E36</td>\n",
       "      <td>22054955</td>\n",
       "      <td>Outside Fire</td>\n",
       "      <td>05/01/2022</td>\n",
       "      <td>04/30/2022</td>\n",
       "      <td>05/01/2022 02:58:25 AM</td>\n",
       "      <td>05/01/2022 02:59:15 AM</td>\n",
       "      <td>05/01/2022 02:59:25 AM</td>\n",
       "      <td>05/01/2022 03:01:06 AM</td>\n",
       "      <td>...</td>\n",
       "      <td>Fire</td>\n",
       "      <td>1</td>\n",
       "      <td>ENGINE</td>\n",
       "      <td>1</td>\n",
       "      <td>2</td>\n",
       "      <td>5</td>\n",
       "      <td>Hayes Valley</td>\n",
       "      <td>221210313-E36</td>\n",
       "      <td>POINT (-122.42316555403964 37.77781524520032)</td>\n",
       "      <td>9</td>\n",
       "    </tr>\n",
       "    <tr>\n",
       "      <th>2</th>\n",
       "      <td>220190150</td>\n",
       "      <td>E29</td>\n",
       "      <td>22008871</td>\n",
       "      <td>Alarms</td>\n",
       "      <td>01/19/2022</td>\n",
       "      <td>01/18/2022</td>\n",
       "      <td>01/19/2022 01:42:12 AM</td>\n",
       "      <td>01/19/2022 01:44:13 AM</td>\n",
       "      <td>01/19/2022 01:44:28 AM</td>\n",
       "      <td>01/19/2022 01:46:47 AM</td>\n",
       "      <td>...</td>\n",
       "      <td>Alarm</td>\n",
       "      <td>1</td>\n",
       "      <td>ENGINE</td>\n",
       "      <td>1</td>\n",
       "      <td>3</td>\n",
       "      <td>10</td>\n",
       "      <td>Potrero Hill</td>\n",
       "      <td>220190150-E29</td>\n",
       "      <td>POINT (-122.39469970274361 37.76460987856451)</td>\n",
       "      <td>26</td>\n",
       "    </tr>\n",
       "    <tr>\n",
       "      <th>3</th>\n",
       "      <td>211233271</td>\n",
       "      <td>T07</td>\n",
       "      <td>21053032</td>\n",
       "      <td>Alarms</td>\n",
       "      <td>05/03/2021</td>\n",
       "      <td>05/03/2021</td>\n",
       "      <td>05/03/2021 09:28:12 PM</td>\n",
       "      <td>05/03/2021 09:28:12 PM</td>\n",
       "      <td>05/03/2021 09:28:17 PM</td>\n",
       "      <td>05/03/2021 09:29:10 PM</td>\n",
       "      <td>...</td>\n",
       "      <td>Alarm</td>\n",
       "      <td>1</td>\n",
       "      <td>TRUCK</td>\n",
       "      <td>2</td>\n",
       "      <td>2</td>\n",
       "      <td>9</td>\n",
       "      <td>Mission</td>\n",
       "      <td>211233271-T07</td>\n",
       "      <td>POINT (-122.42057572093252 37.76418194637148)</td>\n",
       "      <td>20</td>\n",
       "    </tr>\n",
       "    <tr>\n",
       "      <th>4</th>\n",
       "      <td>212933533</td>\n",
       "      <td>B02</td>\n",
       "      <td>21127914</td>\n",
       "      <td>Alarms</td>\n",
       "      <td>10/20/2021</td>\n",
       "      <td>10/20/2021</td>\n",
       "      <td>10/20/2021 10:08:47 PM</td>\n",
       "      <td>10/20/2021 10:09:53 PM</td>\n",
       "      <td>10/20/2021 10:10:07 PM</td>\n",
       "      <td>10/20/2021 10:11:55 PM</td>\n",
       "      <td>...</td>\n",
       "      <td>Alarm</td>\n",
       "      <td>1</td>\n",
       "      <td>CHIEF</td>\n",
       "      <td>3</td>\n",
       "      <td>3</td>\n",
       "      <td>6</td>\n",
       "      <td>Tenderloin</td>\n",
       "      <td>212933533-B02</td>\n",
       "      <td>POINT (-122.41243514072728 37.78347684038771)</td>\n",
       "      <td>36</td>\n",
       "    </tr>\n",
       "  </tbody>\n",
       "</table>\n",
       "<p>5 rows × 35 columns</p>\n",
       "</div>"
      ],
      "text/plain": [
       "           _c0      _c1              _c2           _c3         _c4  \\\n",
       "0  Call Number  Unit ID  Incident Number     Call Type   Call Date   \n",
       "1    221210313      E36         22054955  Outside Fire  05/01/2022   \n",
       "2    220190150      E29         22008871        Alarms  01/19/2022   \n",
       "3    211233271      T07         21053032        Alarms  05/03/2021   \n",
       "4    212933533      B02         21127914        Alarms  10/20/2021   \n",
       "\n",
       "          _c5                     _c6                     _c7  \\\n",
       "0  Watch Date           Received DtTm              Entry DtTm   \n",
       "1  04/30/2022  05/01/2022 02:58:25 AM  05/01/2022 02:59:15 AM   \n",
       "2  01/18/2022  01/19/2022 01:42:12 AM  01/19/2022 01:44:13 AM   \n",
       "3  05/03/2021  05/03/2021 09:28:12 PM  05/03/2021 09:28:12 PM   \n",
       "4  10/20/2021  10/20/2021 10:08:47 PM  10/20/2021 10:09:53 PM   \n",
       "\n",
       "                      _c8                     _c9  ...             _c25  \\\n",
       "0           Dispatch DtTm           Response DtTm  ...  Call Type Group   \n",
       "1  05/01/2022 02:59:25 AM  05/01/2022 03:01:06 AM  ...             Fire   \n",
       "2  01/19/2022 01:44:28 AM  01/19/2022 01:46:47 AM  ...            Alarm   \n",
       "3  05/03/2021 09:28:17 PM  05/03/2021 09:29:10 PM  ...            Alarm   \n",
       "4  10/20/2021 10:10:07 PM  10/20/2021 10:11:55 PM  ...            Alarm   \n",
       "\n",
       "               _c26       _c27                            _c28  \\\n",
       "0  Number of Alarms  Unit Type  Unit sequence in call dispatch   \n",
       "1                 1     ENGINE                               1   \n",
       "2                 1     ENGINE                               1   \n",
       "3                 1      TRUCK                               2   \n",
       "4                 1      CHIEF                               3   \n",
       "\n",
       "                       _c29                 _c30  \\\n",
       "0  Fire Prevention District  Supervisor District   \n",
       "1                         2                    5   \n",
       "2                         3                   10   \n",
       "3                         2                    9   \n",
       "4                         3                    6   \n",
       "\n",
       "                                   _c31           _c32  \\\n",
       "0  Neighborhooods - Analysis Boundaries          RowID   \n",
       "1                          Hayes Valley  221210313-E36   \n",
       "2                          Potrero Hill  220190150-E29   \n",
       "3                               Mission  211233271-T07   \n",
       "4                            Tenderloin  212933533-B02   \n",
       "\n",
       "                                            _c33                    _c34  \n",
       "0                                  case_location  Analysis Neighborhoods  \n",
       "1  POINT (-122.42316555403964 37.77781524520032)                       9  \n",
       "2  POINT (-122.39469970274361 37.76460987856451)                      26  \n",
       "3  POINT (-122.42057572093252 37.76418194637148)                      20  \n",
       "4  POINT (-122.41243514072728 37.78347684038771)                      36  \n",
       "\n",
       "[5 rows x 35 columns]"
      ]
     },
     "execution_count": 12,
     "metadata": {},
     "output_type": "execute_result"
    }
   ],
   "source": [
    "df.limit(5).toPandas()"
   ]
  },
  {
   "cell_type": "code",
   "execution_count": 13,
   "id": "8dff5b58-6793-4f93-ae13-228236a5416e",
   "metadata": {},
   "outputs": [],
   "source": [
    "df = (spark.read.format(\"csv\")\n",
    "      .option(\"header\", True)\n",
    "      .load(\"hdfs://nn:9000/sf.csv\"))"
   ]
  },
  {
   "cell_type": "code",
   "execution_count": 14,
   "id": "8757552d-2fde-4e02-87e0-4808dcbf017a",
   "metadata": {},
   "outputs": [
    {
     "data": {
      "text/html": [
       "<div>\n",
       "<style scoped>\n",
       "    .dataframe tbody tr th:only-of-type {\n",
       "        vertical-align: middle;\n",
       "    }\n",
       "\n",
       "    .dataframe tbody tr th {\n",
       "        vertical-align: top;\n",
       "    }\n",
       "\n",
       "    .dataframe thead th {\n",
       "        text-align: right;\n",
       "    }\n",
       "</style>\n",
       "<table border=\"1\" class=\"dataframe\">\n",
       "  <thead>\n",
       "    <tr style=\"text-align: right;\">\n",
       "      <th></th>\n",
       "      <th>Call Number</th>\n",
       "      <th>Unit ID</th>\n",
       "      <th>Incident Number</th>\n",
       "      <th>Call Type</th>\n",
       "      <th>Call Date</th>\n",
       "      <th>Watch Date</th>\n",
       "      <th>Received DtTm</th>\n",
       "      <th>Entry DtTm</th>\n",
       "      <th>Dispatch DtTm</th>\n",
       "      <th>Response DtTm</th>\n",
       "      <th>...</th>\n",
       "      <th>Call Type Group</th>\n",
       "      <th>Number of Alarms</th>\n",
       "      <th>Unit Type</th>\n",
       "      <th>Unit sequence in call dispatch</th>\n",
       "      <th>Fire Prevention District</th>\n",
       "      <th>Supervisor District</th>\n",
       "      <th>Neighborhooods - Analysis Boundaries</th>\n",
       "      <th>RowID</th>\n",
       "      <th>case_location</th>\n",
       "      <th>Analysis Neighborhoods</th>\n",
       "    </tr>\n",
       "  </thead>\n",
       "  <tbody>\n",
       "    <tr>\n",
       "      <th>0</th>\n",
       "      <td>221210313</td>\n",
       "      <td>E36</td>\n",
       "      <td>22054955</td>\n",
       "      <td>Outside Fire</td>\n",
       "      <td>05/01/2022</td>\n",
       "      <td>04/30/2022</td>\n",
       "      <td>05/01/2022 02:58:25 AM</td>\n",
       "      <td>05/01/2022 02:59:15 AM</td>\n",
       "      <td>05/01/2022 02:59:25 AM</td>\n",
       "      <td>05/01/2022 03:01:06 AM</td>\n",
       "      <td>...</td>\n",
       "      <td>Fire</td>\n",
       "      <td>1</td>\n",
       "      <td>ENGINE</td>\n",
       "      <td>1</td>\n",
       "      <td>2</td>\n",
       "      <td>5</td>\n",
       "      <td>Hayes Valley</td>\n",
       "      <td>221210313-E36</td>\n",
       "      <td>POINT (-122.42316555403964 37.77781524520032)</td>\n",
       "      <td>9</td>\n",
       "    </tr>\n",
       "    <tr>\n",
       "      <th>1</th>\n",
       "      <td>220190150</td>\n",
       "      <td>E29</td>\n",
       "      <td>22008871</td>\n",
       "      <td>Alarms</td>\n",
       "      <td>01/19/2022</td>\n",
       "      <td>01/18/2022</td>\n",
       "      <td>01/19/2022 01:42:12 AM</td>\n",
       "      <td>01/19/2022 01:44:13 AM</td>\n",
       "      <td>01/19/2022 01:44:28 AM</td>\n",
       "      <td>01/19/2022 01:46:47 AM</td>\n",
       "      <td>...</td>\n",
       "      <td>Alarm</td>\n",
       "      <td>1</td>\n",
       "      <td>ENGINE</td>\n",
       "      <td>1</td>\n",
       "      <td>3</td>\n",
       "      <td>10</td>\n",
       "      <td>Potrero Hill</td>\n",
       "      <td>220190150-E29</td>\n",
       "      <td>POINT (-122.39469970274361 37.76460987856451)</td>\n",
       "      <td>26</td>\n",
       "    </tr>\n",
       "    <tr>\n",
       "      <th>2</th>\n",
       "      <td>211233271</td>\n",
       "      <td>T07</td>\n",
       "      <td>21053032</td>\n",
       "      <td>Alarms</td>\n",
       "      <td>05/03/2021</td>\n",
       "      <td>05/03/2021</td>\n",
       "      <td>05/03/2021 09:28:12 PM</td>\n",
       "      <td>05/03/2021 09:28:12 PM</td>\n",
       "      <td>05/03/2021 09:28:17 PM</td>\n",
       "      <td>05/03/2021 09:29:10 PM</td>\n",
       "      <td>...</td>\n",
       "      <td>Alarm</td>\n",
       "      <td>1</td>\n",
       "      <td>TRUCK</td>\n",
       "      <td>2</td>\n",
       "      <td>2</td>\n",
       "      <td>9</td>\n",
       "      <td>Mission</td>\n",
       "      <td>211233271-T07</td>\n",
       "      <td>POINT (-122.42057572093252 37.76418194637148)</td>\n",
       "      <td>20</td>\n",
       "    </tr>\n",
       "    <tr>\n",
       "      <th>3</th>\n",
       "      <td>212933533</td>\n",
       "      <td>B02</td>\n",
       "      <td>21127914</td>\n",
       "      <td>Alarms</td>\n",
       "      <td>10/20/2021</td>\n",
       "      <td>10/20/2021</td>\n",
       "      <td>10/20/2021 10:08:47 PM</td>\n",
       "      <td>10/20/2021 10:09:53 PM</td>\n",
       "      <td>10/20/2021 10:10:07 PM</td>\n",
       "      <td>10/20/2021 10:11:55 PM</td>\n",
       "      <td>...</td>\n",
       "      <td>Alarm</td>\n",
       "      <td>1</td>\n",
       "      <td>CHIEF</td>\n",
       "      <td>3</td>\n",
       "      <td>3</td>\n",
       "      <td>6</td>\n",
       "      <td>Tenderloin</td>\n",
       "      <td>212933533-B02</td>\n",
       "      <td>POINT (-122.41243514072728 37.78347684038771)</td>\n",
       "      <td>36</td>\n",
       "    </tr>\n",
       "    <tr>\n",
       "      <th>4</th>\n",
       "      <td>221202543</td>\n",
       "      <td>E41</td>\n",
       "      <td>22054815</td>\n",
       "      <td>Alarms</td>\n",
       "      <td>04/30/2022</td>\n",
       "      <td>04/30/2022</td>\n",
       "      <td>04/30/2022 06:35:58 PM</td>\n",
       "      <td>04/30/2022 06:37:28 PM</td>\n",
       "      <td>04/30/2022 06:37:43 PM</td>\n",
       "      <td>04/30/2022 06:38:17 PM</td>\n",
       "      <td>...</td>\n",
       "      <td>Alarm</td>\n",
       "      <td>1</td>\n",
       "      <td>ENGINE</td>\n",
       "      <td>4</td>\n",
       "      <td>4</td>\n",
       "      <td>2</td>\n",
       "      <td>Russian Hill</td>\n",
       "      <td>221202543-E41</td>\n",
       "      <td>POINT (-122.4233369425531 37.799534868680034)</td>\n",
       "      <td>32</td>\n",
       "    </tr>\n",
       "  </tbody>\n",
       "</table>\n",
       "<p>5 rows × 35 columns</p>\n",
       "</div>"
      ],
      "text/plain": [
       "  Call Number Unit ID Incident Number     Call Type   Call Date  Watch Date  \\\n",
       "0   221210313     E36        22054955  Outside Fire  05/01/2022  04/30/2022   \n",
       "1   220190150     E29        22008871        Alarms  01/19/2022  01/18/2022   \n",
       "2   211233271     T07        21053032        Alarms  05/03/2021  05/03/2021   \n",
       "3   212933533     B02        21127914        Alarms  10/20/2021  10/20/2021   \n",
       "4   221202543     E41        22054815        Alarms  04/30/2022  04/30/2022   \n",
       "\n",
       "            Received DtTm              Entry DtTm           Dispatch DtTm  \\\n",
       "0  05/01/2022 02:58:25 AM  05/01/2022 02:59:15 AM  05/01/2022 02:59:25 AM   \n",
       "1  01/19/2022 01:42:12 AM  01/19/2022 01:44:13 AM  01/19/2022 01:44:28 AM   \n",
       "2  05/03/2021 09:28:12 PM  05/03/2021 09:28:12 PM  05/03/2021 09:28:17 PM   \n",
       "3  10/20/2021 10:08:47 PM  10/20/2021 10:09:53 PM  10/20/2021 10:10:07 PM   \n",
       "4  04/30/2022 06:35:58 PM  04/30/2022 06:37:28 PM  04/30/2022 06:37:43 PM   \n",
       "\n",
       "            Response DtTm  ... Call Type Group Number of Alarms Unit Type  \\\n",
       "0  05/01/2022 03:01:06 AM  ...            Fire                1    ENGINE   \n",
       "1  01/19/2022 01:46:47 AM  ...           Alarm                1    ENGINE   \n",
       "2  05/03/2021 09:29:10 PM  ...           Alarm                1     TRUCK   \n",
       "3  10/20/2021 10:11:55 PM  ...           Alarm                1     CHIEF   \n",
       "4  04/30/2022 06:38:17 PM  ...           Alarm                1    ENGINE   \n",
       "\n",
       "  Unit sequence in call dispatch Fire Prevention District Supervisor District  \\\n",
       "0                              1                        2                   5   \n",
       "1                              1                        3                  10   \n",
       "2                              2                        2                   9   \n",
       "3                              3                        3                   6   \n",
       "4                              4                        4                   2   \n",
       "\n",
       "  Neighborhooods - Analysis Boundaries          RowID  \\\n",
       "0                         Hayes Valley  221210313-E36   \n",
       "1                         Potrero Hill  220190150-E29   \n",
       "2                              Mission  211233271-T07   \n",
       "3                           Tenderloin  212933533-B02   \n",
       "4                         Russian Hill  221202543-E41   \n",
       "\n",
       "                                   case_location Analysis Neighborhoods  \n",
       "0  POINT (-122.42316555403964 37.77781524520032)                      9  \n",
       "1  POINT (-122.39469970274361 37.76460987856451)                     26  \n",
       "2  POINT (-122.42057572093252 37.76418194637148)                     20  \n",
       "3  POINT (-122.41243514072728 37.78347684038771)                     36  \n",
       "4  POINT (-122.4233369425531 37.799534868680034)                     32  \n",
       "\n",
       "[5 rows x 35 columns]"
      ]
     },
     "execution_count": 14,
     "metadata": {},
     "output_type": "execute_result"
    }
   ],
   "source": [
    "df.limit(5).toPandas()"
   ]
  },
  {
   "cell_type": "code",
   "execution_count": 15,
   "id": "bf4aca67-bbf0-4f26-bdcb-aa9a20327d59",
   "metadata": {},
   "outputs": [
    {
     "data": {
      "text/plain": [
       "[('Call Number', 'string'),\n",
       " ('Unit ID', 'string'),\n",
       " ('Incident Number', 'string'),\n",
       " ('Call Type', 'string'),\n",
       " ('Call Date', 'string'),\n",
       " ('Watch Date', 'string'),\n",
       " ('Received DtTm', 'string'),\n",
       " ('Entry DtTm', 'string'),\n",
       " ('Dispatch DtTm', 'string'),\n",
       " ('Response DtTm', 'string'),\n",
       " ('On Scene DtTm', 'string'),\n",
       " ('Transport DtTm', 'string'),\n",
       " ('Hospital DtTm', 'string'),\n",
       " ('Call Final Disposition', 'string'),\n",
       " ('Available DtTm', 'string'),\n",
       " ('Address', 'string'),\n",
       " ('City', 'string'),\n",
       " ('Zipcode of Incident', 'string'),\n",
       " ('Battalion', 'string'),\n",
       " ('Station Area', 'string'),\n",
       " ('Box', 'string'),\n",
       " ('Original Priority', 'string'),\n",
       " ('Priority', 'string'),\n",
       " ('Final Priority', 'string'),\n",
       " ('ALS Unit', 'string'),\n",
       " ('Call Type Group', 'string'),\n",
       " ('Number of Alarms', 'string'),\n",
       " ('Unit Type', 'string'),\n",
       " ('Unit sequence in call dispatch', 'string'),\n",
       " ('Fire Prevention District', 'string'),\n",
       " ('Supervisor District', 'string'),\n",
       " ('Neighborhooods - Analysis Boundaries', 'string'),\n",
       " ('RowID', 'string'),\n",
       " ('case_location', 'string'),\n",
       " ('Analysis Neighborhoods', 'string')]"
      ]
     },
     "execution_count": 15,
     "metadata": {},
     "output_type": "execute_result"
    }
   ],
   "source": [
    "df.dtypes"
   ]
  },
  {
   "cell_type": "code",
   "execution_count": 16,
   "id": "cb54bacc-b52a-4c25-93d2-2ba0f61de9b0",
   "metadata": {},
   "outputs": [
    {
     "name": "stderr",
     "output_type": "stream",
     "text": [
      "                                                                                \r"
     ]
    }
   ],
   "source": [
    "df = (spark.read.format(\"csv\")\n",
    "      .option(\"header\", True)\n",
    "      .option(\"inferSchema\", True)\n",
    "      .load(\"hdfs://nn:9000/sf.csv\"))"
   ]
  },
  {
   "cell_type": "code",
   "execution_count": 17,
   "id": "cd6e3c2d-a039-4242-9607-8aaab5182dbf",
   "metadata": {},
   "outputs": [
    {
     "data": {
      "text/plain": [
       "DataFrame[Call Number: int, Unit ID: string, Incident Number: int, Call Type: string, Call Date: string, Watch Date: string, Received DtTm: string, Entry DtTm: string, Dispatch DtTm: string, Response DtTm: string, On Scene DtTm: string, Transport DtTm: string, Hospital DtTm: string, Call Final Disposition: string, Available DtTm: string, Address: string, City: string, Zipcode of Incident: int, Battalion: string, Station Area: string, Box: string, Original Priority: string, Priority: string, Final Priority: int, ALS Unit: boolean, Call Type Group: string, Number of Alarms: int, Unit Type: string, Unit sequence in call dispatch: int, Fire Prevention District: string, Supervisor District: string, Neighborhooods - Analysis Boundaries: string, RowID: string, case_location: string, Analysis Neighborhoods: int]"
      ]
     },
     "execution_count": 17,
     "metadata": {},
     "output_type": "execute_result"
    }
   ],
   "source": [
    "df"
   ]
  },
  {
   "cell_type": "code",
   "execution_count": 18,
   "id": "f981df20-87bf-418e-ae9a-ef0c36114272",
   "metadata": {},
   "outputs": [],
   "source": [
    "# Learn strategies for transforming the data"
   ]
  },
  {
   "cell_type": "code",
   "execution_count": 20,
   "id": "cf8d68a2-fae4-4d22-8300-0b8a8178e1d3",
   "metadata": {},
   "outputs": [],
   "source": [
    "from pyspark.sql.functions import col, expr"
   ]
  },
  {
   "cell_type": "code",
   "execution_count": 21,
   "id": "980e7e3f-4b31-457a-b543-4f2bb18977d2",
   "metadata": {},
   "outputs": [
    {
     "data": {
      "text/plain": [
       "Column<'x'>"
      ]
     },
     "execution_count": 21,
     "metadata": {},
     "output_type": "execute_result"
    }
   ],
   "source": [
    "col(\"x\")"
   ]
  },
  {
   "cell_type": "code",
   "execution_count": 23,
   "id": "d0b43ecf-43db-406d-936a-9acca55401e4",
   "metadata": {},
   "outputs": [
    {
     "data": {
      "text/plain": [
       "Column<'(x + 1)'>"
      ]
     },
     "execution_count": 23,
     "metadata": {},
     "output_type": "execute_result"
    }
   ],
   "source": [
    "expr(\"x + 1\")"
   ]
  },
  {
   "cell_type": "code",
   "execution_count": 24,
   "id": "6ba17c66-53b6-4896-82f1-cb66479a769c",
   "metadata": {},
   "outputs": [
    {
     "data": {
      "text/plain": [
       "Column<'(x + 1) AS plusone'>"
      ]
     },
     "execution_count": 24,
     "metadata": {},
     "output_type": "execute_result"
    }
   ],
   "source": [
    "expr(\"x + 1\").alias(\"plusone\")"
   ]
  },
  {
   "cell_type": "code",
   "execution_count": 31,
   "id": "dbea0fbc-f577-4704-88d6-a3fbed0f3354",
   "metadata": {},
   "outputs": [
    {
     "data": {
      "text/html": [
       "<div>\n",
       "<style scoped>\n",
       "    .dataframe tbody tr th:only-of-type {\n",
       "        vertical-align: middle;\n",
       "    }\n",
       "\n",
       "    .dataframe tbody tr th {\n",
       "        vertical-align: top;\n",
       "    }\n",
       "\n",
       "    .dataframe thead th {\n",
       "        text-align: right;\n",
       "    }\n",
       "</style>\n",
       "<table border=\"1\" class=\"dataframe\">\n",
       "  <thead>\n",
       "    <tr style=\"text-align: right;\">\n",
       "      <th></th>\n",
       "      <th>Call Date</th>\n",
       "    </tr>\n",
       "  </thead>\n",
       "  <tbody>\n",
       "    <tr>\n",
       "      <th>0</th>\n",
       "      <td>05/01/2022</td>\n",
       "    </tr>\n",
       "    <tr>\n",
       "      <th>1</th>\n",
       "      <td>01/19/2022</td>\n",
       "    </tr>\n",
       "    <tr>\n",
       "      <th>2</th>\n",
       "      <td>05/03/2021</td>\n",
       "    </tr>\n",
       "  </tbody>\n",
       "</table>\n",
       "</div>"
      ],
      "text/plain": [
       "    Call Date\n",
       "0  05/01/2022\n",
       "1  01/19/2022\n",
       "2  05/03/2021"
      ]
     },
     "execution_count": 31,
     "metadata": {},
     "output_type": "execute_result"
    }
   ],
   "source": [
    "df.select(expr(\"`Call Date`\")).limit(3).toPandas()"
   ]
  },
  {
   "cell_type": "code",
   "execution_count": 32,
   "id": "d9fcbfa0-2f74-4068-a291-d1bbdb0dab29",
   "metadata": {},
   "outputs": [
    {
     "name": "stderr",
     "output_type": "stream",
     "text": [
      "                                                                                \r"
     ]
    },
    {
     "data": {
      "text/html": [
       "<div>\n",
       "<style scoped>\n",
       "    .dataframe tbody tr th:only-of-type {\n",
       "        vertical-align: middle;\n",
       "    }\n",
       "\n",
       "    .dataframe tbody tr th {\n",
       "        vertical-align: top;\n",
       "    }\n",
       "\n",
       "    .dataframe thead th {\n",
       "        text-align: right;\n",
       "    }\n",
       "</style>\n",
       "<table border=\"1\" class=\"dataframe\">\n",
       "  <thead>\n",
       "    <tr style=\"text-align: right;\">\n",
       "      <th></th>\n",
       "      <th>to_date(Call Date, MM/dd/yyyy)</th>\n",
       "    </tr>\n",
       "  </thead>\n",
       "  <tbody>\n",
       "    <tr>\n",
       "      <th>0</th>\n",
       "      <td>2022-05-01</td>\n",
       "    </tr>\n",
       "    <tr>\n",
       "      <th>1</th>\n",
       "      <td>2022-01-19</td>\n",
       "    </tr>\n",
       "    <tr>\n",
       "      <th>2</th>\n",
       "      <td>2021-05-03</td>\n",
       "    </tr>\n",
       "  </tbody>\n",
       "</table>\n",
       "</div>"
      ],
      "text/plain": [
       "  to_date(Call Date, MM/dd/yyyy)\n",
       "0                     2022-05-01\n",
       "1                     2022-01-19\n",
       "2                     2021-05-03"
      ]
     },
     "execution_count": 32,
     "metadata": {},
     "output_type": "execute_result"
    }
   ],
   "source": [
    "df.select(expr(\"to_date(`Call Date`, 'MM/dd/yyyy')\")).limit(3).toPandas()"
   ]
  },
  {
   "cell_type": "code",
   "execution_count": 36,
   "id": "b1b4a78a-fd71-468d-8b44-86385e80c601",
   "metadata": {},
   "outputs": [
    {
     "data": {
      "text/plain": [
       "DataFrame[CallDate: date]"
      ]
     },
     "execution_count": 36,
     "metadata": {},
     "output_type": "execute_result"
    }
   ],
   "source": [
    "df.select(expr(\"to_date(`Call Date`, 'MM/dd/yyyy')\").alias(\"CallDate\"))"
   ]
  },
  {
   "cell_type": "code",
   "execution_count": 35,
   "id": "f8326586-9b63-46ea-8b56-5ae008e735eb",
   "metadata": {},
   "outputs": [
    {
     "data": {
      "text/html": [
       "<div>\n",
       "<style scoped>\n",
       "    .dataframe tbody tr th:only-of-type {\n",
       "        vertical-align: middle;\n",
       "    }\n",
       "\n",
       "    .dataframe tbody tr th {\n",
       "        vertical-align: top;\n",
       "    }\n",
       "\n",
       "    .dataframe thead th {\n",
       "        text-align: right;\n",
       "    }\n",
       "</style>\n",
       "<table border=\"1\" class=\"dataframe\">\n",
       "  <thead>\n",
       "    <tr style=\"text-align: right;\">\n",
       "      <th></th>\n",
       "      <th>CallDate</th>\n",
       "    </tr>\n",
       "  </thead>\n",
       "  <tbody>\n",
       "    <tr>\n",
       "      <th>0</th>\n",
       "      <td>2022-05-01</td>\n",
       "    </tr>\n",
       "    <tr>\n",
       "      <th>1</th>\n",
       "      <td>2022-01-19</td>\n",
       "    </tr>\n",
       "    <tr>\n",
       "      <th>2</th>\n",
       "      <td>2021-05-03</td>\n",
       "    </tr>\n",
       "  </tbody>\n",
       "</table>\n",
       "</div>"
      ],
      "text/plain": [
       "     CallDate\n",
       "0  2022-05-01\n",
       "1  2022-01-19\n",
       "2  2021-05-03"
      ]
     },
     "execution_count": 35,
     "metadata": {},
     "output_type": "execute_result"
    }
   ],
   "source": [
    "df.select(expr(\"to_date(`Call Date`, 'MM/dd/yyyy')\").alias(\"CallDate\")).limit(3).toPandas()"
   ]
  },
  {
   "cell_type": "code",
   "execution_count": 19,
   "id": "57491e92-7418-416c-8dd8-fdfb4e4062ef",
   "metadata": {},
   "outputs": [],
   "source": [
    "# GOAL: write this DataFrame to Parquet, with no spaces in the columns"
   ]
  },
  {
   "cell_type": "code",
   "execution_count": 43,
   "id": "c1298818-83f6-444b-b8a0-4be5b16fd6fb",
   "metadata": {},
   "outputs": [
    {
     "data": {
      "text/plain": [
       "[Column<'Call Number AS Call_Number'>,\n",
       " Column<'Unit ID AS Unit_ID'>,\n",
       " Column<'Incident Number AS Incident_Number'>,\n",
       " Column<'Call Type AS Call_Type'>,\n",
       " Column<'Call Date AS Call_Date'>]"
      ]
     },
     "execution_count": 43,
     "metadata": {},
     "output_type": "execute_result"
    }
   ],
   "source": [
    "cols = [col(c).alias(c.replace(\" \", \"_\")) for c in df.columns]\n",
    "cols[:5]"
   ]
  },
  {
   "cell_type": "code",
   "execution_count": 47,
   "id": "45116490-ef94-435a-a40e-317caa8cb849",
   "metadata": {},
   "outputs": [
    {
     "name": "stderr",
     "output_type": "stream",
     "text": [
      "                                                                                \r"
     ]
    }
   ],
   "source": [
    "df.select(cols).write.format(\"parquet\").save(\"hdfs://nn:9000/sf.parquet\")"
   ]
  },
  {
   "cell_type": "code",
   "execution_count": 49,
   "id": "66a59401-5e0e-4d34-9a3d-e6cb5cf88818",
   "metadata": {},
   "outputs": [
    {
     "name": "stdout",
     "output_type": "stream",
     "text": [
      "Found 18 items\n",
      "-rw-r--r--   3 root supergroup          0 2023-10-25 15:46 hdfs://nn:9000/sf.parquet/_SUCCESS\n",
      "-rw-r--r--   3 root supergroup   27805433 2023-10-25 15:44 hdfs://nn:9000/sf.parquet/part-00000-0da1dc41-2d26-4bc7-a89c-21b7bc2973e2-c000.snappy.parquet\n",
      "-rw-r--r--   3 root supergroup   27788944 2023-10-25 15:44 hdfs://nn:9000/sf.parquet/part-00001-0da1dc41-2d26-4bc7-a89c-21b7bc2973e2-c000.snappy.parquet\n",
      "-rw-r--r--   3 root supergroup   40477903 2023-10-25 15:44 hdfs://nn:9000/sf.parquet/part-00002-0da1dc41-2d26-4bc7-a89c-21b7bc2973e2-c000.snappy.parquet\n",
      "-rw-r--r--   3 root supergroup   36016086 2023-10-25 15:44 hdfs://nn:9000/sf.parquet/part-00003-0da1dc41-2d26-4bc7-a89c-21b7bc2973e2-c000.snappy.parquet\n",
      "-rw-r--r--   3 root supergroup   36031567 2023-10-25 15:45 hdfs://nn:9000/sf.parquet/part-00004-0da1dc41-2d26-4bc7-a89c-21b7bc2973e2-c000.snappy.parquet\n",
      "-rw-r--r--   3 root supergroup   36080343 2023-10-25 15:45 hdfs://nn:9000/sf.parquet/part-00005-0da1dc41-2d26-4bc7-a89c-21b7bc2973e2-c000.snappy.parquet\n",
      "-rw-r--r--   3 root supergroup   35943551 2023-10-25 15:45 hdfs://nn:9000/sf.parquet/part-00006-0da1dc41-2d26-4bc7-a89c-21b7bc2973e2-c000.snappy.parquet\n",
      "-rw-r--r--   3 root supergroup   35910610 2023-10-25 15:45 hdfs://nn:9000/sf.parquet/part-00007-0da1dc41-2d26-4bc7-a89c-21b7bc2973e2-c000.snappy.parquet\n",
      "-rw-r--r--   3 root supergroup   36435318 2023-10-25 15:45 hdfs://nn:9000/sf.parquet/part-00008-0da1dc41-2d26-4bc7-a89c-21b7bc2973e2-c000.snappy.parquet\n",
      "-rw-r--r--   3 root supergroup   35366522 2023-10-25 15:45 hdfs://nn:9000/sf.parquet/part-00009-0da1dc41-2d26-4bc7-a89c-21b7bc2973e2-c000.snappy.parquet\n",
      "-rw-r--r--   3 root supergroup   34237927 2023-10-25 15:45 hdfs://nn:9000/sf.parquet/part-00010-0da1dc41-2d26-4bc7-a89c-21b7bc2973e2-c000.snappy.parquet\n",
      "-rw-r--r--   3 root supergroup   33947693 2023-10-25 15:45 hdfs://nn:9000/sf.parquet/part-00011-0da1dc41-2d26-4bc7-a89c-21b7bc2973e2-c000.snappy.parquet\n",
      "-rw-r--r--   3 root supergroup   33487699 2023-10-25 15:45 hdfs://nn:9000/sf.parquet/part-00012-0da1dc41-2d26-4bc7-a89c-21b7bc2973e2-c000.snappy.parquet\n",
      "-rw-r--r--   3 root supergroup   34899250 2023-10-25 15:46 hdfs://nn:9000/sf.parquet/part-00013-0da1dc41-2d26-4bc7-a89c-21b7bc2973e2-c000.snappy.parquet\n",
      "-rw-r--r--   3 root supergroup   35715225 2023-10-25 15:46 hdfs://nn:9000/sf.parquet/part-00014-0da1dc41-2d26-4bc7-a89c-21b7bc2973e2-c000.snappy.parquet\n",
      "-rw-r--r--   3 root supergroup   35768659 2023-10-25 15:46 hdfs://nn:9000/sf.parquet/part-00015-0da1dc41-2d26-4bc7-a89c-21b7bc2973e2-c000.snappy.parquet\n",
      "-rw-r--r--   3 root supergroup   29362733 2023-10-25 15:46 hdfs://nn:9000/sf.parquet/part-00016-0da1dc41-2d26-4bc7-a89c-21b7bc2973e2-c000.snappy.parquet\n"
     ]
    }
   ],
   "source": [
    "!hdfs dfs -ls hdfs://nn:9000/sf.parquet/"
   ]
  }
 ],
 "metadata": {
  "kernelspec": {
   "display_name": "Python 3 (ipykernel)",
   "language": "python",
   "name": "python3"
  },
  "language_info": {
   "codemirror_mode": {
    "name": "ipython",
    "version": 3
   },
   "file_extension": ".py",
   "mimetype": "text/x-python",
   "name": "python",
   "nbconvert_exporter": "python",
   "pygments_lexer": "ipython3",
   "version": "3.10.12"
  }
 },
 "nbformat": 4,
 "nbformat_minor": 5
}
