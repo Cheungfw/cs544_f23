{
 "cells": [
  {
   "cell_type": "code",
   "execution_count": 1,
   "id": "8f2c5ea8-1bf6-460b-91dc-69d793e30402",
   "metadata": {},
   "outputs": [],
   "source": [
    "from kafka import KafkaAdminClient, KafkaProducer, KafkaConsumer"
   ]
  },
  {
   "cell_type": "markdown",
   "id": "9016c160-2b07-4684-a1ce-8348c025e52f",
   "metadata": {},
   "source": [
    "# admin"
   ]
  },
  {
   "cell_type": "code",
   "execution_count": 2,
   "id": "2c793e1d-6d23-4a55-9be8-62b523a0685d",
   "metadata": {},
   "outputs": [],
   "source": [
    "broker = \"localhost:9092\"\n",
    "admin = KafkaAdminClient(bootstrap_servers=[broker])"
   ]
  },
  {
   "cell_type": "code",
   "execution_count": 3,
   "id": "eaf03df1-f063-4e7e-be5c-48509435d11a",
   "metadata": {},
   "outputs": [
    {
     "data": {
      "text/plain": [
       "[]"
      ]
     },
     "execution_count": 3,
     "metadata": {},
     "output_type": "execute_result"
    }
   ],
   "source": [
    "admin.list_topics()"
   ]
  },
  {
   "cell_type": "code",
   "execution_count": 4,
   "id": "c4caba81-1059-46ad-8dee-c9d515e8f6cf",
   "metadata": {},
   "outputs": [],
   "source": [
    "from kafka.admin import NewTopic"
   ]
  },
  {
   "cell_type": "code",
   "execution_count": 5,
   "id": "9c55a6fd-8ca3-467b-9cf1-f3361da9803d",
   "metadata": {},
   "outputs": [],
   "source": [
    "# admin.delete_topics([\"even_nums\"])"
   ]
  },
  {
   "cell_type": "code",
   "execution_count": 6,
   "id": "6f9296fa-43ec-4fea-b711-d3806a0498ca",
   "metadata": {},
   "outputs": [],
   "source": [
    "from kafka.errors import TopicAlreadyExistsError"
   ]
  },
  {
   "cell_type": "code",
   "execution_count": 7,
   "id": "be6fc583-16e2-430f-b444-84dbcecc279b",
   "metadata": {},
   "outputs": [],
   "source": [
    "try:\n",
    "    admin.create_topics([NewTopic(name=\"even_nums\", num_partitions=1, replication_factor=1)])\n",
    "except TopicAlreadyExistsError:\n",
    "    print(\"already exists\")"
   ]
  },
  {
   "cell_type": "code",
   "execution_count": 8,
   "id": "61829792-3bd0-41b0-8c97-25948cb905e1",
   "metadata": {},
   "outputs": [],
   "source": [
    "try:\n",
    "    admin.create_topics([NewTopic(name=\"odd_nums\", num_partitions=2, replication_factor=1)])\n",
    "except TopicAlreadyExistsError:\n",
    "    print(\"already exists\")"
   ]
  },
  {
   "cell_type": "code",
   "execution_count": 9,
   "id": "cf51f566-19a9-4587-afcb-4436f5eece1a",
   "metadata": {},
   "outputs": [
    {
     "data": {
      "text/plain": [
       "['even_nums', 'odd_nums']"
      ]
     },
     "execution_count": 9,
     "metadata": {},
     "output_type": "execute_result"
    }
   ],
   "source": [
    "admin.list_topics()"
   ]
  },
  {
   "cell_type": "markdown",
   "id": "b05a5462-38da-4893-b0e0-9d4b67abd38f",
   "metadata": {},
   "source": [
    "# producer"
   ]
  },
  {
   "cell_type": "code",
   "execution_count": 10,
   "id": "7ada05a2-fa79-48b5-bbc7-3ca369e55048",
   "metadata": {},
   "outputs": [],
   "source": [
    "producer = KafkaProducer(bootstrap_servers=[broker])"
   ]
  },
  {
   "cell_type": "code",
   "execution_count": 11,
   "id": "e4198451-e8d9-4752-92a9-edd8607d1318",
   "metadata": {},
   "outputs": [],
   "source": [
    "result = producer.send(\"even_nums\", bytes(str(0), \"utf-8\"))"
   ]
  },
  {
   "cell_type": "code",
   "execution_count": 12,
   "id": "688541d1-24aa-44de-b2ee-ffc2615354fd",
   "metadata": {},
   "outputs": [
    {
     "data": {
      "text/plain": [
       "<kafka.producer.future.FutureRecordMetadata at 0x7f29181a82b0>"
      ]
     },
     "execution_count": 12,
     "metadata": {},
     "output_type": "execute_result"
    }
   ],
   "source": [
    "result"
   ]
  },
  {
   "cell_type": "code",
   "execution_count": 13,
   "id": "a6e1573c-a7cc-4db0-ae7d-ec44def36775",
   "metadata": {},
   "outputs": [
    {
     "data": {
      "text/plain": [
       "RecordMetadata(topic='even_nums', partition=0, topic_partition=TopicPartition(topic='even_nums', partition=0), offset=0, timestamp=1700248443201, log_start_offset=0, checksum=None, serialized_key_size=-1, serialized_value_size=1, serialized_header_size=-1)"
      ]
     },
     "execution_count": 13,
     "metadata": {},
     "output_type": "execute_result"
    }
   ],
   "source": [
    "result.get()"
   ]
  },
  {
   "cell_type": "code",
   "execution_count": 14,
   "id": "84805099-15df-4d4c-ad10-61c18031223f",
   "metadata": {},
   "outputs": [
    {
     "name": "stdout",
     "output_type": "stream",
     "text": [
      "hi\n"
     ]
    }
   ],
   "source": [
    "from threading import Thread, Lock\n",
    "\n",
    "lock = Lock()\n",
    "def Print(*args):\n",
    "    with lock:\n",
    "        print(*args)\n",
    "\n",
    "Print(\"hi\")"
   ]
  },
  {
   "cell_type": "code",
   "execution_count": 15,
   "id": "d52c28ca-ff68-47f5-9550-188d4b592566",
   "metadata": {},
   "outputs": [
    {
     "name": "stdout",
     "output_type": "stream",
     "text": [
      "send 0 to even_nums\n",
      "send 1 to odd_nums\n",
      "send 2 to even_nums\n",
      "send 3 to odd_nums\n",
      "send 4 to even_nums\n",
      "send 5 to odd_nums\n",
      "send 7 to odd_nums\n",
      "send 6 to even_nums\n",
      "send 9 to odd_nums\n",
      "send 8 to even_nums\n"
     ]
    }
   ],
   "source": [
    "import time, threading\n",
    "\n",
    "def num_producer(topic, start, step):\n",
    "    producer = KafkaProducer(bootstrap_servers=[broker])\n",
    "    num = start\n",
    "    while True:\n",
    "        if num < 10:\n",
    "            Print(\"send\", num, \"to\", topic)\n",
    "        producer.send(topic, bytes(str(num), \"utf-8\"))\n",
    "        num += step\n",
    "        time.sleep(1)\n",
    "\n",
    "threading.Thread(target=num_producer, args=(\"even_nums\", 0, 2)).start()\n",
    "threading.Thread(target=num_producer, args=(\"odd_nums\", 1, 2)).start()"
   ]
  },
  {
   "cell_type": "markdown",
   "id": "4df87443-a4af-4487-9718-ab05497cdfba",
   "metadata": {},
   "source": [
    "# consumer"
   ]
  },
  {
   "cell_type": "code",
   "execution_count": 16,
   "id": "516561a1-45a6-4bdb-b199-8656e21e2da4",
   "metadata": {},
   "outputs": [],
   "source": [
    "consumer = KafkaConsumer(bootstrap_servers=[broker])"
   ]
  },
  {
   "cell_type": "code",
   "execution_count": 17,
   "id": "41cfe6d2-d610-43f0-a141-bd2eaaaf1d8f",
   "metadata": {},
   "outputs": [
    {
     "data": {
      "text/plain": [
       "{}"
      ]
     },
     "execution_count": 17,
     "metadata": {},
     "output_type": "execute_result"
    }
   ],
   "source": [
    "batch = consumer.poll(1000)\n",
    "batch"
   ]
  },
  {
   "cell_type": "code",
   "execution_count": 18,
   "id": "c275c161-9e38-45ae-aa4c-ede73e0af7d2",
   "metadata": {},
   "outputs": [
    {
     "data": {
      "text/plain": [
       "set()"
      ]
     },
     "execution_count": 18,
     "metadata": {},
     "output_type": "execute_result"
    }
   ],
   "source": [
    "consumer.assignment()"
   ]
  },
  {
   "cell_type": "markdown",
   "id": "0bd829cd-8878-485a-9f2e-b34b0d6dab53",
   "metadata": {},
   "source": [
    "## Manual Partition Assignment"
   ]
  },
  {
   "cell_type": "code",
   "execution_count": 19,
   "id": "456af877-878f-4575-aba5-16f98782e723",
   "metadata": {},
   "outputs": [],
   "source": [
    "from kafka import TopicPartition"
   ]
  },
  {
   "cell_type": "code",
   "execution_count": 20,
   "id": "23f82261-be10-4d00-ae82-45e80729f628",
   "metadata": {},
   "outputs": [
    {
     "data": {
      "text/plain": [
       "{TopicPartition(topic='even_nums', partition=0)}"
      ]
     },
     "execution_count": 20,
     "metadata": {},
     "output_type": "execute_result"
    }
   ],
   "source": [
    "consumer = KafkaConsumer(bootstrap_servers=[broker])\n",
    "consumer.assign([TopicPartition(\"even_nums\", 0)])\n",
    "consumer.seek_to_beginning()\n",
    "consumer.assignment()"
   ]
  },
  {
   "cell_type": "code",
   "execution_count": 23,
   "id": "93328cda-b546-4926-b552-d14fe1f9cdbd",
   "metadata": {},
   "outputs": [
    {
     "name": "stdout",
     "output_type": "stream",
     "text": [
      "126\n",
      "128\n",
      "130\n",
      "132\n",
      "134\n"
     ]
    }
   ],
   "source": [
    "batch = consumer.poll(1000)\n",
    "for topic_partition, messages in batch.items():\n",
    "    for msg in messages:\n",
    "        print(int(str(msg.value, \"utf-8\")))"
   ]
  },
  {
   "cell_type": "markdown",
   "id": "d4c50e62-0cc2-4724-80ad-b6b6dcab40c7",
   "metadata": {},
   "source": [
    "## Automatic Partition Assignment"
   ]
  },
  {
   "cell_type": "code",
   "execution_count": 24,
   "id": "1a2faddc-49f6-446d-a646-3690ad606c13",
   "metadata": {},
   "outputs": [
    {
     "name": "stdout",
     "output_type": "stream",
     "text": [
      "set()\n"
     ]
    }
   ],
   "source": [
    "consumer = KafkaConsumer(bootstrap_servers=[broker])\n",
    "consumer.subscribe([\"even_nums\"])\n",
    "print(consumer.assignment())"
   ]
  },
  {
   "cell_type": "code",
   "execution_count": 25,
   "id": "3e250b91-90cc-4c03-9785-c504c97f3d53",
   "metadata": {},
   "outputs": [
    {
     "name": "stdout",
     "output_type": "stream",
     "text": [
      "{TopicPartition(topic='even_nums', partition=0)}\n"
     ]
    }
   ],
   "source": [
    "_ = consumer.poll(1000)\n",
    "print(consumer.assignment())\n",
    "consumer.seek_to_beginning()"
   ]
  },
  {
   "cell_type": "code",
   "execution_count": 27,
   "id": "3a11a232-c9da-4bf2-963b-f691dee2fc74",
   "metadata": {},
   "outputs": [
    {
     "name": "stdout",
     "output_type": "stream",
     "text": [
      "236\n",
      "238\n",
      "240\n"
     ]
    }
   ],
   "source": [
    "batch = consumer.poll(1000)\n",
    "for topic_partition, messages in batch.items():\n",
    "    for msg in messages:\n",
    "        print(int(str(msg.value, \"utf-8\")))"
   ]
  },
  {
   "cell_type": "markdown",
   "id": "d99d1c46-42a8-4e49-a51b-19c31061fa57",
   "metadata": {},
   "source": [
    "# Multiple Assignment"
   ]
  },
  {
   "cell_type": "code",
   "execution_count": 31,
   "id": "509bb475-08cc-4c95-822f-d718e317ef75",
   "metadata": {},
   "outputs": [
    {
     "name": "stdout",
     "output_type": "stream",
     "text": [
      "set()\n",
      "{TopicPartition(topic='odd_nums', partition=0), TopicPartition(topic='odd_nums', partition=1), TopicPartition(topic='even_nums', partition=0)}\n"
     ]
    }
   ],
   "source": [
    "consumer = KafkaConsumer(bootstrap_servers=[broker])\n",
    "consumer.subscribe([\"even_nums\", \"odd_nums\"])\n",
    "print(consumer.assignment())\n",
    "\n",
    "_ = consumer.poll(1000)\n",
    "print(consumer.assignment())\n",
    "consumer.seek_to_beginning()"
   ]
  },
  {
   "cell_type": "code",
   "execution_count": 34,
   "id": "c92a2297-d31e-4c1b-93fe-293505bd6d2b",
   "metadata": {},
   "outputs": [
    {
     "name": "stdout",
     "output_type": "stream",
     "text": [
      "TopicPartition(topic='even_nums', partition=0)\n",
      "330\n",
      "332\n",
      "334\n",
      "336\n",
      "338\n",
      "340\n",
      "342\n",
      "344\n",
      "346\n",
      "TopicPartition(topic='odd_nums', partition=0)\n",
      "331\n",
      "333\n",
      "339\n",
      "347\n",
      "TopicPartition(topic='odd_nums', partition=1)\n",
      "335\n",
      "337\n",
      "341\n",
      "343\n",
      "345\n"
     ]
    }
   ],
   "source": [
    "batch = consumer.poll(1000)\n",
    "for topic_partition, messages in batch.items():\n",
    "    print(topic_partition)\n",
    "    for msg in messages:\n",
    "        print(int(str(msg.value, \"utf-8\")))"
   ]
  },
  {
   "cell_type": "code",
   "execution_count": 39,
   "id": "bd709cc0-9796-4a54-b34c-90ecfd5a32b5",
   "metadata": {},
   "outputs": [
    {
     "data": {
      "text/plain": [
       "{TopicPartition(topic='odd_nums', partition=0): 95,\n",
       " TopicPartition(topic='odd_nums', partition=1): 79,\n",
       " TopicPartition(topic='even_nums', partition=0): 175}"
      ]
     },
     "execution_count": 39,
     "metadata": {},
     "output_type": "execute_result"
    }
   ],
   "source": [
    "positions = {}\n",
    "for tp in consumer.assignment():\n",
    "    pos = consumer.position(tp)\n",
    "    positions[tp] = pos\n",
    "positions"
   ]
  },
  {
   "cell_type": "code",
   "execution_count": 41,
   "id": "219c7725-79c9-4300-a193-f7a984c138d5",
   "metadata": {},
   "outputs": [],
   "source": [
    "consumer2 = KafkaConsumer(bootstrap_servers=[broker])"
   ]
  },
  {
   "cell_type": "code",
   "execution_count": 44,
   "id": "c0e401e6-811a-4671-bf01-f52cea9d9509",
   "metadata": {},
   "outputs": [],
   "source": [
    "consumer2.assign(positions.keys())"
   ]
  },
  {
   "cell_type": "code",
   "execution_count": 46,
   "id": "a8b27671-9099-4a85-9f4c-244929b6dcda",
   "metadata": {},
   "outputs": [],
   "source": [
    "for tp, offset in positions.items():\n",
    "    consumer2.seek(tp, offset)"
   ]
  },
  {
   "cell_type": "markdown",
   "id": "42d2b63c-993c-44a1-a0d7-640b98377c53",
   "metadata": {},
   "source": [
    "# Take over for another Consumer"
   ]
  },
  {
   "cell_type": "code",
   "execution_count": 47,
   "id": "df6843bf-7066-4470-b9f5-1949d1f8f290",
   "metadata": {},
   "outputs": [
    {
     "name": "stdout",
     "output_type": "stream",
     "text": [
      "TopicPartition(topic='odd_nums', partition=0)\n",
      "349\n",
      "353\n",
      "355\n",
      "357\n",
      "359\n",
      "363\n",
      "365\n",
      "371\n",
      "381\n",
      "385\n",
      "387\n",
      "389\n",
      "391\n",
      "399\n",
      "403\n",
      "405\n",
      "407\n",
      "409\n",
      "415\n",
      "417\n",
      "427\n",
      "435\n",
      "439\n",
      "443\n",
      "445\n",
      "447\n",
      "449\n",
      "451\n",
      "453\n",
      "455\n",
      "463\n",
      "465\n",
      "467\n",
      "475\n",
      "477\n",
      "479\n",
      "489\n",
      "495\n",
      "497\n",
      "501\n",
      "505\n",
      "511\n",
      "517\n",
      "519\n",
      "521\n",
      "523\n",
      "531\n",
      "533\n",
      "535\n",
      "541\n",
      "543\n",
      "547\n",
      "553\n",
      "555\n",
      "557\n",
      "561\n",
      "571\n",
      "577\n",
      "579\n",
      "587\n",
      "597\n",
      "599\n",
      "601\n",
      "609\n",
      "613\n",
      "621\n",
      "629\n",
      "631\n",
      "639\n",
      "641\n",
      "645\n",
      "651\n",
      "653\n",
      "657\n",
      "659\n",
      "669\n",
      "673\n",
      "677\n",
      "679\n",
      "681\n",
      "687\n",
      "695\n",
      "705\n",
      "709\n",
      "711\n",
      "723\n",
      "725\n",
      "727\n",
      "729\n",
      "733\n",
      "735\n",
      "743\n",
      "747\n",
      "759\n",
      "761\n",
      "763\n",
      "767\n",
      "771\n",
      "775\n",
      "777\n",
      "779\n",
      "781\n",
      "785\n",
      "787\n",
      "789\n",
      "791\n",
      "793\n",
      "797\n",
      "799\n",
      "801\n",
      "803\n",
      "807\n",
      "809\n",
      "811\n",
      "813\n",
      "TopicPartition(topic='odd_nums', partition=1)\n",
      "351\n",
      "361\n",
      "367\n",
      "369\n",
      "373\n",
      "375\n",
      "377\n",
      "379\n",
      "383\n",
      "393\n",
      "395\n",
      "397\n",
      "401\n",
      "411\n",
      "413\n",
      "419\n",
      "421\n",
      "423\n",
      "425\n",
      "429\n",
      "431\n",
      "433\n",
      "437\n",
      "441\n",
      "457\n",
      "459\n",
      "461\n",
      "469\n",
      "471\n",
      "473\n",
      "481\n",
      "483\n",
      "485\n",
      "487\n",
      "491\n",
      "493\n",
      "499\n",
      "503\n",
      "507\n",
      "509\n",
      "513\n",
      "515\n",
      "525\n",
      "527\n",
      "529\n",
      "537\n",
      "539\n",
      "545\n",
      "549\n",
      "551\n",
      "559\n",
      "563\n",
      "565\n",
      "567\n",
      "569\n",
      "573\n",
      "575\n",
      "581\n",
      "583\n",
      "585\n",
      "589\n",
      "591\n",
      "593\n",
      "595\n",
      "603\n",
      "605\n",
      "607\n",
      "611\n",
      "615\n",
      "617\n",
      "619\n",
      "623\n",
      "625\n",
      "627\n",
      "633\n",
      "635\n",
      "637\n",
      "643\n",
      "647\n",
      "649\n",
      "655\n",
      "661\n",
      "663\n",
      "665\n",
      "667\n",
      "671\n",
      "675\n",
      "683\n",
      "685\n",
      "689\n",
      "691\n",
      "693\n",
      "697\n",
      "699\n",
      "701\n",
      "703\n",
      "707\n",
      "713\n",
      "715\n",
      "717\n",
      "719\n",
      "721\n",
      "731\n",
      "737\n",
      "739\n",
      "741\n",
      "745\n",
      "749\n",
      "751\n",
      "753\n",
      "755\n",
      "757\n",
      "765\n",
      "769\n",
      "773\n",
      "783\n",
      "795\n",
      "805\n",
      "TopicPartition(topic='even_nums', partition=0)\n",
      "348\n",
      "350\n",
      "352\n",
      "354\n",
      "356\n",
      "358\n",
      "360\n",
      "362\n",
      "364\n",
      "366\n",
      "368\n",
      "370\n",
      "372\n",
      "374\n",
      "376\n",
      "378\n",
      "380\n",
      "382\n",
      "384\n",
      "386\n",
      "388\n",
      "390\n",
      "392\n",
      "394\n",
      "396\n",
      "398\n",
      "400\n",
      "402\n",
      "404\n",
      "406\n",
      "408\n",
      "410\n",
      "412\n",
      "414\n",
      "416\n",
      "418\n",
      "420\n",
      "422\n",
      "424\n",
      "426\n",
      "428\n",
      "430\n",
      "432\n",
      "434\n",
      "436\n",
      "438\n",
      "440\n",
      "442\n",
      "444\n",
      "446\n",
      "448\n",
      "450\n",
      "452\n",
      "454\n",
      "456\n",
      "458\n",
      "460\n",
      "462\n",
      "464\n",
      "466\n",
      "468\n",
      "470\n",
      "472\n",
      "474\n",
      "476\n",
      "478\n",
      "480\n",
      "482\n",
      "484\n",
      "486\n",
      "488\n",
      "490\n",
      "492\n",
      "494\n",
      "496\n",
      "498\n",
      "500\n",
      "502\n",
      "504\n",
      "506\n",
      "508\n",
      "510\n",
      "512\n",
      "514\n",
      "516\n",
      "518\n",
      "520\n",
      "522\n",
      "524\n",
      "526\n",
      "528\n",
      "530\n",
      "532\n",
      "534\n",
      "536\n",
      "538\n",
      "540\n",
      "542\n",
      "544\n",
      "546\n",
      "548\n",
      "550\n",
      "552\n",
      "554\n",
      "556\n",
      "558\n",
      "560\n",
      "562\n",
      "564\n",
      "566\n",
      "568\n",
      "570\n",
      "572\n",
      "574\n",
      "576\n",
      "578\n",
      "580\n",
      "582\n",
      "584\n",
      "586\n",
      "588\n",
      "590\n",
      "592\n",
      "594\n",
      "596\n",
      "598\n",
      "600\n",
      "602\n",
      "604\n",
      "606\n",
      "608\n",
      "610\n",
      "612\n",
      "614\n",
      "616\n",
      "618\n",
      "620\n",
      "622\n",
      "624\n",
      "626\n",
      "628\n",
      "630\n",
      "632\n",
      "634\n",
      "636\n",
      "638\n",
      "640\n",
      "642\n",
      "644\n",
      "646\n",
      "648\n",
      "650\n",
      "652\n",
      "654\n",
      "656\n",
      "658\n",
      "660\n",
      "662\n",
      "664\n",
      "666\n",
      "668\n",
      "670\n",
      "672\n",
      "674\n",
      "676\n",
      "678\n",
      "680\n",
      "682\n",
      "684\n",
      "686\n",
      "688\n",
      "690\n",
      "692\n",
      "694\n",
      "696\n",
      "698\n",
      "700\n",
      "702\n",
      "704\n",
      "706\n",
      "708\n",
      "710\n",
      "712\n",
      "714\n",
      "716\n",
      "718\n",
      "720\n",
      "722\n",
      "724\n",
      "726\n",
      "728\n",
      "730\n",
      "732\n",
      "734\n",
      "736\n",
      "738\n",
      "740\n",
      "742\n",
      "744\n",
      "746\n",
      "748\n",
      "750\n",
      "752\n",
      "754\n",
      "756\n",
      "758\n",
      "760\n",
      "762\n",
      "764\n",
      "766\n",
      "768\n",
      "770\n",
      "772\n",
      "774\n",
      "776\n",
      "778\n",
      "780\n",
      "782\n",
      "784\n",
      "786\n",
      "788\n",
      "790\n",
      "792\n",
      "794\n",
      "796\n",
      "798\n",
      "800\n",
      "802\n",
      "804\n",
      "806\n",
      "808\n",
      "810\n",
      "812\n"
     ]
    }
   ],
   "source": [
    "batch = consumer2.poll(1000)\n",
    "for topic_partition, messages in batch.items():\n",
    "    print(topic_partition)\n",
    "    for msg in messages:\n",
    "        print(int(str(msg.value, \"utf-8\")))"
   ]
  },
  {
   "cell_type": "markdown",
   "id": "d7824286-0cb7-49a2-b587-1d5e471ecfc0",
   "metadata": {},
   "source": [
    "# Consumer Groups"
   ]
  },
  {
   "cell_type": "code",
   "execution_count": 54,
   "id": "55233c10-d04e-455d-a6be-5fbeac108c52",
   "metadata": {},
   "outputs": [
    {
     "name": "stdout",
     "output_type": "stream",
     "text": [
      "g1 t1 b'1629'\n",
      "g1 t1 b'1631'\n",
      "g1 t1 b'1635'\n",
      "g1 t1 b'1637'\n",
      "g1 t1 b'1639'\n",
      "g1 t1 b'1641'\n",
      "g1 t1 b'1647'\n",
      "g1 t1 b'1649'\n",
      "g1 t1 b'1633'\n",
      "g1 t1 b'1643'\n",
      "g1 t1 b'1645'\n",
      "g2 t3 b'1629'\n",
      "g2 t3 b'1631'\n",
      "g2 t3 b'1635'\n",
      "g2 t3 b'1637'\n",
      "g2 t3 b'1639'\n",
      "g2 t3 b'1641'\n",
      "g2 t3 b'1647'\n",
      "g2 t3 b'1649'\n",
      "g1 t1 b'1651'\n",
      "g2 t2 b'1633'\n",
      "g2 t2 b'1643'\n",
      "g2 t2 b'1645'\n",
      "g2 t2 b'1651'\n",
      "g2 t2 b'1653'\n",
      "g1 t1 b'1653'\n",
      "g2 t2 b'1655'\n",
      "g1 t1 b'1655'\n",
      "g2 t2 b'1657'\n",
      "g1 t1 b'1657'\n",
      "g1 t1 b'1659'\n",
      "g2 t3 b'1659'\n",
      "g1 t1 b'1661'\n",
      "g2 t3 b'1661'\n",
      "g2 t2 b'1663'\n",
      "g1 t1 b'1663'\n",
      "g2 t3 b'1665'\n",
      "g1 t1 b'1665'\n",
      "g2 t3 b'1667'\n",
      "g1 t1 b'1667'\n"
     ]
    }
   ],
   "source": [
    "def consume_odds(group, thread):\n",
    "    consumer = KafkaConsumer(bootstrap_servers=[broker], group_id=group)\n",
    "    consumer.subscribe(\"odd_nums\")\n",
    "    for i in range(10):   # TODO: forever\n",
    "        batch = consumer.poll(1000)\n",
    "        for tp, messages in batch.items():\n",
    "            for msg in messages:\n",
    "                Print(group, thread, msg.value)\n",
    "\n",
    "threading.Thread(target=consume_odds, args=(\"g1\", \"t1\")).start()\n",
    "threading.Thread(target=consume_odds, args=(\"g2\", \"t2\")).start()\n",
    "threading.Thread(target=consume_odds, args=(\"g2\", \"t3\")).start()"
   ]
  },
  {
   "cell_type": "code",
   "execution_count": null,
   "id": "1dc5a0c6-79d4-4b18-91a8-dfdccc98bbff",
   "metadata": {},
   "outputs": [],
   "source": []
  }
 ],
 "metadata": {
  "kernelspec": {
   "display_name": "Python 3 (ipykernel)",
   "language": "python",
   "name": "python3"
  },
  "language_info": {
   "codemirror_mode": {
    "name": "ipython",
    "version": 3
   },
   "file_extension": ".py",
   "mimetype": "text/x-python",
   "name": "python",
   "nbconvert_exporter": "python",
   "pygments_lexer": "ipython3",
   "version": "3.10.12"
  }
 },
 "nbformat": 4,
 "nbformat_minor": 5
}
