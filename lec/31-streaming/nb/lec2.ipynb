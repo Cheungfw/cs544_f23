{
 "cells": [
  {
   "cell_type": "code",
   "execution_count": 1,
   "id": "8f2c5ea8-1bf6-460b-91dc-69d793e30402",
   "metadata": {},
   "outputs": [],
   "source": [
    "from kafka import KafkaAdminClient, KafkaProducer, KafkaConsumer"
   ]
  },
  {
   "cell_type": "markdown",
   "id": "9016c160-2b07-4684-a1ce-8348c025e52f",
   "metadata": {},
   "source": [
    "# admin"
   ]
  },
  {
   "cell_type": "code",
   "execution_count": 2,
   "id": "2c793e1d-6d23-4a55-9be8-62b523a0685d",
   "metadata": {},
   "outputs": [],
   "source": [
    "broker = \"localhost:9092\"\n",
    "admin = KafkaAdminClient(bootstrap_servers=[broker])"
   ]
  },
  {
   "cell_type": "code",
   "execution_count": 3,
   "id": "eaf03df1-f063-4e7e-be5c-48509435d11a",
   "metadata": {},
   "outputs": [
    {
     "data": {
      "text/plain": [
       "[]"
      ]
     },
     "execution_count": 3,
     "metadata": {},
     "output_type": "execute_result"
    }
   ],
   "source": [
    "admin.list_topics()"
   ]
  },
  {
   "cell_type": "code",
   "execution_count": 4,
   "id": "c4caba81-1059-46ad-8dee-c9d515e8f6cf",
   "metadata": {},
   "outputs": [],
   "source": [
    "from kafka.admin import NewTopic"
   ]
  },
  {
   "cell_type": "code",
   "execution_count": 11,
   "id": "9c55a6fd-8ca3-467b-9cf1-f3361da9803d",
   "metadata": {},
   "outputs": [],
   "source": [
    "# admin.delete_topics([\"even_nums\"])"
   ]
  },
  {
   "cell_type": "code",
   "execution_count": 14,
   "id": "6f9296fa-43ec-4fea-b711-d3806a0498ca",
   "metadata": {},
   "outputs": [],
   "source": [
    "from kafka.errors import TopicAlreadyExistsError"
   ]
  },
  {
   "cell_type": "code",
   "execution_count": 15,
   "id": "be6fc583-16e2-430f-b444-84dbcecc279b",
   "metadata": {},
   "outputs": [
    {
     "name": "stdout",
     "output_type": "stream",
     "text": [
      "already exists\n"
     ]
    }
   ],
   "source": [
    "try:\n",
    "    admin.create_topics([NewTopic(name=\"even_nums\", num_partitions=1, replication_factor=1)])\n",
    "except TopicAlreadyExistsError:\n",
    "    print(\"already exists\")"
   ]
  },
  {
   "cell_type": "code",
   "execution_count": 16,
   "id": "61829792-3bd0-41b0-8c97-25948cb905e1",
   "metadata": {},
   "outputs": [],
   "source": [
    "try:\n",
    "    admin.create_topics([NewTopic(name=\"odd_nums\", num_partitions=2, replication_factor=1)])\n",
    "except TopicAlreadyExistsError:\n",
    "    print(\"already exists\")"
   ]
  },
  {
   "cell_type": "code",
   "execution_count": 17,
   "id": "cf51f566-19a9-4587-afcb-4436f5eece1a",
   "metadata": {},
   "outputs": [
    {
     "data": {
      "text/plain": [
       "['even_nums', 'odd_nums']"
      ]
     },
     "execution_count": 17,
     "metadata": {},
     "output_type": "execute_result"
    }
   ],
   "source": [
    "admin.list_topics()"
   ]
  },
  {
   "cell_type": "markdown",
   "id": "b05a5462-38da-4893-b0e0-9d4b67abd38f",
   "metadata": {},
   "source": [
    "# producer"
   ]
  },
  {
   "cell_type": "code",
   "execution_count": 18,
   "id": "7ada05a2-fa79-48b5-bbc7-3ca369e55048",
   "metadata": {},
   "outputs": [],
   "source": [
    "producer = KafkaProducer(bootstrap_servers=[broker])"
   ]
  },
  {
   "cell_type": "code",
   "execution_count": 21,
   "id": "e4198451-e8d9-4752-92a9-edd8607d1318",
   "metadata": {},
   "outputs": [],
   "source": [
    "result = producer.send(\"even_nums\", bytes(str(0), \"utf-8\"))"
   ]
  },
  {
   "cell_type": "code",
   "execution_count": 22,
   "id": "688541d1-24aa-44de-b2ee-ffc2615354fd",
   "metadata": {},
   "outputs": [
    {
     "data": {
      "text/plain": [
       "<kafka.producer.future.FutureRecordMetadata at 0x7f013e07e9b0>"
      ]
     },
     "execution_count": 22,
     "metadata": {},
     "output_type": "execute_result"
    }
   ],
   "source": [
    "result"
   ]
  },
  {
   "cell_type": "code",
   "execution_count": 23,
   "id": "a6e1573c-a7cc-4db0-ae7d-ec44def36775",
   "metadata": {},
   "outputs": [
    {
     "data": {
      "text/plain": [
       "RecordMetadata(topic='even_nums', partition=0, topic_partition=TopicPartition(topic='even_nums', partition=0), offset=0, timestamp=1700078043741, log_start_offset=0, checksum=None, serialized_key_size=-1, serialized_value_size=1, serialized_header_size=-1)"
      ]
     },
     "execution_count": 23,
     "metadata": {},
     "output_type": "execute_result"
    }
   ],
   "source": [
    "result.get()"
   ]
  },
  {
   "cell_type": "code",
   "execution_count": 24,
   "id": "84805099-15df-4d4c-ad10-61c18031223f",
   "metadata": {},
   "outputs": [
    {
     "name": "stdout",
     "output_type": "stream",
     "text": [
      "hi\n"
     ]
    }
   ],
   "source": [
    "from threading import Thread, Lock\n",
    "\n",
    "lock = Lock()\n",
    "def Print(*args):\n",
    "    with lock:\n",
    "        print(*args)\n",
    "\n",
    "Print(\"hi\")"
   ]
  },
  {
   "cell_type": "code",
   "execution_count": 28,
   "id": "d52c28ca-ff68-47f5-9550-188d4b592566",
   "metadata": {},
   "outputs": [
    {
     "name": "stdout",
     "output_type": "stream",
     "text": [
      "send 0 to even_nums\n",
      "send 1 to odd_nums\n",
      "send 2 to even_nums\n",
      "send 3 to odd_nums\n",
      "send 4 to even_nums\n",
      "send 5 to odd_nums\n",
      "send 6 to even_nums\n",
      "send 7 to odd_nums\n",
      "send 8 to even_nums\n",
      "send 9 to odd_nums\n"
     ]
    }
   ],
   "source": [
    "import time, threading\n",
    "\n",
    "def num_producer(topic, start, step):\n",
    "    producer = KafkaProducer(bootstrap_servers=[broker])\n",
    "    num = start\n",
    "    while True:\n",
    "        if num < 10:\n",
    "            Print(\"send\", num, \"to\", topic)\n",
    "        producer.send(topic, bytes(str(num), \"utf-8\"))\n",
    "        num += step\n",
    "        time.sleep(1)\n",
    "\n",
    "threading.Thread(target=num_producer, args=(\"even_nums\", 0, 2)).start()\n",
    "threading.Thread(target=num_producer, args=(\"odd_nums\", 1, 2)).start()"
   ]
  },
  {
   "cell_type": "markdown",
   "id": "4df87443-a4af-4487-9718-ab05497cdfba",
   "metadata": {},
   "source": [
    "# consumer"
   ]
  },
  {
   "cell_type": "code",
   "execution_count": 29,
   "id": "516561a1-45a6-4bdb-b199-8656e21e2da4",
   "metadata": {},
   "outputs": [],
   "source": [
    "consumer = KafkaConsumer(bootstrap_servers=[broker])"
   ]
  },
  {
   "cell_type": "code",
   "execution_count": 30,
   "id": "41cfe6d2-d610-43f0-a141-bd2eaaaf1d8f",
   "metadata": {},
   "outputs": [
    {
     "data": {
      "text/plain": [
       "{}"
      ]
     },
     "execution_count": 30,
     "metadata": {},
     "output_type": "execute_result"
    }
   ],
   "source": [
    "batch = consumer.poll(1000)\n",
    "batch"
   ]
  },
  {
   "cell_type": "code",
   "execution_count": 31,
   "id": "c275c161-9e38-45ae-aa4c-ede73e0af7d2",
   "metadata": {},
   "outputs": [
    {
     "data": {
      "text/plain": [
       "set()"
      ]
     },
     "execution_count": 31,
     "metadata": {},
     "output_type": "execute_result"
    }
   ],
   "source": [
    "consumer.assignment()"
   ]
  },
  {
   "cell_type": "markdown",
   "id": "0bd829cd-8878-485a-9f2e-b34b0d6dab53",
   "metadata": {},
   "source": [
    "## Manual Partition Assignment"
   ]
  },
  {
   "cell_type": "code",
   "execution_count": 33,
   "id": "456af877-878f-4575-aba5-16f98782e723",
   "metadata": {},
   "outputs": [],
   "source": [
    "from kafka import TopicPartition"
   ]
  },
  {
   "cell_type": "code",
   "execution_count": 47,
   "id": "23f82261-be10-4d00-ae82-45e80729f628",
   "metadata": {},
   "outputs": [
    {
     "data": {
      "text/plain": [
       "{TopicPartition(topic='even_nums', partition=0)}"
      ]
     },
     "execution_count": 47,
     "metadata": {},
     "output_type": "execute_result"
    }
   ],
   "source": [
    "consumer = KafkaConsumer(bootstrap_servers=[broker])\n",
    "consumer.assign([TopicPartition(\"even_nums\", 0)])\n",
    "consumer.seek_to_beginning()\n",
    "consumer.assignment()"
   ]
  },
  {
   "cell_type": "code",
   "execution_count": 50,
   "id": "93328cda-b546-4926-b552-d14fe1f9cdbd",
   "metadata": {},
   "outputs": [
    {
     "name": "stdout",
     "output_type": "stream",
     "text": [
      "674\n",
      "676\n"
     ]
    }
   ],
   "source": [
    "batch = consumer.poll(1000)\n",
    "for topic_partition, messages in batch.items():\n",
    "    for msg in messages:\n",
    "        print(int(str(msg.value, \"utf-8\")))"
   ]
  },
  {
   "cell_type": "markdown",
   "id": "d4c50e62-0cc2-4724-80ad-b6b6dcab40c7",
   "metadata": {},
   "source": [
    "## Automatic Partition Assignment"
   ]
  },
  {
   "cell_type": "code",
   "execution_count": 51,
   "id": "1a2faddc-49f6-446d-a646-3690ad606c13",
   "metadata": {},
   "outputs": [
    {
     "name": "stdout",
     "output_type": "stream",
     "text": [
      "set()\n"
     ]
    }
   ],
   "source": [
    "consumer = KafkaConsumer(bootstrap_servers=[broker])\n",
    "consumer.subscribe([\"even_nums\"])\n",
    "print(consumer.assignment())"
   ]
  },
  {
   "cell_type": "code",
   "execution_count": 54,
   "id": "3e250b91-90cc-4c03-9785-c504c97f3d53",
   "metadata": {},
   "outputs": [
    {
     "name": "stdout",
     "output_type": "stream",
     "text": [
      "{TopicPartition(topic='even_nums', partition=0)}\n"
     ]
    }
   ],
   "source": [
    "_ = consumer.poll(1000)\n",
    "print(consumer.assignment())\n",
    "consumer.seek_to_beginning()"
   ]
  },
  {
   "cell_type": "code",
   "execution_count": 57,
   "id": "3a11a232-c9da-4bf2-963b-f691dee2fc74",
   "metadata": {},
   "outputs": [
    {
     "name": "stdout",
     "output_type": "stream",
     "text": [
      "914\n"
     ]
    }
   ],
   "source": [
    "batch = consumer.poll(1000)\n",
    "for topic_partition, messages in batch.items():\n",
    "    for msg in messages:\n",
    "        print(int(str(msg.value, \"utf-8\")))"
   ]
  },
  {
   "cell_type": "markdown",
   "id": "d99d1c46-42a8-4e49-a51b-19c31061fa57",
   "metadata": {},
   "source": [
    "# Multiple Assignment"
   ]
  },
  {
   "cell_type": "code",
   "execution_count": 58,
   "id": "509bb475-08cc-4c95-822f-d718e317ef75",
   "metadata": {},
   "outputs": [
    {
     "name": "stdout",
     "output_type": "stream",
     "text": [
      "set()\n",
      "{TopicPartition(topic='odd_nums', partition=0), TopicPartition(topic='odd_nums', partition=1), TopicPartition(topic='even_nums', partition=0)}\n"
     ]
    }
   ],
   "source": [
    "consumer = KafkaConsumer(bootstrap_servers=[broker])\n",
    "consumer.subscribe([\"even_nums\", \"odd_nums\"])\n",
    "print(consumer.assignment())\n",
    "\n",
    "_ = consumer.poll(1000)\n",
    "print(consumer.assignment())\n",
    "consumer.seek_to_beginning()"
   ]
  },
  {
   "cell_type": "code",
   "execution_count": 64,
   "id": "c92a2297-d31e-4c1b-93fe-293505bd6d2b",
   "metadata": {},
   "outputs": [
    {
     "name": "stdout",
     "output_type": "stream",
     "text": [
      "TopicPartition(topic='even_nums', partition=0)\n",
      "1188\n",
      "1190\n",
      "1192\n",
      "1194\n",
      "1196\n",
      "TopicPartition(topic='odd_nums', partition=1)\n",
      "1189\n",
      "1193\n",
      "1195\n",
      "1197\n",
      "TopicPartition(topic='odd_nums', partition=0)\n",
      "1191\n"
     ]
    }
   ],
   "source": [
    "batch = consumer.poll(1000)\n",
    "for topic_partition, messages in batch.items():\n",
    "    print(topic_partition)\n",
    "    for msg in messages:\n",
    "        print(int(str(msg.value, \"utf-8\")))"
   ]
  },
  {
   "cell_type": "code",
   "execution_count": null,
   "id": "a8b27671-9099-4a85-9f4c-244929b6dcda",
   "metadata": {},
   "outputs": [],
   "source": []
  }
 ],
 "metadata": {
  "kernelspec": {
   "display_name": "Python 3 (ipykernel)",
   "language": "python",
   "name": "python3"
  },
  "language_info": {
   "codemirror_mode": {
    "name": "ipython",
    "version": 3
   },
   "file_extension": ".py",
   "mimetype": "text/x-python",
   "name": "python",
   "nbconvert_exporter": "python",
   "pygments_lexer": "ipython3",
   "version": "3.10.12"
  }
 },
 "nbformat": 4,
 "nbformat_minor": 5
}
