{
 "cells": [
  {
   "cell_type": "code",
   "execution_count": 1,
   "id": "5d7c86df-148e-44b5-bd72-2280f8837a3f",
   "metadata": {},
   "outputs": [
    {
     "name": "stdout",
     "output_type": "stream",
     "text": [
      "hi\n"
     ]
    }
   ],
   "source": [
    "from threading import Thread, Lock\n",
    "\n",
    "lock = Lock()\n",
    "def Print(*args):\n",
    "    with lock:\n",
    "        print(*args)\n",
    "\n",
    "Print(\"hi\")"
   ]
  },
  {
   "cell_type": "code",
   "execution_count": 2,
   "id": "21af1d89-d22e-4761-9eb0-4c454263683d",
   "metadata": {},
   "outputs": [],
   "source": [
    "from kafka import KafkaAdminClient, KafkaProducer, KafkaConsumer"
   ]
  },
  {
   "cell_type": "markdown",
   "id": "94163208-79f6-4b97-a96a-a831af16770e",
   "metadata": {},
   "source": [
    "# Admin"
   ]
  },
  {
   "cell_type": "code",
   "execution_count": 3,
   "id": "f2ee3312-46cb-4c9a-9503-ab29f1dbe8a1",
   "metadata": {},
   "outputs": [],
   "source": [
    "broker = \"localhost:9092\"\n",
    "admin = KafkaAdminClient(bootstrap_servers=[broker])"
   ]
  },
  {
   "cell_type": "code",
   "execution_count": 4,
   "id": "13f098af-bb7a-4d09-a759-94c6fc0c5b95",
   "metadata": {},
   "outputs": [
    {
     "data": {
      "text/plain": [
       "[]"
      ]
     },
     "execution_count": 4,
     "metadata": {},
     "output_type": "execute_result"
    }
   ],
   "source": [
    "admin.list_topics()"
   ]
  },
  {
   "cell_type": "code",
   "execution_count": 5,
   "id": "e3306df2-7228-4a1a-b0b9-43b82d32759e",
   "metadata": {},
   "outputs": [],
   "source": [
    "from kafka.admin import NewTopic\n",
    "from kafka.errors import TopicAlreadyExistsError"
   ]
  },
  {
   "cell_type": "code",
   "execution_count": 6,
   "id": "c3bc6689-f901-43df-b580-9a4136d25c8e",
   "metadata": {},
   "outputs": [],
   "source": [
    "# admin.delete_topics([\"even_nums\", \"odd_nums\"])"
   ]
  },
  {
   "cell_type": "code",
   "execution_count": 7,
   "id": "8659e90c-8762-4d40-bb4a-2fa57fec7766",
   "metadata": {},
   "outputs": [],
   "source": [
    "try:\n",
    "    admin.create_topics([NewTopic(\"even_nums\", num_partitions=1, replication_factor=1)])\n",
    "except TopicAlreadyExistsError:\n",
    "    print(\"already exists\")"
   ]
  },
  {
   "cell_type": "code",
   "execution_count": 8,
   "id": "2dde6825-7704-44a4-857f-10d9e95c01a7",
   "metadata": {},
   "outputs": [],
   "source": [
    "try:\n",
    "    admin.create_topics([NewTopic(\"odd_nums\", num_partitions=2, replication_factor=1)])\n",
    "except TopicAlreadyExistsError:\n",
    "    print(\"already exists\")"
   ]
  },
  {
   "cell_type": "code",
   "execution_count": 9,
   "id": "0f7a35a6-1f4a-4bf4-b978-038d05cf5f56",
   "metadata": {},
   "outputs": [
    {
     "data": {
      "text/plain": [
       "['even_nums', 'odd_nums']"
      ]
     },
     "execution_count": 9,
     "metadata": {},
     "output_type": "execute_result"
    }
   ],
   "source": [
    "admin.list_topics()"
   ]
  },
  {
   "cell_type": "markdown",
   "id": "8f166e21-6a67-44af-817b-16c8e06853de",
   "metadata": {},
   "source": [
    "# Producer"
   ]
  },
  {
   "cell_type": "code",
   "execution_count": 13,
   "id": "9837052a-3a17-4d06-8d18-7bc96da4948b",
   "metadata": {},
   "outputs": [],
   "source": [
    "producer = KafkaProducer(bootstrap_servers=[broker])"
   ]
  },
  {
   "cell_type": "code",
   "execution_count": 11,
   "id": "e49c2277-ec7a-4730-aab7-da0bdbfdbf48",
   "metadata": {},
   "outputs": [],
   "source": [
    "# result = producer.send(\"even_nums\", bytes(str(0), \"utf-8\"))"
   ]
  },
  {
   "cell_type": "code",
   "execution_count": 12,
   "id": "f6638183-8d79-4a20-9c89-bc4585c4fa69",
   "metadata": {},
   "outputs": [],
   "source": [
    "# result.get()"
   ]
  },
  {
   "cell_type": "code",
   "execution_count": 14,
   "id": "7f516be6-bbd4-41dd-86ae-1578c0e247a9",
   "metadata": {},
   "outputs": [
    {
     "name": "stdout",
     "output_type": "stream",
     "text": [
      "send 0 to even_nums\n",
      "send 1 to odd_nums\n",
      "send 2 to even_nums\n",
      "send 3 to odd_nums\n",
      "send 5 to odd_nums\n",
      "send 4 to even_nums\n",
      "send 6 to even_nums\n",
      "send 7 to odd_nums\n",
      "send 9 to odd_nums\n",
      "send 8 to even_nums\n"
     ]
    }
   ],
   "source": [
    "import time, threading\n",
    "\n",
    "def num_producer(topic, start, step):\n",
    "    producer = KafkaProducer(bootstrap_servers=[broker])\n",
    "    num = start\n",
    "    while True:\n",
    "        if num < 10:\n",
    "            Print(\"send\", num, \"to\", topic)\n",
    "        producer.send(topic, bytes(str(num), \"utf-8\"))\n",
    "        num += step\n",
    "        time.sleep(1)\n",
    "\n",
    "threading.Thread(target=num_producer, args=(\"even_nums\", 0, 2)).start()\n",
    "threading.Thread(target=num_producer, args=(\"odd_nums\", 1, 2)).start()"
   ]
  },
  {
   "cell_type": "markdown",
   "id": "e7b04cbf-501f-4a53-b83c-2209da09bc16",
   "metadata": {},
   "source": [
    "# Consumer"
   ]
  },
  {
   "cell_type": "code",
   "execution_count": 15,
   "id": "a7019c8e-aeec-4c00-8c4d-e5b3622c7503",
   "metadata": {},
   "outputs": [
    {
     "data": {
      "text/plain": [
       "{}"
      ]
     },
     "execution_count": 15,
     "metadata": {},
     "output_type": "execute_result"
    }
   ],
   "source": [
    "consumer = KafkaConsumer(bootstrap_servers=[broker])\n",
    "batch = consumer.poll(1000)\n",
    "batch"
   ]
  },
  {
   "cell_type": "code",
   "execution_count": 16,
   "id": "75206205-74a5-425a-b587-ea03f2628ed7",
   "metadata": {},
   "outputs": [
    {
     "data": {
      "text/plain": [
       "set()"
      ]
     },
     "execution_count": 16,
     "metadata": {},
     "output_type": "execute_result"
    }
   ],
   "source": [
    "consumer.assignment()"
   ]
  },
  {
   "cell_type": "markdown",
   "id": "e1a6f936-d88c-40c2-bb4b-32d65b812fad",
   "metadata": {},
   "source": [
    "## Manual Assignment"
   ]
  },
  {
   "cell_type": "code",
   "execution_count": 18,
   "id": "1576472e-1ab8-44f1-8aca-ae035e6e3e84",
   "metadata": {},
   "outputs": [],
   "source": [
    "from kafka import TopicPartition"
   ]
  },
  {
   "cell_type": "code",
   "execution_count": 22,
   "id": "5a1e5341-4675-4777-a8c0-e3760efeb327",
   "metadata": {},
   "outputs": [
    {
     "data": {
      "text/plain": [
       "{TopicPartition(topic='even_nums', partition=0)}"
      ]
     },
     "execution_count": 22,
     "metadata": {},
     "output_type": "execute_result"
    }
   ],
   "source": [
    "consumer.assign([TopicPartition(\"even_nums\", 0)])\n",
    "consumer.assignment()"
   ]
  },
  {
   "cell_type": "code",
   "execution_count": 23,
   "id": "897e7157-7146-432e-866f-6a29e80f7793",
   "metadata": {},
   "outputs": [],
   "source": [
    "consumer.seek_to_beginning()"
   ]
  },
  {
   "cell_type": "code",
   "execution_count": 32,
   "id": "b42bc2fd-71d3-40de-af50-47e2ba197fa7",
   "metadata": {},
   "outputs": [
    {
     "name": "stdout",
     "output_type": "stream",
     "text": [
      "200\n",
      "202\n",
      "204\n"
     ]
    }
   ],
   "source": [
    "batch = consumer.poll(1000)\n",
    "for topic_partition, messages in batch.items():\n",
    "    for msg in messages:\n",
    "        print(int(str(msg.value, \"utf-8\")))"
   ]
  },
  {
   "cell_type": "markdown",
   "id": "a2d417a5-37de-4783-98de-c25be770218b",
   "metadata": {},
   "source": [
    "## Automatic Assignment"
   ]
  },
  {
   "cell_type": "code",
   "execution_count": 37,
   "id": "cd8d0813-e09b-446d-a8aa-adb460543e3b",
   "metadata": {},
   "outputs": [
    {
     "name": "stdout",
     "output_type": "stream",
     "text": [
      "{TopicPartition(topic='even_nums', partition=0)}\n"
     ]
    }
   ],
   "source": [
    "consumer = KafkaConsumer(bootstrap_servers=[broker])\n",
    "consumer.subscribe([\"even_nums\"])\n",
    "_ = consumer.poll(1000)\n",
    "print(consumer.assignment())\n",
    "consumer.seek_to_beginning()"
   ]
  },
  {
   "cell_type": "code",
   "execution_count": 39,
   "id": "e04da740-9d4e-4aa7-8631-1e420d1cd608",
   "metadata": {},
   "outputs": [
    {
     "name": "stdout",
     "output_type": "stream",
     "text": [
      "418\n",
      "420\n",
      "422\n"
     ]
    }
   ],
   "source": [
    "batch = consumer.poll(1000)\n",
    "for topic_partition, messages in batch.items():\n",
    "    for msg in messages:\n",
    "        print(int(str(msg.value, \"utf-8\")))"
   ]
  },
  {
   "cell_type": "markdown",
   "id": "7e7a89c6-8e81-4604-a75b-bc331396f5a4",
   "metadata": {},
   "source": [
    "# Multiple Assignment"
   ]
  },
  {
   "cell_type": "code",
   "execution_count": 40,
   "id": "3e60baa9-4229-49c1-9828-140a1a6e66eb",
   "metadata": {},
   "outputs": [
    {
     "name": "stdout",
     "output_type": "stream",
     "text": [
      "{TopicPartition(topic='odd_nums', partition=1), TopicPartition(topic='odd_nums', partition=0), TopicPartition(topic='even_nums', partition=0)}\n"
     ]
    }
   ],
   "source": [
    "consumer = KafkaConsumer(bootstrap_servers=[broker])\n",
    "consumer.subscribe([\"even_nums\", \"odd_nums\"])\n",
    "_ = consumer.poll(1000)\n",
    "print(consumer.assignment())\n",
    "consumer.seek_to_beginning()"
   ]
  },
  {
   "cell_type": "code",
   "execution_count": 56,
   "id": "f17b99e6-ff48-43f3-a52e-38b697e906d8",
   "metadata": {},
   "outputs": [
    {
     "name": "stdout",
     "output_type": "stream",
     "text": [
      "TopicPartition(topic='odd_nums', partition=0)\n",
      "1255\n",
      "1271\n",
      "1273\n",
      "1275\n",
      "1277\n",
      "1281\n",
      "1283\n",
      "1287\n",
      "1293\n",
      "1297\n",
      "1301\n",
      "1315\n",
      "TopicPartition(topic='odd_nums', partition=1)\n",
      "1253\n",
      "1257\n",
      "1259\n",
      "1261\n",
      "1263\n",
      "1265\n",
      "1267\n",
      "1269\n",
      "1279\n",
      "1285\n",
      "1289\n",
      "1291\n",
      "1295\n",
      "1299\n",
      "1303\n",
      "1305\n",
      "1307\n",
      "1309\n",
      "1311\n",
      "1313\n",
      "TopicPartition(topic='even_nums', partition=0)\n",
      "1252\n",
      "1254\n",
      "1256\n",
      "1258\n",
      "1260\n",
      "1262\n",
      "1264\n",
      "1266\n",
      "1268\n",
      "1270\n",
      "1272\n",
      "1274\n",
      "1276\n",
      "1278\n",
      "1280\n",
      "1282\n",
      "1284\n",
      "1286\n",
      "1288\n",
      "1290\n",
      "1292\n",
      "1294\n",
      "1296\n",
      "1298\n",
      "1300\n",
      "1302\n",
      "1304\n",
      "1306\n",
      "1308\n",
      "1310\n",
      "1312\n",
      "1314\n"
     ]
    }
   ],
   "source": [
    "batch = consumer.poll(1000)\n",
    "for topic_partition, messages in batch.items():\n",
    "    print(topic_partition)\n",
    "    for msg in messages:\n",
    "        print(int(str(msg.value, \"utf-8\")))"
   ]
  },
  {
   "cell_type": "code",
   "execution_count": 57,
   "id": "9b7cf3bd-a92b-43c3-b88f-e7d35f9cd14a",
   "metadata": {},
   "outputs": [
    {
     "data": {
      "text/plain": [
       "{TopicPartition(topic='odd_nums', partition=1): 328,\n",
       " TopicPartition(topic='odd_nums', partition=0): 330,\n",
       " TopicPartition(topic='even_nums', partition=0): 658}"
      ]
     },
     "execution_count": 57,
     "metadata": {},
     "output_type": "execute_result"
    }
   ],
   "source": [
    "positions = {}\n",
    "for tp in consumer.assignment():\n",
    "    pos = consumer.position(tp)\n",
    "    positions[tp] = pos\n",
    "positions"
   ]
  },
  {
   "cell_type": "code",
   "execution_count": 58,
   "id": "ea0231b1-9e8a-4bc0-bf0c-994bc391ea4c",
   "metadata": {},
   "outputs": [],
   "source": [
    "consumer2 = KafkaConsumer(bootstrap_servers=[broker])"
   ]
  },
  {
   "cell_type": "code",
   "execution_count": 59,
   "id": "357464eb-5570-48ef-b85a-2ab9aecade33",
   "metadata": {},
   "outputs": [],
   "source": [
    "consumer2.assign(positions.keys())\n",
    "for tp, position in positions.items():\n",
    "    consumer2.seek(tp, position)"
   ]
  },
  {
   "cell_type": "code",
   "execution_count": 60,
   "id": "6592d6cd-e5a3-47cc-9553-47f16801aeb0",
   "metadata": {},
   "outputs": [
    {
     "name": "stdout",
     "output_type": "stream",
     "text": [
      "TopicPartition(topic='odd_nums', partition=1)\n",
      "1317\n",
      "1319\n",
      "1323\n",
      "1325\n",
      "1327\n",
      "1329\n",
      "1333\n",
      "1337\n",
      "1339\n",
      "1341\n",
      "1343\n",
      "1355\n",
      "1359\n",
      "1369\n",
      "1371\n",
      "TopicPartition(topic='odd_nums', partition=0)\n",
      "1321\n",
      "1331\n",
      "1335\n",
      "1345\n",
      "1347\n",
      "1349\n",
      "1351\n",
      "1353\n",
      "1357\n",
      "1361\n",
      "1363\n",
      "1365\n",
      "1367\n",
      "1373\n",
      "TopicPartition(topic='even_nums', partition=0)\n",
      "1316\n",
      "1318\n",
      "1320\n",
      "1322\n",
      "1324\n",
      "1326\n",
      "1328\n",
      "1330\n",
      "1332\n",
      "1334\n",
      "1336\n",
      "1338\n",
      "1340\n",
      "1342\n",
      "1344\n",
      "1346\n",
      "1348\n",
      "1350\n",
      "1352\n",
      "1354\n",
      "1356\n",
      "1358\n",
      "1360\n",
      "1362\n",
      "1364\n",
      "1366\n",
      "1368\n",
      "1370\n",
      "1372\n"
     ]
    }
   ],
   "source": [
    "batch = consumer2.poll(1000)\n",
    "for topic_partition, messages in batch.items():\n",
    "    print(topic_partition)\n",
    "    for msg in messages:\n",
    "        print(int(str(msg.value, \"utf-8\")))"
   ]
  },
  {
   "cell_type": "markdown",
   "id": "ef18a872-b291-48e4-8423-76bd047bb140",
   "metadata": {},
   "source": [
    "# Consumer Groups (2 of them reading even numbers)"
   ]
  },
  {
   "cell_type": "code",
   "execution_count": 64,
   "id": "6cbbb54b-21e8-444f-9cbb-774f83b2ca9c",
   "metadata": {},
   "outputs": [
    {
     "name": "stdout",
     "output_type": "stream",
     "text": [
      "g1 t1 b'2025'\n",
      "g2 t2 b'2025'\n",
      "g1 t1 b'2027'\n",
      "g2 t2 b'2027'\n",
      "g2 t2 b'2029'\n",
      "g1 t1 b'2029'\n",
      "g1 t1 b'2031'\n",
      "g2 t3 b'2031'\n",
      "g2 t3 b'2033'\n",
      "g1 t1 b'2033'\n",
      "g2 t3 b'2035'\n",
      "g1 t1 b'2035'\n",
      "g1 t1 b'2037'\n",
      "g2 t2 b'2037'\n",
      "g1 t1 b'2039'\n",
      "g2 t3 b'2039'\n",
      "g1 t1 b'2041'\n",
      "g2 t2 b'2041'\n",
      "g2 t2 b'2043'\n",
      "g1 t1 b'2043'\n"
     ]
    }
   ],
   "source": [
    "def consume_odds(group, thread):\n",
    "    consumer = KafkaConsumer(bootstrap_servers=[broker], group_id=group)\n",
    "    consumer.subscribe([\"odd_nums\"])\n",
    "    for i in range(10):\n",
    "        batch = consumer.poll(1000)\n",
    "        for tp, messages in batch.items():\n",
    "            for msg in messages:\n",
    "                Print(group, thread, msg.value)\n",
    "\n",
    "threading.Thread(target=consume_odds, args=(\"g1\",\"t1\")).start()\n",
    "threading.Thread(target=consume_odds, args=(\"g2\",\"t2\")).start()\n",
    "threading.Thread(target=consume_odds, args=(\"g2\",\"t3\")).start()"
   ]
  },
  {
   "cell_type": "code",
   "execution_count": null,
   "id": "94ce755f-e2f3-4bf4-85c6-06775c5aea81",
   "metadata": {},
   "outputs": [],
   "source": []
  }
 ],
 "metadata": {
  "kernelspec": {
   "display_name": "Python 3 (ipykernel)",
   "language": "python",
   "name": "python3"
  },
  "language_info": {
   "codemirror_mode": {
    "name": "ipython",
    "version": 3
   },
   "file_extension": ".py",
   "mimetype": "text/x-python",
   "name": "python",
   "nbconvert_exporter": "python",
   "pygments_lexer": "ipython3",
   "version": "3.10.12"
  }
 },
 "nbformat": 4,
 "nbformat_minor": 5
}
