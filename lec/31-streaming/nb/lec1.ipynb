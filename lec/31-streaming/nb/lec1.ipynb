{
 "cells": [
  {
   "cell_type": "code",
   "execution_count": 1,
   "id": "5d7c86df-148e-44b5-bd72-2280f8837a3f",
   "metadata": {},
   "outputs": [
    {
     "name": "stdout",
     "output_type": "stream",
     "text": [
      "hi\n"
     ]
    }
   ],
   "source": [
    "from threading import Thread, Lock\n",
    "\n",
    "lock = Lock()\n",
    "def Print(*args):\n",
    "    with lock:\n",
    "        print(*args)\n",
    "\n",
    "Print(\"hi\")"
   ]
  },
  {
   "cell_type": "code",
   "execution_count": 2,
   "id": "21af1d89-d22e-4761-9eb0-4c454263683d",
   "metadata": {},
   "outputs": [],
   "source": [
    "from kafka import KafkaAdminClient, KafkaProducer, KafkaConsumer"
   ]
  },
  {
   "cell_type": "markdown",
   "id": "94163208-79f6-4b97-a96a-a831af16770e",
   "metadata": {},
   "source": [
    "# Admin"
   ]
  },
  {
   "cell_type": "code",
   "execution_count": 3,
   "id": "f2ee3312-46cb-4c9a-9503-ab29f1dbe8a1",
   "metadata": {},
   "outputs": [],
   "source": [
    "broker = \"localhost:9092\"\n",
    "admin = KafkaAdminClient(bootstrap_servers=[broker])"
   ]
  },
  {
   "cell_type": "code",
   "execution_count": 4,
   "id": "13f098af-bb7a-4d09-a759-94c6fc0c5b95",
   "metadata": {},
   "outputs": [
    {
     "data": {
      "text/plain": [
       "[]"
      ]
     },
     "execution_count": 4,
     "metadata": {},
     "output_type": "execute_result"
    }
   ],
   "source": [
    "admin.list_topics()"
   ]
  },
  {
   "cell_type": "code",
   "execution_count": 21,
   "id": "e3306df2-7228-4a1a-b0b9-43b82d32759e",
   "metadata": {},
   "outputs": [],
   "source": [
    "from kafka.admin import NewTopic\n",
    "from kafka.errors import TopicAlreadyExistsError"
   ]
  },
  {
   "cell_type": "code",
   "execution_count": 15,
   "id": "c3bc6689-f901-43df-b580-9a4136d25c8e",
   "metadata": {},
   "outputs": [],
   "source": [
    "# admin.delete_topics([\"even_nums\", \"odd_nums\"])"
   ]
  },
  {
   "cell_type": "code",
   "execution_count": 22,
   "id": "8659e90c-8762-4d40-bb4a-2fa57fec7766",
   "metadata": {},
   "outputs": [
    {
     "name": "stdout",
     "output_type": "stream",
     "text": [
      "already exists\n"
     ]
    }
   ],
   "source": [
    "try:\n",
    "    admin.create_topics([NewTopic(\"even_nums\", num_partitions=1, replication_factor=1)])\n",
    "except TopicAlreadyExistsError:\n",
    "    print(\"already exists\")"
   ]
  },
  {
   "cell_type": "code",
   "execution_count": 23,
   "id": "2dde6825-7704-44a4-857f-10d9e95c01a7",
   "metadata": {},
   "outputs": [
    {
     "name": "stdout",
     "output_type": "stream",
     "text": [
      "already exists\n"
     ]
    }
   ],
   "source": [
    "try:\n",
    "    admin.create_topics([NewTopic(\"odd_nums\", num_partitions=2, replication_factor=1)])\n",
    "except TopicAlreadyExistsError:\n",
    "    print(\"already exists\")"
   ]
  },
  {
   "cell_type": "code",
   "execution_count": 24,
   "id": "0f7a35a6-1f4a-4bf4-b978-038d05cf5f56",
   "metadata": {},
   "outputs": [
    {
     "data": {
      "text/plain": [
       "['even_nums', 'odd_nums']"
      ]
     },
     "execution_count": 24,
     "metadata": {},
     "output_type": "execute_result"
    }
   ],
   "source": [
    "admin.list_topics()"
   ]
  },
  {
   "cell_type": "markdown",
   "id": "8f166e21-6a67-44af-817b-16c8e06853de",
   "metadata": {},
   "source": [
    "# Producer"
   ]
  },
  {
   "cell_type": "code",
   "execution_count": 25,
   "id": "9837052a-3a17-4d06-8d18-7bc96da4948b",
   "metadata": {},
   "outputs": [],
   "source": [
    "producer = KafkaProducer(bootstrap_servers=[broker])"
   ]
  },
  {
   "cell_type": "code",
   "execution_count": 27,
   "id": "e49c2277-ec7a-4730-aab7-da0bdbfdbf48",
   "metadata": {},
   "outputs": [],
   "source": [
    "result = producer.send(\"even_nums\", bytes(str(0), \"utf-8\"))"
   ]
  },
  {
   "cell_type": "code",
   "execution_count": 29,
   "id": "f6638183-8d79-4a20-9c89-bc4585c4fa69",
   "metadata": {},
   "outputs": [
    {
     "data": {
      "text/plain": [
       "RecordMetadata(topic='even_nums', partition=0, topic_partition=TopicPartition(topic='even_nums', partition=0), offset=0, timestamp=1700066230422, log_start_offset=0, checksum=None, serialized_key_size=-1, serialized_value_size=1, serialized_header_size=-1)"
      ]
     },
     "execution_count": 29,
     "metadata": {},
     "output_type": "execute_result"
    }
   ],
   "source": [
    "result.get()"
   ]
  },
  {
   "cell_type": "code",
   "execution_count": 32,
   "id": "7f516be6-bbd4-41dd-86ae-1578c0e247a9",
   "metadata": {},
   "outputs": [
    {
     "name": "stdout",
     "output_type": "stream",
     "text": [
      "send 1 to odd_nums\n",
      "send 0 to even_nums\n",
      "send 3 to odd_nums\n",
      "send 2 to even_nums\n",
      "send 5 to odd_nums\n",
      "send 4 to even_nums\n",
      "send 7 to odd_nums\n",
      "send 6 to even_nums\n",
      "send 9 to odd_nums\n",
      "send 8 to even_nums\n"
     ]
    }
   ],
   "source": [
    "import time, threading\n",
    "\n",
    "def num_producer(topic, start, step):\n",
    "    producer = KafkaProducer(bootstrap_servers=[broker])\n",
    "    num = start\n",
    "    while True:\n",
    "        if num < 10:\n",
    "            Print(\"send\", num, \"to\", topic)\n",
    "        producer.send(topic, bytes(str(num), \"utf-8\"))\n",
    "        num += step\n",
    "        time.sleep(1)\n",
    "\n",
    "# TODO: have two threads for this function\n",
    "threading.Thread(target=num_producer, args=(\"even_nums\", 0, 2)).start()\n",
    "threading.Thread(target=num_producer, args=(\"odd_nums\", 1, 2)).start()"
   ]
  },
  {
   "cell_type": "markdown",
   "id": "e7b04cbf-501f-4a53-b83c-2209da09bc16",
   "metadata": {},
   "source": [
    "# Consumer"
   ]
  },
  {
   "cell_type": "code",
   "execution_count": 33,
   "id": "a7019c8e-aeec-4c00-8c4d-e5b3622c7503",
   "metadata": {},
   "outputs": [
    {
     "data": {
      "text/plain": [
       "{}"
      ]
     },
     "execution_count": 33,
     "metadata": {},
     "output_type": "execute_result"
    }
   ],
   "source": [
    "consumer = KafkaConsumer(bootstrap_servers=[broker])\n",
    "batch = consumer.poll(1000)\n",
    "batch"
   ]
  },
  {
   "cell_type": "code",
   "execution_count": 34,
   "id": "75206205-74a5-425a-b587-ea03f2628ed7",
   "metadata": {},
   "outputs": [
    {
     "data": {
      "text/plain": [
       "set()"
      ]
     },
     "execution_count": 34,
     "metadata": {},
     "output_type": "execute_result"
    }
   ],
   "source": [
    "consumer.assignment()"
   ]
  },
  {
   "cell_type": "markdown",
   "id": "e1a6f936-d88c-40c2-bb4b-32d65b812fad",
   "metadata": {},
   "source": [
    "## Manual Assignment"
   ]
  },
  {
   "cell_type": "code",
   "execution_count": 36,
   "id": "1576472e-1ab8-44f1-8aca-ae035e6e3e84",
   "metadata": {},
   "outputs": [],
   "source": [
    "from kafka import TopicPartition"
   ]
  },
  {
   "cell_type": "code",
   "execution_count": 37,
   "id": "5a1e5341-4675-4777-a8c0-e3760efeb327",
   "metadata": {},
   "outputs": [
    {
     "data": {
      "text/plain": [
       "{TopicPartition(topic='even_nums', partition=0)}"
      ]
     },
     "execution_count": 37,
     "metadata": {},
     "output_type": "execute_result"
    }
   ],
   "source": [
    "consumer.assign([TopicPartition(\"even_nums\", 0)])\n",
    "consumer.assignment()"
   ]
  },
  {
   "cell_type": "code",
   "execution_count": 48,
   "id": "b42bc2fd-71d3-40de-af50-47e2ba197fa7",
   "metadata": {},
   "outputs": [
    {
     "name": "stdout",
     "output_type": "stream",
     "text": [
      "492\n",
      "494\n",
      "496\n",
      "498\n"
     ]
    }
   ],
   "source": [
    "batch = consumer.poll(1000)\n",
    "for topic_partition, messages in batch.items():\n",
    "    for msg in messages:\n",
    "        print(int(str(msg.value, \"utf-8\")))"
   ]
  },
  {
   "cell_type": "markdown",
   "id": "a2d417a5-37de-4783-98de-c25be770218b",
   "metadata": {},
   "source": [
    "## Automatic Assignment"
   ]
  },
  {
   "cell_type": "code",
   "execution_count": null,
   "id": "cd8d0813-e09b-446d-a8aa-adb460543e3b",
   "metadata": {},
   "outputs": [],
   "source": []
  }
 ],
 "metadata": {
  "kernelspec": {
   "display_name": "Python 3 (ipykernel)",
   "language": "python",
   "name": "python3"
  },
  "language_info": {
   "codemirror_mode": {
    "name": "ipython",
    "version": 3
   },
   "file_extension": ".py",
   "mimetype": "text/x-python",
   "name": "python",
   "nbconvert_exporter": "python",
   "pygments_lexer": "ipython3",
   "version": "3.10.12"
  }
 },
 "nbformat": 4,
 "nbformat_minor": 5
}
