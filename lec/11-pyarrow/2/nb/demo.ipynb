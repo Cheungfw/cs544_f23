{
 "cells": [
  {
   "cell_type": "code",
   "execution_count": 7,
   "id": "5ec4f2a6-4103-4a59-b922-8b7ed2e164e3",
   "metadata": {},
   "outputs": [],
   "source": [
    "import pyarrow as pa"
   ]
  },
  {
   "cell_type": "code",
   "execution_count": 2,
   "id": "265d6862-e745-4a8a-b886-d171fdb3db0b",
   "metadata": {},
   "outputs": [
    {
     "data": {
      "text/plain": [
       "22.888160705566406"
      ]
     },
     "execution_count": 2,
     "metadata": {},
     "output_type": "execute_result"
    }
   ],
   "source": [
    "batch = pa.RecordBatch.from_arrays([range(1,1_000_000),\n",
    "                                    range(1,1_000_000),\n",
    "                                    range(1,1_000_000)],\n",
    "                                   names=[\"x\", \"y\", \"z\"])\n",
    "batch.nbytes / 1024**2"
   ]
  },
  {
   "cell_type": "code",
   "execution_count": 3,
   "id": "56950ea4-49c7-44a0-9a0c-404ba2bbb7c0",
   "metadata": {},
   "outputs": [],
   "source": [
    "with pa.ipc.new_file(\"test.arrow\", schema=batch.schema) as f:\n",
    "    for i in range(50):\n",
    "        f.write_batch(batch)"
   ]
  },
  {
   "cell_type": "code",
   "execution_count": 4,
   "id": "ad8d4550-32a5-45cb-a464-cb3cf44ca252",
   "metadata": {},
   "outputs": [
    {
     "name": "stdout",
     "output_type": "stream",
     "text": [
      "total 1.2G\n",
      "drwxr-xr-x 3 root root 4.0K Sep 29 18:56 .\n",
      "drwxr-xr-x 1 root root 4.0K Sep 29 18:55 ..\n",
      "drwxr-xr-x 2 root root 4.0K Sep 29 18:55 .ipynb_checkpoints\n",
      "-rw-r--r-- 1 root root   72 Sep 29 18:55 demo.ipynb\n",
      "-rw-r--r-- 1 root root 1.2G Sep 29 18:56 test.arrow\n"
     ]
    }
   ],
   "source": [
    "!ls -lah"
   ]
  },
  {
   "cell_type": "code",
   "execution_count": 13,
   "id": "8c4dce71-95b4-4e76-84b0-8ed554b8086e",
   "metadata": {},
   "outputs": [],
   "source": [
    "# not enough memory!\n",
    "#with pa.ipc.open_file(\"test.arrow\") as f:\n",
    "#    tbl = f.read_all()"
   ]
  },
  {
   "cell_type": "code",
   "execution_count": 3,
   "id": "3748f902-157e-4314-b91b-6f34f1aac949",
   "metadata": {},
   "outputs": [],
   "source": [
    "import mmap\n",
    "with open(\"test.arrow\", \"rb\") as f:\n",
    "    mm = mmap.mmap(f.fileno(), 0, access=mmap.ACCESS_READ)"
   ]
  },
  {
   "cell_type": "code",
   "execution_count": 5,
   "id": "b9967361-2e79-4179-816f-c2ec760a1256",
   "metadata": {},
   "outputs": [
    {
     "data": {
      "text/plain": [
       "b'ARROW1\\x00\\x00\\xff\\xff'"
      ]
     },
     "execution_count": 5,
     "metadata": {},
     "output_type": "execute_result"
    }
   ],
   "source": [
    "mm[:10]"
   ]
  },
  {
   "cell_type": "code",
   "execution_count": 8,
   "id": "3dbe45e2-0b1c-42f6-b860-b423110a5822",
   "metadata": {},
   "outputs": [],
   "source": [
    "with pa.ipc.open_file(mm) as f:\n",
    "    tbl = f.read_all()"
   ]
  },
  {
   "cell_type": "code",
   "execution_count": 10,
   "id": "3e17042f-770e-43d0-94bd-0607beae0b9c",
   "metadata": {},
   "outputs": [
    {
     "data": {
      "text/plain": [
       "<pyarrow.Int64Scalar: 24999975000000>"
      ]
     },
     "execution_count": 10,
     "metadata": {},
     "output_type": "execute_result"
    }
   ],
   "source": [
    "import pyarrow.compute as pc\n",
    "pc.sum(tbl[\"x\"])"
   ]
  },
  {
   "cell_type": "code",
   "execution_count": 11,
   "id": "5667d90f-568d-4b62-a4b3-1f3a8815c3f1",
   "metadata": {},
   "outputs": [
    {
     "data": {
      "text/plain": [
       "<pyarrow.Int64Scalar: 24999975000000>"
      ]
     },
     "execution_count": 11,
     "metadata": {},
     "output_type": "execute_result"
    }
   ],
   "source": [
    "pc.sum(tbl[\"y\"])"
   ]
  },
  {
   "cell_type": "code",
   "execution_count": 12,
   "id": "a7ec0b99-3dc3-4763-a1bd-4865a7962672",
   "metadata": {},
   "outputs": [
    {
     "data": {
      "text/plain": [
       "<pyarrow.Int64Scalar: 24999975000000>"
      ]
     },
     "execution_count": 12,
     "metadata": {},
     "output_type": "execute_result"
    }
   ],
   "source": [
    "pc.sum(tbl[\"z\"])"
   ]
  },
  {
   "cell_type": "code",
   "execution_count": null,
   "id": "34eeff8d-3ab1-431f-9269-743e9c26df90",
   "metadata": {},
   "outputs": [],
   "source": []
  }
 ],
 "metadata": {
  "kernelspec": {
   "display_name": "Python 3 (ipykernel)",
   "language": "python",
   "name": "python3"
  },
  "language_info": {
   "codemirror_mode": {
    "name": "ipython",
    "version": 3
   },
   "file_extension": ".py",
   "mimetype": "text/x-python",
   "name": "python",
   "nbconvert_exporter": "python",
   "pygments_lexer": "ipython3",
   "version": "3.11.5"
  }
 },
 "nbformat": 4,
 "nbformat_minor": 5
}
