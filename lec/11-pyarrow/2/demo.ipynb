{
 "cells": [
  {
   "cell_type": "code",
   "execution_count": 1,
   "id": "f1814ccb-d212-4c64-a1e8-a1096aa00b41",
   "metadata": {},
   "outputs": [],
   "source": [
    "import torch, time"
   ]
  },
  {
   "cell_type": "code",
   "execution_count": 12,
   "id": "3e036d20-35e7-48d5-a333-9264e39851f6",
   "metadata": {},
   "outputs": [],
   "source": [
    "A = torch.rand(10_000, 10_000).T   # default is float32, so this is about 400 MB"
   ]
  },
  {
   "cell_type": "code",
   "execution_count": 15,
   "id": "c4922775-e0ee-46a8-b62a-d5c906a6b016",
   "metadata": {},
   "outputs": [
    {
     "data": {
      "text/plain": [
       "53.925514221191406"
      ]
     },
     "execution_count": 15,
     "metadata": {},
     "output_type": "execute_result"
    }
   ],
   "source": [
    "start = time.time()\n",
    "A.sum(dim=0)    # 0 is down, so this is summing over columns\n",
    "end = time.time()\n",
    "(end-start)*1000   # milliseconds"
   ]
  },
  {
   "cell_type": "code",
   "execution_count": 16,
   "id": "523cac83-5cc3-4052-9e22-859ea296bae1",
   "metadata": {},
   "outputs": [
    {
     "data": {
      "text/plain": [
       "124.97138977050781"
      ]
     },
     "execution_count": 16,
     "metadata": {},
     "output_type": "execute_result"
    }
   ],
   "source": [
    "start = time.time()\n",
    "A.sum(dim=1)    # 1 is across, so this is summing over rows\n",
    "end = time.time()\n",
    "(end-start)*1000   # milliseconds"
   ]
  },
  {
   "cell_type": "markdown",
   "id": "5dadf9c8-a4f7-4878-be05-16e25d23f866",
   "metadata": {},
   "source": [
    "# PyArrow"
   ]
  },
  {
   "cell_type": "code",
   "execution_count": 2,
   "id": "d9fbb721-e75f-4a03-bd78-0f441a63e7e9",
   "metadata": {},
   "outputs": [],
   "source": [
    "#!wget https://pages.cs.wisc.edu/~harter/cs544/data/hdma-wi-2021.zip"
   ]
  },
  {
   "cell_type": "code",
   "execution_count": 4,
   "id": "ac531274-8628-4acb-bbe4-c3e7f67d6c68",
   "metadata": {},
   "outputs": [],
   "source": [
    "#!unzip hdma-wi-2021.zip"
   ]
  },
  {
   "cell_type": "code",
   "execution_count": 5,
   "id": "6316690d-f1a3-452c-adcd-c4ffd875a1b9",
   "metadata": {},
   "outputs": [
    {
     "name": "stdout",
     "output_type": "stream",
     "text": [
      "total 188M\n",
      "drwxrwxr-x 3 trh trh 4.0K Sep 29 18:29 .\n",
      "drwxrwxr-x 5 trh trh 4.0K Sep 26 20:28 ..\n",
      "drwxrwxr-x 2 trh trh 4.0K Sep 29 18:13 .ipynb_checkpoints\n",
      "-rw-rw-r-- 1 trh trh  278 Sep 26 20:28 Dockerfile\n",
      "-rw-rw-r-- 1 trh trh 2.5K Sep 29 18:29 demo.ipynb\n",
      "-rw-r----- 1 trh trh 167M Nov  1  2022 hdma-wi-2021.csv\n",
      "-rw-rw-r-- 1 trh trh  21M Jan  5  2023 hdma-wi-2021.zip\n"
     ]
    }
   ],
   "source": [
    "!ls -lah"
   ]
  },
  {
   "cell_type": "code",
   "execution_count": 8,
   "id": "e00f146f-5076-49ee-9716-4df4fbbaec55",
   "metadata": {},
   "outputs": [],
   "source": [
    "import time\n",
    "import pandas as pd"
   ]
  },
  {
   "cell_type": "code",
   "execution_count": 9,
   "id": "fe0fcf42-e295-4061-9868-066fdd4a945c",
   "metadata": {},
   "outputs": [
    {
     "name": "stderr",
     "output_type": "stream",
     "text": [
      "/tmp/ipykernel_4381/3879644429.py:2: DtypeWarning: Columns (22,23,24,26,27,28,29,30,31,32,33,38,43,44) have mixed types. Specify dtype option on import or set low_memory=False.\n",
      "  pd.read_csv(\"hdma-wi-2021.csv\")\n"
     ]
    },
    {
     "data": {
      "text/plain": [
       "6.545098543167114"
      ]
     },
     "execution_count": 9,
     "metadata": {},
     "output_type": "execute_result"
    }
   ],
   "source": [
    "start = time.time()\n",
    "pd.read_csv(\"hdma-wi-2021.csv\")\n",
    "end = time.time()\n",
    "end-start # seconds"
   ]
  },
  {
   "cell_type": "code",
   "execution_count": 3,
   "id": "a26f8eca-0e51-47e7-9119-015bf5bc2f2d",
   "metadata": {},
   "outputs": [],
   "source": [
    "import pyarrow.csv\n",
    "import time"
   ]
  },
  {
   "cell_type": "code",
   "execution_count": 4,
   "id": "440d952f-9139-409d-bccf-92f3fa15cbd8",
   "metadata": {},
   "outputs": [],
   "source": [
    "start = time.time()\n",
    "tbl = pyarrow.csv.read_csv(\"hdma-wi-2021.csv\")\n",
    "end = time.time()"
   ]
  },
  {
   "cell_type": "code",
   "execution_count": 5,
   "id": "84a70ace-b8ff-41b7-a30e-125b0a1cdb1f",
   "metadata": {},
   "outputs": [
    {
     "data": {
      "text/plain": [
       "1.98746657371521"
      ]
     },
     "execution_count": 5,
     "metadata": {},
     "output_type": "execute_result"
    }
   ],
   "source": [
    "end-start"
   ]
  },
  {
   "cell_type": "code",
   "execution_count": 7,
   "id": "9e66ce54-bc2e-4da9-9965-9ac697cd3c47",
   "metadata": {},
   "outputs": [
    {
     "data": {
      "text/plain": [
       "1.2285869121551514"
      ]
     },
     "execution_count": 7,
     "metadata": {},
     "output_type": "execute_result"
    }
   ],
   "source": [
    "start = time.time()\n",
    "df = tbl.to_pandas()\n",
    "end = time.time()\n",
    "end-start"
   ]
  },
  {
   "cell_type": "code",
   "execution_count": 9,
   "id": "195c7b1b-6a83-430a-abb9-fe2f35949b00",
   "metadata": {},
   "outputs": [],
   "source": [
    "import pyarrow.compute as pc"
   ]
  },
  {
   "cell_type": "code",
   "execution_count": 12,
   "id": "f2007918-18ae-49e9-ab0e-01e51ad9eb0a",
   "metadata": {},
   "outputs": [
    {
     "data": {
      "text/plain": [
       "0         54930034mnpilhp25h80\n",
       "1         54930034mnpilhp25h80\n",
       "2         54930034mnpilhp25h80\n",
       "3         54930034mnpilhp25h80\n",
       "4         54930034mnpilhp25h80\n",
       "                  ...         \n",
       "447362    54930034mnpilhp25h80\n",
       "447363    54930034mnpilhp25h80\n",
       "447364    54930034mnpilhp25h80\n",
       "447365    54930034mnpilhp25h80\n",
       "447366    54930034mnpilhp25h80\n",
       "Length: 447367, dtype: object"
      ]
     },
     "execution_count": 12,
     "metadata": {},
     "output_type": "execute_result"
    }
   ],
   "source": [
    "pc.utf8_lower(tbl[\"lei\"]).to_pandas()"
   ]
  },
  {
   "cell_type": "code",
   "execution_count": 18,
   "id": "74ae1d84-1cbd-4b15-bda7-29ebb4c07aba",
   "metadata": {},
   "outputs": [
    {
     "data": {
      "text/plain": [
       "377.5220353645974"
      ]
     },
     "execution_count": 18,
     "metadata": {},
     "output_type": "execute_result"
    }
   ],
   "source": [
    "pc.mean(tbl[\"income\"].drop_null()).as_py()"
   ]
  },
  {
   "cell_type": "code",
   "execution_count": 21,
   "id": "8e556c01-2e5b-4520-9e15-c016c86f81b0",
   "metadata": {},
   "outputs": [
    {
     "data": {
      "text/html": [
       "<div>\n",
       "<style scoped>\n",
       "    .dataframe tbody tr th:only-of-type {\n",
       "        vertical-align: middle;\n",
       "    }\n",
       "\n",
       "    .dataframe tbody tr th {\n",
       "        vertical-align: top;\n",
       "    }\n",
       "\n",
       "    .dataframe thead th {\n",
       "        text-align: right;\n",
       "    }\n",
       "</style>\n",
       "<table border=\"1\" class=\"dataframe\">\n",
       "  <thead>\n",
       "    <tr style=\"text-align: right;\">\n",
       "      <th></th>\n",
       "      <th>activity_year</th>\n",
       "      <th>lei</th>\n",
       "      <th>derived_msa-md</th>\n",
       "      <th>state_code</th>\n",
       "      <th>county_code</th>\n",
       "      <th>census_tract</th>\n",
       "      <th>conforming_loan_limit</th>\n",
       "      <th>derived_loan_product_type</th>\n",
       "      <th>derived_dwelling_category</th>\n",
       "      <th>derived_ethnicity</th>\n",
       "      <th>...</th>\n",
       "      <th>denial_reason-2</th>\n",
       "      <th>denial_reason-3</th>\n",
       "      <th>denial_reason-4</th>\n",
       "      <th>tract_population</th>\n",
       "      <th>tract_minority_population_percent</th>\n",
       "      <th>ffiec_msa_md_median_family_income</th>\n",
       "      <th>tract_to_msa_income_percentage</th>\n",
       "      <th>tract_owner_occupied_units</th>\n",
       "      <th>tract_one_to_four_family_homes</th>\n",
       "      <th>tract_median_age_of_housing_units</th>\n",
       "    </tr>\n",
       "  </thead>\n",
       "  <tbody>\n",
       "    <tr>\n",
       "      <th>0</th>\n",
       "      <td>2021</td>\n",
       "      <td>54930034MNPILHP25H80</td>\n",
       "      <td>99999</td>\n",
       "      <td>WI</td>\n",
       "      <td>55027</td>\n",
       "      <td>55027961800</td>\n",
       "      <td>C</td>\n",
       "      <td>Conventional:First Lien</td>\n",
       "      <td>Single Family (1-4 Units):Site-Built</td>\n",
       "      <td>Not Hispanic or Latino</td>\n",
       "      <td>...</td>\n",
       "      <td>NaN</td>\n",
       "      <td>NaN</td>\n",
       "      <td>NaN</td>\n",
       "      <td>4196</td>\n",
       "      <td>3.67</td>\n",
       "      <td>69600</td>\n",
       "      <td>108</td>\n",
       "      <td>1422</td>\n",
       "      <td>1839</td>\n",
       "      <td>57</td>\n",
       "    </tr>\n",
       "    <tr>\n",
       "      <th>1</th>\n",
       "      <td>2021</td>\n",
       "      <td>54930034MNPILHP25H80</td>\n",
       "      <td>99999</td>\n",
       "      <td>WI</td>\n",
       "      <td>55001</td>\n",
       "      <td>55001950501</td>\n",
       "      <td>C</td>\n",
       "      <td>Conventional:First Lien</td>\n",
       "      <td>Single Family (1-4 Units):Site-Built</td>\n",
       "      <td>Not Hispanic or Latino</td>\n",
       "      <td>...</td>\n",
       "      <td>NaN</td>\n",
       "      <td>NaN</td>\n",
       "      <td>NaN</td>\n",
       "      <td>1511</td>\n",
       "      <td>5.43</td>\n",
       "      <td>69600</td>\n",
       "      <td>65</td>\n",
       "      <td>541</td>\n",
       "      <td>1966</td>\n",
       "      <td>33</td>\n",
       "    </tr>\n",
       "    <tr>\n",
       "      <th>2</th>\n",
       "      <td>2021</td>\n",
       "      <td>54930034MNPILHP25H80</td>\n",
       "      <td>99999</td>\n",
       "      <td>WI</td>\n",
       "      <td>55013</td>\n",
       "      <td>55013970400</td>\n",
       "      <td>C</td>\n",
       "      <td>Conventional:First Lien</td>\n",
       "      <td>Single Family (1-4 Units):Site-Built</td>\n",
       "      <td>Not Hispanic or Latino</td>\n",
       "      <td>...</td>\n",
       "      <td>NaN</td>\n",
       "      <td>NaN</td>\n",
       "      <td>NaN</td>\n",
       "      <td>3895</td>\n",
       "      <td>9.63</td>\n",
       "      <td>69600</td>\n",
       "      <td>80</td>\n",
       "      <td>1685</td>\n",
       "      <td>5859</td>\n",
       "      <td>35</td>\n",
       "    </tr>\n",
       "    <tr>\n",
       "      <th>3</th>\n",
       "      <td>2021</td>\n",
       "      <td>54930034MNPILHP25H80</td>\n",
       "      <td>29404</td>\n",
       "      <td>WI</td>\n",
       "      <td>55059</td>\n",
       "      <td>55059002000</td>\n",
       "      <td>C</td>\n",
       "      <td>Conventional:First Lien</td>\n",
       "      <td>Single Family (1-4 Units):Site-Built</td>\n",
       "      <td>Not Hispanic or Latino</td>\n",
       "      <td>...</td>\n",
       "      <td>NaN</td>\n",
       "      <td>NaN</td>\n",
       "      <td>NaN</td>\n",
       "      <td>5561</td>\n",
       "      <td>9.15</td>\n",
       "      <td>102500</td>\n",
       "      <td>106</td>\n",
       "      <td>1851</td>\n",
       "      <td>2208</td>\n",
       "      <td>30</td>\n",
       "    </tr>\n",
       "    <tr>\n",
       "      <th>4</th>\n",
       "      <td>2021</td>\n",
       "      <td>54930034MNPILHP25H80</td>\n",
       "      <td>11540</td>\n",
       "      <td>WI</td>\n",
       "      <td>55087</td>\n",
       "      <td>55087013300</td>\n",
       "      <td>C</td>\n",
       "      <td>Conventional:First Lien</td>\n",
       "      <td>Single Family (1-4 Units):Site-Built</td>\n",
       "      <td>Joint</td>\n",
       "      <td>...</td>\n",
       "      <td>NaN</td>\n",
       "      <td>NaN</td>\n",
       "      <td>NaN</td>\n",
       "      <td>7248</td>\n",
       "      <td>5.22</td>\n",
       "      <td>85600</td>\n",
       "      <td>111</td>\n",
       "      <td>1939</td>\n",
       "      <td>2351</td>\n",
       "      <td>14</td>\n",
       "    </tr>\n",
       "    <tr>\n",
       "      <th>5</th>\n",
       "      <td>2021</td>\n",
       "      <td>54930034MNPILHP25H80</td>\n",
       "      <td>24580</td>\n",
       "      <td>WI</td>\n",
       "      <td>55061</td>\n",
       "      <td>55061960500</td>\n",
       "      <td>C</td>\n",
       "      <td>Conventional:First Lien</td>\n",
       "      <td>Single Family (1-4 Units):Site-Built</td>\n",
       "      <td>Not Hispanic or Latino</td>\n",
       "      <td>...</td>\n",
       "      <td>NaN</td>\n",
       "      <td>NaN</td>\n",
       "      <td>NaN</td>\n",
       "      <td>6136</td>\n",
       "      <td>4.56</td>\n",
       "      <td>80100</td>\n",
       "      <td>104</td>\n",
       "      <td>2136</td>\n",
       "      <td>2627</td>\n",
       "      <td>53</td>\n",
       "    </tr>\n",
       "    <tr>\n",
       "      <th>6</th>\n",
       "      <td>2021</td>\n",
       "      <td>54930034MNPILHP25H80</td>\n",
       "      <td>43100</td>\n",
       "      <td>WI</td>\n",
       "      <td>55117</td>\n",
       "      <td>55117000100</td>\n",
       "      <td>NC</td>\n",
       "      <td>Conventional:First Lien</td>\n",
       "      <td>Single Family (1-4 Units):Site-Built</td>\n",
       "      <td>Not Hispanic or Latino</td>\n",
       "      <td>...</td>\n",
       "      <td>NaN</td>\n",
       "      <td>NaN</td>\n",
       "      <td>NaN</td>\n",
       "      <td>3803</td>\n",
       "      <td>16.49</td>\n",
       "      <td>79600</td>\n",
       "      <td>97</td>\n",
       "      <td>1011</td>\n",
       "      <td>1483</td>\n",
       "      <td>76</td>\n",
       "    </tr>\n",
       "    <tr>\n",
       "      <th>7</th>\n",
       "      <td>2021</td>\n",
       "      <td>54930034MNPILHP25H80</td>\n",
       "      <td>43100</td>\n",
       "      <td>WI</td>\n",
       "      <td>55117</td>\n",
       "      <td>55117000100</td>\n",
       "      <td>C</td>\n",
       "      <td>Conventional:Subordinate Lien</td>\n",
       "      <td>Single Family (1-4 Units):Site-Built</td>\n",
       "      <td>Not Hispanic or Latino</td>\n",
       "      <td>...</td>\n",
       "      <td>NaN</td>\n",
       "      <td>NaN</td>\n",
       "      <td>NaN</td>\n",
       "      <td>3803</td>\n",
       "      <td>16.49</td>\n",
       "      <td>79600</td>\n",
       "      <td>97</td>\n",
       "      <td>1011</td>\n",
       "      <td>1483</td>\n",
       "      <td>76</td>\n",
       "    </tr>\n",
       "    <tr>\n",
       "      <th>8</th>\n",
       "      <td>2021</td>\n",
       "      <td>54930034MNPILHP25H80</td>\n",
       "      <td>99999</td>\n",
       "      <td>WI</td>\n",
       "      <td>55103</td>\n",
       "      <td>55103970100</td>\n",
       "      <td>C</td>\n",
       "      <td>Conventional:First Lien</td>\n",
       "      <td>Single Family (1-4 Units):Site-Built</td>\n",
       "      <td>Not Hispanic or Latino</td>\n",
       "      <td>...</td>\n",
       "      <td>NaN</td>\n",
       "      <td>NaN</td>\n",
       "      <td>NaN</td>\n",
       "      <td>2909</td>\n",
       "      <td>3.71</td>\n",
       "      <td>69600</td>\n",
       "      <td>84</td>\n",
       "      <td>969</td>\n",
       "      <td>1490</td>\n",
       "      <td>67</td>\n",
       "    </tr>\n",
       "    <tr>\n",
       "      <th>9</th>\n",
       "      <td>2021</td>\n",
       "      <td>549300FQ2SN6TRRGB032</td>\n",
       "      <td>99999</td>\n",
       "      <td>WI</td>\n",
       "      <td>55127</td>\n",
       "      <td>55127001501</td>\n",
       "      <td>C</td>\n",
       "      <td>Conventional:First Lien</td>\n",
       "      <td>Single Family (1-4 Units):Site-Built</td>\n",
       "      <td>Ethnicity Not Available</td>\n",
       "      <td>...</td>\n",
       "      <td>NaN</td>\n",
       "      <td>NaN</td>\n",
       "      <td>NaN</td>\n",
       "      <td>3160</td>\n",
       "      <td>15.06</td>\n",
       "      <td>69600</td>\n",
       "      <td>126</td>\n",
       "      <td>983</td>\n",
       "      <td>2219</td>\n",
       "      <td>22</td>\n",
       "    </tr>\n",
       "  </tbody>\n",
       "</table>\n",
       "<p>10 rows × 99 columns</p>\n",
       "</div>"
      ],
      "text/plain": [
       "   activity_year                   lei  derived_msa-md state_code  \\\n",
       "0           2021  54930034MNPILHP25H80           99999         WI   \n",
       "1           2021  54930034MNPILHP25H80           99999         WI   \n",
       "2           2021  54930034MNPILHP25H80           99999         WI   \n",
       "3           2021  54930034MNPILHP25H80           29404         WI   \n",
       "4           2021  54930034MNPILHP25H80           11540         WI   \n",
       "5           2021  54930034MNPILHP25H80           24580         WI   \n",
       "6           2021  54930034MNPILHP25H80           43100         WI   \n",
       "7           2021  54930034MNPILHP25H80           43100         WI   \n",
       "8           2021  54930034MNPILHP25H80           99999         WI   \n",
       "9           2021  549300FQ2SN6TRRGB032           99999         WI   \n",
       "\n",
       "   county_code  census_tract conforming_loan_limit  \\\n",
       "0        55027   55027961800                     C   \n",
       "1        55001   55001950501                     C   \n",
       "2        55013   55013970400                     C   \n",
       "3        55059   55059002000                     C   \n",
       "4        55087   55087013300                     C   \n",
       "5        55061   55061960500                     C   \n",
       "6        55117   55117000100                    NC   \n",
       "7        55117   55117000100                     C   \n",
       "8        55103   55103970100                     C   \n",
       "9        55127   55127001501                     C   \n",
       "\n",
       "       derived_loan_product_type             derived_dwelling_category  \\\n",
       "0        Conventional:First Lien  Single Family (1-4 Units):Site-Built   \n",
       "1        Conventional:First Lien  Single Family (1-4 Units):Site-Built   \n",
       "2        Conventional:First Lien  Single Family (1-4 Units):Site-Built   \n",
       "3        Conventional:First Lien  Single Family (1-4 Units):Site-Built   \n",
       "4        Conventional:First Lien  Single Family (1-4 Units):Site-Built   \n",
       "5        Conventional:First Lien  Single Family (1-4 Units):Site-Built   \n",
       "6        Conventional:First Lien  Single Family (1-4 Units):Site-Built   \n",
       "7  Conventional:Subordinate Lien  Single Family (1-4 Units):Site-Built   \n",
       "8        Conventional:First Lien  Single Family (1-4 Units):Site-Built   \n",
       "9        Conventional:First Lien  Single Family (1-4 Units):Site-Built   \n",
       "\n",
       "         derived_ethnicity  ... denial_reason-2 denial_reason-3  \\\n",
       "0   Not Hispanic or Latino  ...             NaN             NaN   \n",
       "1   Not Hispanic or Latino  ...             NaN             NaN   \n",
       "2   Not Hispanic or Latino  ...             NaN             NaN   \n",
       "3   Not Hispanic or Latino  ...             NaN             NaN   \n",
       "4                    Joint  ...             NaN             NaN   \n",
       "5   Not Hispanic or Latino  ...             NaN             NaN   \n",
       "6   Not Hispanic or Latino  ...             NaN             NaN   \n",
       "7   Not Hispanic or Latino  ...             NaN             NaN   \n",
       "8   Not Hispanic or Latino  ...             NaN             NaN   \n",
       "9  Ethnicity Not Available  ...             NaN             NaN   \n",
       "\n",
       "   denial_reason-4  tract_population  tract_minority_population_percent  \\\n",
       "0              NaN              4196                               3.67   \n",
       "1              NaN              1511                               5.43   \n",
       "2              NaN              3895                               9.63   \n",
       "3              NaN              5561                               9.15   \n",
       "4              NaN              7248                               5.22   \n",
       "5              NaN              6136                               4.56   \n",
       "6              NaN              3803                              16.49   \n",
       "7              NaN              3803                              16.49   \n",
       "8              NaN              2909                               3.71   \n",
       "9              NaN              3160                              15.06   \n",
       "\n",
       "   ffiec_msa_md_median_family_income  tract_to_msa_income_percentage  \\\n",
       "0                              69600                             108   \n",
       "1                              69600                              65   \n",
       "2                              69600                              80   \n",
       "3                             102500                             106   \n",
       "4                              85600                             111   \n",
       "5                              80100                             104   \n",
       "6                              79600                              97   \n",
       "7                              79600                              97   \n",
       "8                              69600                              84   \n",
       "9                              69600                             126   \n",
       "\n",
       "   tract_owner_occupied_units  tract_one_to_four_family_homes  \\\n",
       "0                        1422                            1839   \n",
       "1                         541                            1966   \n",
       "2                        1685                            5859   \n",
       "3                        1851                            2208   \n",
       "4                        1939                            2351   \n",
       "5                        2136                            2627   \n",
       "6                        1011                            1483   \n",
       "7                        1011                            1483   \n",
       "8                         969                            1490   \n",
       "9                         983                            2219   \n",
       "\n",
       "   tract_median_age_of_housing_units  \n",
       "0                                 57  \n",
       "1                                 33  \n",
       "2                                 35  \n",
       "3                                 30  \n",
       "4                                 14  \n",
       "5                                 53  \n",
       "6                                 76  \n",
       "7                                 76  \n",
       "8                                 67  \n",
       "9                                 22  \n",
       "\n",
       "[10 rows x 99 columns]"
      ]
     },
     "execution_count": 21,
     "metadata": {},
     "output_type": "execute_result"
    }
   ],
   "source": [
    "tbl[:10].to_pandas()"
   ]
  }
 ],
 "metadata": {
  "kernelspec": {
   "display_name": "Python 3 (ipykernel)",
   "language": "python",
   "name": "python3"
  },
  "language_info": {
   "codemirror_mode": {
    "name": "ipython",
    "version": 3
   },
   "file_extension": ".py",
   "mimetype": "text/x-python",
   "name": "python",
   "nbconvert_exporter": "python",
   "pygments_lexer": "ipython3",
   "version": "3.10.12"
  }
 },
 "nbformat": 4,
 "nbformat_minor": 5
}
