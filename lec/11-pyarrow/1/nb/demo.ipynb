{
 "cells": [
  {
   "cell_type": "code",
   "execution_count": 2,
   "id": "e615b445-2cb7-44f5-b54d-dc915509d752",
   "metadata": {},
   "outputs": [
    {
     "name": "stdout",
     "output_type": "stream",
     "text": [
      "total 1.2G\n",
      "drwxr-xr-x 3 root root 4.0K Sep 29 15:31 .\n",
      "drwxr-xr-x 1 root root 4.0K Sep 29 15:30 ..\n",
      "drwxr-xr-x 2 root root 4.0K Sep 29 15:31 .ipynb_checkpoints\n",
      "-rw-r--r-- 1 root root   72 Sep 29 15:31 demo.ipynb\n",
      "-rw-r--r-- 1 root root 4.4K Sep 26 20:23 prep.ipynb\n",
      "-rw-r--r-- 1 root root 1.2G Sep 26 20:12 test.arrow\n"
     ]
    }
   ],
   "source": [
    "!ls -lah"
   ]
  },
  {
   "cell_type": "code",
   "execution_count": 3,
   "id": "c3b5fc3c-5fa6-49e7-a4a7-1e8809f51d63",
   "metadata": {},
   "outputs": [],
   "source": [
    "import pyarrow as pa"
   ]
  },
  {
   "cell_type": "code",
   "execution_count": null,
   "id": "459c716d-8dc0-4e14-a583-2206a7a84ed2",
   "metadata": {},
   "outputs": [],
   "source": [
    "# NOT enough memory (have 512MB, need 1.2GB)\n",
    "with pa.ipc.open_file(\"test.arrow\") as f:\n",
    "    tbl = f.read_all()"
   ]
  },
  {
   "cell_type": "code",
   "execution_count": 1,
   "id": "1f4dc418-151f-4a70-9c2c-a3af747f3dda",
   "metadata": {},
   "outputs": [],
   "source": [
    "import mmap"
   ]
  },
  {
   "cell_type": "code",
   "execution_count": 2,
   "id": "8aa6c314-f441-4ea0-b042-1d21ce8ee52b",
   "metadata": {},
   "outputs": [],
   "source": [
    "with open(\"test.arrow\", \"rb\") as f:\n",
    "    mm = mmap.mmap(f.fileno(), 0, access=mmap.ACCESS_READ)"
   ]
  },
  {
   "cell_type": "code",
   "execution_count": 4,
   "id": "8bdf9bf2-4d26-4e80-8ae7-c185cac5a2f5",
   "metadata": {},
   "outputs": [
    {
     "data": {
      "text/plain": [
       "b'ARROW1\\x00\\x00\\xff\\xff'"
      ]
     },
     "execution_count": 4,
     "metadata": {},
     "output_type": "execute_result"
    }
   ],
   "source": [
    "mm[:10]"
   ]
  },
  {
   "cell_type": "code",
   "execution_count": 7,
   "id": "d01554df-8e6f-4fa8-aef7-5ef67e45479d",
   "metadata": {},
   "outputs": [],
   "source": [
    "import pyarrow as pa\n",
    "with pa.ipc.open_file(mm) as f:\n",
    "    tbl = f.read_all()"
   ]
  },
  {
   "cell_type": "code",
   "execution_count": 10,
   "id": "12bb1503-d6c7-4c3b-84d9-99b8145d178b",
   "metadata": {},
   "outputs": [
    {
     "data": {
      "text/plain": [
       "<pyarrow.Int64Scalar: 24999975000000>"
      ]
     },
     "execution_count": 10,
     "metadata": {},
     "output_type": "execute_result"
    }
   ],
   "source": [
    "import pyarrow.compute as pc\n",
    "pc.sum(tbl[\"x\"])"
   ]
  },
  {
   "cell_type": "code",
   "execution_count": 11,
   "id": "89faf5e4-dc2d-4d8b-b133-e2409a93718d",
   "metadata": {},
   "outputs": [
    {
     "data": {
      "text/plain": [
       "<pyarrow.Int64Scalar: 24999975000000>"
      ]
     },
     "execution_count": 11,
     "metadata": {},
     "output_type": "execute_result"
    }
   ],
   "source": [
    "pc.sum(tbl[\"y\"])"
   ]
  },
  {
   "cell_type": "code",
   "execution_count": 12,
   "id": "a8853334-2bb2-4601-b83e-547bea4665c3",
   "metadata": {},
   "outputs": [
    {
     "data": {
      "text/plain": [
       "<pyarrow.Int64Scalar: 24999975000000>"
      ]
     },
     "execution_count": 12,
     "metadata": {},
     "output_type": "execute_result"
    }
   ],
   "source": [
    "pc.sum(tbl[\"z\"])"
   ]
  },
  {
   "cell_type": "code",
   "execution_count": null,
   "id": "772adc24-ba20-40f9-8098-ebea76ee4bbe",
   "metadata": {},
   "outputs": [],
   "source": []
  }
 ],
 "metadata": {
  "kernelspec": {
   "display_name": "Python 3 (ipykernel)",
   "language": "python",
   "name": "python3"
  },
  "language_info": {
   "codemirror_mode": {
    "name": "ipython",
    "version": 3
   },
   "file_extension": ".py",
   "mimetype": "text/x-python",
   "name": "python",
   "nbconvert_exporter": "python",
   "pygments_lexer": "ipython3",
   "version": "3.11.5"
  }
 },
 "nbformat": 4,
 "nbformat_minor": 5
}
