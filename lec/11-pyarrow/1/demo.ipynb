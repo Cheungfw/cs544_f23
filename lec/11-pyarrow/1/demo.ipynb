{
 "cells": [
  {
   "cell_type": "code",
   "execution_count": 6,
   "id": "1655c545-b571-46ae-aafd-28036af8e20c",
   "metadata": {},
   "outputs": [],
   "source": [
    "import torch, time"
   ]
  },
  {
   "cell_type": "code",
   "execution_count": 15,
   "id": "6f127e83-2e69-4649-9ff9-f15634ea0f78",
   "metadata": {},
   "outputs": [],
   "source": [
    "A = torch.rand(10_000, 10_000).T"
   ]
  },
  {
   "cell_type": "code",
   "execution_count": 20,
   "id": "e87a17fb-d3d3-45ed-a800-ed7f3f03b4f6",
   "metadata": {},
   "outputs": [
    {
     "data": {
      "text/plain": [
       "40.67039489746094"
      ]
     },
     "execution_count": 20,
     "metadata": {},
     "output_type": "execute_result"
    }
   ],
   "source": [
    "start = time.time()\n",
    "A.sum(dim=0)   # 0 is down\n",
    "end = time.time()\n",
    "(end-start)*1000 # ms"
   ]
  },
  {
   "cell_type": "code",
   "execution_count": 21,
   "id": "8c48f7c7-007d-489c-8b43-0223aacf65e8",
   "metadata": {},
   "outputs": [
    {
     "data": {
      "text/plain": [
       "111.70744895935059"
      ]
     },
     "execution_count": 21,
     "metadata": {},
     "output_type": "execute_result"
    }
   ],
   "source": [
    "start = time.time()\n",
    "A.sum(dim=1)   # 1 is across\n",
    "end = time.time()\n",
    "(end-start)*1000 # ms"
   ]
  },
  {
   "cell_type": "code",
   "execution_count": 24,
   "id": "811784b6-8d43-490f-887e-d1dc4ac10d9e",
   "metadata": {},
   "outputs": [],
   "source": [
    "# ! wget https://pages.cs.wisc.edu/~harter/cs544/data/hdma-wi-2021.zip"
   ]
  },
  {
   "cell_type": "code",
   "execution_count": 25,
   "id": "19ea23eb-59c6-4b43-b5e8-dc39f7b1db7f",
   "metadata": {},
   "outputs": [],
   "source": [
    "# !unzip hdma-wi-2021.zip"
   ]
  },
  {
   "cell_type": "code",
   "execution_count": 1,
   "id": "b734ef7c-fae4-4582-af65-38b43065dee4",
   "metadata": {},
   "outputs": [],
   "source": [
    "# import pandas as p\n",
    "# remember, this took ~6s"
   ]
  },
  {
   "cell_type": "code",
   "execution_count": 3,
   "id": "3281ad64-4b70-400c-b41f-efd3df19ffbd",
   "metadata": {},
   "outputs": [],
   "source": [
    "import pyarrow.csv\n",
    "import time"
   ]
  },
  {
   "cell_type": "code",
   "execution_count": 4,
   "id": "ad5189af-6a68-422b-8a15-203c925fe154",
   "metadata": {},
   "outputs": [
    {
     "data": {
      "text/plain": [
       "2.024667501449585"
      ]
     },
     "execution_count": 4,
     "metadata": {},
     "output_type": "execute_result"
    }
   ],
   "source": [
    "start = time.time()\n",
    "t = pyarrow.csv.read_csv(\"hdma-wi-2021.csv\")\n",
    "end = time.time()\n",
    "end-start"
   ]
  },
  {
   "cell_type": "code",
   "execution_count": 6,
   "id": "3322db7f-1e2a-4b35-b782-e31e28466bf6",
   "metadata": {},
   "outputs": [
    {
     "data": {
      "text/plain": [
       "1.3675658702850342"
      ]
     },
     "execution_count": 6,
     "metadata": {},
     "output_type": "execute_result"
    }
   ],
   "source": [
    "start = time.time()\n",
    "df = t.to_pandas()\n",
    "end = time.time()\n",
    "end - start"
   ]
  },
  {
   "cell_type": "code",
   "execution_count": 8,
   "id": "c71f2aee-e35c-49d7-b8ff-b989402efec2",
   "metadata": {},
   "outputs": [],
   "source": [
    "import pyarrow.compute as pc"
   ]
  },
  {
   "cell_type": "code",
   "execution_count": 14,
   "id": "a48659fd-0904-461d-998a-d8204d75212e",
   "metadata": {},
   "outputs": [
    {
     "data": {
      "text/plain": [
       "0         54930034mnpilhp25h80\n",
       "1         54930034mnpilhp25h80\n",
       "2         54930034mnpilhp25h80\n",
       "3         54930034mnpilhp25h80\n",
       "4         54930034mnpilhp25h80\n",
       "                  ...         \n",
       "447362    54930034mnpilhp25h80\n",
       "447363    54930034mnpilhp25h80\n",
       "447364    54930034mnpilhp25h80\n",
       "447365    54930034mnpilhp25h80\n",
       "447366    54930034mnpilhp25h80\n",
       "Length: 447367, dtype: object"
      ]
     },
     "execution_count": 14,
     "metadata": {},
     "output_type": "execute_result"
    }
   ],
   "source": [
    "pc.utf8_lower(t[\"lei\"]).to_pandas()"
   ]
  },
  {
   "cell_type": "code",
   "execution_count": 11,
   "id": "b1e85a19-3553-4b5e-a7a0-03b238ded2f6",
   "metadata": {},
   "outputs": [
    {
     "data": {
      "text/plain": [
       "0         54930034MNPILHP25H80\n",
       "1         54930034MNPILHP25H80\n",
       "2         54930034MNPILHP25H80\n",
       "3         54930034MNPILHP25H80\n",
       "4         54930034MNPILHP25H80\n",
       "                  ...         \n",
       "447362    54930034MNPILHP25H80\n",
       "447363    54930034MNPILHP25H80\n",
       "447364    54930034MNPILHP25H80\n",
       "447365    54930034MNPILHP25H80\n",
       "447366    54930034MNPILHP25H80\n",
       "Name: lei, Length: 447367, dtype: object"
      ]
     },
     "execution_count": 11,
     "metadata": {},
     "output_type": "execute_result"
    }
   ],
   "source": [
    "t[\"lei\"].to_pandas()"
   ]
  },
  {
   "cell_type": "code",
   "execution_count": 18,
   "id": "264e0813-9e3b-4fbd-a8e3-d7f6b0c26dfb",
   "metadata": {},
   "outputs": [
    {
     "data": {
      "text/plain": [
       "377.5220353645974"
      ]
     },
     "execution_count": 18,
     "metadata": {},
     "output_type": "execute_result"
    }
   ],
   "source": [
    "pc.mean(t[\"income\"].drop_null()).as_py()"
   ]
  }
 ],
 "metadata": {
  "kernelspec": {
   "display_name": "Python 3 (ipykernel)",
   "language": "python",
   "name": "python3"
  },
  "language_info": {
   "codemirror_mode": {
    "name": "ipython",
    "version": 3
   },
   "file_extension": ".py",
   "mimetype": "text/x-python",
   "name": "python",
   "nbconvert_exporter": "python",
   "pygments_lexer": "ipython3",
   "version": "3.10.12"
  }
 },
 "nbformat": 4,
 "nbformat_minor": 5
}
