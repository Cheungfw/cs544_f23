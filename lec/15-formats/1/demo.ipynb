{
 "cells": [
  {
   "cell_type": "code",
   "execution_count": 1,
   "id": "1357c842-e9cf-48a9-94a4-3be6cd87eccb",
   "metadata": {},
   "outputs": [
    {
     "name": "stdout",
     "output_type": "stream",
     "text": [
      "demo.ipynb  hdma-wi-2021.csv\n"
     ]
    }
   ],
   "source": [
    "!ls"
   ]
  },
  {
   "cell_type": "code",
   "execution_count": 1,
   "id": "ac7c2697-e21b-4b14-8e83-419400a2b869",
   "metadata": {},
   "outputs": [],
   "source": [
    "import pyarrow as pa\n",
    "import pyarrow.csv, pyarrow.parquet"
   ]
  },
  {
   "cell_type": "code",
   "execution_count": 2,
   "id": "7b929ad6-e597-40b6-b86d-d13d61160a22",
   "metadata": {},
   "outputs": [
    {
     "name": "stdout",
     "output_type": "stream",
     "text": [
      "CPU times: user 2.8 s, sys: 1.38 s, total: 4.18 s\n",
      "Wall time: 2.15 s\n"
     ]
    }
   ],
   "source": [
    "%%time\n",
    "t = pa.csv.read_csv(\"hdma-wi-2021.csv\")"
   ]
  },
  {
   "cell_type": "code",
   "execution_count": 5,
   "id": "9aacfabf-4800-4de8-befe-557d11309a08",
   "metadata": {},
   "outputs": [],
   "source": [
    "pa.parquet.write_table(t, \"hdma-wi-2021.parquet\")"
   ]
  },
  {
   "cell_type": "code",
   "execution_count": 6,
   "id": "3ecabfad-6eec-4ec7-91f5-6e626268ef3a",
   "metadata": {},
   "outputs": [
    {
     "name": "stdout",
     "output_type": "stream",
     "text": [
      "CPU times: user 973 ms, sys: 524 ms, total: 1.5 s\n",
      "Wall time: 1.4 s\n"
     ]
    }
   ],
   "source": [
    "%%time\n",
    "t = pa.parquet.read_table(\"hdma-wi-2021.parquet\")"
   ]
  },
  {
   "cell_type": "markdown",
   "id": "bf15b7d0-3f8a-42e5-980b-7bd145197c06",
   "metadata": {},
   "source": [
    "# Binary vs. Text"
   ]
  },
  {
   "cell_type": "code",
   "execution_count": 3,
   "id": "9572a8ce-38ab-458f-8beb-bb30e6186c89",
   "metadata": {},
   "outputs": [
    {
     "name": "stdout",
     "output_type": "stream",
     "text": [
      "b'PAR1\\x15\\x04\\x15\\x10\\x15\\x14L\\x15\\x02\\x15\\x00\\x12\\x00\\x00\\x08\\x1c\\xe5\\x07\\x00\\x00\\x00\\x00\\x00\\x00\\x15\\x00\\x15\\x1a\\x15\\x1e,\\x15\\x8e\\xce6\\x15\\x10\\x15\\x06\\x15\\x06\\x1c\\x18\\x08\\xe5\\x07\\x00\\x00\\x00\\x00\\x00\\x00\\x18\\x08\\xe5\\x07\\x00\\x00\\x00\\x00\\x00\\x00\\x16\\x00(\\x08\\xe5\\x07\\x00\\x00\\x00\\x00\\x00\\x00\\x18\\x08\\xe5\\x07\\x00\\x00\\x00\\x00\\x00\\x00\\x00\\x00\\x00\\r0\\x04\\x00\\x00\\x00\\x8e\\xce6'\n"
     ]
    }
   ],
   "source": [
    "with open(\"hdma-wi-2021.parquet\", \"rb\") as f:\n",
    "    print(f.read(100))"
   ]
  },
  {
   "cell_type": "code",
   "execution_count": 4,
   "id": "2e96814a-c5fb-42fc-9db1-9033e7b3219e",
   "metadata": {},
   "outputs": [
    {
     "name": "stdout",
     "output_type": "stream",
     "text": [
      "b'activity_year,lei,derived_msa-md,state_code,county_code,census_tract,conforming_loan_limit,derived_l'\n"
     ]
    }
   ],
   "source": [
    "with open(\"hdma-wi-2021.csv\", \"rb\") as f:\n",
    "    print(f.read(100))"
   ]
  },
  {
   "cell_type": "markdown",
   "id": "5eadbd1c-8a8e-49cb-a58f-aafaa3024b89",
   "metadata": {},
   "source": [
    "# Column Oriented"
   ]
  },
  {
   "cell_type": "code",
   "execution_count": 6,
   "id": "68b0871d-26ac-4e1d-a184-22d1cdcf23f1",
   "metadata": {},
   "outputs": [
    {
     "name": "stdout",
     "output_type": "stream",
     "text": [
      "CPU times: user 24.3 ms, sys: 30.9 ms, total: 55.2 ms\n",
      "Wall time: 43.7 ms\n"
     ]
    }
   ],
   "source": [
    "%%time\n",
    "t2 = pa.parquet.read_table(\"hdma-wi-2021.parquet\",\n",
    "                           columns=[\"lei\", \"census_tract\"])"
   ]
  },
  {
   "cell_type": "code",
   "execution_count": 8,
   "id": "644ae9a0-cc2f-404b-aa9b-677dbe933c1b",
   "metadata": {},
   "outputs": [
    {
     "name": "stdout",
     "output_type": "stream",
     "text": [
      "CPU times: user 1.49 s, sys: 42.8 ms, total: 1.53 s\n",
      "Wall time: 1.53 s\n"
     ]
    }
   ],
   "source": [
    "%%time\n",
    "pa.parquet.write_table(t, \"snappy.parquet\", compression='snappy')"
   ]
  },
  {
   "cell_type": "code",
   "execution_count": 9,
   "id": "1b4e1685-3e17-459d-acac-6ff0903e0630",
   "metadata": {},
   "outputs": [
    {
     "name": "stdout",
     "output_type": "stream",
     "text": [
      "CPU times: user 3.79 s, sys: 26.5 ms, total: 3.82 s\n",
      "Wall time: 3.82 s\n"
     ]
    }
   ],
   "source": [
    "%%time\n",
    "pa.parquet.write_table(t, \"gzip.parquet\", compression='gzip')"
   ]
  },
  {
   "cell_type": "code",
   "execution_count": 10,
   "id": "c0ea683c-bbbc-4126-b4fe-925a2f732a21",
   "metadata": {},
   "outputs": [
    {
     "name": "stdout",
     "output_type": "stream",
     "text": [
      "total 212M\n",
      "drwxrwxr-x 3 trh trh 4.0K Oct 11 15:21 .\n",
      "drwxrwxr-x 4 trh trh 4.0K Oct  9 14:49 ..\n",
      "drwxrwxr-x 2 trh trh 4.0K Oct 11 14:46 .ipynb_checkpoints\n",
      "-rw-rw-r-- 1 trh trh 4.3K Oct 11 15:20 demo.ipynb\n",
      "-rw-rw-r-- 1 trh trh  13M Oct 11 15:21 gzip.parquet\n",
      "-rw-r----- 1 trh trh 167M Oct 11 14:41 hdma-wi-2021.csv\n",
      "-rw-rw-r-- 1 trh trh  16M Oct 11 15:12 hdma-wi-2021.parquet\n",
      "-rw-rw-r-- 1 trh trh  16M Oct 11 15:21 snappy.parquet\n"
     ]
    }
   ],
   "source": [
    "!ls -lah"
   ]
  }
 ],
 "metadata": {
  "kernelspec": {
   "display_name": "Python 3 (ipykernel)",
   "language": "python",
   "name": "python3"
  },
  "language_info": {
   "codemirror_mode": {
    "name": "ipython",
    "version": 3
   },
   "file_extension": ".py",
   "mimetype": "text/x-python",
   "name": "python",
   "nbconvert_exporter": "python",
   "pygments_lexer": "ipython3",
   "version": "3.10.12"
  }
 },
 "nbformat": 4,
 "nbformat_minor": 5
}
