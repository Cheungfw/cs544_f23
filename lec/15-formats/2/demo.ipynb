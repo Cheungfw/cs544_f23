{
 "cells": [
  {
   "cell_type": "code",
   "execution_count": 1,
   "id": "1c983824-40bd-4b30-b556-2cf827ba33ee",
   "metadata": {},
   "outputs": [],
   "source": [
    "import pyarrow as pa\n",
    "import pyarrow.parquet, pyarrow.csv"
   ]
  },
  {
   "cell_type": "code",
   "execution_count": 2,
   "id": "04f40fd8-0810-4c76-bd26-589e37cc9163",
   "metadata": {},
   "outputs": [
    {
     "name": "stdout",
     "output_type": "stream",
     "text": [
      "demo.ipynb  hdma-wi-2021.csv  hdma-wi-2021.parquet\n"
     ]
    }
   ],
   "source": [
    "!ls"
   ]
  },
  {
   "cell_type": "code",
   "execution_count": 3,
   "id": "69b66d04-72a5-48b3-9eac-5096bc798da9",
   "metadata": {},
   "outputs": [
    {
     "name": "stdout",
     "output_type": "stream",
     "text": [
      "CPU times: user 3.07 s, sys: 2.81 s, total: 5.88 s\n",
      "Wall time: 3 s\n"
     ]
    }
   ],
   "source": [
    "%%time\n",
    "t = pa.csv.read_csv(\"hdma-wi-2021.csv\")"
   ]
  },
  {
   "cell_type": "code",
   "execution_count": 5,
   "id": "d002aa99-7863-4640-9cdf-fcc497355e6f",
   "metadata": {},
   "outputs": [],
   "source": [
    "pa.parquet.write_table(t, \"hdma-wi-2021.parquet\")"
   ]
  },
  {
   "cell_type": "code",
   "execution_count": 3,
   "id": "80e39d9d-9985-4336-b16f-b10af94a06fd",
   "metadata": {},
   "outputs": [
    {
     "name": "stdout",
     "output_type": "stream",
     "text": [
      "CPU times: user 1.06 s, sys: 805 ms, total: 1.87 s\n",
      "Wall time: 1.53 s\n"
     ]
    }
   ],
   "source": [
    "%%time\n",
    "t = pa.parquet.read_table(\"hdma-wi-2021.parquet\")"
   ]
  },
  {
   "cell_type": "markdown",
   "id": "caac28c6-884c-4588-8946-a1e21042c864",
   "metadata": {},
   "source": [
    "# Binary vs. Text"
   ]
  },
  {
   "cell_type": "code",
   "execution_count": 6,
   "id": "8e4f159e-fec0-4236-800e-9df3b0157c83",
   "metadata": {},
   "outputs": [
    {
     "name": "stdout",
     "output_type": "stream",
     "text": [
      "b'activity_year,lei,derived_msa-md,state_code,county_code,census_tract,conforming_loan_limit,derived_l'\n"
     ]
    }
   ],
   "source": [
    "with open(\"hdma-wi-2021.csv\", \"rb\") as f:\n",
    "    print(f.read(100))"
   ]
  },
  {
   "cell_type": "code",
   "execution_count": 5,
   "id": "a95d57c2-8536-4edf-b71d-7395f721a1e3",
   "metadata": {},
   "outputs": [
    {
     "name": "stdout",
     "output_type": "stream",
     "text": [
      "b'PAR1\\x15\\x04\\x15\\x10\\x15\\x14L\\x15\\x02\\x15\\x00\\x12\\x00\\x00\\x08\\x1c\\xe5\\x07\\x00\\x00\\x00\\x00\\x00\\x00\\x15\\x00\\x15\\x1a\\x15\\x1e,\\x15\\x8e\\xce6\\x15\\x10\\x15\\x06\\x15\\x06\\x1c\\x18\\x08\\xe5\\x07\\x00\\x00\\x00\\x00\\x00\\x00\\x18\\x08\\xe5\\x07\\x00\\x00\\x00\\x00\\x00\\x00\\x16\\x00(\\x08\\xe5\\x07\\x00\\x00\\x00\\x00\\x00\\x00\\x18\\x08\\xe5\\x07\\x00\\x00\\x00\\x00\\x00\\x00\\x00\\x00\\x00\\r0\\x04\\x00\\x00\\x00\\x8e\\xce6'\n"
     ]
    }
   ],
   "source": [
    "with open(\"hdma-wi-2021.parquet\", \"rb\") as f:\n",
    "    print(f.read(100))"
   ]
  },
  {
   "cell_type": "markdown",
   "id": "8a174dc4-017a-4e5b-b779-a7fe45140208",
   "metadata": {},
   "source": [
    "# Orientation"
   ]
  },
  {
   "cell_type": "code",
   "execution_count": 7,
   "id": "f52e4ca9-c1b4-478c-82ad-387aee8ca857",
   "metadata": {},
   "outputs": [
    {
     "name": "stdout",
     "output_type": "stream",
     "text": [
      "CPU times: user 29.7 ms, sys: 14 ms, total: 43.7 ms\n",
      "Wall time: 33.9 ms\n"
     ]
    }
   ],
   "source": [
    "%%time\n",
    "t2 = pa.parquet.read_table(\"hdma-wi-2021.parquet\", columns=[\"lei\", \"census_tract\"])"
   ]
  },
  {
   "cell_type": "markdown",
   "id": "d3e6c213-756d-4c4c-86a9-e7c5ffc518c3",
   "metadata": {},
   "source": [
    "# Compression"
   ]
  },
  {
   "cell_type": "code",
   "execution_count": 8,
   "id": "64b8ee18-0256-462d-a595-7d36007daf38",
   "metadata": {},
   "outputs": [
    {
     "name": "stdout",
     "output_type": "stream",
     "text": [
      "CPU times: user 1.43 s, sys: 58.2 ms, total: 1.49 s\n",
      "Wall time: 1.49 s\n"
     ]
    }
   ],
   "source": [
    "%%time\n",
    "pa.parquet.write_table(t, \"snappy.parquet\", compression=\"snappy\")"
   ]
  },
  {
   "cell_type": "code",
   "execution_count": 9,
   "id": "050cc969-c3c5-4ac8-a8ee-f8ed2793dcd1",
   "metadata": {},
   "outputs": [
    {
     "name": "stdout",
     "output_type": "stream",
     "text": [
      "CPU times: user 3.68 s, sys: 69.4 ms, total: 3.75 s\n",
      "Wall time: 3.76 s\n"
     ]
    }
   ],
   "source": [
    "%%time\n",
    "pa.parquet.write_table(t, \"gzip.parquet\", compression=\"gzip\")"
   ]
  },
  {
   "cell_type": "code",
   "execution_count": 11,
   "id": "be01ccef-0490-4424-84e1-4804ee241552",
   "metadata": {},
   "outputs": [
    {
     "name": "stdout",
     "output_type": "stream",
     "text": [
      "total 212M\n",
      "-rw-rw-r-- 1 trh trh 4.2K Oct 11 18:35 demo.ipynb\n",
      "-rw-r----- 1 trh trh 167M Oct 11 18:12 hdma-wi-2021.csv\n",
      "-rw-rw-r-- 1 trh trh  16M Oct 11 18:32 hdma-wi-2021.parquet\n",
      "-rw-rw-r-- 1 trh trh  13M Oct 11 18:36 snappy.gzip\n",
      "-rw-rw-r-- 1 trh trh  16M Oct 11 18:36 snappy.parquet\n"
     ]
    }
   ],
   "source": [
    "!ls -lh"
   ]
  },
  {
   "cell_type": "code",
   "execution_count": null,
   "id": "14acd858-71a7-4e7f-bb9b-17f9b3f0ce1f",
   "metadata": {},
   "outputs": [],
   "source": []
  }
 ],
 "metadata": {
  "kernelspec": {
   "display_name": "Python 3 (ipykernel)",
   "language": "python",
   "name": "python3"
  },
  "language_info": {
   "codemirror_mode": {
    "name": "ipython",
    "version": 3
   },
   "file_extension": ".py",
   "mimetype": "text/x-python",
   "name": "python",
   "nbconvert_exporter": "python",
   "pygments_lexer": "ipython3",
   "version": "3.10.12"
  }
 },
 "nbformat": 4,
 "nbformat_minor": 5
}
