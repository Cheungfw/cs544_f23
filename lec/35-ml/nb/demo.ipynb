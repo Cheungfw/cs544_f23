{
 "cells": [
  {
   "cell_type": "code",
   "execution_count": 1,
   "id": "4a5e1ee9-03f4-4fa3-b9af-0ada36959a9d",
   "metadata": {},
   "outputs": [
    {
     "name": "stderr",
     "output_type": "stream",
     "text": [
      "Using Spark's default log4j profile: org/apache/spark/log4j-defaults.properties\n",
      "Setting default log level to \"WARN\".\n",
      "To adjust logging level use sc.setLogLevel(newLevel). For SparkR, use setLogLevel(newLevel).\n",
      "23/04/21 15:06:45 WARN NativeCodeLoader: Unable to load native-hadoop library for your platform... using builtin-java classes where applicable\n"
     ]
    }
   ],
   "source": [
    "# Spark session\n",
    "from pyspark.sql import SparkSession\n",
    "spark = (SparkSession.builder.appName(\"cs544\")\n",
    "         .master(\"spark://main:7077\")\n",
    "         .config(\"spark.executor.memory\", \"512M\")\n",
    "         .config(\"spark.sql.warehouse.dir\", \"hdfs://main:9000/user/hive/warehouse\")\n",
    "         .enableHiveSupport()\n",
    "         .getOrCreate())"
   ]
  },
  {
   "cell_type": "code",
   "execution_count": 2,
   "id": "9b2be825-c182-4f7d-825c-b24f09042ff5",
   "metadata": {},
   "outputs": [
    {
     "name": "stderr",
     "output_type": "stream",
     "text": [
      "/usr/local/lib/python3.10/dist-packages/pyspark/sql/pandas/conversion.py:371: FutureWarning: iteritems is deprecated and will be removed in a future version. Use .items instead.\n",
      "  for column, series in pdf.iteritems():\n"
     ]
    },
    {
     "data": {
      "text/plain": [
       "DataFrame[x1: double, x2: double, y: double]"
      ]
     },
     "execution_count": 2,
     "metadata": {},
     "output_type": "execute_result"
    }
   ],
   "source": [
    "# practice data\n",
    "import pandas as pd\n",
    "import numpy as np\n",
    "df = pd.DataFrame({\"x1\": np.random.randint(0, 10, 100).astype(float), \n",
    "                   \"x2\": np.random.randint(0, 3, 100).astype(float)})\n",
    "df[\"y\"] = df[\"x1\"] + df[\"x2\"] + np.random.rand(len(df))\n",
    "df = spark.createDataFrame(df)\n",
    "df"
   ]
  },
  {
   "cell_type": "code",
   "execution_count": 7,
   "id": "b95c5e5d-28ce-4d7a-9c88-7a5ae783f4d4",
   "metadata": {},
   "outputs": [
    {
     "name": "stdout",
     "output_type": "stream",
     "text": [
      "+---+---+-------------------+\n",
      "| x1| x2|                  y|\n",
      "+---+---+-------------------+\n",
      "|0.0|0.0| 0.8144591299932569|\n",
      "|0.0|2.0|  2.547977748090765|\n",
      "|1.0|1.0|  2.380611290225664|\n",
      "|1.0|1.0|  2.795402057034453|\n",
      "|2.0|0.0| 2.2419795906111952|\n",
      "|3.0|1.0| 4.1661932059518465|\n",
      "|3.0|2.0|  5.872730748876477|\n",
      "|5.0|1.0|  6.508753967169269|\n",
      "|5.0|1.0|  6.802270510622792|\n",
      "|5.0|2.0|  7.477152666520166|\n",
      "|6.0|0.0|   6.10838750314608|\n",
      "|6.0|1.0|   7.27706866795352|\n",
      "|8.0|0.0|  8.603665148950029|\n",
      "|9.0|0.0|  9.736288997809417|\n",
      "|9.0|1.0| 10.502762118275582|\n",
      "|9.0|2.0| 11.049416971231631|\n",
      "|9.0|2.0| 11.854626632831264|\n",
      "|0.0|0.0|0.43732336330986155|\n",
      "|1.0|0.0| 1.5846055927692997|\n",
      "|1.0|0.0| 1.9041895678874652|\n",
      "+---+---+-------------------+\n",
      "only showing top 20 rows\n",
      "\n"
     ]
    }
   ],
   "source": [
    "# not deterministic if the number partitions changes\n",
    "train, test = df.randomSplit([0.75, 0.25], seed=42)\n",
    "test.show()"
   ]
  },
  {
   "cell_type": "markdown",
   "id": "e33d5c85-1abc-4b03-8413-fb57794b8b85",
   "metadata": {},
   "source": [
    "# Deterministic Train/Test Split"
   ]
  },
  {
   "cell_type": "code",
   "execution_count": 10,
   "id": "91496a90-ee51-4473-981d-fd67f9b43203",
   "metadata": {},
   "outputs": [],
   "source": [
    "train.write.format(\"parquet\").mode(\"ignore\").save(\"hdfs://main:9000/train.parquet\")\n",
    "test.write.format(\"parquet\").mode(\"ignore\").save(\"hdfs://main:9000/test.parquet\")"
   ]
  },
  {
   "cell_type": "code",
   "execution_count": 11,
   "id": "fa9e3b9d-c821-4e40-ab21-1423c64bafec",
   "metadata": {},
   "outputs": [],
   "source": [
    "train = spark.read.format(\"parquet\").load(\"hdfs://main:9000/train.parquet\")\n",
    "test = spark.read.format(\"parquet\").load(\"hdfs://main:9000/test.parquet\")"
   ]
  },
  {
   "cell_type": "code",
   "execution_count": 12,
   "id": "3c15517f-b6a5-4755-ad6e-5bb3e98c22a6",
   "metadata": {},
   "outputs": [
    {
     "name": "stderr",
     "output_type": "stream",
     "text": [
      "                                                                                \r"
     ]
    },
    {
     "data": {
      "text/plain": [
       "(68, 32)"
      ]
     },
     "execution_count": 12,
     "metadata": {},
     "output_type": "execute_result"
    }
   ],
   "source": [
    "train.count(), test.count()"
   ]
  },
  {
   "cell_type": "code",
   "execution_count": 13,
   "id": "1ea8af49-20e9-4893-8dc3-dee4a0a4d2ce",
   "metadata": {},
   "outputs": [],
   "source": [
    "from pyspark.ml.regression import LinearRegression, LinearRegressionModel\n",
    "# LinearRegression is unfitted\n",
    "# LinearRegressionModel is fitted"
   ]
  },
  {
   "cell_type": "code",
   "execution_count": 16,
   "id": "630c1d50-d327-4231-b6ba-a66fc12c0b76",
   "metadata": {},
   "outputs": [],
   "source": [
    "# INPUT TO MODEL MUST CONTAIN VECTORS\n",
    "# lr = LinearRegression(featuresCol=\"x1\", labelCol=\"y\")\n",
    "# lr.fit(train)"
   ]
  },
  {
   "cell_type": "code",
   "execution_count": 20,
   "id": "a1a2d065-0ebc-4e05-917e-7fe06919b356",
   "metadata": {},
   "outputs": [],
   "source": [
    "from pyspark.ml.feature import VectorAssembler\n",
    "va = VectorAssembler(inputCols=[\"x1\"], outputCol=\"features\")"
   ]
  },
  {
   "cell_type": "code",
   "execution_count": 24,
   "id": "2368e5d6-107f-4eea-b35e-a03d6d2ae183",
   "metadata": {},
   "outputs": [
    {
     "name": "stderr",
     "output_type": "stream",
     "text": [
      "23/04/21 15:17:46 WARN Instrumentation: [c7d7710c] regParam is zero, which might cause numerical instability and overfitting.\n"
     ]
    },
    {
     "data": {
      "text/plain": [
       "(pyspark.ml.regression.LinearRegression,\n",
       " pyspark.ml.regression.LinearRegressionModel)"
      ]
     },
     "execution_count": 24,
     "metadata": {},
     "output_type": "execute_result"
    }
   ],
   "source": [
    "lr = LinearRegression(featuresCol=\"features\", labelCol=\"y\")\n",
    "model = lr.fit(va.transform(train))\n",
    "type(lr), type(model)"
   ]
  },
  {
   "cell_type": "code",
   "execution_count": 25,
   "id": "fcbb564e-bada-4dd3-8505-d1115465fa52",
   "metadata": {},
   "outputs": [],
   "source": [
    "model.write().overwrite().save(\"hdfs://main:9000/model\")"
   ]
  },
  {
   "cell_type": "code",
   "execution_count": 27,
   "id": "6acf0638-9ed9-4c31-9d61-4c6328be1a05",
   "metadata": {},
   "outputs": [
    {
     "name": "stdout",
     "output_type": "stream",
     "text": [
      "Found 2 items\n",
      "drwxr-xr-x   - root supergroup          0 2023-04-21 15:18 hdfs://main:9000/model/data\n",
      "drwxr-xr-x   - root supergroup          0 2023-04-21 15:18 hdfs://main:9000/model/metadata\n"
     ]
    }
   ],
   "source": [
    "!hdfs dfs -ls hdfs://main:9000/model"
   ]
  },
  {
   "cell_type": "code",
   "execution_count": 28,
   "id": "8ae9b9cf-9501-4daf-b212-3d2e7ca713f7",
   "metadata": {},
   "outputs": [],
   "source": [
    "model = LinearRegressionModel.load(\"hdfs://main:9000/model\")"
   ]
  },
  {
   "cell_type": "code",
   "execution_count": 30,
   "id": "a3102665-3d81-4575-9cc6-987ba1168179",
   "metadata": {},
   "outputs": [
    {
     "name": "stdout",
     "output_type": "stream",
     "text": [
      "+---+---+-------------------+--------+------------------+\n",
      "| x1| x2|                  y|features|        prediction|\n",
      "+---+---+-------------------+--------+------------------+\n",
      "|0.0|0.0| 0.8144591299932569|   [0.0]|1.9662901332656484|\n",
      "|0.0|2.0|  2.547977748090765|   [0.0]|1.9662901332656484|\n",
      "|1.0|1.0|  2.380611290225664|   [1.0]|2.8783315921644856|\n",
      "|1.0|1.0|  2.795402057034453|   [1.0]|2.8783315921644856|\n",
      "|2.0|0.0| 2.2419795906111952|   [2.0]| 3.790373051063323|\n",
      "|3.0|1.0| 4.1661932059518465|   [3.0]| 4.702414509962161|\n",
      "|3.0|2.0|  5.872730748876477|   [3.0]| 4.702414509962161|\n",
      "|5.0|1.0|  6.508753967169269|   [5.0]| 6.526497427759835|\n",
      "|5.0|1.0|  6.802270510622792|   [5.0]| 6.526497427759835|\n",
      "|5.0|2.0|  7.477152666520166|   [5.0]| 6.526497427759835|\n",
      "|6.0|0.0|   6.10838750314608|   [6.0]| 7.438538886658672|\n",
      "|6.0|1.0|   7.27706866795352|   [6.0]| 7.438538886658672|\n",
      "|8.0|0.0|  8.603665148950029|   [8.0]| 9.262621804456348|\n",
      "|9.0|0.0|  9.736288997809417|   [9.0]|10.174663263355184|\n",
      "|9.0|1.0| 10.502762118275582|   [9.0]|10.174663263355184|\n",
      "|9.0|2.0| 11.049416971231631|   [9.0]|10.174663263355184|\n",
      "|9.0|2.0| 11.854626632831264|   [9.0]|10.174663263355184|\n",
      "|0.0|0.0|0.43732336330986155|   [0.0]|1.9662901332656484|\n",
      "|1.0|0.0| 1.5846055927692997|   [1.0]|2.8783315921644856|\n",
      "|1.0|0.0| 1.9041895678874652|   [1.0]|2.8783315921644856|\n",
      "+---+---+-------------------+--------+------------------+\n",
      "only showing top 20 rows\n",
      "\n"
     ]
    }
   ],
   "source": [
    "model.transform(va.transform(test)).show()"
   ]
  },
  {
   "cell_type": "markdown",
   "id": "a5078536-1ad8-4dcd-bbdd-5651356bb9ce",
   "metadata": {},
   "source": [
    "# Pipeline Model"
   ]
  },
  {
   "cell_type": "code",
   "execution_count": 31,
   "id": "2bcca54e-9598-4979-b94b-e2fa884492f4",
   "metadata": {},
   "outputs": [],
   "source": [
    "from pyspark.ml.pipeline import Pipeline, PipelineModel"
   ]
  },
  {
   "cell_type": "code",
   "execution_count": 38,
   "id": "186b6892-0f79-46f0-9401-dac3e90f4aa7",
   "metadata": {},
   "outputs": [
    {
     "data": {
      "text/plain": [
       "Pipeline_edf30c319664"
      ]
     },
     "execution_count": 38,
     "metadata": {},
     "output_type": "execute_result"
    }
   ],
   "source": [
    "pipe = Pipeline(stages=[\n",
    "    VectorAssembler(inputCols=[\"x1\", \"x2\"], outputCol=\"features\"), \n",
    "    LinearRegression(featuresCol=\"features\", labelCol=\"y\", predictionCol=\"prediction\")\n",
    "])\n",
    "pipe"
   ]
  },
  {
   "cell_type": "code",
   "execution_count": 39,
   "id": "40339076-4323-4daf-91b7-68afffffb6d8",
   "metadata": {},
   "outputs": [
    {
     "name": "stderr",
     "output_type": "stream",
     "text": [
      "23/04/21 15:24:07 WARN Instrumentation: [df3899e3] regParam is zero, which might cause numerical instability and overfitting.\n",
      "                                                                                \r"
     ]
    }
   ],
   "source": [
    "model = pipe.fit(train)"
   ]
  },
  {
   "cell_type": "code",
   "execution_count": 40,
   "id": "a383ad34-2f70-480d-aa06-1f237de3897b",
   "metadata": {},
   "outputs": [
    {
     "data": {
      "text/plain": [
       "(pyspark.ml.pipeline.Pipeline, pyspark.ml.pipeline.PipelineModel)"
      ]
     },
     "execution_count": 40,
     "metadata": {},
     "output_type": "execute_result"
    }
   ],
   "source": [
    "type(pipe), type(model)"
   ]
  },
  {
   "cell_type": "code",
   "execution_count": 41,
   "id": "436780b6-e512-4b0f-90cd-adebafcb03d2",
   "metadata": {},
   "outputs": [
    {
     "name": "stdout",
     "output_type": "stream",
     "text": [
      "+---+---+-------------------+---------+------------------+\n",
      "| x1| x2|                  y| features|        prediction|\n",
      "+---+---+-------------------+---------+------------------+\n",
      "|0.0|0.0| 0.8144591299932569|(2,[],[])|0.5478013485872577|\n",
      "|0.0|2.0|  2.547977748090765|[0.0,2.0]|  2.52637456808389|\n",
      "|1.0|1.0|  2.380611290225664|[1.0,1.0]| 2.526423658994852|\n",
      "|1.0|1.0|  2.795402057034453|[1.0,1.0]| 2.526423658994852|\n",
      "|2.0|0.0| 2.2419795906111952|[2.0,0.0]|2.5264727499058135|\n",
      "|3.0|1.0| 4.1661932059518465|[3.0,1.0]|4.5050950603134075|\n",
      "|3.0|2.0|  5.872730748876477|[3.0,2.0]| 5.494381670061723|\n",
      "|5.0|1.0|  6.508753967169269|[5.0,1.0]| 6.483766461631963|\n",
      "|5.0|1.0|  6.802270510622792|[5.0,1.0]| 6.483766461631963|\n",
      "|5.0|2.0|  7.477152666520166|[5.0,2.0]| 7.473053071380279|\n",
      "|6.0|0.0|   6.10838750314608|[6.0,0.0]| 6.483815552542925|\n",
      "|6.0|1.0|   7.27706866795352|[6.0,1.0]| 7.473102162291241|\n",
      "|8.0|0.0|  8.603665148950029|[8.0,0.0]|  8.46248695386148|\n",
      "|9.0|0.0|  9.736288997809417|[9.0,0.0]|  9.45182265452076|\n",
      "|9.0|1.0| 10.502762118275582|[9.0,1.0]|10.441109264269075|\n",
      "|9.0|2.0| 11.049416971231631|[9.0,2.0]| 11.43039587401739|\n",
      "|9.0|2.0| 11.854626632831264|[9.0,2.0]| 11.43039587401739|\n",
      "|0.0|0.0|0.43732336330986155|(2,[],[])|0.5478013485872577|\n",
      "|1.0|0.0| 1.5846055927692997|[1.0,0.0]|1.5371370492465357|\n",
      "|1.0|0.0| 1.9041895678874652|[1.0,0.0]|1.5371370492465357|\n",
      "+---+---+-------------------+---------+------------------+\n",
      "only showing top 20 rows\n",
      "\n"
     ]
    }
   ],
   "source": [
    "model.transform(test).show()"
   ]
  },
  {
   "cell_type": "code",
   "execution_count": 42,
   "id": "a128a5be-0fcf-44c6-b1b2-579b567c0a0a",
   "metadata": {},
   "outputs": [],
   "source": [
    "from pyspark.ml.evaluation import RegressionEvaluator"
   ]
  },
  {
   "cell_type": "code",
   "execution_count": 43,
   "id": "3b7dde5d-1b8e-4368-b7cb-86d85280ef61",
   "metadata": {},
   "outputs": [],
   "source": [
    "r2score = RegressionEvaluator(predictionCol=\"prediction\", labelCol=\"y\", metricName=\"r2\")"
   ]
  },
  {
   "cell_type": "code",
   "execution_count": 44,
   "id": "7d8e64ce-1d10-4026-9780-e085ee885543",
   "metadata": {},
   "outputs": [
    {
     "data": {
      "text/plain": [
       "0.9934888072620658"
      ]
     },
     "execution_count": 44,
     "metadata": {},
     "output_type": "execute_result"
    }
   ],
   "source": [
    "r2score.evaluate(model.transform(test))"
   ]
  },
  {
   "cell_type": "code",
   "execution_count": 47,
   "id": "739b9b80-8815-4d76-ae49-3904b1f797e1",
   "metadata": {},
   "outputs": [
    {
     "data": {
      "text/plain": [
       "DenseVector([0.9893, 0.9893])"
      ]
     },
     "execution_count": 47,
     "metadata": {},
     "output_type": "execute_result"
    }
   ],
   "source": [
    "model.stages[1].coefficients"
   ]
  },
  {
   "cell_type": "code",
   "execution_count": 48,
   "id": "075348ce-3b17-4738-8210-fbd7202257d4",
   "metadata": {},
   "outputs": [
    {
     "data": {
      "text/plain": [
       "0.5478013485872577"
      ]
     },
     "execution_count": 48,
     "metadata": {},
     "output_type": "execute_result"
    }
   ],
   "source": [
    "model.stages[1].intercept"
   ]
  },
  {
   "cell_type": "code",
   "execution_count": null,
   "id": "2a7bed08-a5b3-4f9f-a429-63738389409d",
   "metadata": {},
   "outputs": [],
   "source": []
  }
 ],
 "metadata": {
  "kernelspec": {
   "display_name": "Python 3 (ipykernel)",
   "language": "python",
   "name": "python3"
  },
  "language_info": {
   "codemirror_mode": {
    "name": "ipython",
    "version": 3
   },
   "file_extension": ".py",
   "mimetype": "text/x-python",
   "name": "python",
   "nbconvert_exporter": "python",
   "pygments_lexer": "ipython3",
   "version": "3.10.6"
  }
 },
 "nbformat": 4,
 "nbformat_minor": 5
}
