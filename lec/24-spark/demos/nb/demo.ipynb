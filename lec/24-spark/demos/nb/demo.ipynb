{
 "cells": [
  {
   "cell_type": "code",
   "execution_count": 1,
   "id": "c8dca847-54af-4284-97d8-0682e88a6e8d",
   "metadata": {},
   "outputs": [
    {
     "name": "stderr",
     "output_type": "stream",
     "text": [
      "Setting default log level to \"WARN\".\n",
      "To adjust logging level use sc.setLogLevel(newLevel). For SparkR, use setLogLevel(newLevel).\n",
      "23/10/30 13:18:38 WARN NativeCodeLoader: Unable to load native-hadoop library for your platform... using builtin-java classes where applicable\n"
     ]
    }
   ],
   "source": [
    "from pyspark.sql import SparkSession\n",
    "spark = (SparkSession.builder.appName(\"cs544\")\n",
    "         .master(\"spark://boss:7077\")\n",
    "         .config(\"spark.executor.memory\", \"512M\")\n",
    "         .config(\"spark.sql.warehouse.dir\", \"hdfs://nn:9000/user/hive/warehouse\")\n",
    "         .enableHiveSupport()\n",
    "         .getOrCreate())"
   ]
  },
  {
   "cell_type": "code",
   "execution_count": 2,
   "id": "2294e4e0-ab19-496c-980f-31df757e7837",
   "metadata": {},
   "outputs": [],
   "source": [
    "!hdfs dfs -cp sf.csv hdfs://nn:9000/sf.csv"
   ]
  },
  {
   "cell_type": "code",
   "execution_count": 3,
   "id": "b58110ce-3784-4332-92ce-00689ed3f3d9",
   "metadata": {},
   "outputs": [],
   "source": [
    "!hdfs dfs -cp holidays2.csv hdfs://nn:9000/holidays2.csv"
   ]
  },
  {
   "cell_type": "code",
   "execution_count": 4,
   "id": "cb54bacc-b52a-4c25-93d2-2ba0f61de9b0",
   "metadata": {},
   "outputs": [
    {
     "name": "stderr",
     "output_type": "stream",
     "text": [
      "                                                                                \r"
     ]
    }
   ],
   "source": [
    "df = (spark.read.format(\"csv\")\n",
    "      .option(\"header\", True)\n",
    "      .option(\"inferSchema\", True)\n",
    "      .load(\"hdfs://nn:9000/sf.csv\"))"
   ]
  },
  {
   "cell_type": "code",
   "execution_count": 5,
   "id": "c1298818-83f6-444b-b8a0-4be5b16fd6fb",
   "metadata": {},
   "outputs": [
    {
     "name": "stderr",
     "output_type": "stream",
     "text": [
      "23/10/30 13:20:37 WARN SparkStringUtils: Truncated the string representation of a plan since it was too large. This behavior can be adjusted by setting 'spark.sql.debug.maxToStringFields'.\n",
      "                                                                                \r"
     ]
    }
   ],
   "source": [
    "from pyspark.sql.functions import col, expr\n",
    "cols = [col(c).alias(c.replace(\" \", \"_\")) for c in df.columns]\n",
    "df.select(cols).write.format(\"parquet\").save(\"hdfs://nn:9000/sf.parquet\")"
   ]
  },
  {
   "cell_type": "code",
   "execution_count": 6,
   "id": "37d1ded3-ed8a-4e39-94cb-dd3a3272af91",
   "metadata": {},
   "outputs": [
    {
     "name": "stdout",
     "output_type": "stream",
     "text": [
      "Deleted hdfs://nn:9000/sf.csv\n"
     ]
    }
   ],
   "source": [
    "!hdfs dfs -rm hdfs://nn:9000/sf.csv"
   ]
  },
  {
   "cell_type": "code",
   "execution_count": 7,
   "id": "abea48b5-e012-4ae2-a53a-e40350f94e20",
   "metadata": {},
   "outputs": [
    {
     "name": "stderr",
     "output_type": "stream",
     "text": [
      "                                                                                \r"
     ]
    }
   ],
   "source": [
    "(spark.read\n",
    " .format(\"parquet\")\n",
    " .load(\"hdfs://nn:9000/sf.parquet\")\n",
    " .createOrReplaceTempView(\"calls\")\n",
    ")"
   ]
  },
  {
   "cell_type": "code",
   "execution_count": 10,
   "id": "01676bbf-5ff4-4674-beed-c0da2a9bd541",
   "metadata": {},
   "outputs": [],
   "source": [
    "(spark.read\n",
    " .format(\"csv\")\n",
    " .option(\"inferSchema\", True)\n",
    " .option(\"header\", True)\n",
    " .load(\"hdfs://nn:9000/holidays2.csv\")\n",
    " .createOrReplaceTempView(\"holidays\")\n",
    ")"
   ]
  },
  {
   "cell_type": "code",
   "execution_count": 11,
   "id": "b6a0590e-1f73-418a-b672-4e868d4a5470",
   "metadata": {},
   "outputs": [
    {
     "data": {
      "text/plain": [
       "DataFrame[Call_Number: int, Unit_ID: string, Incident_Number: int, Call_Type: string, Call_Date: string, Watch_Date: string, Received_DtTm: string, Entry_DtTm: string, Dispatch_DtTm: string, Response_DtTm: string, On_Scene_DtTm: string, Transport_DtTm: string, Hospital_DtTm: string, Call_Final_Disposition: string, Available_DtTm: string, Address: string, City: string, Zipcode_of_Incident: int, Battalion: string, Station_Area: string, Box: string, Original_Priority: string, Priority: string, Final_Priority: int, ALS_Unit: boolean, Call_Type_Group: string, Number_of_Alarms: int, Unit_Type: string, Unit_sequence_in_call_dispatch: int, Fire_Prevention_District: string, Supervisor_District: string, Neighborhooods_-_Analysis_Boundaries: string, RowID: string, case_location: string, Analysis_Neighborhoods: int]"
      ]
     },
     "execution_count": 11,
     "metadata": {},
     "output_type": "execute_result"
    }
   ],
   "source": [
    "spark.table(\"calls\")"
   ]
  },
  {
   "cell_type": "code",
   "execution_count": 12,
   "id": "34d59ed1-890a-4dfd-812e-d895e9d6e3cb",
   "metadata": {},
   "outputs": [
    {
     "data": {
      "text/plain": [
       "DataFrame[date: string, holiday: string]"
      ]
     },
     "execution_count": 12,
     "metadata": {},
     "output_type": "execute_result"
    }
   ],
   "source": [
    "spark.table(\"holidays\")"
   ]
  },
  {
   "cell_type": "code",
   "execution_count": null,
   "id": "a6175533-4cc3-48c8-8e00-1c765b337064",
   "metadata": {},
   "outputs": [],
   "source": [
    "# can we pair up calls with holidays?"
   ]
  },
  {
   "cell_type": "code",
   "execution_count": 13,
   "id": "de377a36-23ac-4ac5-90eb-969a0a1a4233",
   "metadata": {},
   "outputs": [
    {
     "name": "stderr",
     "output_type": "stream",
     "text": [
      "                                                                                \r"
     ]
    },
    {
     "data": {
      "text/html": [
       "<div>\n",
       "<style scoped>\n",
       "    .dataframe tbody tr th:only-of-type {\n",
       "        vertical-align: middle;\n",
       "    }\n",
       "\n",
       "    .dataframe tbody tr th {\n",
       "        vertical-align: top;\n",
       "    }\n",
       "\n",
       "    .dataframe thead th {\n",
       "        text-align: right;\n",
       "    }\n",
       "</style>\n",
       "<table border=\"1\" class=\"dataframe\">\n",
       "  <thead>\n",
       "    <tr style=\"text-align: right;\">\n",
       "      <th></th>\n",
       "      <th>Call_Number</th>\n",
       "      <th>Unit_ID</th>\n",
       "      <th>Incident_Number</th>\n",
       "      <th>Call_Type</th>\n",
       "      <th>Call_Date</th>\n",
       "      <th>Watch_Date</th>\n",
       "      <th>Received_DtTm</th>\n",
       "      <th>Entry_DtTm</th>\n",
       "      <th>Dispatch_DtTm</th>\n",
       "      <th>Response_DtTm</th>\n",
       "      <th>...</th>\n",
       "      <th>Unit_Type</th>\n",
       "      <th>Unit_sequence_in_call_dispatch</th>\n",
       "      <th>Fire_Prevention_District</th>\n",
       "      <th>Supervisor_District</th>\n",
       "      <th>Neighborhooods_-_Analysis_Boundaries</th>\n",
       "      <th>RowID</th>\n",
       "      <th>case_location</th>\n",
       "      <th>Analysis_Neighborhoods</th>\n",
       "      <th>date</th>\n",
       "      <th>holiday</th>\n",
       "    </tr>\n",
       "  </thead>\n",
       "  <tbody>\n",
       "    <tr>\n",
       "      <th>0</th>\n",
       "      <td>201461772</td>\n",
       "      <td>94</td>\n",
       "      <td>20060706</td>\n",
       "      <td>Medical Incident</td>\n",
       "      <td>05/25/2020</td>\n",
       "      <td>05/25/2020</td>\n",
       "      <td>05/25/2020 01:34:55 PM</td>\n",
       "      <td>05/25/2020 01:34:55 PM</td>\n",
       "      <td>05/25/2020 01:36:14 PM</td>\n",
       "      <td>05/25/2020 01:36:19 PM</td>\n",
       "      <td>...</td>\n",
       "      <td>MEDIC</td>\n",
       "      <td>1</td>\n",
       "      <td>10</td>\n",
       "      <td>10</td>\n",
       "      <td>Bayview Hunters Point</td>\n",
       "      <td>201461772-94</td>\n",
       "      <td>POINT (-122.38626545834089 37.73782577837169)</td>\n",
       "      <td>1</td>\n",
       "      <td>05/25/2020</td>\n",
       "      <td>Memorial Day</td>\n",
       "    </tr>\n",
       "    <tr>\n",
       "      <th>1</th>\n",
       "      <td>201463874</td>\n",
       "      <td>E32</td>\n",
       "      <td>20060913</td>\n",
       "      <td>Medical Incident</td>\n",
       "      <td>05/25/2020</td>\n",
       "      <td>05/25/2020</td>\n",
       "      <td>05/25/2020 11:16:21 PM</td>\n",
       "      <td>05/25/2020 11:17:54 PM</td>\n",
       "      <td>05/25/2020 11:18:27 PM</td>\n",
       "      <td>05/25/2020 11:19:53 PM</td>\n",
       "      <td>...</td>\n",
       "      <td>ENGINE</td>\n",
       "      <td>1</td>\n",
       "      <td>9</td>\n",
       "      <td>11</td>\n",
       "      <td>Excelsior</td>\n",
       "      <td>201463874-E32</td>\n",
       "      <td>POINT (-122.42955213038633 37.729273863971024)</td>\n",
       "      <td>7</td>\n",
       "      <td>05/25/2020</td>\n",
       "      <td>Memorial Day</td>\n",
       "    </tr>\n",
       "    <tr>\n",
       "      <th>2</th>\n",
       "      <td>201463019</td>\n",
       "      <td>T18</td>\n",
       "      <td>20060826</td>\n",
       "      <td>Medical Incident</td>\n",
       "      <td>05/25/2020</td>\n",
       "      <td>05/25/2020</td>\n",
       "      <td>05/25/2020 06:39:44 PM</td>\n",
       "      <td>05/25/2020 06:41:34 PM</td>\n",
       "      <td>05/25/2020 06:55:28 PM</td>\n",
       "      <td>05/25/2020 06:57:32 PM</td>\n",
       "      <td>...</td>\n",
       "      <td>TRUCK</td>\n",
       "      <td>2</td>\n",
       "      <td>8</td>\n",
       "      <td>7</td>\n",
       "      <td>Inner Sunset</td>\n",
       "      <td>201463019-T18</td>\n",
       "      <td>POINT (-122.46829612745225 37.751748874988515)</td>\n",
       "      <td>14</td>\n",
       "      <td>05/25/2020</td>\n",
       "      <td>Memorial Day</td>\n",
       "    </tr>\n",
       "    <tr>\n",
       "      <th>3</th>\n",
       "      <td>201460900</td>\n",
       "      <td>E11</td>\n",
       "      <td>20060611</td>\n",
       "      <td>Medical Incident</td>\n",
       "      <td>05/25/2020</td>\n",
       "      <td>05/25/2020</td>\n",
       "      <td>05/25/2020 09:22:49 AM</td>\n",
       "      <td>05/25/2020 09:24:51 AM</td>\n",
       "      <td>05/25/2020 09:25:17 AM</td>\n",
       "      <td>05/25/2020 09:26:11 AM</td>\n",
       "      <td>...</td>\n",
       "      <td>ENGINE</td>\n",
       "      <td>1</td>\n",
       "      <td>6</td>\n",
       "      <td>8</td>\n",
       "      <td>Mission</td>\n",
       "      <td>201460900-E11</td>\n",
       "      <td>POINT (-122.42413130758577 37.752703146369065)</td>\n",
       "      <td>20</td>\n",
       "      <td>05/25/2020</td>\n",
       "      <td>Memorial Day</td>\n",
       "    </tr>\n",
       "    <tr>\n",
       "      <th>4</th>\n",
       "      <td>201463227</td>\n",
       "      <td>B03</td>\n",
       "      <td>20060859</td>\n",
       "      <td>Alarms</td>\n",
       "      <td>05/25/2020</td>\n",
       "      <td>05/25/2020</td>\n",
       "      <td>05/25/2020 07:40:19 PM</td>\n",
       "      <td>05/25/2020 07:41:33 PM</td>\n",
       "      <td>05/25/2020 07:41:44 PM</td>\n",
       "      <td>05/25/2020 07:42:33 PM</td>\n",
       "      <td>...</td>\n",
       "      <td>CHIEF</td>\n",
       "      <td>2</td>\n",
       "      <td>3</td>\n",
       "      <td>6</td>\n",
       "      <td>Financial District/South Beach</td>\n",
       "      <td>201463227-B03</td>\n",
       "      <td>POINT (-122.40169229261626 37.78658885907634)</td>\n",
       "      <td>8</td>\n",
       "      <td>05/25/2020</td>\n",
       "      <td>Memorial Day</td>\n",
       "    </tr>\n",
       "  </tbody>\n",
       "</table>\n",
       "<p>5 rows × 37 columns</p>\n",
       "</div>"
      ],
      "text/plain": [
       "   Call_Number Unit_ID  Incident_Number         Call_Type   Call_Date  \\\n",
       "0    201461772      94         20060706  Medical Incident  05/25/2020   \n",
       "1    201463874     E32         20060913  Medical Incident  05/25/2020   \n",
       "2    201463019     T18         20060826  Medical Incident  05/25/2020   \n",
       "3    201460900     E11         20060611  Medical Incident  05/25/2020   \n",
       "4    201463227     B03         20060859            Alarms  05/25/2020   \n",
       "\n",
       "   Watch_Date           Received_DtTm              Entry_DtTm  \\\n",
       "0  05/25/2020  05/25/2020 01:34:55 PM  05/25/2020 01:34:55 PM   \n",
       "1  05/25/2020  05/25/2020 11:16:21 PM  05/25/2020 11:17:54 PM   \n",
       "2  05/25/2020  05/25/2020 06:39:44 PM  05/25/2020 06:41:34 PM   \n",
       "3  05/25/2020  05/25/2020 09:22:49 AM  05/25/2020 09:24:51 AM   \n",
       "4  05/25/2020  05/25/2020 07:40:19 PM  05/25/2020 07:41:33 PM   \n",
       "\n",
       "            Dispatch_DtTm           Response_DtTm  ... Unit_Type  \\\n",
       "0  05/25/2020 01:36:14 PM  05/25/2020 01:36:19 PM  ...     MEDIC   \n",
       "1  05/25/2020 11:18:27 PM  05/25/2020 11:19:53 PM  ...    ENGINE   \n",
       "2  05/25/2020 06:55:28 PM  05/25/2020 06:57:32 PM  ...     TRUCK   \n",
       "3  05/25/2020 09:25:17 AM  05/25/2020 09:26:11 AM  ...    ENGINE   \n",
       "4  05/25/2020 07:41:44 PM  05/25/2020 07:42:33 PM  ...     CHIEF   \n",
       "\n",
       "  Unit_sequence_in_call_dispatch Fire_Prevention_District Supervisor_District  \\\n",
       "0                              1                       10                  10   \n",
       "1                              1                        9                  11   \n",
       "2                              2                        8                   7   \n",
       "3                              1                        6                   8   \n",
       "4                              2                        3                   6   \n",
       "\n",
       "  Neighborhooods_-_Analysis_Boundaries          RowID  \\\n",
       "0                Bayview Hunters Point   201461772-94   \n",
       "1                            Excelsior  201463874-E32   \n",
       "2                         Inner Sunset  201463019-T18   \n",
       "3                              Mission  201460900-E11   \n",
       "4       Financial District/South Beach  201463227-B03   \n",
       "\n",
       "                                    case_location  Analysis_Neighborhoods  \\\n",
       "0   POINT (-122.38626545834089 37.73782577837169)                       1   \n",
       "1  POINT (-122.42955213038633 37.729273863971024)                       7   \n",
       "2  POINT (-122.46829612745225 37.751748874988515)                      14   \n",
       "3  POINT (-122.42413130758577 37.752703146369065)                      20   \n",
       "4   POINT (-122.40169229261626 37.78658885907634)                       8   \n",
       "\n",
       "         date       holiday  \n",
       "0  05/25/2020  Memorial Day  \n",
       "1  05/25/2020  Memorial Day  \n",
       "2  05/25/2020  Memorial Day  \n",
       "3  05/25/2020  Memorial Day  \n",
       "4  05/25/2020  Memorial Day  \n",
       "\n",
       "[5 rows x 37 columns]"
      ]
     },
     "execution_count": 13,
     "metadata": {},
     "output_type": "execute_result"
    }
   ],
   "source": [
    "# SQL\n",
    "spark.sql(\"\"\"\n",
    "SELECT *\n",
    "FROM calls\n",
    "INNER JOIN holidays ON calls.Call_Date = holidays.date\n",
    "LIMIT 5\n",
    "\"\"\").toPandas()"
   ]
  },
  {
   "cell_type": "code",
   "execution_count": 14,
   "id": "ca75af64-1953-4032-add4-0b3cd33fcc9c",
   "metadata": {},
   "outputs": [],
   "source": [
    "calls = spark.table(\"calls\")\n",
    "holidays = spark.table(\"holidays\")"
   ]
  },
  {
   "cell_type": "code",
   "execution_count": 17,
   "id": "42adb13c-8853-4f6e-a215-b8391c9dee63",
   "metadata": {},
   "outputs": [
    {
     "data": {
      "text/plain": [
       "Column<'(Call_Date = date)'>"
      ]
     },
     "execution_count": 17,
     "metadata": {},
     "output_type": "execute_result"
    }
   ],
   "source": [
    "calls[\"Call_Date\"] == holidays[\"date\"]"
   ]
  },
  {
   "cell_type": "code",
   "execution_count": 20,
   "id": "d82469c9-074c-477e-adc4-1fec1327e1b3",
   "metadata": {},
   "outputs": [
    {
     "data": {
      "text/html": [
       "<div>\n",
       "<style scoped>\n",
       "    .dataframe tbody tr th:only-of-type {\n",
       "        vertical-align: middle;\n",
       "    }\n",
       "\n",
       "    .dataframe tbody tr th {\n",
       "        vertical-align: top;\n",
       "    }\n",
       "\n",
       "    .dataframe thead th {\n",
       "        text-align: right;\n",
       "    }\n",
       "</style>\n",
       "<table border=\"1\" class=\"dataframe\">\n",
       "  <thead>\n",
       "    <tr style=\"text-align: right;\">\n",
       "      <th></th>\n",
       "      <th>Call_Number</th>\n",
       "      <th>Unit_ID</th>\n",
       "      <th>Incident_Number</th>\n",
       "      <th>Call_Type</th>\n",
       "      <th>Call_Date</th>\n",
       "      <th>Watch_Date</th>\n",
       "      <th>Received_DtTm</th>\n",
       "      <th>Entry_DtTm</th>\n",
       "      <th>Dispatch_DtTm</th>\n",
       "      <th>Response_DtTm</th>\n",
       "      <th>...</th>\n",
       "      <th>Unit_Type</th>\n",
       "      <th>Unit_sequence_in_call_dispatch</th>\n",
       "      <th>Fire_Prevention_District</th>\n",
       "      <th>Supervisor_District</th>\n",
       "      <th>Neighborhooods_-_Analysis_Boundaries</th>\n",
       "      <th>RowID</th>\n",
       "      <th>case_location</th>\n",
       "      <th>Analysis_Neighborhoods</th>\n",
       "      <th>date</th>\n",
       "      <th>holiday</th>\n",
       "    </tr>\n",
       "  </thead>\n",
       "  <tbody>\n",
       "    <tr>\n",
       "      <th>0</th>\n",
       "      <td>201461772</td>\n",
       "      <td>94</td>\n",
       "      <td>20060706</td>\n",
       "      <td>Medical Incident</td>\n",
       "      <td>05/25/2020</td>\n",
       "      <td>05/25/2020</td>\n",
       "      <td>05/25/2020 01:34:55 PM</td>\n",
       "      <td>05/25/2020 01:34:55 PM</td>\n",
       "      <td>05/25/2020 01:36:14 PM</td>\n",
       "      <td>05/25/2020 01:36:19 PM</td>\n",
       "      <td>...</td>\n",
       "      <td>MEDIC</td>\n",
       "      <td>1</td>\n",
       "      <td>10</td>\n",
       "      <td>10</td>\n",
       "      <td>Bayview Hunters Point</td>\n",
       "      <td>201461772-94</td>\n",
       "      <td>POINT (-122.38626545834089 37.73782577837169)</td>\n",
       "      <td>1</td>\n",
       "      <td>05/25/2020</td>\n",
       "      <td>Memorial Day</td>\n",
       "    </tr>\n",
       "    <tr>\n",
       "      <th>1</th>\n",
       "      <td>201463874</td>\n",
       "      <td>E32</td>\n",
       "      <td>20060913</td>\n",
       "      <td>Medical Incident</td>\n",
       "      <td>05/25/2020</td>\n",
       "      <td>05/25/2020</td>\n",
       "      <td>05/25/2020 11:16:21 PM</td>\n",
       "      <td>05/25/2020 11:17:54 PM</td>\n",
       "      <td>05/25/2020 11:18:27 PM</td>\n",
       "      <td>05/25/2020 11:19:53 PM</td>\n",
       "      <td>...</td>\n",
       "      <td>ENGINE</td>\n",
       "      <td>1</td>\n",
       "      <td>9</td>\n",
       "      <td>11</td>\n",
       "      <td>Excelsior</td>\n",
       "      <td>201463874-E32</td>\n",
       "      <td>POINT (-122.42955213038633 37.729273863971024)</td>\n",
       "      <td>7</td>\n",
       "      <td>05/25/2020</td>\n",
       "      <td>Memorial Day</td>\n",
       "    </tr>\n",
       "    <tr>\n",
       "      <th>2</th>\n",
       "      <td>201463019</td>\n",
       "      <td>T18</td>\n",
       "      <td>20060826</td>\n",
       "      <td>Medical Incident</td>\n",
       "      <td>05/25/2020</td>\n",
       "      <td>05/25/2020</td>\n",
       "      <td>05/25/2020 06:39:44 PM</td>\n",
       "      <td>05/25/2020 06:41:34 PM</td>\n",
       "      <td>05/25/2020 06:55:28 PM</td>\n",
       "      <td>05/25/2020 06:57:32 PM</td>\n",
       "      <td>...</td>\n",
       "      <td>TRUCK</td>\n",
       "      <td>2</td>\n",
       "      <td>8</td>\n",
       "      <td>7</td>\n",
       "      <td>Inner Sunset</td>\n",
       "      <td>201463019-T18</td>\n",
       "      <td>POINT (-122.46829612745225 37.751748874988515)</td>\n",
       "      <td>14</td>\n",
       "      <td>05/25/2020</td>\n",
       "      <td>Memorial Day</td>\n",
       "    </tr>\n",
       "    <tr>\n",
       "      <th>3</th>\n",
       "      <td>201460900</td>\n",
       "      <td>E11</td>\n",
       "      <td>20060611</td>\n",
       "      <td>Medical Incident</td>\n",
       "      <td>05/25/2020</td>\n",
       "      <td>05/25/2020</td>\n",
       "      <td>05/25/2020 09:22:49 AM</td>\n",
       "      <td>05/25/2020 09:24:51 AM</td>\n",
       "      <td>05/25/2020 09:25:17 AM</td>\n",
       "      <td>05/25/2020 09:26:11 AM</td>\n",
       "      <td>...</td>\n",
       "      <td>ENGINE</td>\n",
       "      <td>1</td>\n",
       "      <td>6</td>\n",
       "      <td>8</td>\n",
       "      <td>Mission</td>\n",
       "      <td>201460900-E11</td>\n",
       "      <td>POINT (-122.42413130758577 37.752703146369065)</td>\n",
       "      <td>20</td>\n",
       "      <td>05/25/2020</td>\n",
       "      <td>Memorial Day</td>\n",
       "    </tr>\n",
       "    <tr>\n",
       "      <th>4</th>\n",
       "      <td>201463227</td>\n",
       "      <td>B03</td>\n",
       "      <td>20060859</td>\n",
       "      <td>Alarms</td>\n",
       "      <td>05/25/2020</td>\n",
       "      <td>05/25/2020</td>\n",
       "      <td>05/25/2020 07:40:19 PM</td>\n",
       "      <td>05/25/2020 07:41:33 PM</td>\n",
       "      <td>05/25/2020 07:41:44 PM</td>\n",
       "      <td>05/25/2020 07:42:33 PM</td>\n",
       "      <td>...</td>\n",
       "      <td>CHIEF</td>\n",
       "      <td>2</td>\n",
       "      <td>3</td>\n",
       "      <td>6</td>\n",
       "      <td>Financial District/South Beach</td>\n",
       "      <td>201463227-B03</td>\n",
       "      <td>POINT (-122.40169229261626 37.78658885907634)</td>\n",
       "      <td>8</td>\n",
       "      <td>05/25/2020</td>\n",
       "      <td>Memorial Day</td>\n",
       "    </tr>\n",
       "  </tbody>\n",
       "</table>\n",
       "<p>5 rows × 37 columns</p>\n",
       "</div>"
      ],
      "text/plain": [
       "   Call_Number Unit_ID  Incident_Number         Call_Type   Call_Date  \\\n",
       "0    201461772      94         20060706  Medical Incident  05/25/2020   \n",
       "1    201463874     E32         20060913  Medical Incident  05/25/2020   \n",
       "2    201463019     T18         20060826  Medical Incident  05/25/2020   \n",
       "3    201460900     E11         20060611  Medical Incident  05/25/2020   \n",
       "4    201463227     B03         20060859            Alarms  05/25/2020   \n",
       "\n",
       "   Watch_Date           Received_DtTm              Entry_DtTm  \\\n",
       "0  05/25/2020  05/25/2020 01:34:55 PM  05/25/2020 01:34:55 PM   \n",
       "1  05/25/2020  05/25/2020 11:16:21 PM  05/25/2020 11:17:54 PM   \n",
       "2  05/25/2020  05/25/2020 06:39:44 PM  05/25/2020 06:41:34 PM   \n",
       "3  05/25/2020  05/25/2020 09:22:49 AM  05/25/2020 09:24:51 AM   \n",
       "4  05/25/2020  05/25/2020 07:40:19 PM  05/25/2020 07:41:33 PM   \n",
       "\n",
       "            Dispatch_DtTm           Response_DtTm  ... Unit_Type  \\\n",
       "0  05/25/2020 01:36:14 PM  05/25/2020 01:36:19 PM  ...     MEDIC   \n",
       "1  05/25/2020 11:18:27 PM  05/25/2020 11:19:53 PM  ...    ENGINE   \n",
       "2  05/25/2020 06:55:28 PM  05/25/2020 06:57:32 PM  ...     TRUCK   \n",
       "3  05/25/2020 09:25:17 AM  05/25/2020 09:26:11 AM  ...    ENGINE   \n",
       "4  05/25/2020 07:41:44 PM  05/25/2020 07:42:33 PM  ...     CHIEF   \n",
       "\n",
       "  Unit_sequence_in_call_dispatch Fire_Prevention_District Supervisor_District  \\\n",
       "0                              1                       10                  10   \n",
       "1                              1                        9                  11   \n",
       "2                              2                        8                   7   \n",
       "3                              1                        6                   8   \n",
       "4                              2                        3                   6   \n",
       "\n",
       "  Neighborhooods_-_Analysis_Boundaries          RowID  \\\n",
       "0                Bayview Hunters Point   201461772-94   \n",
       "1                            Excelsior  201463874-E32   \n",
       "2                         Inner Sunset  201463019-T18   \n",
       "3                              Mission  201460900-E11   \n",
       "4       Financial District/South Beach  201463227-B03   \n",
       "\n",
       "                                    case_location  Analysis_Neighborhoods  \\\n",
       "0   POINT (-122.38626545834089 37.73782577837169)                       1   \n",
       "1  POINT (-122.42955213038633 37.729273863971024)                       7   \n",
       "2  POINT (-122.46829612745225 37.751748874988515)                      14   \n",
       "3  POINT (-122.42413130758577 37.752703146369065)                      20   \n",
       "4   POINT (-122.40169229261626 37.78658885907634)                       8   \n",
       "\n",
       "         date       holiday  \n",
       "0  05/25/2020  Memorial Day  \n",
       "1  05/25/2020  Memorial Day  \n",
       "2  05/25/2020  Memorial Day  \n",
       "3  05/25/2020  Memorial Day  \n",
       "4  05/25/2020  Memorial Day  \n",
       "\n",
       "[5 rows x 37 columns]"
      ]
     },
     "execution_count": 20,
     "metadata": {},
     "output_type": "execute_result"
    }
   ],
   "source": [
    "# same as SQL, but with DataFrames\n",
    "calls.join(holidays, on=calls[\"Call_Date\"] == holidays[\"date\"], how=\"inner\").limit(5).toPandas()"
   ]
  },
  {
   "cell_type": "code",
   "execution_count": 23,
   "id": "f65b9808-3ec5-42c7-96de-e92f5e690b93",
   "metadata": {},
   "outputs": [
    {
     "name": "stderr",
     "output_type": "stream",
     "text": [
      "                                                                                \r"
     ]
    },
    {
     "data": {
      "text/html": [
       "<div>\n",
       "<style scoped>\n",
       "    .dataframe tbody tr th:only-of-type {\n",
       "        vertical-align: middle;\n",
       "    }\n",
       "\n",
       "    .dataframe tbody tr th {\n",
       "        vertical-align: top;\n",
       "    }\n",
       "\n",
       "    .dataframe thead th {\n",
       "        text-align: right;\n",
       "    }\n",
       "</style>\n",
       "<table border=\"1\" class=\"dataframe\">\n",
       "  <thead>\n",
       "    <tr style=\"text-align: right;\">\n",
       "      <th></th>\n",
       "      <th>holiday</th>\n",
       "      <th>count</th>\n",
       "    </tr>\n",
       "  </thead>\n",
       "  <tbody>\n",
       "    <tr>\n",
       "      <th>0</th>\n",
       "      <td>Inauguration Day</td>\n",
       "      <td>798</td>\n",
       "    </tr>\n",
       "    <tr>\n",
       "      <th>1</th>\n",
       "      <td>Juneteenth National Independence Day</td>\n",
       "      <td>1968</td>\n",
       "    </tr>\n",
       "    <tr>\n",
       "      <th>2</th>\n",
       "      <td>Christmas Day</td>\n",
       "      <td>8179</td>\n",
       "    </tr>\n",
       "    <tr>\n",
       "      <th>3</th>\n",
       "      <td>Thanksgiving Day</td>\n",
       "      <td>8186</td>\n",
       "    </tr>\n",
       "    <tr>\n",
       "      <th>4</th>\n",
       "      <td>Veterans Day</td>\n",
       "      <td>8674</td>\n",
       "    </tr>\n",
       "    <tr>\n",
       "      <th>5</th>\n",
       "      <td>Memorial Day</td>\n",
       "      <td>8830</td>\n",
       "    </tr>\n",
       "    <tr>\n",
       "      <th>6</th>\n",
       "      <td>Washington's Birthday</td>\n",
       "      <td>9064</td>\n",
       "    </tr>\n",
       "    <tr>\n",
       "      <th>7</th>\n",
       "      <td>Birthday of Martin Luther King, Jr.</td>\n",
       "      <td>9557</td>\n",
       "    </tr>\n",
       "    <tr>\n",
       "      <th>8</th>\n",
       "      <td>Labor Day</td>\n",
       "      <td>9778</td>\n",
       "    </tr>\n",
       "    <tr>\n",
       "      <th>9</th>\n",
       "      <td>New Year's Day</td>\n",
       "      <td>9966</td>\n",
       "    </tr>\n",
       "    <tr>\n",
       "      <th>10</th>\n",
       "      <td>Columbus Day</td>\n",
       "      <td>9973</td>\n",
       "    </tr>\n",
       "    <tr>\n",
       "      <th>11</th>\n",
       "      <td>Independence Day</td>\n",
       "      <td>10457</td>\n",
       "    </tr>\n",
       "  </tbody>\n",
       "</table>\n",
       "</div>"
      ],
      "text/plain": [
       "                                 holiday  count\n",
       "0                       Inauguration Day    798\n",
       "1   Juneteenth National Independence Day   1968\n",
       "2                          Christmas Day   8179\n",
       "3                       Thanksgiving Day   8186\n",
       "4                           Veterans Day   8674\n",
       "5                           Memorial Day   8830\n",
       "6                  Washington's Birthday   9064\n",
       "7    Birthday of Martin Luther King, Jr.   9557\n",
       "8                              Labor Day   9778\n",
       "9                         New Year's Day   9966\n",
       "10                          Columbus Day   9973\n",
       "11                      Independence Day  10457"
      ]
     },
     "execution_count": 23,
     "metadata": {},
     "output_type": "execute_result"
    }
   ],
   "source": [
    "# how many calls on each kind of holiday?\n",
    "(calls\n",
    " .join(holidays, on=calls[\"Call_Date\"] == holidays[\"date\"], how=\"inner\")\n",
    " .groupby(\"holiday\")\n",
    " .count()\n",
    " .orderBy(\"count\")\n",
    " .toPandas())"
   ]
  },
  {
   "cell_type": "code",
   "execution_count": 24,
   "id": "8d75c057-3471-4777-a447-f3e024ac9008",
   "metadata": {},
   "outputs": [],
   "source": [
    "from pyspark.sql.functions import expr, col"
   ]
  },
  {
   "cell_type": "code",
   "execution_count": 25,
   "id": "11f7ef5b-ffc6-48af-9592-e2ec872290cb",
   "metadata": {},
   "outputs": [
    {
     "name": "stderr",
     "output_type": "stream",
     "text": [
      "                                                                                \r"
     ]
    },
    {
     "data": {
      "text/html": [
       "<div>\n",
       "<style scoped>\n",
       "    .dataframe tbody tr th:only-of-type {\n",
       "        vertical-align: middle;\n",
       "    }\n",
       "\n",
       "    .dataframe tbody tr th {\n",
       "        vertical-align: top;\n",
       "    }\n",
       "\n",
       "    .dataframe thead th {\n",
       "        text-align: right;\n",
       "    }\n",
       "</style>\n",
       "<table border=\"1\" class=\"dataframe\">\n",
       "  <thead>\n",
       "    <tr style=\"text-align: right;\">\n",
       "      <th></th>\n",
       "      <th>(COUNT(holiday) / COUNT(1))</th>\n",
       "    </tr>\n",
       "  </thead>\n",
       "  <tbody>\n",
       "    <tr>\n",
       "      <th>0</th>\n",
       "      <td>0.015863</td>\n",
       "    </tr>\n",
       "  </tbody>\n",
       "</table>\n",
       "</div>"
      ],
      "text/plain": [
       "   (COUNT(holiday) / COUNT(1))\n",
       "0                     0.015863"
      ]
     },
     "execution_count": 25,
     "metadata": {},
     "output_type": "execute_result"
    }
   ],
   "source": [
    "# what percent of fire dept calls are on holidays?\n",
    "(calls\n",
    " .join(holidays, on=calls[\"Call_Date\"] == holidays[\"date\"], how=\"left\")\n",
    " .agg(expr(\"COUNT(holiday) / COUNT(*)\"))\n",
    " .toPandas())"
   ]
  },
  {
   "cell_type": "code",
   "execution_count": 26,
   "id": "095aa55a-08d9-4631-873f-d9b2f26326d0",
   "metadata": {},
   "outputs": [
    {
     "data": {
      "text/plain": [
       "[{'id': 'app-20231030131841-0000',\n",
       "  'name': 'cs544',\n",
       "  'attempts': [{'startTime': '2023-10-30T13:18:38.684GMT',\n",
       "    'endTime': '1969-12-31T23:59:59.999GMT',\n",
       "    'lastUpdated': '2023-10-30T13:18:38.684GMT',\n",
       "    'duration': 7478648,\n",
       "    'sparkUser': 'root',\n",
       "    'completed': False,\n",
       "    'appSparkVersion': '3.5.0',\n",
       "    'startTimeEpoch': 1698671918684,\n",
       "    'endTimeEpoch': -1,\n",
       "    'lastUpdatedEpoch': 1698671918684}]}]"
      ]
     },
     "execution_count": 26,
     "metadata": {},
     "output_type": "execute_result"
    }
   ],
   "source": [
    "import requests\n",
    "\n",
    "# https://spark.apache.org/docs/latest/monitoring.html#rest-api\n",
    "# http://localhost:4040/api/v1/applications\n",
    "# http://localhost:4040/api/v1/applications/{app_id}/executors\n",
    "# look for \"totalTasks\"\n",
    "\n",
    "r = requests.get(\"http://localhost:4040/api/v1/applications\")\n",
    "r.raise_for_status()\n",
    "r.json()"
   ]
  },
  {
   "cell_type": "code",
   "execution_count": 29,
   "id": "ad18bf38-b887-4b8e-819e-7c6a1d9369dc",
   "metadata": {},
   "outputs": [
    {
     "data": {
      "text/plain": [
       "'app-20231030131841-0000'"
      ]
     },
     "execution_count": 29,
     "metadata": {},
     "output_type": "execute_result"
    }
   ],
   "source": [
    "app_id = r.json()[0][\"id\"]\n",
    "app_id"
   ]
  },
  {
   "cell_type": "code",
   "execution_count": 31,
   "id": "c529393b-82e8-4288-b684-e249077d91e2",
   "metadata": {},
   "outputs": [
    {
     "data": {
      "text/plain": [
       "[0, 41, 33]"
      ]
     },
     "execution_count": 31,
     "metadata": {},
     "output_type": "execute_result"
    }
   ],
   "source": [
    "r = requests.get(f\"http://localhost:4040/api/v1/applications/{app_id}/executors\")\n",
    "r.raise_for_status()\n",
    "[exec[\"totalTasks\"] for exec in r.json()]"
   ]
  },
  {
   "cell_type": "code",
   "execution_count": 36,
   "id": "76bc2904-a113-4320-bcda-33a59fe77d92",
   "metadata": {},
   "outputs": [],
   "source": [
    "df = spark.table(\"calls\").sample(True, 0.01).repartition(1).cache()"
   ]
  },
  {
   "cell_type": "code",
   "execution_count": 37,
   "id": "bfbf4d89-36ce-4cda-a3ba-c21f8219754b",
   "metadata": {},
   "outputs": [
    {
     "name": "stderr",
     "output_type": "stream",
     "text": [
      "                                                                                \r"
     ]
    },
    {
     "data": {
      "text/plain": [
       "59768"
      ]
     },
     "execution_count": 37,
     "metadata": {},
     "output_type": "execute_result"
    }
   ],
   "source": [
    "df.count()"
   ]
  },
  {
   "cell_type": "code",
   "execution_count": 38,
   "id": "42c1cfc3-db32-4fb6-8ce4-6c7720c466ce",
   "metadata": {},
   "outputs": [
    {
     "data": {
      "text/plain": [
       "[0, 44, 38]"
      ]
     },
     "execution_count": 38,
     "metadata": {},
     "output_type": "execute_result"
    }
   ],
   "source": [
    "r = requests.get(f\"http://localhost:4040/api/v1/applications/{app_id}/executors\")\n",
    "r.raise_for_status()\n",
    "[exec[\"totalTasks\"] for exec in r.json()]"
   ]
  },
  {
   "cell_type": "code",
   "execution_count": 39,
   "id": "feb5ab88-fc98-4412-a4e9-d7c5c85e0cfd",
   "metadata": {},
   "outputs": [],
   "source": [
    "for i in range(30):\n",
    "    df.count()"
   ]
  },
  {
   "cell_type": "code",
   "execution_count": 40,
   "id": "24796918-2c5e-4509-a4c9-2b6f97579396",
   "metadata": {},
   "outputs": [
    {
     "data": {
      "text/plain": [
       "[0, 44, 68]"
      ]
     },
     "execution_count": 40,
     "metadata": {},
     "output_type": "execute_result"
    }
   ],
   "source": [
    "r = requests.get(f\"http://localhost:4040/api/v1/applications/{app_id}/executors\")\n",
    "r.raise_for_status()\n",
    "[exec[\"totalTasks\"] for exec in r.json()]\n",
    "# cache with MEMORY_2, then they both would have had some work"
   ]
  },
  {
   "cell_type": "markdown",
   "id": "ce0ec2fd-aa04-4270-91d1-8cbfea076914",
   "metadata": {},
   "source": [
    "# Concept of Hash Partitioning"
   ]
  },
  {
   "cell_type": "code",
   "execution_count": 41,
   "id": "ab734d88-709f-4b96-a70c-b8f255ebb55d",
   "metadata": {},
   "outputs": [],
   "source": [
    "# hash function:\n",
    "# takes anything (e.g., just some bytes containing whatever)\n",
    "# returns a number (deteriministic, but ideally not with an obvious pattern)"
   ]
  },
  {
   "cell_type": "code",
   "execution_count": 44,
   "id": "cc856a32-d567-4a72-8e0c-d18bbf5d4b4e",
   "metadata": {},
   "outputs": [
    {
     "name": "stdout",
     "output_type": "stream",
     "text": [
      "4048120696332817282\n",
      "-7032740829281490393\n",
      "-3557164702627286655\n",
      "4365002733845661407\n",
      "251757472463859401\n",
      "-8027134606503610815\n"
     ]
    }
   ],
   "source": [
    "print(hash(b\"a\"))\n",
    "print(hash(b\"b\"))\n",
    "print(hash(b\"c\"))\n",
    "print(hash(b\"d\"))\n",
    "print(hash(b\"e\"))\n",
    "print(hash(b\"f\"))"
   ]
  },
  {
   "cell_type": "code",
   "execution_count": 45,
   "id": "6ca23237-02be-403a-8dc5-cd4228f38831",
   "metadata": {},
   "outputs": [
    {
     "name": "stdout",
     "output_type": "stream",
     "text": [
      "2\n",
      "2\n",
      "0\n",
      "2\n",
      "1\n",
      "0\n"
     ]
    }
   ],
   "source": [
    "# use this to deterimine what hash partition a value goes in\n",
    "print(hash(b\"a\") % 5)\n",
    "print(hash(b\"b\") % 5)\n",
    "print(hash(b\"c\") % 5)\n",
    "print(hash(b\"d\") % 5)\n",
    "print(hash(b\"e\") % 5)\n",
    "print(hash(b\"f\") % 5)"
   ]
  },
  {
   "cell_type": "code",
   "execution_count": 47,
   "id": "47427402-470c-4ae2-93cf-469be3305481",
   "metadata": {},
   "outputs": [
    {
     "data": {
      "text/plain": [
       "[['f'],\n",
       " ['e', 'g', 'l', 'l', 'm', 'l', 'm'],\n",
       " ['a', 'a', 'a', 'a', 'b', 'b', 'b', 'i', 'i'],\n",
       " ['h', 'h', 'k'],\n",
       " ['j']]"
      ]
     },
     "execution_count": 47,
     "metadata": {},
     "output_type": "execute_result"
    }
   ],
   "source": [
    "partitions = [[], [], [], [], []]\n",
    "for letter in \"aaaabbbefghihijkllmlm\":\n",
    "    partition_idx = hash(letter) % len(partitions)\n",
    "    partitions[partition_idx].append(letter)\n",
    "partitions"
   ]
  },
  {
   "cell_type": "code",
   "execution_count": 51,
   "id": "e89d203b-5d8d-4844-8177-723c8cabda97",
   "metadata": {},
   "outputs": [
    {
     "name": "stdout",
     "output_type": "stream",
     "text": [
      "== Physical Plan ==\n",
      "AdaptiveSparkPlan (5)\n",
      "+- HashAggregate (4)\n",
      "   +- Exchange (3)\n",
      "      +- HashAggregate (2)\n",
      "         +- Scan parquet  (1)\n",
      "\n",
      "\n",
      "(1) Scan parquet \n",
      "Output [1]: [Call_Type#231]\n",
      "Batched: true\n",
      "Location: InMemoryFileIndex [hdfs://nn:9000/sf.parquet]\n",
      "ReadSchema: struct<Call_Type:string>\n",
      "\n",
      "(2) HashAggregate\n",
      "Input [1]: [Call_Type#231]\n",
      "Keys [1]: [Call_Type#231]\n",
      "Functions [1]: [partial_count(1)]\n",
      "Aggregate Attributes [1]: [count#24645L]\n",
      "Results [2]: [Call_Type#231, count#24646L]\n",
      "\n",
      "(3) Exchange\n",
      "Input [2]: [Call_Type#231, count#24646L]\n",
      "Arguments: hashpartitioning(Call_Type#231, 200), ENSURE_REQUIREMENTS, [plan_id=1689]\n",
      "\n",
      "(4) HashAggregate\n",
      "Input [2]: [Call_Type#231, count#24646L]\n",
      "Keys [1]: [Call_Type#231]\n",
      "Functions [1]: [count(1)]\n",
      "Aggregate Attributes [1]: [count(1)#24642L]\n",
      "Results [2]: [Call_Type#231, count(1)#24642L AS count#24641L]\n",
      "\n",
      "(5) AdaptiveSparkPlan\n",
      "Output [2]: [Call_Type#231, count#24641L]\n",
      "Arguments: isFinalPlan=false\n",
      "\n",
      "\n"
     ]
    }
   ],
   "source": [
    "spark.sql(\"\"\"\n",
    "SELECT Call_Type, COUNT(*) as count\n",
    "FROM calls\n",
    "GROUP BY Call_Type\n",
    "\"\"\").explain(\"formatted\")"
   ]
  }
 ],
 "metadata": {
  "kernelspec": {
   "display_name": "Python 3 (ipykernel)",
   "language": "python",
   "name": "python3"
  },
  "language_info": {
   "codemirror_mode": {
    "name": "ipython",
    "version": 3
   },
   "file_extension": ".py",
   "mimetype": "text/x-python",
   "name": "python",
   "nbconvert_exporter": "python",
   "pygments_lexer": "ipython3",
   "version": "3.10.12"
  }
 },
 "nbformat": 4,
 "nbformat_minor": 5
}
