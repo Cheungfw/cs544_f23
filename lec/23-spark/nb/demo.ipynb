{
 "cells": [
  {
   "cell_type": "markdown",
   "id": "add7644f-3b39-4346-836c-37128e00617b",
   "metadata": {},
   "source": [
    "# Setup"
   ]
  },
  {
   "cell_type": "code",
   "execution_count": 1,
   "id": "ab82db8b-d136-42bb-8a84-c3b462c2cb00",
   "metadata": {},
   "outputs": [
    {
     "name": "stderr",
     "output_type": "stream",
     "text": [
      "Using Spark's default log4j profile: org/apache/spark/log4j-defaults.properties\n",
      "Setting default log level to \"WARN\".\n",
      "To adjust logging level use sc.setLogLevel(newLevel). For SparkR, use setLogLevel(newLevel).\n",
      "23/03/24 14:03:10 WARN NativeCodeLoader: Unable to load native-hadoop library for your platform... using builtin-java classes where applicable\n"
     ]
    }
   ],
   "source": [
    "from pyspark.sql import SparkSession\n",
    "from pyspark.sql.functions import col, expr, row_number\n",
    "from pyspark.sql.window import Window\n",
    "\n",
    "spark = (SparkSession.builder.appName(\"cs544\")\n",
    "         .master(\"spark://main:7077\")\n",
    "         .config(\"spark.executor.memory\", \"512M\")\n",
    "         .config(\"spark.sql.warehouse.dir\", \"hdfs://main:9000/user/hive/warehouse\")\n",
    "         .enableHiveSupport()\n",
    "         .getOrCreate())"
   ]
  },
  {
   "cell_type": "code",
   "execution_count": 2,
   "id": "0a9b1ccb-ce44-434e-a712-35007c653fe3",
   "metadata": {},
   "outputs": [],
   "source": [
    "# ! wget https://pages.cs.wisc.edu/~harter/cs639/data/sf.zip\n",
    "# ! unzip sf.zip"
   ]
  },
  {
   "cell_type": "code",
   "execution_count": 3,
   "id": "8a60dd35-3a9b-454b-9851-40b096a59553",
   "metadata": {},
   "outputs": [],
   "source": [
    "!hdfs dfs -cp sf.csv hdfs://main:9000/sf.csv"
   ]
  },
  {
   "cell_type": "code",
   "execution_count": 4,
   "id": "bb83fc9f-dab4-44e0-abcb-9bac05430ec9",
   "metadata": {},
   "outputs": [
    {
     "name": "stderr",
     "output_type": "stream",
     "text": [
      "23/03/24 14:04:33 WARN package: Truncated the string representation of a plan since it was too large. This behavior can be adjusted by setting 'spark.sql.debug.maxToStringFields'.\n",
      "                                                                                \r"
     ]
    }
   ],
   "source": [
    "df = (spark.read.format(\"csv\")\n",
    "    .option(\"header\", True)\n",
    "    .option(\"inferSchema\", True)\n",
    "    .load(\"hdfs://main:9000/sf.csv\"))\n",
    "columns = [col(c).alias(c.replace(\" \", \"\")) for c in df.columns]\n",
    "df.select(columns).write.format(\"parquet\").mode(\"overwrite\").save(\"hdfs://main:9000/sf.parquet\")"
   ]
  },
  {
   "cell_type": "code",
   "execution_count": 5,
   "id": "0ed2d936-6674-4e8a-b200-da014e3e59b2",
   "metadata": {},
   "outputs": [],
   "source": [
    "df = spark.read.format(\"parquet\").load(\"hdfs://main:9000/sf.parquet\")\n",
    "df.createOrReplaceTempView(\"calls\")"
   ]
  },
  {
   "cell_type": "markdown",
   "id": "07800c73-1f3d-4c90-bb2b-a9863b8ed6b0",
   "metadata": {},
   "source": [
    "# Demos"
   ]
  },
  {
   "cell_type": "code",
   "execution_count": null,
   "id": "b24b8888-09ec-42f2-9225-3472fc2aed89",
   "metadata": {},
   "outputs": [],
   "source": []
  }
 ],
 "metadata": {
  "kernelspec": {
   "display_name": "Python 3 (ipykernel)",
   "language": "python",
   "name": "python3"
  },
  "language_info": {
   "codemirror_mode": {
    "name": "ipython",
    "version": 3
   },
   "file_extension": ".py",
   "mimetype": "text/x-python",
   "name": "python",
   "nbconvert_exporter": "python",
   "pygments_lexer": "ipython3",
   "version": "3.10.6"
  }
 },
 "nbformat": 4,
 "nbformat_minor": 5
}
