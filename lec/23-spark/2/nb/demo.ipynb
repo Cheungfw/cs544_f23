{
 "cells": [
  {
   "cell_type": "code",
   "execution_count": 1,
   "id": "c8dca847-54af-4284-97d8-0682e88a6e8d",
   "metadata": {},
   "outputs": [
    {
     "name": "stderr",
     "output_type": "stream",
     "text": [
      "Setting default log level to \"WARN\".\n",
      "To adjust logging level use sc.setLogLevel(newLevel). For SparkR, use setLogLevel(newLevel).\n",
      "23/10/27 16:30:03 WARN NativeCodeLoader: Unable to load native-hadoop library for your platform... using builtin-java classes where applicable\n"
     ]
    }
   ],
   "source": [
    "from pyspark.sql import SparkSession\n",
    "spark = (SparkSession.builder.appName(\"cs544\")\n",
    "         .master(\"spark://boss:7077\")\n",
    "         .config(\"spark.executor.memory\", \"512M\")\n",
    "         .config(\"spark.sql.warehouse.dir\", \"hdfs://nn:9000/user/hive/warehouse\")\n",
    "         .enableHiveSupport()\n",
    "         .getOrCreate())"
   ]
  },
  {
   "cell_type": "code",
   "execution_count": 2,
   "id": "2294e4e0-ab19-496c-980f-31df757e7837",
   "metadata": {},
   "outputs": [],
   "source": [
    "!hdfs dfs -cp sf.csv hdfs://nn:9000/sf.csv"
   ]
  },
  {
   "cell_type": "code",
   "execution_count": 3,
   "id": "cb54bacc-b52a-4c25-93d2-2ba0f61de9b0",
   "metadata": {},
   "outputs": [
    {
     "name": "stderr",
     "output_type": "stream",
     "text": [
      "                                                                                \r"
     ]
    }
   ],
   "source": [
    "df = (spark.read.format(\"csv\")\n",
    "      .option(\"header\", True)\n",
    "      .option(\"inferSchema\", True)\n",
    "      .load(\"hdfs://nn:9000/sf.csv\"))"
   ]
  },
  {
   "cell_type": "code",
   "execution_count": 4,
   "id": "c1298818-83f6-444b-b8a0-4be5b16fd6fb",
   "metadata": {},
   "outputs": [
    {
     "name": "stderr",
     "output_type": "stream",
     "text": [
      "23/10/27 16:31:53 WARN SparkStringUtils: Truncated the string representation of a plan since it was too large. This behavior can be adjusted by setting 'spark.sql.debug.maxToStringFields'.\n",
      "                                                                                \r"
     ]
    }
   ],
   "source": [
    "from pyspark.sql.functions import col, expr\n",
    "cols = [col(c).alias(c.replace(\" \", \"_\")) for c in df.columns]\n",
    "df.select(cols).write.format(\"parquet\").save(\"hdfs://nn:9000/sf.parquet\")"
   ]
  },
  {
   "cell_type": "code",
   "execution_count": 5,
   "id": "37d1ded3-ed8a-4e39-94cb-dd3a3272af91",
   "metadata": {},
   "outputs": [
    {
     "name": "stdout",
     "output_type": "stream",
     "text": [
      "Deleted hdfs://nn:9000/sf.csv\n"
     ]
    }
   ],
   "source": [
    "!hdfs dfs -rm hdfs://nn:9000/sf.csv"
   ]
  },
  {
   "cell_type": "code",
   "execution_count": 10,
   "id": "abea48b5-e012-4ae2-a53a-e40350f94e20",
   "metadata": {},
   "outputs": [],
   "source": [
    "df = spark.read.format(\"parquet\").load(\"hdfs://nn:9000/sf.parquet\")"
   ]
  },
  {
   "cell_type": "code",
   "execution_count": 12,
   "id": "55f28cbf-9c40-4b5f-bfff-d5c2c4bcd45c",
   "metadata": {},
   "outputs": [],
   "source": [
    "df.createTempView(\"calls\")"
   ]
  },
  {
   "cell_type": "code",
   "execution_count": 43,
   "id": "fa77ed5b-b0a0-49fe-89a3-75610b14de07",
   "metadata": {},
   "outputs": [],
   "source": [
    "df.withColumnRenamed(\"Neighborhooods_-_Analysis_Boundaries\", \"area\").createOrReplaceTempView(\"calls\")"
   ]
  },
  {
   "cell_type": "code",
   "execution_count": 15,
   "id": "f5564f4e-1942-4670-903a-0652eb64e165",
   "metadata": {},
   "outputs": [
    {
     "data": {
      "text/plain": [
       "DataFrame[Call_Number: int, Unit_ID: string, Incident_Number: int, Call_Type: string, Call_Date: string, Watch_Date: string, Received_DtTm: string, Entry_DtTm: string, Dispatch_DtTm: string, Response_DtTm: string, On_Scene_DtTm: string, Transport_DtTm: string, Hospital_DtTm: string, Call_Final_Disposition: string, Available_DtTm: string, Address: string, City: string, Zipcode_of_Incident: int, Battalion: string, Station_Area: string, Box: string, Original_Priority: string, Priority: string, Final_Priority: int, ALS_Unit: boolean, Call_Type_Group: string, Number_of_Alarms: int, Unit_Type: string, Unit_sequence_in_call_dispatch: int, Fire_Prevention_District: string, Supervisor_District: string, Neighborhooods_-_Analysis_Boundaries: string, RowID: string, case_location: string, Analysis_Neighborhoods: int]"
      ]
     },
     "execution_count": 15,
     "metadata": {},
     "output_type": "execute_result"
    }
   ],
   "source": [
    "spark.sql(\"select * from calls\")"
   ]
  },
  {
   "cell_type": "code",
   "execution_count": 17,
   "id": "87f1e9d0-03b1-45bf-9e9d-b316c5ed7d59",
   "metadata": {},
   "outputs": [
    {
     "name": "stderr",
     "output_type": "stream",
     "text": [
      "                                                                                \r"
     ]
    },
    {
     "data": {
      "text/html": [
       "<div>\n",
       "<style scoped>\n",
       "    .dataframe tbody tr th:only-of-type {\n",
       "        vertical-align: middle;\n",
       "    }\n",
       "\n",
       "    .dataframe tbody tr th {\n",
       "        vertical-align: top;\n",
       "    }\n",
       "\n",
       "    .dataframe thead th {\n",
       "        text-align: right;\n",
       "    }\n",
       "</style>\n",
       "<table border=\"1\" class=\"dataframe\">\n",
       "  <thead>\n",
       "    <tr style=\"text-align: right;\">\n",
       "      <th></th>\n",
       "      <th>Call_Number</th>\n",
       "      <th>Unit_ID</th>\n",
       "      <th>Incident_Number</th>\n",
       "      <th>Call_Type</th>\n",
       "      <th>Call_Date</th>\n",
       "      <th>Watch_Date</th>\n",
       "      <th>Received_DtTm</th>\n",
       "      <th>Entry_DtTm</th>\n",
       "      <th>Dispatch_DtTm</th>\n",
       "      <th>Response_DtTm</th>\n",
       "      <th>...</th>\n",
       "      <th>Call_Type_Group</th>\n",
       "      <th>Number_of_Alarms</th>\n",
       "      <th>Unit_Type</th>\n",
       "      <th>Unit_sequence_in_call_dispatch</th>\n",
       "      <th>Fire_Prevention_District</th>\n",
       "      <th>Supervisor_District</th>\n",
       "      <th>Neighborhooods_-_Analysis_Boundaries</th>\n",
       "      <th>RowID</th>\n",
       "      <th>case_location</th>\n",
       "      <th>Analysis_Neighborhoods</th>\n",
       "    </tr>\n",
       "  </thead>\n",
       "  <tbody>\n",
       "    <tr>\n",
       "      <th>0</th>\n",
       "      <td>201340825</td>\n",
       "      <td>T06</td>\n",
       "      <td>20055834</td>\n",
       "      <td>Other</td>\n",
       "      <td>05/13/2020</td>\n",
       "      <td>05/13/2020</td>\n",
       "      <td>05/13/2020 08:51:30 AM</td>\n",
       "      <td>05/13/2020 08:51:30 AM</td>\n",
       "      <td>05/13/2020 08:54:56 AM</td>\n",
       "      <td>05/13/2020 08:55:10 AM</td>\n",
       "      <td>...</td>\n",
       "      <td>Alarm</td>\n",
       "      <td>1</td>\n",
       "      <td>TRUCK</td>\n",
       "      <td>1</td>\n",
       "      <td>2</td>\n",
       "      <td>8</td>\n",
       "      <td>Mission</td>\n",
       "      <td>201340825-T06</td>\n",
       "      <td>POINT (-122.42251458613262 37.770727334245194)</td>\n",
       "      <td>20</td>\n",
       "    </tr>\n",
       "    <tr>\n",
       "      <th>1</th>\n",
       "      <td>201241707</td>\n",
       "      <td>FB3</td>\n",
       "      <td>20052084</td>\n",
       "      <td>Outside Fire</td>\n",
       "      <td>05/03/2020</td>\n",
       "      <td>05/03/2020</td>\n",
       "      <td>05/03/2020 01:46:02 PM</td>\n",
       "      <td>05/03/2020 01:46:02 PM</td>\n",
       "      <td>05/03/2020 01:46:11 PM</td>\n",
       "      <td>05/03/2020 01:47:41 PM</td>\n",
       "      <td>...</td>\n",
       "      <td>Alarm</td>\n",
       "      <td>1</td>\n",
       "      <td>SUPPORT</td>\n",
       "      <td>2</td>\n",
       "      <td>1</td>\n",
       "      <td>3</td>\n",
       "      <td>Financial District/South Beach</td>\n",
       "      <td>201241707-FB3</td>\n",
       "      <td>POINT (-122.3946511276673 37.79530574375478)</td>\n",
       "      <td>8</td>\n",
       "    </tr>\n",
       "    <tr>\n",
       "      <th>2</th>\n",
       "      <td>201083222</td>\n",
       "      <td>AM118</td>\n",
       "      <td>20045948</td>\n",
       "      <td>Medical Incident</td>\n",
       "      <td>04/17/2020</td>\n",
       "      <td>04/17/2020</td>\n",
       "      <td>04/17/2020 09:19:43 PM</td>\n",
       "      <td>04/17/2020 09:19:43 PM</td>\n",
       "      <td>04/17/2020 09:21:10 PM</td>\n",
       "      <td>04/17/2020 09:21:55 PM</td>\n",
       "      <td>...</td>\n",
       "      <td>Non Life-threatening</td>\n",
       "      <td>1</td>\n",
       "      <td>PRIVATE</td>\n",
       "      <td>2</td>\n",
       "      <td>2</td>\n",
       "      <td>6</td>\n",
       "      <td>South of Market</td>\n",
       "      <td>201083222-AM118</td>\n",
       "      <td>POINT (-122.41071806030364 37.778959763358266)</td>\n",
       "      <td>34</td>\n",
       "    </tr>\n",
       "  </tbody>\n",
       "</table>\n",
       "<p>3 rows × 35 columns</p>\n",
       "</div>"
      ],
      "text/plain": [
       "   Call_Number Unit_ID  Incident_Number         Call_Type   Call_Date  \\\n",
       "0    201340825     T06         20055834             Other  05/13/2020   \n",
       "1    201241707     FB3         20052084      Outside Fire  05/03/2020   \n",
       "2    201083222   AM118         20045948  Medical Incident  04/17/2020   \n",
       "\n",
       "   Watch_Date           Received_DtTm              Entry_DtTm  \\\n",
       "0  05/13/2020  05/13/2020 08:51:30 AM  05/13/2020 08:51:30 AM   \n",
       "1  05/03/2020  05/03/2020 01:46:02 PM  05/03/2020 01:46:02 PM   \n",
       "2  04/17/2020  04/17/2020 09:19:43 PM  04/17/2020 09:19:43 PM   \n",
       "\n",
       "            Dispatch_DtTm           Response_DtTm  ...       Call_Type_Group  \\\n",
       "0  05/13/2020 08:54:56 AM  05/13/2020 08:55:10 AM  ...                 Alarm   \n",
       "1  05/03/2020 01:46:11 PM  05/03/2020 01:47:41 PM  ...                 Alarm   \n",
       "2  04/17/2020 09:21:10 PM  04/17/2020 09:21:55 PM  ...  Non Life-threatening   \n",
       "\n",
       "  Number_of_Alarms Unit_Type Unit_sequence_in_call_dispatch  \\\n",
       "0                1     TRUCK                              1   \n",
       "1                1   SUPPORT                              2   \n",
       "2                1   PRIVATE                              2   \n",
       "\n",
       "  Fire_Prevention_District Supervisor_District  \\\n",
       "0                        2                   8   \n",
       "1                        1                   3   \n",
       "2                        2                   6   \n",
       "\n",
       "  Neighborhooods_-_Analysis_Boundaries            RowID  \\\n",
       "0                              Mission    201340825-T06   \n",
       "1       Financial District/South Beach    201241707-FB3   \n",
       "2                      South of Market  201083222-AM118   \n",
       "\n",
       "                                    case_location Analysis_Neighborhoods  \n",
       "0  POINT (-122.42251458613262 37.770727334245194)                     20  \n",
       "1    POINT (-122.3946511276673 37.79530574375478)                      8  \n",
       "2  POINT (-122.41071806030364 37.778959763358266)                     34  \n",
       "\n",
       "[3 rows x 35 columns]"
      ]
     },
     "execution_count": 17,
     "metadata": {},
     "output_type": "execute_result"
    }
   ],
   "source": [
    "spark.sql(\"select * from calls limit 3\").toPandas()"
   ]
  },
  {
   "cell_type": "code",
   "execution_count": 19,
   "id": "7e1be924-94cc-4927-86a8-691db7af0914",
   "metadata": {},
   "outputs": [
    {
     "name": "stdout",
     "output_type": "stream",
     "text": [
      "+---------+---------+-----------+\n",
      "|namespace|tableName|isTemporary|\n",
      "+---------+---------+-----------+\n",
      "|  default|   stinky|      false|\n",
      "|         |    calls|       true|\n",
      "+---------+---------+-----------+\n",
      "\n"
     ]
    }
   ],
   "source": [
    "spark.sql(\"SHOW TABLES\").show()"
   ]
  },
  {
   "cell_type": "code",
   "execution_count": 35,
   "id": "344175c8-fcde-4ef8-af44-50eecc1abf36",
   "metadata": {},
   "outputs": [
    {
     "name": "stderr",
     "output_type": "stream",
     "text": [
      "                                                                                \r"
     ]
    }
   ],
   "source": [
    "spark.sql(\"\"\"\n",
    "SELECT *\n",
    "FROM calls\n",
    "WHERE Call_Type LIKE 'Odor%'\n",
    "\"\"\").write.mode(\"overwrite\").saveAsTable(\"stinky\")"
   ]
  },
  {
   "cell_type": "code",
   "execution_count": 29,
   "id": "5e83ce69-ad03-4169-a6c5-14116706867c",
   "metadata": {},
   "outputs": [
    {
     "name": "stdout",
     "output_type": "stream",
     "text": [
      "+---------+---------+-----------+\n",
      "|namespace|tableName|isTemporary|\n",
      "+---------+---------+-----------+\n",
      "|  default|   stinky|      false|\n",
      "|         |    calls|       true|\n",
      "+---------+---------+-----------+\n",
      "\n"
     ]
    }
   ],
   "source": [
    "spark.sql(\"SHOW TABLES\").show()"
   ]
  },
  {
   "cell_type": "code",
   "execution_count": 30,
   "id": "9a84f34c-f5ec-4c05-a323-5851c040abe6",
   "metadata": {},
   "outputs": [
    {
     "data": {
      "text/html": [
       "<div>\n",
       "<style scoped>\n",
       "    .dataframe tbody tr th:only-of-type {\n",
       "        vertical-align: middle;\n",
       "    }\n",
       "\n",
       "    .dataframe tbody tr th {\n",
       "        vertical-align: top;\n",
       "    }\n",
       "\n",
       "    .dataframe thead th {\n",
       "        text-align: right;\n",
       "    }\n",
       "</style>\n",
       "<table border=\"1\" class=\"dataframe\">\n",
       "  <thead>\n",
       "    <tr style=\"text-align: right;\">\n",
       "      <th></th>\n",
       "      <th>Call_Number</th>\n",
       "      <th>Unit_ID</th>\n",
       "      <th>Incident_Number</th>\n",
       "      <th>Call_Type</th>\n",
       "      <th>Call_Date</th>\n",
       "      <th>Watch_Date</th>\n",
       "      <th>Received_DtTm</th>\n",
       "      <th>Entry_DtTm</th>\n",
       "      <th>Dispatch_DtTm</th>\n",
       "      <th>Response_DtTm</th>\n",
       "      <th>...</th>\n",
       "      <th>Call_Type_Group</th>\n",
       "      <th>Number_of_Alarms</th>\n",
       "      <th>Unit_Type</th>\n",
       "      <th>Unit_sequence_in_call_dispatch</th>\n",
       "      <th>Fire_Prevention_District</th>\n",
       "      <th>Supervisor_District</th>\n",
       "      <th>Neighborhooods_-_Analysis_Boundaries</th>\n",
       "      <th>RowID</th>\n",
       "      <th>case_location</th>\n",
       "      <th>Analysis_Neighborhoods</th>\n",
       "    </tr>\n",
       "  </thead>\n",
       "  <tbody>\n",
       "    <tr>\n",
       "      <th>0</th>\n",
       "      <td>31380322</td>\n",
       "      <td>E19</td>\n",
       "      <td>3039579</td>\n",
       "      <td>Odor (Strange / Unknown)</td>\n",
       "      <td>05/18/2003</td>\n",
       "      <td>05/18/2003</td>\n",
       "      <td>05/18/2003 06:06:07 PM</td>\n",
       "      <td>05/18/2003 06:07:29 PM</td>\n",
       "      <td>05/18/2003 06:08:15 PM</td>\n",
       "      <td>None</td>\n",
       "      <td>...</td>\n",
       "      <td>None</td>\n",
       "      <td>1</td>\n",
       "      <td>ENGINE</td>\n",
       "      <td>1</td>\n",
       "      <td>8</td>\n",
       "      <td>7</td>\n",
       "      <td>Lakeshore</td>\n",
       "      <td>031380322-E19</td>\n",
       "      <td>POINT (-122.484903847655 37.720566578193)</td>\n",
       "      <td>16</td>\n",
       "    </tr>\n",
       "    <tr>\n",
       "      <th>1</th>\n",
       "      <td>30630341</td>\n",
       "      <td>B04</td>\n",
       "      <td>3018168</td>\n",
       "      <td>Odor (Strange / Unknown)</td>\n",
       "      <td>03/04/2003</td>\n",
       "      <td>03/04/2003</td>\n",
       "      <td>03/04/2003 03:15:45 PM</td>\n",
       "      <td>03/04/2003 03:18:48 PM</td>\n",
       "      <td>03/04/2003 03:19:27 PM</td>\n",
       "      <td>03/04/2003 03:19:38 PM</td>\n",
       "      <td>...</td>\n",
       "      <td>None</td>\n",
       "      <td>1</td>\n",
       "      <td>CHIEF</td>\n",
       "      <td>2</td>\n",
       "      <td>4</td>\n",
       "      <td>3</td>\n",
       "      <td>Nob Hill</td>\n",
       "      <td>030630341-B04</td>\n",
       "      <td>POINT (-122.418012422783 37.789883351367)</td>\n",
       "      <td>21</td>\n",
       "    </tr>\n",
       "    <tr>\n",
       "      <th>2</th>\n",
       "      <td>30520027</td>\n",
       "      <td>B03</td>\n",
       "      <td>3014868</td>\n",
       "      <td>Odor (Strange / Unknown)</td>\n",
       "      <td>02/21/2003</td>\n",
       "      <td>02/20/2003</td>\n",
       "      <td>02/21/2003 02:16:47 AM</td>\n",
       "      <td>02/21/2003 02:17:59 AM</td>\n",
       "      <td>02/21/2003 02:18:41 AM</td>\n",
       "      <td>02/21/2003 02:19:56 AM</td>\n",
       "      <td>...</td>\n",
       "      <td>None</td>\n",
       "      <td>1</td>\n",
       "      <td>CHIEF</td>\n",
       "      <td>3</td>\n",
       "      <td>2</td>\n",
       "      <td>6</td>\n",
       "      <td>Tenderloin</td>\n",
       "      <td>030520027-B03</td>\n",
       "      <td>POINT (-122.415737767164 37.780721312022)</td>\n",
       "      <td>36</td>\n",
       "    </tr>\n",
       "  </tbody>\n",
       "</table>\n",
       "<p>3 rows × 35 columns</p>\n",
       "</div>"
      ],
      "text/plain": [
       "   Call_Number Unit_ID  Incident_Number                 Call_Type   Call_Date  \\\n",
       "0     31380322     E19          3039579  Odor (Strange / Unknown)  05/18/2003   \n",
       "1     30630341     B04          3018168  Odor (Strange / Unknown)  03/04/2003   \n",
       "2     30520027     B03          3014868  Odor (Strange / Unknown)  02/21/2003   \n",
       "\n",
       "   Watch_Date           Received_DtTm              Entry_DtTm  \\\n",
       "0  05/18/2003  05/18/2003 06:06:07 PM  05/18/2003 06:07:29 PM   \n",
       "1  03/04/2003  03/04/2003 03:15:45 PM  03/04/2003 03:18:48 PM   \n",
       "2  02/20/2003  02/21/2003 02:16:47 AM  02/21/2003 02:17:59 AM   \n",
       "\n",
       "            Dispatch_DtTm           Response_DtTm  ... Call_Type_Group  \\\n",
       "0  05/18/2003 06:08:15 PM                    None  ...            None   \n",
       "1  03/04/2003 03:19:27 PM  03/04/2003 03:19:38 PM  ...            None   \n",
       "2  02/21/2003 02:18:41 AM  02/21/2003 02:19:56 AM  ...            None   \n",
       "\n",
       "  Number_of_Alarms Unit_Type Unit_sequence_in_call_dispatch  \\\n",
       "0                1    ENGINE                              1   \n",
       "1                1     CHIEF                              2   \n",
       "2                1     CHIEF                              3   \n",
       "\n",
       "  Fire_Prevention_District Supervisor_District  \\\n",
       "0                        8                   7   \n",
       "1                        4                   3   \n",
       "2                        2                   6   \n",
       "\n",
       "  Neighborhooods_-_Analysis_Boundaries          RowID  \\\n",
       "0                            Lakeshore  031380322-E19   \n",
       "1                             Nob Hill  030630341-B04   \n",
       "2                           Tenderloin  030520027-B03   \n",
       "\n",
       "                               case_location Analysis_Neighborhoods  \n",
       "0  POINT (-122.484903847655 37.720566578193)                     16  \n",
       "1  POINT (-122.418012422783 37.789883351367)                     21  \n",
       "2  POINT (-122.415737767164 37.780721312022)                     36  \n",
       "\n",
       "[3 rows x 35 columns]"
      ]
     },
     "execution_count": 30,
     "metadata": {},
     "output_type": "execute_result"
    }
   ],
   "source": [
    "spark.sql(\"SELECT * FROM stinky LIMIT 3\").toPandas()"
   ]
  },
  {
   "cell_type": "code",
   "execution_count": 36,
   "id": "ab73ec57-c1d5-4ed0-8a10-96b822f2ec0a",
   "metadata": {},
   "outputs": [
    {
     "name": "stdout",
     "output_type": "stream",
     "text": [
      "Found 7 items\n",
      "-rw-r--r--   3 root supergroup          0 2023-10-27 18:38 hdfs://nn:9000/user/hive/warehouse/stinky/_SUCCESS\n",
      "-rw-r--r--   3 root supergroup     334214 2023-10-27 18:38 hdfs://nn:9000/user/hive/warehouse/stinky/part-00000-0e388e91-3fe5-47d6-a8a2-43d69e07941b-c000.snappy.parquet\n",
      "-rw-r--r--   3 root supergroup     370478 2023-10-27 18:38 hdfs://nn:9000/user/hive/warehouse/stinky/part-00001-0e388e91-3fe5-47d6-a8a2-43d69e07941b-c000.snappy.parquet\n",
      "-rw-r--r--   3 root supergroup     173436 2023-10-27 18:38 hdfs://nn:9000/user/hive/warehouse/stinky/part-00002-0e388e91-3fe5-47d6-a8a2-43d69e07941b-c000.snappy.parquet\n",
      "-rw-r--r--   3 root supergroup     209189 2023-10-27 18:38 hdfs://nn:9000/user/hive/warehouse/stinky/part-00003-0e388e91-3fe5-47d6-a8a2-43d69e07941b-c000.snappy.parquet\n",
      "-rw-r--r--   3 root supergroup     138716 2023-10-27 18:38 hdfs://nn:9000/user/hive/warehouse/stinky/part-00004-0e388e91-3fe5-47d6-a8a2-43d69e07941b-c000.snappy.parquet\n",
      "-rw-r--r--   3 root supergroup      70149 2023-10-27 18:38 hdfs://nn:9000/user/hive/warehouse/stinky/part-00005-0e388e91-3fe5-47d6-a8a2-43d69e07941b-c000.snappy.parquet\n"
     ]
    }
   ],
   "source": [
    "!hdfs dfs -ls hdfs://nn:9000/user/hive/warehouse/stinky/"
   ]
  },
  {
   "cell_type": "code",
   "execution_count": 40,
   "id": "a9f84565-d123-4c5e-b1da-b6b74759dfa7",
   "metadata": {},
   "outputs": [
    {
     "data": {
      "text/plain": [
       "6"
      ]
     },
     "execution_count": 40,
     "metadata": {},
     "output_type": "execute_result"
    }
   ],
   "source": [
    "spark.sql(\"SELECT * FROM calls\").rdd.getNumPartitions()"
   ]
  },
  {
   "cell_type": "code",
   "execution_count": 39,
   "id": "f965347a-3b93-4398-9de7-077116e9bea0",
   "metadata": {},
   "outputs": [
    {
     "data": {
      "text/plain": [
       "2"
      ]
     },
     "execution_count": 39,
     "metadata": {},
     "output_type": "execute_result"
    }
   ],
   "source": [
    "spark.sql(\"SELECT * FROM stinky\").rdd.getNumPartitions()"
   ]
  },
  {
   "cell_type": "code",
   "execution_count": 41,
   "id": "af6432ba-4392-4218-a0a0-dbc2fdee6750",
   "metadata": {},
   "outputs": [
    {
     "data": {
      "text/plain": [
       "DataFrame[Call_Number: int, Unit_ID: string, Incident_Number: int, Call_Type: string, Call_Date: string, Watch_Date: string, Received_DtTm: string, Entry_DtTm: string, Dispatch_DtTm: string, Response_DtTm: string, On_Scene_DtTm: string, Transport_DtTm: string, Hospital_DtTm: string, Call_Final_Disposition: string, Available_DtTm: string, Address: string, City: string, Zipcode_of_Incident: int, Battalion: string, Station_Area: string, Box: string, Original_Priority: string, Priority: string, Final_Priority: int, ALS_Unit: boolean, Call_Type_Group: string, Number_of_Alarms: int, Unit_Type: string, Unit_sequence_in_call_dispatch: int, Fire_Prevention_District: string, Supervisor_District: string, Neighborhooods_-_Analysis_Boundaries: string, RowID: string, case_location: string, Analysis_Neighborhoods: int]"
      ]
     },
     "execution_count": 41,
     "metadata": {},
     "output_type": "execute_result"
    }
   ],
   "source": [
    "spark.table(\"calls\")"
   ]
  },
  {
   "cell_type": "code",
   "execution_count": 42,
   "id": "e602884c-e378-4444-9f6c-cea419b6f436",
   "metadata": {},
   "outputs": [
    {
     "data": {
      "text/plain": [
       "DataFrame[Call_Number: int, Unit_ID: string, Incident_Number: int, Call_Type: string, Call_Date: string, Watch_Date: string, Received_DtTm: string, Entry_DtTm: string, Dispatch_DtTm: string, Response_DtTm: string, On_Scene_DtTm: string, Transport_DtTm: string, Hospital_DtTm: string, Call_Final_Disposition: string, Available_DtTm: string, Address: string, City: string, Zipcode_of_Incident: int, Battalion: string, Station_Area: string, Box: string, Original_Priority: string, Priority: string, Final_Priority: int, ALS_Unit: boolean, Call_Type_Group: string, Number_of_Alarms: int, Unit_Type: string, Unit_sequence_in_call_dispatch: int, Fire_Prevention_District: string, Supervisor_District: string, Neighborhooods_-_Analysis_Boundaries: string, RowID: string, case_location: string, Analysis_Neighborhoods: int]"
      ]
     },
     "execution_count": 42,
     "metadata": {},
     "output_type": "execute_result"
    }
   ],
   "source": [
    "spark.table(\"stinky\")"
   ]
  },
  {
   "cell_type": "markdown",
   "id": "57632528-9e76-4e36-b94c-b410772b82c0",
   "metadata": {},
   "source": [
    "# Grouping, etc"
   ]
  },
  {
   "cell_type": "code",
   "execution_count": 45,
   "id": "c2a8593b-f036-45b9-a01a-a231d00f5413",
   "metadata": {},
   "outputs": [
    {
     "name": "stderr",
     "output_type": "stream",
     "text": [
      "                                                                                \r"
     ]
    },
    {
     "data": {
      "text/plain": [
       "[Row(area='Inner Sunset'),\n",
       " Row(area='Haight Ashbury'),\n",
       " Row(area='Lincoln Park'),\n",
       " Row(area='Japantown'),\n",
       " Row(area='None'),\n",
       " Row(area='North Beach'),\n",
       " Row(area='Lone Mountain/USF'),\n",
       " Row(area='Western Addition'),\n",
       " Row(area='Bernal Heights'),\n",
       " Row(area='Mission Bay'),\n",
       " Row(area='Hayes Valley'),\n",
       " Row(area='Financial District/South Beach'),\n",
       " Row(area='Lakeshore'),\n",
       " Row(area='Bayview Hunters Point'),\n",
       " Row(area='Visitacion Valley'),\n",
       " Row(area='Inner Richmond'),\n",
       " Row(area='Nob Hill'),\n",
       " Row(area='Oceanview/Merced/Ingleside'),\n",
       " Row(area='Outer Richmond'),\n",
       " Row(area='Treasure Island'),\n",
       " Row(area='Chinatown'),\n",
       " Row(area='Mission'),\n",
       " Row(area='Excelsior'),\n",
       " Row(area='Twin Peaks'),\n",
       " Row(area='Seacliff'),\n",
       " Row(area='Sunset/Parkside'),\n",
       " Row(area='Presidio Heights'),\n",
       " Row(area='Portola'),\n",
       " Row(area='Golden Gate Park'),\n",
       " Row(area='Glen Park'),\n",
       " Row(area='McLaren Park'),\n",
       " Row(area='Presidio'),\n",
       " Row(area='Tenderloin'),\n",
       " Row(area='Potrero Hill'),\n",
       " Row(area='Outer Mission'),\n",
       " Row(area='Castro/Upper Market'),\n",
       " Row(area='Marina'),\n",
       " Row(area='Noe Valley'),\n",
       " Row(area='Russian Hill'),\n",
       " Row(area='South of Market'),\n",
       " Row(area='Pacific Heights'),\n",
       " Row(area='West of Twin Peaks')]"
      ]
     },
     "execution_count": 45,
     "metadata": {},
     "output_type": "execute_result"
    }
   ],
   "source": [
    "spark.sql(\"SELECT DISTINCT area FROM calls\").collect()"
   ]
  },
  {
   "cell_type": "code",
   "execution_count": 47,
   "id": "d27e90b6-1ac2-40dc-bd94-f9b17223fc3f",
   "metadata": {},
   "outputs": [
    {
     "name": "stderr",
     "output_type": "stream",
     "text": [
      "                                                                                \r"
     ]
    },
    {
     "data": {
      "text/html": [
       "<div>\n",
       "<style scoped>\n",
       "    .dataframe tbody tr th:only-of-type {\n",
       "        vertical-align: middle;\n",
       "    }\n",
       "\n",
       "    .dataframe tbody tr th {\n",
       "        vertical-align: top;\n",
       "    }\n",
       "\n",
       "    .dataframe thead th {\n",
       "        text-align: right;\n",
       "    }\n",
       "</style>\n",
       "<table border=\"1\" class=\"dataframe\">\n",
       "  <thead>\n",
       "    <tr style=\"text-align: right;\">\n",
       "      <th></th>\n",
       "      <th>area</th>\n",
       "      <th>count</th>\n",
       "    </tr>\n",
       "  </thead>\n",
       "  <tbody>\n",
       "    <tr>\n",
       "      <th>0</th>\n",
       "      <td>Tenderloin</td>\n",
       "      <td>809041</td>\n",
       "    </tr>\n",
       "    <tr>\n",
       "      <th>1</th>\n",
       "      <td>South of Market</td>\n",
       "      <td>583631</td>\n",
       "    </tr>\n",
       "    <tr>\n",
       "      <th>2</th>\n",
       "      <td>Mission</td>\n",
       "      <td>543289</td>\n",
       "    </tr>\n",
       "    <tr>\n",
       "      <th>3</th>\n",
       "      <td>Financial District/South Beach</td>\n",
       "      <td>402331</td>\n",
       "    </tr>\n",
       "    <tr>\n",
       "      <th>4</th>\n",
       "      <td>Bayview Hunters Point</td>\n",
       "      <td>326423</td>\n",
       "    </tr>\n",
       "    <tr>\n",
       "      <th>5</th>\n",
       "      <td>Sunset/Parkside</td>\n",
       "      <td>233135</td>\n",
       "    </tr>\n",
       "    <tr>\n",
       "      <th>6</th>\n",
       "      <td>Western Addition</td>\n",
       "      <td>222759</td>\n",
       "    </tr>\n",
       "    <tr>\n",
       "      <th>7</th>\n",
       "      <td>Nob Hill</td>\n",
       "      <td>198957</td>\n",
       "    </tr>\n",
       "    <tr>\n",
       "      <th>8</th>\n",
       "      <td>Outer Richmond</td>\n",
       "      <td>159714</td>\n",
       "    </tr>\n",
       "    <tr>\n",
       "      <th>9</th>\n",
       "      <td>Hayes Valley</td>\n",
       "      <td>148946</td>\n",
       "    </tr>\n",
       "    <tr>\n",
       "      <th>10</th>\n",
       "      <td>Castro/Upper Market</td>\n",
       "      <td>144533</td>\n",
       "    </tr>\n",
       "    <tr>\n",
       "      <th>11</th>\n",
       "      <td>West of Twin Peaks</td>\n",
       "      <td>131856</td>\n",
       "    </tr>\n",
       "    <tr>\n",
       "      <th>12</th>\n",
       "      <td>North Beach</td>\n",
       "      <td>126516</td>\n",
       "    </tr>\n",
       "    <tr>\n",
       "      <th>13</th>\n",
       "      <td>Pacific Heights</td>\n",
       "      <td>125234</td>\n",
       "    </tr>\n",
       "    <tr>\n",
       "      <th>14</th>\n",
       "      <td>Chinatown</td>\n",
       "      <td>123221</td>\n",
       "    </tr>\n",
       "    <tr>\n",
       "      <th>15</th>\n",
       "      <td>Excelsior</td>\n",
       "      <td>120771</td>\n",
       "    </tr>\n",
       "    <tr>\n",
       "      <th>16</th>\n",
       "      <td>Marina</td>\n",
       "      <td>116713</td>\n",
       "    </tr>\n",
       "    <tr>\n",
       "      <th>17</th>\n",
       "      <td>Bernal Heights</td>\n",
       "      <td>113744</td>\n",
       "    </tr>\n",
       "    <tr>\n",
       "      <th>18</th>\n",
       "      <td>Potrero Hill</td>\n",
       "      <td>110187</td>\n",
       "    </tr>\n",
       "    <tr>\n",
       "      <th>19</th>\n",
       "      <td>Inner Sunset</td>\n",
       "      <td>95266</td>\n",
       "    </tr>\n",
       "    <tr>\n",
       "      <th>20</th>\n",
       "      <td>Russian Hill</td>\n",
       "      <td>92968</td>\n",
       "    </tr>\n",
       "    <tr>\n",
       "      <th>21</th>\n",
       "      <td>Haight Ashbury</td>\n",
       "      <td>89918</td>\n",
       "    </tr>\n",
       "    <tr>\n",
       "      <th>22</th>\n",
       "      <td>Outer Mission</td>\n",
       "      <td>87582</td>\n",
       "    </tr>\n",
       "    <tr>\n",
       "      <th>23</th>\n",
       "      <td>Lakeshore</td>\n",
       "      <td>87206</td>\n",
       "    </tr>\n",
       "    <tr>\n",
       "      <th>24</th>\n",
       "      <td>Inner Richmond</td>\n",
       "      <td>84338</td>\n",
       "    </tr>\n",
       "    <tr>\n",
       "      <th>25</th>\n",
       "      <td>Oceanview/Merced/Ingleside</td>\n",
       "      <td>84027</td>\n",
       "    </tr>\n",
       "    <tr>\n",
       "      <th>26</th>\n",
       "      <td>Visitacion Valley</td>\n",
       "      <td>77346</td>\n",
       "    </tr>\n",
       "    <tr>\n",
       "      <th>27</th>\n",
       "      <td>Lone Mountain/USF</td>\n",
       "      <td>72502</td>\n",
       "    </tr>\n",
       "    <tr>\n",
       "      <th>28</th>\n",
       "      <td>Mission Bay</td>\n",
       "      <td>72477</td>\n",
       "    </tr>\n",
       "    <tr>\n",
       "      <th>29</th>\n",
       "      <td>Noe Valley</td>\n",
       "      <td>65199</td>\n",
       "    </tr>\n",
       "    <tr>\n",
       "      <th>30</th>\n",
       "      <td>Portola</td>\n",
       "      <td>57161</td>\n",
       "    </tr>\n",
       "    <tr>\n",
       "      <th>31</th>\n",
       "      <td>Japantown</td>\n",
       "      <td>53161</td>\n",
       "    </tr>\n",
       "    <tr>\n",
       "      <th>32</th>\n",
       "      <td>Presidio Heights</td>\n",
       "      <td>52465</td>\n",
       "    </tr>\n",
       "    <tr>\n",
       "      <th>33</th>\n",
       "      <td>Treasure Island</td>\n",
       "      <td>40610</td>\n",
       "    </tr>\n",
       "    <tr>\n",
       "      <th>34</th>\n",
       "      <td>Twin Peaks</td>\n",
       "      <td>35483</td>\n",
       "    </tr>\n",
       "    <tr>\n",
       "      <th>35</th>\n",
       "      <td>Golden Gate Park</td>\n",
       "      <td>35188</td>\n",
       "    </tr>\n",
       "    <tr>\n",
       "      <th>36</th>\n",
       "      <td>Glen Park</td>\n",
       "      <td>28906</td>\n",
       "    </tr>\n",
       "    <tr>\n",
       "      <th>37</th>\n",
       "      <td>Presidio</td>\n",
       "      <td>23613</td>\n",
       "    </tr>\n",
       "    <tr>\n",
       "      <th>38</th>\n",
       "      <td>None</td>\n",
       "      <td>16743</td>\n",
       "    </tr>\n",
       "    <tr>\n",
       "      <th>39</th>\n",
       "      <td>Seacliff</td>\n",
       "      <td>10052</td>\n",
       "    </tr>\n",
       "    <tr>\n",
       "      <th>40</th>\n",
       "      <td>McLaren Park</td>\n",
       "      <td>6941</td>\n",
       "    </tr>\n",
       "    <tr>\n",
       "      <th>41</th>\n",
       "      <td>Lincoln Park</td>\n",
       "      <td>5903</td>\n",
       "    </tr>\n",
       "  </tbody>\n",
       "</table>\n",
       "</div>"
      ],
      "text/plain": [
       "                              area   count\n",
       "0                       Tenderloin  809041\n",
       "1                  South of Market  583631\n",
       "2                          Mission  543289\n",
       "3   Financial District/South Beach  402331\n",
       "4            Bayview Hunters Point  326423\n",
       "5                  Sunset/Parkside  233135\n",
       "6                 Western Addition  222759\n",
       "7                         Nob Hill  198957\n",
       "8                   Outer Richmond  159714\n",
       "9                     Hayes Valley  148946\n",
       "10             Castro/Upper Market  144533\n",
       "11              West of Twin Peaks  131856\n",
       "12                     North Beach  126516\n",
       "13                 Pacific Heights  125234\n",
       "14                       Chinatown  123221\n",
       "15                       Excelsior  120771\n",
       "16                          Marina  116713\n",
       "17                  Bernal Heights  113744\n",
       "18                    Potrero Hill  110187\n",
       "19                    Inner Sunset   95266\n",
       "20                    Russian Hill   92968\n",
       "21                  Haight Ashbury   89918\n",
       "22                   Outer Mission   87582\n",
       "23                       Lakeshore   87206\n",
       "24                  Inner Richmond   84338\n",
       "25      Oceanview/Merced/Ingleside   84027\n",
       "26               Visitacion Valley   77346\n",
       "27               Lone Mountain/USF   72502\n",
       "28                     Mission Bay   72477\n",
       "29                      Noe Valley   65199\n",
       "30                         Portola   57161\n",
       "31                       Japantown   53161\n",
       "32                Presidio Heights   52465\n",
       "33                 Treasure Island   40610\n",
       "34                      Twin Peaks   35483\n",
       "35                Golden Gate Park   35188\n",
       "36                       Glen Park   28906\n",
       "37                        Presidio   23613\n",
       "38                            None   16743\n",
       "39                        Seacliff   10052\n",
       "40                    McLaren Park    6941\n",
       "41                    Lincoln Park    5903"
      ]
     },
     "execution_count": 47,
     "metadata": {},
     "output_type": "execute_result"
    }
   ],
   "source": [
    "pandas_df = spark.sql(\"\"\"\n",
    "SELECT area, COUNT(*) as count\n",
    "FROM calls\n",
    "GROUP BY area\n",
    "ORDER BY count DESC\n",
    "\"\"\").toPandas()\n",
    "pandas_df"
   ]
  },
  {
   "cell_type": "code",
   "execution_count": 51,
   "id": "6e99fa2e-2d28-4793-95ee-498b7eca7d54",
   "metadata": {},
   "outputs": [
    {
     "data": {
      "text/plain": [
       "<Axes: xlabel='area'>"
      ]
     },
     "execution_count": 51,
     "metadata": {},
     "output_type": "execute_result"
    },
    {
     "data": {
      "image/png": "[encoded data removed]",
      "text/plain": [
       "<Figure size 640x480 with 1 Axes>"
      ]
     },
     "metadata": {},
     "output_type": "display_data"
    }
   ],
   "source": [
    "# TODO: axis labels\n",
    "pandas_df.set_index(\"area\").plot.bar()"
   ]
  },
  {
   "cell_type": "code",
   "execution_count": 56,
   "id": "f7ddef76-c1dd-4833-b2de-e971c7f16ef7",
   "metadata": {},
   "outputs": [
    {
     "name": "stderr",
     "output_type": "stream",
     "text": [
      "                                                                                \r"
     ]
    },
    {
     "data": {
      "text/html": [
       "<div>\n",
       "<style scoped>\n",
       "    .dataframe tbody tr th:only-of-type {\n",
       "        vertical-align: middle;\n",
       "    }\n",
       "\n",
       "    .dataframe tbody tr th {\n",
       "        vertical-align: top;\n",
       "    }\n",
       "\n",
       "    .dataframe thead th {\n",
       "        text-align: right;\n",
       "    }\n",
       "</style>\n",
       "<table border=\"1\" class=\"dataframe\">\n",
       "  <thead>\n",
       "    <tr style=\"text-align: right;\">\n",
       "      <th></th>\n",
       "      <th>Call_Type_Group</th>\n",
       "      <th>Call_Type</th>\n",
       "      <th>count(1)</th>\n",
       "    </tr>\n",
       "  </thead>\n",
       "  <tbody>\n",
       "    <tr>\n",
       "      <th>0</th>\n",
       "      <td>None</td>\n",
       "      <td>Elevator / Escalator Rescue</td>\n",
       "      <td>7062</td>\n",
       "    </tr>\n",
       "    <tr>\n",
       "      <th>1</th>\n",
       "      <td>None</td>\n",
       "      <td>Marine Fire</td>\n",
       "      <td>222</td>\n",
       "    </tr>\n",
       "    <tr>\n",
       "      <th>2</th>\n",
       "      <td>None</td>\n",
       "      <td>Aircraft Emergency</td>\n",
       "      <td>1263</td>\n",
       "    </tr>\n",
       "    <tr>\n",
       "      <th>3</th>\n",
       "      <td>None</td>\n",
       "      <td>Confined Space / Structure Collapse</td>\n",
       "      <td>286</td>\n",
       "    </tr>\n",
       "    <tr>\n",
       "      <th>4</th>\n",
       "      <td>None</td>\n",
       "      <td>Administrative</td>\n",
       "      <td>306</td>\n",
       "    </tr>\n",
       "  </tbody>\n",
       "</table>\n",
       "</div>"
      ],
      "text/plain": [
       "  Call_Type_Group                            Call_Type  count(1)\n",
       "0            None          Elevator / Escalator Rescue      7062\n",
       "1            None                          Marine Fire       222\n",
       "2            None                   Aircraft Emergency      1263\n",
       "3            None  Confined Space / Structure Collapse       286\n",
       "4            None                       Administrative       306"
      ]
     },
     "execution_count": 56,
     "metadata": {},
     "output_type": "execute_result"
    }
   ],
   "source": [
    "# how many calls are there per groups/type\n",
    "spark.sql(\"\"\"\n",
    "SELECT Call_Type_Group, Call_Type, COUNT(*) as count\n",
    "FROM calls\n",
    "GROUP BY Call_Type_Group, Call_Type\n",
    "\"\"\").toPandas().head()"
   ]
  },
  {
   "cell_type": "code",
   "execution_count": 58,
   "id": "861507a3-d3be-495c-9eb1-b253708a4e20",
   "metadata": {},
   "outputs": [
    {
     "name": "stderr",
     "output_type": "stream",
     "text": [
      "                                                                                \r"
     ]
    },
    {
     "data": {
      "text/html": [
       "<div>\n",
       "<style scoped>\n",
       "    .dataframe tbody tr th:only-of-type {\n",
       "        vertical-align: middle;\n",
       "    }\n",
       "\n",
       "    .dataframe tbody tr th {\n",
       "        vertical-align: top;\n",
       "    }\n",
       "\n",
       "    .dataframe thead th {\n",
       "        text-align: right;\n",
       "    }\n",
       "</style>\n",
       "<table border=\"1\" class=\"dataframe\">\n",
       "  <thead>\n",
       "    <tr style=\"text-align: right;\">\n",
       "      <th></th>\n",
       "      <th>Call_Type_Group</th>\n",
       "      <th>(max(count) / sum(count))</th>\n",
       "    </tr>\n",
       "  </thead>\n",
       "  <tbody>\n",
       "    <tr>\n",
       "      <th>0</th>\n",
       "      <td>Alarm</td>\n",
       "      <td>0.486623</td>\n",
       "    </tr>\n",
       "    <tr>\n",
       "      <th>1</th>\n",
       "      <td>None</td>\n",
       "      <td>0.632953</td>\n",
       "    </tr>\n",
       "    <tr>\n",
       "      <th>2</th>\n",
       "      <td>Potentially Life-Threatening</td>\n",
       "      <td>0.942302</td>\n",
       "    </tr>\n",
       "    <tr>\n",
       "      <th>3</th>\n",
       "      <td>Non Life-threatening</td>\n",
       "      <td>0.924175</td>\n",
       "    </tr>\n",
       "    <tr>\n",
       "      <th>4</th>\n",
       "      <td>Fire</td>\n",
       "      <td>0.383007</td>\n",
       "    </tr>\n",
       "  </tbody>\n",
       "</table>\n",
       "</div>"
      ],
      "text/plain": [
       "                Call_Type_Group  (max(count) / sum(count))\n",
       "0                         Alarm                   0.486623\n",
       "1                          None                   0.632953\n",
       "2  Potentially Life-Threatening                   0.942302\n",
       "3          Non Life-threatening                   0.924175\n",
       "4                          Fire                   0.383007"
      ]
     },
     "execution_count": 58,
     "metadata": {},
     "output_type": "execute_result"
    }
   ],
   "source": [
    "# for each call group, what percentage of calls are represented by the biggest type\n",
    "spark.sql(\"\"\"\n",
    "SELECT Call_Type_Group, MAX(count) / SUM(count)\n",
    "FROM (\n",
    "    SELECT Call_Type_Group, Call_Type, COUNT(*) as count\n",
    "    FROM calls\n",
    "    GROUP BY Call_Type_Group, Call_Type\n",
    ")\n",
    "GROUP BY Call_Type_Group\n",
    "\"\"\").toPandas()"
   ]
  },
  {
   "cell_type": "code",
   "execution_count": 63,
   "id": "f50342a4-7dec-49d1-8d56-8d87ee171160",
   "metadata": {},
   "outputs": [],
   "source": [
    "from pyspark.sql.functions import col, expr"
   ]
  },
  {
   "cell_type": "code",
   "execution_count": 67,
   "id": "c38c45e3-715a-4a9b-bc94-145189559f35",
   "metadata": {},
   "outputs": [
    {
     "name": "stderr",
     "output_type": "stream",
     "text": [
      "                                                                                \r"
     ]
    },
    {
     "data": {
      "text/html": [
       "<div>\n",
       "<style scoped>\n",
       "    .dataframe tbody tr th:only-of-type {\n",
       "        vertical-align: middle;\n",
       "    }\n",
       "\n",
       "    .dataframe tbody tr th {\n",
       "        vertical-align: top;\n",
       "    }\n",
       "\n",
       "    .dataframe thead th {\n",
       "        text-align: right;\n",
       "    }\n",
       "</style>\n",
       "<table border=\"1\" class=\"dataframe\">\n",
       "  <thead>\n",
       "    <tr style=\"text-align: right;\">\n",
       "      <th></th>\n",
       "      <th>Call_Type_Group</th>\n",
       "      <th>perc</th>\n",
       "    </tr>\n",
       "  </thead>\n",
       "  <tbody>\n",
       "    <tr>\n",
       "      <th>0</th>\n",
       "      <td>Alarm</td>\n",
       "      <td>0.486623</td>\n",
       "    </tr>\n",
       "    <tr>\n",
       "      <th>1</th>\n",
       "      <td>None</td>\n",
       "      <td>0.632953</td>\n",
       "    </tr>\n",
       "    <tr>\n",
       "      <th>2</th>\n",
       "      <td>Potentially Life-Threatening</td>\n",
       "      <td>0.942302</td>\n",
       "    </tr>\n",
       "    <tr>\n",
       "      <th>3</th>\n",
       "      <td>Non Life-threatening</td>\n",
       "      <td>0.924175</td>\n",
       "    </tr>\n",
       "    <tr>\n",
       "      <th>4</th>\n",
       "      <td>Fire</td>\n",
       "      <td>0.383007</td>\n",
       "    </tr>\n",
       "  </tbody>\n",
       "</table>\n",
       "</div>"
      ],
      "text/plain": [
       "                Call_Type_Group      perc\n",
       "0                         Alarm  0.486623\n",
       "1                          None  0.632953\n",
       "2  Potentially Life-Threatening  0.942302\n",
       "3          Non Life-threatening  0.924175\n",
       "4                          Fire  0.383007"
      ]
     },
     "execution_count": 67,
     "metadata": {},
     "output_type": "execute_result"
    }
   ],
   "source": [
    "# same question, using DataFrame API\n",
    "(spark.table(\"calls\")\n",
    " .groupby(\"Call_Type_Group\", \"Call_Type\")\n",
    " .count()\n",
    " .groupby(\"Call_Type_Group\")\n",
    " .agg(expr(\"MAX(count) / SUM(count)\").alias(\"perc\"))\n",
    ").toPandas()"
   ]
  },
  {
   "cell_type": "markdown",
   "id": "895f9af0-4b2f-471a-88bc-0ef25f687d29",
   "metadata": {},
   "source": [
    "# Window Functions"
   ]
  },
  {
   "cell_type": "code",
   "execution_count": 77,
   "id": "01352996-1ab3-4c93-ba7f-d8d1da010384",
   "metadata": {},
   "outputs": [
    {
     "name": "stderr",
     "output_type": "stream",
     "text": [
      "                                                                                \r"
     ]
    },
    {
     "data": {
      "text/html": [
       "<div>\n",
       "<style scoped>\n",
       "    .dataframe tbody tr th:only-of-type {\n",
       "        vertical-align: middle;\n",
       "    }\n",
       "\n",
       "    .dataframe tbody tr th {\n",
       "        vertical-align: top;\n",
       "    }\n",
       "\n",
       "    .dataframe thead th {\n",
       "        text-align: right;\n",
       "    }\n",
       "</style>\n",
       "<table border=\"1\" class=\"dataframe\">\n",
       "  <thead>\n",
       "    <tr style=\"text-align: right;\">\n",
       "      <th></th>\n",
       "      <th>area</th>\n",
       "      <th>Call_Number</th>\n",
       "      <th>rownum</th>\n",
       "    </tr>\n",
       "  </thead>\n",
       "  <tbody>\n",
       "    <tr>\n",
       "      <th>0</th>\n",
       "      <td>Bayview Hunters Point</td>\n",
       "      <td>1030119</td>\n",
       "      <td>1</td>\n",
       "    </tr>\n",
       "    <tr>\n",
       "      <th>1</th>\n",
       "      <td>Bayview Hunters Point</td>\n",
       "      <td>1040031</td>\n",
       "      <td>2</td>\n",
       "    </tr>\n",
       "    <tr>\n",
       "      <th>2</th>\n",
       "      <td>Bayview Hunters Point</td>\n",
       "      <td>1040078</td>\n",
       "      <td>3</td>\n",
       "    </tr>\n",
       "    <tr>\n",
       "      <th>3</th>\n",
       "      <td>Bernal Heights</td>\n",
       "      <td>1040089</td>\n",
       "      <td>1</td>\n",
       "    </tr>\n",
       "    <tr>\n",
       "      <th>4</th>\n",
       "      <td>Bernal Heights</td>\n",
       "      <td>1040245</td>\n",
       "      <td>2</td>\n",
       "    </tr>\n",
       "    <tr>\n",
       "      <th>...</th>\n",
       "      <td>...</td>\n",
       "      <td>...</td>\n",
       "      <td>...</td>\n",
       "    </tr>\n",
       "    <tr>\n",
       "      <th>121</th>\n",
       "      <td>West of Twin Peaks</td>\n",
       "      <td>1040020</td>\n",
       "      <td>2</td>\n",
       "    </tr>\n",
       "    <tr>\n",
       "      <th>122</th>\n",
       "      <td>West of Twin Peaks</td>\n",
       "      <td>1040115</td>\n",
       "      <td>3</td>\n",
       "    </tr>\n",
       "    <tr>\n",
       "      <th>123</th>\n",
       "      <td>Western Addition</td>\n",
       "      <td>1030128</td>\n",
       "      <td>1</td>\n",
       "    </tr>\n",
       "    <tr>\n",
       "      <th>124</th>\n",
       "      <td>Western Addition</td>\n",
       "      <td>1030128</td>\n",
       "      <td>2</td>\n",
       "    </tr>\n",
       "    <tr>\n",
       "      <th>125</th>\n",
       "      <td>Western Addition</td>\n",
       "      <td>1030128</td>\n",
       "      <td>3</td>\n",
       "    </tr>\n",
       "  </tbody>\n",
       "</table>\n",
       "<p>126 rows × 3 columns</p>\n",
       "</div>"
      ],
      "text/plain": [
       "                      area  Call_Number  rownum\n",
       "0    Bayview Hunters Point      1030119       1\n",
       "1    Bayview Hunters Point      1040031       2\n",
       "2    Bayview Hunters Point      1040078       3\n",
       "3           Bernal Heights      1040089       1\n",
       "4           Bernal Heights      1040245       2\n",
       "..                     ...          ...     ...\n",
       "121     West of Twin Peaks      1040020       2\n",
       "122     West of Twin Peaks      1040115       3\n",
       "123       Western Addition      1030128       1\n",
       "124       Western Addition      1030128       2\n",
       "125       Western Addition      1030128       3\n",
       "\n",
       "[126 rows x 3 columns]"
      ]
     },
     "execution_count": 77,
     "metadata": {},
     "output_type": "execute_result"
    }
   ],
   "source": [
    "# what are three smallest call numbers for each area?\n",
    "spark.sql(\"\"\"\n",
    "SELECT area, Call_Number, row_number() OVER (PARTITION BY area ORDER BY Call_Number ASC) AS rownum\n",
    "FROM calls\n",
    "\"\"\").where(\"rownum <= 3\").toPandas()"
   ]
  }
 ],
 "metadata": {
  "kernelspec": {
   "display_name": "Python 3 (ipykernel)",
   "language": "python",
   "name": "python3"
  },
  "language_info": {
   "codemirror_mode": {
    "name": "ipython",
    "version": 3
   },
   "file_extension": ".py",
   "mimetype": "text/x-python",
   "name": "python",
   "nbconvert_exporter": "python",
   "pygments_lexer": "ipython3",
   "version": "3.10.12"
  }
 },
 "nbformat": 4,
 "nbformat_minor": 5
}
